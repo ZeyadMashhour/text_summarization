{
 "cells": [
  {
   "cell_type": "code",
   "execution_count": 1,
   "metadata": {},
   "outputs": [
    {
     "name": "stderr",
     "output_type": "stream",
     "text": [
      "c:\\Users\\Zeyad\\AppData\\Local\\Programs\\Python\\Python310\\lib\\site-packages\\tqdm\\auto.py:22: TqdmWarning: IProgress not found. Please update jupyter and ipywidgets. See https://ipywidgets.readthedocs.io/en/stable/user_install.html\n",
      "  from .autonotebook import tqdm as notebook_tqdm\n"
     ]
    }
   ],
   "source": [
    "from preprocessing_algorithms import*"
   ]
  },
  {
   "cell_type": "code",
   "execution_count": 2,
   "metadata": {},
   "outputs": [],
   "source": [
    "import pandas as pd"
   ]
  },
  {
   "cell_type": "code",
   "execution_count": 3,
   "metadata": {},
   "outputs": [],
   "source": [
    "first_refrence_path = r\"DUC\\Duc_first_reference\\main_dataset\\Duc_dataset_first_ref_summary.csv\"\n",
    "second_refrence_path = r\"DUC\\Duc_second_reference\\main_dataset\\Duc_dataset_second_ref_summary.csv\"\n",
    "third_refrence_path = r\"DUC\\Duc_third_reference\\main_dataset\\Duc_dataset_third_ref_summary.csv\"\n",
    "fourth_refrence_path = r\"DUC\\Duc_fourth_reference\\main_dataset\\Duc_dataset_fourth_ref_summary.csv\""
   ]
  },
  {
   "cell_type": "code",
   "execution_count": 4,
   "metadata": {},
   "outputs": [],
   "source": [
    "first_refrence_df = pd.read_csv(first_refrence_path)\n",
    "second_refrence_df = pd.read_csv(second_refrence_path)\n",
    "third_refrence_df = pd.read_csv(third_refrence_path)\n",
    "fourth_refrence_df = pd.read_csv(fourth_refrence_path)\n",
    "original_article = first_refrence_df[\"Original Article\"]"
   ]
  },
  {
   "cell_type": "code",
   "execution_count": 7,
   "metadata": {},
   "outputs": [
    {
     "name": "stderr",
     "output_type": "stream",
     "text": [
      " 43%|████▎     | 21/49 [00:51<01:02,  2.24s/it]"
     ]
    }
   ],
   "source": [
    "sentences, filterd_sentences = process_one_column_df(first_refrence_df, remove_stopwords= False, lemmatization=False)"
   ]
  },
  {
   "cell_type": "code",
   "execution_count": 6,
   "metadata": {},
   "outputs": [
    {
     "data": {
      "text/plain": [
       "(49,)"
      ]
     },
     "execution_count": 6,
     "metadata": {},
     "output_type": "execute_result"
    }
   ],
   "source": []
  },
  {
   "cell_type": "code",
   "execution_count": null,
   "metadata": {},
   "outputs": [],
   "source": []
  }
 ],
 "metadata": {
  "kernelspec": {
   "display_name": "Python 3",
   "language": "python",
   "name": "python3"
  },
  "language_info": {
   "codemirror_mode": {
    "name": "ipython",
    "version": 3
   },
   "file_extension": ".py",
   "mimetype": "text/x-python",
   "name": "python",
   "nbconvert_exporter": "python",
   "pygments_lexer": "ipython3",
   "version": "3.10.5"
  },
  "orig_nbformat": 4
 },
 "nbformat": 4,
 "nbformat_minor": 2
}
