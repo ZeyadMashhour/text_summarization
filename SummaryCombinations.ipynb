{
 "cells": [
  {
   "cell_type": "code",
   "execution_count": 1,
   "id": "be4a7e02-76f1-4fde-bfc1-c5d46afbe828",
   "metadata": {},
   "outputs": [
    {
     "name": "stdout",
     "output_type": "stream",
     "text": [
      "Loading Big File...\n",
      "Finished Loading Big File.\n"
     ]
    }
   ],
   "source": [
    "%run summarizationBackbone.ipynb"
   ]
  },
  {
   "cell_type": "code",
   "execution_count": 2,
   "id": "ab683111-e3fc-4ef1-9337-e7b4abfe199b",
   "metadata": {},
   "outputs": [],
   "source": [
    "from preprocessing_algorithms import *\n",
    "from tqdm import tqdm"
   ]
  },
  {
   "cell_type": "code",
   "execution_count": 3,
   "id": "7955734c-66f1-4264-8e5b-9f33ea851075",
   "metadata": {
    "scrolled": true,
    "tags": []
   },
   "outputs": [],
   "source": [
    "ds = pd.read_csv(\"Duc_dataset_first_ref_summary.csv\")"
   ]
  },
  {
   "cell_type": "markdown",
   "id": "bd9740f7",
   "metadata": {
    "tags": []
   },
   "source": [
    "# Summarization Settings"
   ]
  },
  {
   "cell_type": "code",
   "execution_count": 60,
   "id": "b6cb9aaf",
   "metadata": {},
   "outputs": [],
   "source": [
    "# Dataset Column Names\n",
    "articleCol = \"Original Article\"\n",
    "summaryCol = \"Original Summary\"\n",
    "# Documents to be summarized\n",
    "start = 0\n",
    "end = len(ds)\n",
    "# Summarization Percentage [0-1]% if > 1 acts as number of sentences\n",
    "percentage = 5\n",
    "# Pre processing settings\n",
    "lemmatization = True\n",
    "remove_stopwords = True\n",
    "# output file name [MAKE SURE TO CHANGE TO NOT OVERWRITE]\n",
    "outFileName = \"DUC_Weighted_1st_5Sent_lemT_swT.csv\"\n",
    "ppFileName = \"PP_DUC_1st_5Sent_lemT_swT.csv\"\n",
    "ppSpecial = \"#!@!#\"\n",
    "# Weights Settings\n",
    "useWeights = True\n",
    "weights = {\"tm\":0.92,\"luhn\":1,\"lsa\":0.44,\"tr\":0.84,\"lex\":0.88,\"lda\":0.8}"
   ]
  },
  {
   "cell_type": "code",
   "execution_count": 90,
   "id": "af32bf3d-e8eb-4b98-9f87-df6e64b11ae4",
   "metadata": {
    "scrolled": true,
    "tags": []
   },
   "outputs": [],
   "source": [
    "Algorithms = [\"Tm\",\"Lex\",\"Luhn\",\"Lsa\",\"Tr\",\"LDA\"]\n",
    "lstCols = get_combinations(Algorithms)\n",
    "cols = [\"Original Article\",\"Original Summary\"] + lstCols\n",
    "df3 = pd.DataFrame(columns = cols)\n",
    "df3.to_csv(outFileName, index=False)"
   ]
  },
  {
   "cell_type": "markdown",
   "id": "16c1f36d-3745-4111-9bc1-47a3505b5b22",
   "metadata": {},
   "source": [
    "## Pre Processing"
   ]
  },
  {
   "cell_type": "code",
   "execution_count": 16,
   "id": "c908dbc7-2103-43d0-9b9e-2bfd15cef295",
   "metadata": {},
   "outputs": [
    {
     "name": "stderr",
     "output_type": "stream",
     "text": [
      "100%|██████████| 49/49 [07:24<00:00,  9.08s/it]\n"
     ]
    }
   ],
   "source": [
    "sentences, processed_sentences = process_one_column_df(ds[articleCol],lemmatization,remove_stopwords)"
   ]
  },
  {
   "cell_type": "code",
   "execution_count": 62,
   "id": "7cbed59b-0851-4b57-901f-0e13bf319f04",
   "metadata": {
    "scrolled": true,
    "tags": []
   },
   "outputs": [],
   "source": [
    "collected = []\n",
    "for i in range(len(sentences)):\n",
    "    collected.append([ds[articleCol][i],ds[summaryCol][i],ppSpecial.join(sentences[i]),ppSpecial.join(processed_sentences[i])])"
   ]
  },
  {
   "cell_type": "code",
   "execution_count": 68,
   "id": "93d46318-a2ac-48f4-bfa2-027712766b1c",
   "metadata": {
    "scrolled": true,
    "tags": []
   },
   "outputs": [],
   "source": [
    "df = pd.DataFrame(collected, columns =[articleCol,summaryCol,\"Sentences\",\"Filtered Sent\"]) "
   ]
  },
  {
   "cell_type": "code",
   "execution_count": 69,
   "id": "d9226ad9-a2d4-42f7-a4dd-933a50cfef92",
   "metadata": {
    "scrolled": true,
    "tags": []
   },
   "outputs": [],
   "source": [
    "df.to_csv(ppFileName, index=False)"
   ]
  },
  {
   "cell_type": "code",
   "execution_count": 70,
   "id": "c68bcbd5-cc6b-4268-a8e3-cad964049e39",
   "metadata": {},
   "outputs": [],
   "source": [
    "data = pd.read_csv(ppFileName)"
   ]
  },
  {
   "cell_type": "code",
   "execution_count": 74,
   "id": "ad0caeac-ced0-4f9b-9a3a-b1f98163865d",
   "metadata": {},
   "outputs": [
    {
     "data": {
      "text/html": [
       "<div>\n",
       "<style scoped>\n",
       "    .dataframe tbody tr th:only-of-type {\n",
       "        vertical-align: middle;\n",
       "    }\n",
       "\n",
       "    .dataframe tbody tr th {\n",
       "        vertical-align: top;\n",
       "    }\n",
       "\n",
       "    .dataframe thead th {\n",
       "        text-align: right;\n",
       "    }\n",
       "</style>\n",
       "<table border=\"1\" class=\"dataframe\">\n",
       "  <thead>\n",
       "    <tr style=\"text-align: right;\">\n",
       "      <th></th>\n",
       "      <th>Original Article</th>\n",
       "      <th>Original Summary</th>\n",
       "      <th>Sentences</th>\n",
       "      <th>Filtered Sent</th>\n",
       "    </tr>\n",
       "  </thead>\n",
       "  <tbody>\n",
       "    <tr>\n",
       "      <th>0</th>\n",
       "      <td>\\nCambodian leader Hun Sen on Friday rejected ...</td>\n",
       "      <td>Prospects were dim for resolution of the polit...</td>\n",
       "      <td>\\nCambodian leader Hun Sen on Friday rejected ...</td>\n",
       "      <td>cambodian leader hun sen friday reject opposit...</td>\n",
       "    </tr>\n",
       "    <tr>\n",
       "      <th>1</th>\n",
       "      <td>\\nHonduras braced for potential catastrophe Tu...</td>\n",
       "      <td>Hurricane Mitch approached Honduras on Oct. 27...</td>\n",
       "      <td>\\nHonduras braced for potential catastrophe Tu...</td>\n",
       "      <td>honduras brace potential catastrophe tuesday h...</td>\n",
       "    </tr>\n",
       "    <tr>\n",
       "      <th>2</th>\n",
       "      <td>\\nCuban President Fidel Castro said Sunday he ...</td>\n",
       "      <td>Britain caused international controversy and C...</td>\n",
       "      <td>\\nCuban President Fidel Castro said Sunday he ...</td>\n",
       "      <td>cuban president fidel castro sunday disagree a...</td>\n",
       "    </tr>\n",
       "    <tr>\n",
       "      <th>3</th>\n",
       "      <td>\\nMUNICH, Germany (AP) _ U.S. prosecutors have...</td>\n",
       "      <td>After the bombing of U.S. embassies in East Af...</td>\n",
       "      <td>\\nMUNICH, Germany (AP) _#!@!#U.S. prosecutors ...</td>\n",
       "      <td>munich germany ap#!@!#prosecutor ask 20 - day ...</td>\n",
       "    </tr>\n",
       "    <tr>\n",
       "      <th>4</th>\n",
       "      <td>\\nIn a critical ruling for the North American ...</td>\n",
       "      <td>In a dispute over a new collective bargaining ...</td>\n",
       "      <td>\\nIn a critical ruling for the North American ...</td>\n",
       "      <td>critical rule north american national basketba...</td>\n",
       "    </tr>\n",
       "  </tbody>\n",
       "</table>\n",
       "</div>"
      ],
      "text/plain": [
       "                                    Original Article  \\\n",
       "0  \\nCambodian leader Hun Sen on Friday rejected ...   \n",
       "1  \\nHonduras braced for potential catastrophe Tu...   \n",
       "2  \\nCuban President Fidel Castro said Sunday he ...   \n",
       "3  \\nMUNICH, Germany (AP) _ U.S. prosecutors have...   \n",
       "4  \\nIn a critical ruling for the North American ...   \n",
       "\n",
       "                                    Original Summary  \\\n",
       "0  Prospects were dim for resolution of the polit...   \n",
       "1  Hurricane Mitch approached Honduras on Oct. 27...   \n",
       "2  Britain caused international controversy and C...   \n",
       "3  After the bombing of U.S. embassies in East Af...   \n",
       "4  In a dispute over a new collective bargaining ...   \n",
       "\n",
       "                                           Sentences  \\\n",
       "0  \\nCambodian leader Hun Sen on Friday rejected ...   \n",
       "1  \\nHonduras braced for potential catastrophe Tu...   \n",
       "2  \\nCuban President Fidel Castro said Sunday he ...   \n",
       "3  \\nMUNICH, Germany (AP) _#!@!#U.S. prosecutors ...   \n",
       "4  \\nIn a critical ruling for the North American ...   \n",
       "\n",
       "                                       Filtered Sent  \n",
       "0  cambodian leader hun sen friday reject opposit...  \n",
       "1  honduras brace potential catastrophe tuesday h...  \n",
       "2  cuban president fidel castro sunday disagree a...  \n",
       "3  munich germany ap#!@!#prosecutor ask 20 - day ...  \n",
       "4  critical rule north american national basketba...  "
      ]
     },
     "execution_count": 74,
     "metadata": {},
     "output_type": "execute_result"
    }
   ],
   "source": [
    "data.head()"
   ]
  },
  {
   "cell_type": "markdown",
   "id": "323f0948-8d29-4414-8ccc-00948524e45a",
   "metadata": {},
   "source": [
    "# one by one docs"
   ]
  },
  {
   "cell_type": "code",
   "execution_count": 80,
   "id": "05cf673d-6f12-4d33-aeae-ac8e3ee27f61",
   "metadata": {
    "scrolled": true,
    "tags": []
   },
   "outputs": [],
   "source": [
    "def onebyoneSummarization(ds):\n",
    "    summarizedDataset = []\n",
    "    for i in tqdm(range(start,end,1)):\n",
    "        try:\n",
    "            sentences, filtered_sentences = preprocessing_text_with_spacy(ds[articleCol][i],lemmatization,remove_stopwords)\n",
    "            df = buildDF(filtered_sentences, sentences, useWeights, weights)\n",
    "\n",
    "            summarizedRow = {\"Original Article\": ds[articleCol][i],\"Original Summary\": ds[summaryCol][i]}\n",
    "            for key in df.keys():\n",
    "                element = summarizeWith(sentences, df, key, percentage)\n",
    "                summarizedRow[key] = element\n",
    "            pd.DataFrame.from_dict(summarizedRow, orient='index').T.to_csv(outFileName,mode='a',header=False,index=False)\n",
    "            # break\n",
    "        except Exception as e:\n",
    "            print(\"Error\",i, e)"
   ]
  },
  {
   "cell_type": "code",
   "execution_count": 76,
   "id": "27aba8ab-c9fa-4aa1-967d-44ea63445049",
   "metadata": {},
   "outputs": [],
   "source": [
    "def predict(text, percentage):\n",
    "    try:\n",
    "        sentences, filtered_sentences = preprocessing_text_with_spacy(text,True,False)\n",
    "        df = buildDF(filtered_sentences, sentences)\n",
    "        summarizedRow = {\"Original Article\": ds[articleCol][i]}\n",
    "        for key in df.keys():\n",
    "            element = summarizeWith(sentences, df, key, percentage)\n",
    "            summarizedRow[key] = element\n",
    "        return summarizedRow\n",
    "    except Exception as e:\n",
    "        print(\"Error\",i, e)"
   ]
  },
  {
   "cell_type": "markdown",
   "id": "ccf8bd1c-6fae-4d5d-a003-af9f79323608",
   "metadata": {
    "tags": []
   },
   "source": [
    "## Doc Level scoring"
   ]
  },
  {
   "cell_type": "code",
   "execution_count": 96,
   "id": "fe79e0de-334e-450f-8190-f594085ee726",
   "metadata": {},
   "outputs": [
    {
     "name": "stdout",
     "output_type": "stream",
     "text": [
      "Loading Big File...\n",
      "Finished Loading Big File.\n"
     ]
    }
   ],
   "source": [
    "%run summarizationBackboneDocLvl.ipynb"
   ]
  },
  {
   "cell_type": "code",
   "execution_count": 97,
   "id": "5e3d3b97-4d18-453c-af11-b3317cd8e030",
   "metadata": {},
   "outputs": [],
   "source": [
    "lstCols = Algorithms\n",
    "data = pd.read_csv(ppFileName)"
   ]
  },
  {
   "cell_type": "code",
   "execution_count": 98,
   "id": "aaafd643-72fe-435b-8148-d90a6bbf3f3b",
   "metadata": {
    "scrolled": true,
    "tags": []
   },
   "outputs": [
    {
     "data": {
      "text/html": [
       "<div>\n",
       "<style scoped>\n",
       "    .dataframe tbody tr th:only-of-type {\n",
       "        vertical-align: middle;\n",
       "    }\n",
       "\n",
       "    .dataframe tbody tr th {\n",
       "        vertical-align: top;\n",
       "    }\n",
       "\n",
       "    .dataframe thead th {\n",
       "        text-align: right;\n",
       "    }\n",
       "</style>\n",
       "<table border=\"1\" class=\"dataframe\">\n",
       "  <thead>\n",
       "    <tr style=\"text-align: right;\">\n",
       "      <th></th>\n",
       "      <th>Original Article</th>\n",
       "      <th>Original Summary</th>\n",
       "      <th>Sentences</th>\n",
       "      <th>Filtered Sent</th>\n",
       "    </tr>\n",
       "  </thead>\n",
       "  <tbody>\n",
       "    <tr>\n",
       "      <th>0</th>\n",
       "      <td>\\nCambodian leader Hun Sen on Friday rejected ...</td>\n",
       "      <td>Prospects were dim for resolution of the polit...</td>\n",
       "      <td>\\nCambodian leader Hun Sen on Friday rejected ...</td>\n",
       "      <td>cambodian leader hun sen friday reject opposit...</td>\n",
       "    </tr>\n",
       "  </tbody>\n",
       "</table>\n",
       "</div>"
      ],
      "text/plain": [
       "                                    Original Article  \\\n",
       "0  \\nCambodian leader Hun Sen on Friday rejected ...   \n",
       "\n",
       "                                    Original Summary  \\\n",
       "0  Prospects were dim for resolution of the polit...   \n",
       "\n",
       "                                           Sentences  \\\n",
       "0  \\nCambodian leader Hun Sen on Friday rejected ...   \n",
       "\n",
       "                                       Filtered Sent  \n",
       "0  cambodian leader hun sen friday reject opposit...  "
      ]
     },
     "execution_count": 98,
     "metadata": {},
     "output_type": "execute_result"
    }
   ],
   "source": [
    "data.head(1)"
   ]
  },
  {
   "cell_type": "code",
   "execution_count": 105,
   "id": "f9914a36-385a-4e41-827b-49789361845b",
   "metadata": {},
   "outputs": [
    {
     "name": "stderr",
     "output_type": "stream",
     "text": [
      "100%|██████████| 49/49 [42:22<00:00, 51.88s/it] \n"
     ]
    }
   ],
   "source": [
    "    maxes = []\n",
    "    for i in tqdm(range(start,end,1)):\n",
    "        try:\n",
    "            sentences = data[\"Sentences\"][i].split(ppSpecial)\n",
    "            filtered_sentences = data[\"Filtered Sent\"][i].split(ppSpecial)\n",
    "            df = buildDF(filtered_sentences, sentences, useWeights, weights)\n",
    "            df.to_csv(\"DUC Sentence Score by Document/Document \" + str(i) + \".csv\", index=False)\n",
    "            maxes.append([df[Algorithms[0]].max(),df[Algorithms[1]].max(),df[Algorithms[2]].max(),df[Algorithms[3]].max(),df[Algorithms[4]].max(),df[Algorithms[5]].max()])\n",
    "        except Exception as e:\n",
    "            print(\"Error\",i, e)"
   ]
  },
  {
   "cell_type": "code",
   "execution_count": 109,
   "id": "73e430e7-1556-4371-a803-bc089f666bf3",
   "metadata": {},
   "outputs": [],
   "source": [
    "df = pd.DataFrame(maxes, columns = Algorithms) \n",
    "df.to_csv(\"DUC Sentence Score by Document/max.csv\", index=False)"
   ]
  },
  {
   "cell_type": "code",
   "execution_count": 110,
   "id": "349b56c7-db7f-45ce-8549-39929b3290b1",
   "metadata": {
    "scrolled": true,
    "tags": []
   },
   "outputs": [
    {
     "data": {
      "text/plain": [
       "[575.9200000000001,\n",
       " 0.014408788634744468,\n",
       " 293,\n",
       " 0.35690590121592536,\n",
       " 0.006081142725024658,\n",
       " 0.7871403290503924]"
      ]
     },
     "execution_count": 110,
     "metadata": {},
     "output_type": "execute_result"
    }
   ],
   "source": [
    "absmax = [df[Algorithms[0]].max(),df[Algorithms[1]].max(),df[Algorithms[2]].max(),df[Algorithms[3]].max(),df[Algorithms[4]].max(),df[Algorithms[5]].max()]\n",
    "absmax"
   ]
  },
  {
   "cell_type": "markdown",
   "id": "170d6373-4633-44ed-a4f2-f786efafd164",
   "metadata": {},
   "source": [
    "## Normalization"
   ]
  },
  {
   "cell_type": "code",
   "execution_count": null,
   "id": "d7f43594-2b7c-4ad6-9b9d-2aec312fdf10",
   "metadata": {},
   "outputs": [],
   "source": []
  },
  {
   "cell_type": "code",
   "execution_count": null,
   "id": "bee92620-7c9f-46be-a5cc-6f0fc4fb208e",
   "metadata": {},
   "outputs": [],
   "source": []
  }
 ],
 "metadata": {
  "kernelspec": {
   "display_name": "Python 3 (ipykernel)",
   "language": "python",
   "name": "python3"
  },
  "language_info": {
   "codemirror_mode": {
    "name": "ipython",
    "version": 3
   },
   "file_extension": ".py",
   "mimetype": "text/x-python",
   "name": "python",
   "nbconvert_exporter": "python",
   "pygments_lexer": "ipython3",
   "version": "3.10.9"
  }
 },
 "nbformat": 4,
 "nbformat_minor": 5
}
