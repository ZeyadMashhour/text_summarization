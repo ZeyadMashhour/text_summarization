{
 "cells": [
  {
   "cell_type": "code",
   "execution_count": 1,
   "metadata": {},
   "outputs": [],
   "source": [
    "from summarization_algorithm import *\n",
    "from preprocessing_algorithms import *"
   ]
  },
  {
   "cell_type": "code",
   "execution_count": 2,
   "metadata": {},
   "outputs": [],
   "source": [
    "import collections"
   ]
  },
  {
   "cell_type": "code",
   "execution_count": 3,
   "metadata": {},
   "outputs": [
    {
     "data": {
      "text/html": [
       "<div>\n",
       "<style scoped>\n",
       "    .dataframe tbody tr th:only-of-type {\n",
       "        vertical-align: middle;\n",
       "    }\n",
       "\n",
       "    .dataframe tbody tr th {\n",
       "        vertical-align: top;\n",
       "    }\n",
       "\n",
       "    .dataframe thead th {\n",
       "        text-align: right;\n",
       "    }\n",
       "</style>\n",
       "<table border=\"1\" class=\"dataframe\">\n",
       "  <thead>\n",
       "    <tr style=\"text-align: right;\">\n",
       "      <th></th>\n",
       "      <th>Articles</th>\n",
       "      <th>Summaries</th>\n",
       "    </tr>\n",
       "  </thead>\n",
       "  <tbody>\n",
       "    <tr>\n",
       "      <th>0</th>\n",
       "      <td>Ad sales boost Time Warner profit\\r\\n\\r\\nQuart...</td>\n",
       "      <td>TimeWarner said fourth quarter sales rose 2% t...</td>\n",
       "    </tr>\n",
       "    <tr>\n",
       "      <th>1</th>\n",
       "      <td>Dollar gains on Greenspan speech\\r\\n\\r\\nThe do...</td>\n",
       "      <td>The dollar has hit its highest level against t...</td>\n",
       "    </tr>\n",
       "    <tr>\n",
       "      <th>2</th>\n",
       "      <td>Yukos unit buyer faces loan claim\\r\\n\\r\\nThe o...</td>\n",
       "      <td>Yukos' owner Menatep Group says it will ask Ro...</td>\n",
       "    </tr>\n",
       "    <tr>\n",
       "      <th>3</th>\n",
       "      <td>High fuel prices hit BA's profits\\r\\n\\r\\nBriti...</td>\n",
       "      <td>Rod Eddington, BA's chief executive, said the ...</td>\n",
       "    </tr>\n",
       "    <tr>\n",
       "      <th>4</th>\n",
       "      <td>Pernod takeover talk lifts Domecq\\r\\n\\r\\nShare...</td>\n",
       "      <td>Pernod has reduced the debt it took on to fund...</td>\n",
       "    </tr>\n",
       "    <tr>\n",
       "      <th>5</th>\n",
       "      <td>Japan narrowly escapes recession\\r\\n\\r\\nJapan'...</td>\n",
       "      <td>On an annual basis, the data suggests annual g...</td>\n",
       "    </tr>\n",
       "    <tr>\n",
       "      <th>6</th>\n",
       "      <td>Jobs growth still slow in the US\\r\\n\\r\\nThe US...</td>\n",
       "      <td>The job gains mean that President Bush can cel...</td>\n",
       "    </tr>\n",
       "    <tr>\n",
       "      <th>7</th>\n",
       "      <td>India calls for fair trade rules\\r\\n\\r\\nIndia,...</td>\n",
       "      <td>At a conference on developing enterprise hoste...</td>\n",
       "    </tr>\n",
       "    <tr>\n",
       "      <th>8</th>\n",
       "      <td>Ethiopia's crop production up 24%\\r\\n\\r\\nEthio...</td>\n",
       "      <td>In 2003, crop production totalled 11.49 millio...</td>\n",
       "    </tr>\n",
       "    <tr>\n",
       "      <th>9</th>\n",
       "      <td>Court rejects $280bn tobacco case\\r\\n\\r\\nA US ...</td>\n",
       "      <td>A US government claim accusing the country's b...</td>\n",
       "    </tr>\n",
       "  </tbody>\n",
       "</table>\n",
       "</div>"
      ],
      "text/plain": [
       "                                            Articles  \\\n",
       "0  Ad sales boost Time Warner profit\\r\\n\\r\\nQuart...   \n",
       "1  Dollar gains on Greenspan speech\\r\\n\\r\\nThe do...   \n",
       "2  Yukos unit buyer faces loan claim\\r\\n\\r\\nThe o...   \n",
       "3  High fuel prices hit BA's profits\\r\\n\\r\\nBriti...   \n",
       "4  Pernod takeover talk lifts Domecq\\r\\n\\r\\nShare...   \n",
       "5  Japan narrowly escapes recession\\r\\n\\r\\nJapan'...   \n",
       "6  Jobs growth still slow in the US\\r\\n\\r\\nThe US...   \n",
       "7  India calls for fair trade rules\\r\\n\\r\\nIndia,...   \n",
       "8  Ethiopia's crop production up 24%\\r\\n\\r\\nEthio...   \n",
       "9  Court rejects $280bn tobacco case\\r\\n\\r\\nA US ...   \n",
       "\n",
       "                                           Summaries  \n",
       "0  TimeWarner said fourth quarter sales rose 2% t...  \n",
       "1  The dollar has hit its highest level against t...  \n",
       "2  Yukos' owner Menatep Group says it will ask Ro...  \n",
       "3  Rod Eddington, BA's chief executive, said the ...  \n",
       "4  Pernod has reduced the debt it took on to fund...  \n",
       "5  On an annual basis, the data suggests annual g...  \n",
       "6  The job gains mean that President Bush can cel...  \n",
       "7  At a conference on developing enterprise hoste...  \n",
       "8  In 2003, crop production totalled 11.49 millio...  \n",
       "9  A US government claim accusing the country's b...  "
      ]
     },
     "execution_count": 3,
     "metadata": {},
     "output_type": "execute_result"
    }
   ],
   "source": [
    "df = pd.read_csv(\"BBC_Dataset.csv\")\n",
    "df=df.iloc[:,1:]#remove first column(unnamed col)\n",
    "df.dropna(inplace=True)\n",
    "columns_titles = [\"Articles\",\"Summaries\"]\n",
    "df=df.reindex(columns=columns_titles)\n",
    "mini_df = df[:10]\n",
    "mini_df"
   ]
  },
  {
   "cell_type": "code",
   "execution_count": 4,
   "metadata": {},
   "outputs": [
    {
     "name": "stderr",
     "output_type": "stream",
     "text": [
      "100%|██████████| 10/10 [00:12<00:00,  1.24s/it]\n"
     ]
    }
   ],
   "source": [
    "sentences, filtered_sentences = process_df(mini_df,True,False)"
   ]
  },
  {
   "cell_type": "code",
   "execution_count": 5,
   "metadata": {},
   "outputs": [],
   "source": [
    "def create_ensemble_voting_index(summary_lists):\n",
    "  # initialize ensemble_index\n",
    "  ensemble_index = {}\n",
    "  #key can be number or sentence\n",
    "  #ensemble_index[key][freq]\n",
    "\n",
    "  for list in summary_lists:\n",
    "    for sentence in list:\n",
    "      if sentence not in ensemble_index: #if term does not exist\n",
    "        #frequency\n",
    "        ensemble_index[sentence] = 1\n",
    "          \n",
    "      else: #if term exists already\n",
    "        #increment frequency\n",
    "        ensemble_index[sentence] += 1\n",
    "\n",
    "  return dict(collections.OrderedDict(sorted(ensemble_index.items())))"
   ]
  },
  {
   "cell_type": "code",
   "execution_count": 6,
   "metadata": {},
   "outputs": [
    {
     "name": "stdout",
     "output_type": "stream",
     "text": [
      "sorted [17 11 13  8  0]\n"
     ]
    }
   ],
   "source": [
    "x,y = luhn_algorithm(filtered_sentences[0],sentences[0])"
   ]
  },
  {
   "cell_type": "code",
   "execution_count": 7,
   "metadata": {},
   "outputs": [],
   "source": [
    "def rank_with(list_of_articles,list_of_filtered_articles ,summary_algorithm,size = 2):\n",
    "    rows = len(list_of_articles)\n",
    "    \n",
    "    summarized_text = []\n",
    "    for row in tqdm(range(rows)):\n",
    "        sentences=list_of_articles[row]\n",
    "        filtered_sentences = list_of_filtered_articles[row]\n",
    "                                  #(filtered_sentences,sentence)\n",
    "        ranks = summary_algorithm(filtered_sentences,sentences,size)\n",
    "        #print(list(ranks[1]))\n",
    "        summarized_text.append(list(ranks[1]))\n",
    "    #print(\"summarized_text\",summarized_text[0][0])\n",
    "    #print(\"summarized_text\",type(summarized_text[0][0]))\n",
    "    rank_df = create_ensemble_voting_index(summarized_text)\n",
    "    #rank_df = pd.DataFrame (summarized_text[0], columns = [f'{summary_algorithm.__name__} summary'])\n",
    "    return rank_df"
   ]
  },
  {
   "cell_type": "code",
   "execution_count": 8,
   "metadata": {},
   "outputs": [
    {
     "name": "stderr",
     "output_type": "stream",
     "text": [
      "100%|██████████| 10/10 [00:00<00:00, 9679.91it/s]"
     ]
    },
    {
     "name": "stdout",
     "output_type": "stream",
     "text": [
      "sorted [17 11 13  8  0]\n",
      "sorted [ 4 13 11  5  0]\n",
      "sorted [ 7  6 12  1 10]\n",
      "sorted [ 5  0  6 12  8]\n",
      "sorted [ 9  0 11  1  6]\n",
      "sorted [5 6 8 0 2]\n",
      "sorted [ 0 11  4 10 12]\n",
      "sorted [ 4  7 13 10  0]\n",
      "sorted [ 9  5  0  1 10]\n",
      "sorted [4 6 0 5 8]\n"
     ]
    },
    {
     "name": "stderr",
     "output_type": "stream",
     "text": [
      "\n"
     ]
    },
    {
     "data": {
      "text/plain": [
       "{0: 9,\n",
       " 1: 3,\n",
       " 2: 1,\n",
       " 4: 4,\n",
       " 5: 5,\n",
       " 6: 5,\n",
       " 7: 2,\n",
       " 8: 4,\n",
       " 9: 2,\n",
       " 10: 4,\n",
       " 11: 4,\n",
       " 12: 3,\n",
       " 13: 3,\n",
       " 17: 1}"
      ]
     },
     "execution_count": 8,
     "metadata": {},
     "output_type": "execute_result"
    }
   ],
   "source": [
    "rank_with(sentences,filtered_sentences,luhn_algorithm)"
   ]
  },
  {
   "cell_type": "code",
   "execution_count": null,
   "metadata": {},
   "outputs": [],
   "source": []
  },
  {
   "cell_type": "code",
   "execution_count": null,
   "metadata": {},
   "outputs": [],
   "source": []
  }
 ],
 "metadata": {
  "kernelspec": {
   "display_name": "Python 3",
   "language": "python",
   "name": "python3"
  },
  "language_info": {
   "codemirror_mode": {
    "name": "ipython",
    "version": 3
   },
   "file_extension": ".py",
   "mimetype": "text/x-python",
   "name": "python",
   "nbconvert_exporter": "python",
   "pygments_lexer": "ipython3",
   "version": "3.10.0"
  },
  "orig_nbformat": 4,
  "vscode": {
   "interpreter": {
    "hash": "480c14cd519d4cac626ed4e2ff26eb76a48d8461070c1f960eb23b2ab109b24d"
   }
  }
 },
 "nbformat": 4,
 "nbformat_minor": 2
}
