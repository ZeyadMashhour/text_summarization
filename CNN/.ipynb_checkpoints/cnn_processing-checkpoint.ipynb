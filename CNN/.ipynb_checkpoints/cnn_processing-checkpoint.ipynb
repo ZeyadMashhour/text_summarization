{
 "cells": [
  {
   "cell_type": "code",
   "execution_count": 1,
   "metadata": {},
   "outputs": [
    {
     "name": "stderr",
     "output_type": "stream",
     "text": [
      "Found cached dataset cnn_dailymail (C:/Users/basel/.cache/huggingface/datasets/cnn_dailymail/3.0.0/3.0.0/1b3c71476f6d152c31c1730e83ccb08bcf23e348233f4fcc11e182248e6bf7de)\n"
     ]
    },
    {
     "data": {
      "application/vnd.jupyter.widget-view+json": {
       "model_id": "7b2192c24ff2442ab05c7810ee7c29d8",
       "version_major": 2,
       "version_minor": 0
      },
      "text/plain": [
       "  0%|          | 0/3 [00:00<?, ?it/s]"
      ]
     },
     "metadata": {},
     "output_type": "display_data"
    }
   ],
   "source": [
    "from datasets import load_dataset\n",
    "\n",
    "dataset = load_dataset('cnn_dailymail', '3.0.0')"
   ]
  },
  {
   "cell_type": "code",
   "execution_count": 2,
   "metadata": {},
   "outputs": [],
   "source": [
    "import pandas as pd"
   ]
  },
  {
   "cell_type": "code",
   "execution_count": 9,
   "metadata": {},
   "outputs": [],
   "source": [
    "import sys\n",
    "sys.path.append(r\"C:\\Users\\basel\\OneDrive\\Desktop\\GP_Project\\text_summarization\\my_package\" )\n",
    "from text_processing import *"
   ]
  },
  {
   "cell_type": "code",
   "execution_count": 4,
   "metadata": {},
   "outputs": [],
   "source": [
    "\n",
    "# Convert dataset to a pandas DataFrame\n",
    "df = pd.DataFrame(dataset['train'])\n",
    "\n",
    "# Optional: Select specific columns if needed\n",
    "df = df[['article', 'highlights']]\n",
    "mini_cnn = df[:1500]\n"
   ]
  },
  {
   "cell_type": "code",
   "execution_count": 7,
   "metadata": {},
   "outputs": [
    {
     "data": {
      "text/html": [
       "<div>\n",
       "<style scoped>\n",
       "    .dataframe tbody tr th:only-of-type {\n",
       "        vertical-align: middle;\n",
       "    }\n",
       "\n",
       "    .dataframe tbody tr th {\n",
       "        vertical-align: top;\n",
       "    }\n",
       "\n",
       "    .dataframe thead th {\n",
       "        text-align: right;\n",
       "    }\n",
       "</style>\n",
       "<table border=\"1\" class=\"dataframe\">\n",
       "  <thead>\n",
       "    <tr style=\"text-align: right;\">\n",
       "      <th></th>\n",
       "      <th>article</th>\n",
       "      <th>highlights</th>\n",
       "    </tr>\n",
       "  </thead>\n",
       "  <tbody>\n",
       "    <tr>\n",
       "      <th>0</th>\n",
       "      <td>LONDON, England (Reuters) -- Harry Potter star...</td>\n",
       "      <td>Harry Potter star Daniel Radcliffe gets £20M f...</td>\n",
       "    </tr>\n",
       "    <tr>\n",
       "      <th>1</th>\n",
       "      <td>Editor's note: In our Behind the Scenes series...</td>\n",
       "      <td>Mentally ill inmates in Miami are housed on th...</td>\n",
       "    </tr>\n",
       "    <tr>\n",
       "      <th>2</th>\n",
       "      <td>MINNEAPOLIS, Minnesota (CNN) -- Drivers who we...</td>\n",
       "      <td>NEW: \"I thought I was going to die,\" driver sa...</td>\n",
       "    </tr>\n",
       "    <tr>\n",
       "      <th>3</th>\n",
       "      <td>WASHINGTON (CNN) -- Doctors removed five small...</td>\n",
       "      <td>Five small polyps found during procedure; \"non...</td>\n",
       "    </tr>\n",
       "    <tr>\n",
       "      <th>4</th>\n",
       "      <td>(CNN)  -- The National Football League has ind...</td>\n",
       "      <td>NEW: NFL chief, Atlanta Falcons owner critical...</td>\n",
       "    </tr>\n",
       "    <tr>\n",
       "      <th>...</th>\n",
       "      <td>...</td>\n",
       "      <td>...</td>\n",
       "    </tr>\n",
       "    <tr>\n",
       "      <th>1495</th>\n",
       "      <td>WASHINGTON (CNN) -- A court Thursday rejected ...</td>\n",
       "      <td>Appeals court rejects appeal of failed $54 mil...</td>\n",
       "    </tr>\n",
       "    <tr>\n",
       "      <th>1496</th>\n",
       "      <td>ORLANDO, Florida (CNN) -- The meter reader who...</td>\n",
       "      <td>Officials say worker who found child's remains...</td>\n",
       "    </tr>\n",
       "    <tr>\n",
       "      <th>1497</th>\n",
       "      <td>(CNN) -- Former first lady Barbara Bush was mo...</td>\n",
       "      <td>Barbara Bush had surgery to repair and seal a ...</td>\n",
       "    </tr>\n",
       "    <tr>\n",
       "      <th>1498</th>\n",
       "      <td>DENVER, Colorado (CNN)  -- Investigators will ...</td>\n",
       "      <td>Flight data recorder, cockpit voice recorder r...</td>\n",
       "    </tr>\n",
       "    <tr>\n",
       "      <th>1499</th>\n",
       "      <td>WASHINGTON (CNN) -- Iraq's smaller religious g...</td>\n",
       "      <td>Religious freedom watchdog group urges protect...</td>\n",
       "    </tr>\n",
       "  </tbody>\n",
       "</table>\n",
       "<p>1500 rows × 2 columns</p>\n",
       "</div>"
      ],
      "text/plain": [
       "                                                article   \n",
       "0     LONDON, England (Reuters) -- Harry Potter star...  \\\n",
       "1     Editor's note: In our Behind the Scenes series...   \n",
       "2     MINNEAPOLIS, Minnesota (CNN) -- Drivers who we...   \n",
       "3     WASHINGTON (CNN) -- Doctors removed five small...   \n",
       "4     (CNN)  -- The National Football League has ind...   \n",
       "...                                                 ...   \n",
       "1495  WASHINGTON (CNN) -- A court Thursday rejected ...   \n",
       "1496  ORLANDO, Florida (CNN) -- The meter reader who...   \n",
       "1497  (CNN) -- Former first lady Barbara Bush was mo...   \n",
       "1498  DENVER, Colorado (CNN)  -- Investigators will ...   \n",
       "1499  WASHINGTON (CNN) -- Iraq's smaller religious g...   \n",
       "\n",
       "                                             highlights  \n",
       "0     Harry Potter star Daniel Radcliffe gets £20M f...  \n",
       "1     Mentally ill inmates in Miami are housed on th...  \n",
       "2     NEW: \"I thought I was going to die,\" driver sa...  \n",
       "3     Five small polyps found during procedure; \"non...  \n",
       "4     NEW: NFL chief, Atlanta Falcons owner critical...  \n",
       "...                                                 ...  \n",
       "1495  Appeals court rejects appeal of failed $54 mil...  \n",
       "1496  Officials say worker who found child's remains...  \n",
       "1497  Barbara Bush had surgery to repair and seal a ...  \n",
       "1498  Flight data recorder, cockpit voice recorder r...  \n",
       "1499  Religious freedom watchdog group urges protect...  \n",
       "\n",
       "[1500 rows x 2 columns]"
      ]
     },
     "execution_count": 7,
     "metadata": {},
     "output_type": "execute_result"
    }
   ],
   "source": [
    "mini_cnn"
   ]
  },
  {
   "cell_type": "code",
   "execution_count": 16,
   "metadata": {},
   "outputs": [
    {
     "data": {
      "text/plain": [
       "(['i ate motions 2 /waer'], ['eat motion 2 waer'])"
      ]
     },
     "execution_count": 16,
     "metadata": {},
     "output_type": "execute_result"
    }
   ],
   "source": [
    "t='i ate motions 2 /waer'\n",
    "preprocessing_text_with_spacy(t)"
   ]
  },
  {
   "cell_type": "code",
   "execution_count": 17,
   "metadata": {},
   "outputs": [
    {
     "data": {
      "text/plain": [
       "0       london england reuters harry potter star danie...\n",
       "1       editor note scene series cnn correspondent sha...\n",
       "2       minneapolis minnesota cnn drivers minneapolis ...\n",
       "3       washington cnn doctor remove small polyp presi...\n",
       "4       cnn national football league indefinitely susp...\n",
       "                              ...                        \n",
       "1495    washington cnn court thursday reject appeal fi...\n",
       "1496    orlando florida cnn meter reader lead authorit...\n",
       "1497    cnn lady barbara bush move intensive care unit...\n",
       "1498    denver colorado cnn investigator interview cre...\n",
       "1499    washington cnn iraq small religious group face...\n",
       "Name: article, Length: 1500, dtype: object"
      ]
     },
     "execution_count": 17,
     "metadata": {},
     "output_type": "execute_result"
    }
   ],
   "source": [
    "# Assuming you have a DataFrame named `df` with a column named `Original Article`\n",
    "def preprocess_and_clean_text(text):\n",
    "    normal,lemm_stop = preprocessing_text_with_spacy(clean_text(text),True,True)\n",
    "    cleaned_text = \" \".join(lemm_stop)\n",
    "    return cleaned_text\n",
    "\n",
    "# Apply the preprocessing and cleaning functions to the \"Original Article\" column\n",
    "cleaned_texts = mini_cnn[\"article\"].apply(preprocess_and_clean_text)\n",
    "cleaned_texts"
   ]
  },
  {
   "cell_type": "code",
   "execution_count": 18,
   "metadata": {},
   "outputs": [],
   "source": [
    "cleaned_summary =  mini_cnn[\"highlights\"].apply(clean_text)"
   ]
  },
  {
   "cell_type": "code",
   "execution_count": 21,
   "metadata": {},
   "outputs": [
    {
     "data": {
      "text/plain": [
       "pandas.core.series.Series"
      ]
     },
     "execution_count": 21,
     "metadata": {},
     "output_type": "execute_result"
    }
   ],
   "source": [
    "type(cleaned_texts)"
   ]
  },
  {
   "cell_type": "code",
   "execution_count": 30,
   "metadata": {},
   "outputs": [],
   "source": [
    "mini_cnn.to_csv('mini_cnn.csv',index=False)"
   ]
  },
  {
   "cell_type": "code",
   "execution_count": 33,
   "metadata": {},
   "outputs": [
    {
     "data": {
      "text/html": [
       "<div>\n",
       "<style scoped>\n",
       "    .dataframe tbody tr th:only-of-type {\n",
       "        vertical-align: middle;\n",
       "    }\n",
       "\n",
       "    .dataframe tbody tr th {\n",
       "        vertical-align: top;\n",
       "    }\n",
       "\n",
       "    .dataframe thead th {\n",
       "        text-align: right;\n",
       "    }\n",
       "</style>\n",
       "<table border=\"1\" class=\"dataframe\">\n",
       "  <thead>\n",
       "    <tr style=\"text-align: right;\">\n",
       "      <th></th>\n",
       "      <th>article</th>\n",
       "      <th>highlights</th>\n",
       "      <th>cleaned_article</th>\n",
       "      <th>cleaned_highlights</th>\n",
       "    </tr>\n",
       "  </thead>\n",
       "  <tbody>\n",
       "    <tr>\n",
       "      <th>0</th>\n",
       "      <td>LONDON, England (Reuters) -- Harry Potter star...</td>\n",
       "      <td>Harry Potter star Daniel Radcliffe gets £20M f...</td>\n",
       "      <td>london england reuters harry potter star danie...</td>\n",
       "      <td>harry potter star daniel radcliffe gets m fort...</td>\n",
       "    </tr>\n",
       "    <tr>\n",
       "      <th>1</th>\n",
       "      <td>Editor's note: In our Behind the Scenes series...</td>\n",
       "      <td>Mentally ill inmates in Miami are housed on th...</td>\n",
       "      <td>editor note scene series cnn correspondent sha...</td>\n",
       "      <td>mentally ill inmates in miami are housed on th...</td>\n",
       "    </tr>\n",
       "    <tr>\n",
       "      <th>2</th>\n",
       "      <td>MINNEAPOLIS, Minnesota (CNN) -- Drivers who we...</td>\n",
       "      <td>NEW: \"I thought I was going to die,\" driver sa...</td>\n",
       "      <td>minneapolis minnesota cnn drivers minneapolis ...</td>\n",
       "      <td>new i thought i was going to die driver says ....</td>\n",
       "    </tr>\n",
       "    <tr>\n",
       "      <th>3</th>\n",
       "      <td>WASHINGTON (CNN) -- Doctors removed five small...</td>\n",
       "      <td>Five small polyps found during procedure; \"non...</td>\n",
       "      <td>washington cnn doctor remove small polyp presi...</td>\n",
       "      <td>five small polyps found during procedure none ...</td>\n",
       "    </tr>\n",
       "    <tr>\n",
       "      <th>4</th>\n",
       "      <td>(CNN)  -- The National Football League has ind...</td>\n",
       "      <td>NEW: NFL chief, Atlanta Falcons owner critical...</td>\n",
       "      <td>cnn national football league indefinitely susp...</td>\n",
       "      <td>new nfl chief atlanta falcons owner critical o...</td>\n",
       "    </tr>\n",
       "    <tr>\n",
       "      <th>...</th>\n",
       "      <td>...</td>\n",
       "      <td>...</td>\n",
       "      <td>...</td>\n",
       "      <td>...</td>\n",
       "    </tr>\n",
       "    <tr>\n",
       "      <th>1495</th>\n",
       "      <td>WASHINGTON (CNN) -- A court Thursday rejected ...</td>\n",
       "      <td>Appeals court rejects appeal of failed $54 mil...</td>\n",
       "      <td>washington cnn court thursday reject appeal fi...</td>\n",
       "      <td>appeals court rejects appeal of failed million...</td>\n",
       "    </tr>\n",
       "    <tr>\n",
       "      <th>1496</th>\n",
       "      <td>ORLANDO, Florida (CNN) -- The meter reader who...</td>\n",
       "      <td>Officials say worker who found child's remains...</td>\n",
       "      <td>orlando florida cnn meter reader lead authorit...</td>\n",
       "      <td>officials say worker who found child s remains...</td>\n",
       "    </tr>\n",
       "    <tr>\n",
       "      <th>1497</th>\n",
       "      <td>(CNN) -- Former first lady Barbara Bush was mo...</td>\n",
       "      <td>Barbara Bush had surgery to repair and seal a ...</td>\n",
       "      <td>cnn lady barbara bush move intensive care unit...</td>\n",
       "      <td>barbara bush had surgery to repair and seal a ...</td>\n",
       "    </tr>\n",
       "    <tr>\n",
       "      <th>1498</th>\n",
       "      <td>DENVER, Colorado (CNN)  -- Investigators will ...</td>\n",
       "      <td>Flight data recorder, cockpit voice recorder r...</td>\n",
       "      <td>denver colorado cnn investigator interview cre...</td>\n",
       "      <td>flight data recorder cockpit voice recorder re...</td>\n",
       "    </tr>\n",
       "    <tr>\n",
       "      <th>1499</th>\n",
       "      <td>WASHINGTON (CNN) -- Iraq's smaller religious g...</td>\n",
       "      <td>Religious freedom watchdog group urges protect...</td>\n",
       "      <td>washington cnn iraq small religious group face...</td>\n",
       "      <td>religious freedom watchdog group urges protect...</td>\n",
       "    </tr>\n",
       "  </tbody>\n",
       "</table>\n",
       "<p>1500 rows × 4 columns</p>\n",
       "</div>"
      ],
      "text/plain": [
       "                                                article   \n",
       "0     LONDON, England (Reuters) -- Harry Potter star...  \\\n",
       "1     Editor's note: In our Behind the Scenes series...   \n",
       "2     MINNEAPOLIS, Minnesota (CNN) -- Drivers who we...   \n",
       "3     WASHINGTON (CNN) -- Doctors removed five small...   \n",
       "4     (CNN)  -- The National Football League has ind...   \n",
       "...                                                 ...   \n",
       "1495  WASHINGTON (CNN) -- A court Thursday rejected ...   \n",
       "1496  ORLANDO, Florida (CNN) -- The meter reader who...   \n",
       "1497  (CNN) -- Former first lady Barbara Bush was mo...   \n",
       "1498  DENVER, Colorado (CNN)  -- Investigators will ...   \n",
       "1499  WASHINGTON (CNN) -- Iraq's smaller religious g...   \n",
       "\n",
       "                                             highlights   \n",
       "0     Harry Potter star Daniel Radcliffe gets £20M f...  \\\n",
       "1     Mentally ill inmates in Miami are housed on th...   \n",
       "2     NEW: \"I thought I was going to die,\" driver sa...   \n",
       "3     Five small polyps found during procedure; \"non...   \n",
       "4     NEW: NFL chief, Atlanta Falcons owner critical...   \n",
       "...                                                 ...   \n",
       "1495  Appeals court rejects appeal of failed $54 mil...   \n",
       "1496  Officials say worker who found child's remains...   \n",
       "1497  Barbara Bush had surgery to repair and seal a ...   \n",
       "1498  Flight data recorder, cockpit voice recorder r...   \n",
       "1499  Religious freedom watchdog group urges protect...   \n",
       "\n",
       "                                        cleaned_article   \n",
       "0     london england reuters harry potter star danie...  \\\n",
       "1     editor note scene series cnn correspondent sha...   \n",
       "2     minneapolis minnesota cnn drivers minneapolis ...   \n",
       "3     washington cnn doctor remove small polyp presi...   \n",
       "4     cnn national football league indefinitely susp...   \n",
       "...                                                 ...   \n",
       "1495  washington cnn court thursday reject appeal fi...   \n",
       "1496  orlando florida cnn meter reader lead authorit...   \n",
       "1497  cnn lady barbara bush move intensive care unit...   \n",
       "1498  denver colorado cnn investigator interview cre...   \n",
       "1499  washington cnn iraq small religious group face...   \n",
       "\n",
       "                                     cleaned_highlights  \n",
       "0     harry potter star daniel radcliffe gets m fort...  \n",
       "1     mentally ill inmates in miami are housed on th...  \n",
       "2     new i thought i was going to die driver says ....  \n",
       "3     five small polyps found during procedure none ...  \n",
       "4     new nfl chief atlanta falcons owner critical o...  \n",
       "...                                                 ...  \n",
       "1495  appeals court rejects appeal of failed million...  \n",
       "1496  officials say worker who found child s remains...  \n",
       "1497  barbara bush had surgery to repair and seal a ...  \n",
       "1498  flight data recorder cockpit voice recorder re...  \n",
       "1499  religious freedom watchdog group urges protect...  \n",
       "\n",
       "[1500 rows x 4 columns]"
      ]
     },
     "execution_count": 33,
     "metadata": {},
     "output_type": "execute_result"
    }
   ],
   "source": [
    "pd.read_csv('mini_cnn.csv')"
   ]
  },
  {
   "cell_type": "code",
   "execution_count": null,
   "metadata": {},
   "outputs": [],
   "source": []
  }
 ],
 "metadata": {
  "kernelspec": {
   "display_name": "Python 3",
   "language": "python",
   "name": "python3"
  },
  "language_info": {
   "codemirror_mode": {
    "name": "ipython",
    "version": 3
   },
   "file_extension": ".py",
   "mimetype": "text/x-python",
   "name": "python",
   "nbconvert_exporter": "python",
   "pygments_lexer": "ipython3",
   "version": "3.10.0"
  },
  "orig_nbformat": 4
 },
 "nbformat": 4,
 "nbformat_minor": 2
}
