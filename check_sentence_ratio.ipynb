{
 "cells": [
  {
   "cell_type": "code",
   "execution_count": 1,
   "metadata": {},
   "outputs": [],
   "source": [
    "import pandas as pd"
   ]
  },
  {
   "cell_type": "code",
   "execution_count": 2,
   "metadata": {},
   "outputs": [],
   "source": [
    "from my_package.text_processing import *"
   ]
  },
  {
   "cell_type": "code",
   "execution_count": 8,
   "metadata": {},
   "outputs": [
    {
     "data": {
      "text/html": [
       "<div>\n",
       "<style scoped>\n",
       "    .dataframe tbody tr th:only-of-type {\n",
       "        vertical-align: middle;\n",
       "    }\n",
       "\n",
       "    .dataframe tbody tr th {\n",
       "        vertical-align: top;\n",
       "    }\n",
       "\n",
       "    .dataframe thead th {\n",
       "        text-align: right;\n",
       "    }\n",
       "</style>\n",
       "<table border=\"1\" class=\"dataframe\">\n",
       "  <thead>\n",
       "    <tr style=\"text-align: right;\">\n",
       "      <th></th>\n",
       "      <th>Original Article</th>\n",
       "      <th>Original Summary</th>\n",
       "    </tr>\n",
       "  </thead>\n",
       "  <tbody>\n",
       "    <tr>\n",
       "      <th>0</th>\n",
       "      <td>Ad sales boost Time Warner profit\\r\\n\\r\\nQuart...</td>\n",
       "      <td>TimeWarner said fourth quarter sales rose 2% t...</td>\n",
       "    </tr>\n",
       "    <tr>\n",
       "      <th>1</th>\n",
       "      <td>Dollar gains on Greenspan speech\\r\\n\\r\\nThe do...</td>\n",
       "      <td>The dollar has hit its highest level against t...</td>\n",
       "    </tr>\n",
       "  </tbody>\n",
       "</table>\n",
       "</div>"
      ],
      "text/plain": [
       "                                    Original Article   \n",
       "0  Ad sales boost Time Warner profit\\r\\n\\r\\nQuart...  \\\n",
       "1  Dollar gains on Greenspan speech\\r\\n\\r\\nThe do...   \n",
       "\n",
       "                                    Original Summary  \n",
       "0  TimeWarner said fourth quarter sales rose 2% t...  \n",
       "1  The dollar has hit its highest level against t...  "
      ]
     },
     "execution_count": 8,
     "metadata": {},
     "output_type": "execute_result"
    }
   ],
   "source": [
    "bbc = pd.read_csv('BBC_dataset/bbc_main_dataset/BBC_Dataset.csv',index_col=0)\n",
    "bbc.head(2)"
   ]
  },
  {
   "cell_type": "code",
   "execution_count": 74,
   "metadata": {},
   "outputs": [
    {
     "data": {
      "text/html": [
       "<div>\n",
       "<style scoped>\n",
       "    .dataframe tbody tr th:only-of-type {\n",
       "        vertical-align: middle;\n",
       "    }\n",
       "\n",
       "    .dataframe tbody tr th {\n",
       "        vertical-align: top;\n",
       "    }\n",
       "\n",
       "    .dataframe thead th {\n",
       "        text-align: right;\n",
       "    }\n",
       "</style>\n",
       "<table border=\"1\" class=\"dataframe\">\n",
       "  <thead>\n",
       "    <tr style=\"text-align: right;\">\n",
       "      <th></th>\n",
       "      <th>Original Article</th>\n",
       "      <th>Original Summary</th>\n",
       "    </tr>\n",
       "  </thead>\n",
       "  <tbody>\n",
       "    <tr>\n",
       "      <th>0</th>\n",
       "      <td>\\r\\nCambodian leader Hun Sen on Friday rejecte...</td>\n",
       "      <td>Prospects were dim for resolution of the polit...</td>\n",
       "    </tr>\n",
       "    <tr>\n",
       "      <th>1</th>\n",
       "      <td>\\r\\nHonduras braced for potential catastrophe ...</td>\n",
       "      <td>Hurricane Mitch approached Honduras on Oct. 27...</td>\n",
       "    </tr>\n",
       "  </tbody>\n",
       "</table>\n",
       "</div>"
      ],
      "text/plain": [
       "                                    Original Article   \n",
       "0  \\r\\nCambodian leader Hun Sen on Friday rejecte...  \\\n",
       "1  \\r\\nHonduras braced for potential catastrophe ...   \n",
       "\n",
       "                                    Original Summary  \n",
       "0  Prospects were dim for resolution of the polit...  \n",
       "1  Hurricane Mitch approached Honduras on Oct. 27...  "
      ]
     },
     "execution_count": 74,
     "metadata": {},
     "output_type": "execute_result"
    }
   ],
   "source": [
    "data = pd.read_csv(r'DUC\\main_dataset\\Duc_dataset_first_ref_summary.csv')\n",
    "data.head(2)"
   ]
  },
  {
   "cell_type": "code",
   "execution_count": null,
   "metadata": {},
   "outputs": [],
   "source": [
    "bbc_summary , bbc_ = process_one_column_df(bbc['Original Summary'],False,False,False)"
   ]
  },
  {
   "cell_type": "code",
   "execution_count": 10,
   "metadata": {},
   "outputs": [
    {
     "name": "stderr",
     "output_type": "stream",
     "text": [
      "100%|██████████| 2225/2225 [21:55<00:00,  1.69it/s]\n"
     ]
    }
   ],
   "source": [
    "sentences , filtered_sentences = process_one_column_df(bbc['Original Article'],True,True,True)"
   ]
  },
  {
   "cell_type": "code",
   "execution_count": 11,
   "metadata": {},
   "outputs": [],
   "source": [
    "bbc_filtered_sentences = load_list_of_lists(r'BBC_dataset\\pkl_files\\bbc_filtered_sentences.pkl')"
   ]
  },
  {
   "cell_type": "code",
   "execution_count": 92,
   "metadata": {},
   "outputs": [],
   "source": [
    "bbc_sentences = load_list_of_lists(r'BBC_dataset\\pkl_files\\bbc_sentences.pkl')"
   ]
  },
  {
   "cell_type": "code",
   "execution_count": null,
   "metadata": {},
   "outputs": [],
   "source": [
    "duc_summary , duc_ = process_one_column_df(data['Original Summary'],False,False,False)"
   ]
  },
  {
   "cell_type": "code",
   "execution_count": 58,
   "metadata": {},
   "outputs": [],
   "source": [
    "duc_sentences = load_list_of_lists(r'DUC\\pkl_files\\duc_sentences.pkl')"
   ]
  },
  {
   "cell_type": "code",
   "execution_count": 59,
   "metadata": {},
   "outputs": [],
   "source": [
    "from my_package.summary_evalution import*"
   ]
  },
  {
   "cell_type": "code",
   "execution_count": 87,
   "metadata": {},
   "outputs": [],
   "source": [
    "def refined_calculate_efficiency(predicted_summary: str, original_summary: str) -> dict:\n",
    "    \"\"\"\n",
    "    Calculate the efficiency score between the predicted summary and the original summary\n",
    "    using the ROUGE metric.\n",
    "\n",
    "    :param predicted_summary: The predicted summary.\n",
    "    :type predicted_summary: str\n",
    "    :param original_summary: The original summary.\n",
    "    :type original_summary: str\n",
    "    :return: A dictionary with the efficiency score for ROUGE-1, ROUGE-2, and ROUGE-L.\n",
    "    :rtype: dict\n",
    "    \"\"\"\n",
    "    rouge_score = ROUGEScore()\n",
    "    efficiency_dict = rouge_score(remove_escape_characters(predicted_summary), remove_escape_characters(original_summary))\n",
    "    print(remove_escape_characters(original_summary))\n",
    "    return efficiency_dict"
   ]
  },
  {
   "cell_type": "code",
   "execution_count": 88,
   "metadata": {},
   "outputs": [],
   "source": [
    "def calculate_efficiency(predicted_summary: str, original_summary: str) -> dict:\n",
    "    \"\"\"\n",
    "    Calculate the efficiency score between the predicted summary and the original summary\n",
    "    using the ROUGE metric.\n",
    "\n",
    "    :param predicted_summary: The predicted summary.\n",
    "    :type predicted_summary: str\n",
    "    :param original_summary: The original summary.\n",
    "    :type original_summary: str\n",
    "    :return: A dictionary with the efficiency score for ROUGE-1, ROUGE-2, and ROUGE-L.\n",
    "    :rtype: dict\n",
    "    \"\"\"\n",
    "    rouge_score = ROUGEScore()\n",
    "    efficiency_dict = rouge_score(predicted_summary, original_summary)\n",
    "    print(original_summary)\n",
    "    return efficiency_dict"
   ]
  },
  {
   "cell_type": "code",
   "execution_count": 101,
   "metadata": {},
   "outputs": [],
   "source": [
    "bbc_summary = bbc.iloc[0,1]\n",
    "bbc_article = ' '.join(bbc_sentences[0])"
   ]
  },
  {
   "cell_type": "code",
   "execution_count": 26,
   "metadata": {},
   "outputs": [
    {
     "ename": "NameError",
     "evalue": "name 'duc_summary' is not defined",
     "output_type": "error",
     "traceback": [
      "\u001b[1;31m---------------------------------------------------------------------------\u001b[0m",
      "\u001b[1;31mNameError\u001b[0m                                 Traceback (most recent call last)",
      "Cell \u001b[1;32mIn[26], line 4\u001b[0m\n\u001b[0;32m      1\u001b[0m \u001b[39mimport\u001b[39;00m \u001b[39mpandas\u001b[39;00m \u001b[39mas\u001b[39;00m \u001b[39mpd\u001b[39;00m\n\u001b[0;32m      3\u001b[0m \u001b[39m# Calculate the ratio for each article and summary\u001b[39;00m\n\u001b[1;32m----> 4\u001b[0m ratios \u001b[39m=\u001b[39m [\u001b[39mlen\u001b[39m(summary) \u001b[39m/\u001b[39m \u001b[39mlen\u001b[39m(article) \u001b[39mfor\u001b[39;00m summary, article \u001b[39min\u001b[39;00m \u001b[39mzip\u001b[39m(duc_summary, duc_sentences)]\n\u001b[0;32m      6\u001b[0m \u001b[39m# Create a DataFrame with the ratios\u001b[39;00m\n\u001b[0;32m      7\u001b[0m df \u001b[39m=\u001b[39m pd\u001b[39m.\u001b[39mDataFrame({\u001b[39m'\u001b[39m\u001b[39mArticle-Summary Ratio\u001b[39m\u001b[39m'\u001b[39m: ratios})\n",
      "\u001b[1;31mNameError\u001b[0m: name 'duc_summary' is not defined"
     ]
    }
   ],
   "source": [
    "import pandas as pd\n",
    "\n",
    "# Calculate the ratio for each article and summary\n",
    "ratios = [len(summary) / len(article) for summary, article in zip(duc_summary, duc_sentences)]\n",
    "\n",
    "# Create a DataFrame with the ratios\n",
    "df = pd.DataFrame({'Article-Summary Ratio': ratios})\n",
    "\n",
    "# Print the DataFrame\n",
    "df.mean()"
   ]
  }
 ],
 "metadata": {
  "kernelspec": {
   "display_name": "Python 3",
   "language": "python",
   "name": "python3"
  },
  "language_info": {
   "codemirror_mode": {
    "name": "ipython",
    "version": 3
   },
   "file_extension": ".py",
   "mimetype": "text/x-python",
   "name": "python",
   "nbconvert_exporter": "python",
   "pygments_lexer": "ipython3",
   "version": "3.10.0"
  },
  "orig_nbformat": 4
 },
 "nbformat": 4,
 "nbformat_minor": 2
}
