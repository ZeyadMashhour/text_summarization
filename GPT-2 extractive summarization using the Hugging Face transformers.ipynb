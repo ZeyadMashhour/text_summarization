{
 "cells": [
  {
   "cell_type": "code",
   "execution_count": 1,
   "metadata": {},
   "outputs": [
    {
     "name": "stderr",
     "output_type": "stream",
     "text": [
      "c:\\Users\\Zeyad\\AppData\\Local\\Programs\\Python\\Python310\\lib\\site-packages\\tqdm\\auto.py:22: TqdmWarning: IProgress not found. Please update jupyter and ipywidgets. See https://ipywidgets.readthedocs.io/en/stable/user_install.html\n",
      "  from .autonotebook import tqdm as notebook_tqdm\n"
     ]
    }
   ],
   "source": [
    "from summarization_algorithm import *\n",
    "from preprocessing_algorithms import *"
   ]
  },
  {
   "cell_type": "code",
   "execution_count": 2,
   "metadata": {},
   "outputs": [],
   "source": [
    "from transformers import GPT2Tokenizer, GPT2Model\n",
    "import torch\n",
    "from sklearn.metrics.pairwise import cosine_similarity"
   ]
  },
  {
   "cell_type": "code",
   "execution_count": 3,
   "metadata": {},
   "outputs": [
    {
     "data": {
      "text/plain": [
       "\"\\r\\nHonduras braced for potential catastrophe Tuesday as Hurricane Mitch \\r\\nroared through the northwest Caribbean, churning up high waves and \\r\\nintense rain that sent coastal residents scurrying for safer ground. \\r\\nPresident Carlos Flores Facusse declared a state of maximum alert \\r\\nand the Honduran military sent planes to pluck residents from their \\r\\nhomes on islands near the coast. At 0900 GMT Tuesday, Mitch was 95 \\r\\nmiles (152 kilometers) north of Honduras, near the Swan Islands. With \\r\\nwinds near 180 mph (289 kph), and even higher gusts, it was a Category \\r\\n5 monster _ the highest, most dangerous rating for a storm. The 350-mile \\r\\n(560-kilometer) wide hurricane was moving west at 8 mph (12 kph). \\r\\n``Mitch is closing in,'' said Monterrey Cardenas, mayor of Utila, \\r\\nan island 20 miles (32 kilometers) off the Honduran coast. ``And God \\r\\nhelp us.'' Mitch posed no immediate threat to the United States, forecasters \\r\\nsaid, but was expected to remain in the northwest Caribbean for five \\r\\ndays. The U.S. National Weather Service in Miami said Mitch could \\r\\nweaken somewhat, but warned it would still remain ``a very dangerous \\r\\nhurricane capable of causing catastrophic damage.'' The entire coast \\r\\nof Honduras was under a hurricane warning and up to 15 inches (38 \\r\\ncentimeters) of rain was forecast in mountain areas. The Honduran \\r\\npresident closed schools and public offices on the coast Monday and \\r\\nordered all air force planes and helicopters to evacuate people from \\r\\nthe Islas de la Bahia, a string of small islands off the country's \\r\\ncentral coast. The head of the Honduran armed forces, Gen. Mario Hung \\r\\nPacheco, said 5,000 soldiers were standing by to help victims of the \\r\\nstorm, but he warned the military could not reach everyone. ``For \\r\\nthat humanitarian work, we would need more than 300 Hercules C-137 \\r\\nplanes,'' he said. ``Honduras doesn't have them.'' A hurricane warning \\r\\nwas also in effect for the Caribbean coast of Guatemala. In Belize, \\r\\na hurricane watch was in place and the government also closed schools \\r\\nand sent workers home early Monday. Panic buying stripped bread from \\r\\nthe shelves of some stores and some gasoline stations ran dry. Coastal \\r\\nBelize City was hit so hard by Hurricane Hattie in 1961 that the country \\r\\nbuilt a new capital inland at Belmopan. Mexico mobilized troops and \\r\\nemergency workers Monday on the east coast of the Yucatan peninsula, \\r\\nwhich was also under a hurricane watch, and Cuba said it had evacuated \\r\\n600 vacationers from the Island of Youth. Jerry Jarrell, the weather \\r\\ncenter director, said Mitch was the strongest hurricane to strike \\r\\nthe Caribbean since 1988, when Gilbert killed more than 300 people. \\r\\nIn La Ceiba, on Honduras' northern coast, people stood in long lines \\r\\nat filling stations Monday to buy gasoline under a steady rain. Maria \\r\\nGonzalez said she needed the gas to cook with when her firewood gets \\r\\nwet. Still, she bought only 37 cents worth _ all she could afford. \\r\\n``I have six children, and we live in a riverbed,'' she said. ``If \\r\\nit gets really bad, we'll go to the church and see what the architect \\r\\nof the world has in store for us.'' Swinwick Jackson, a fisherman \\r\\non Utila, had tied up his boats and was taking his family to stay \\r\\nwith a relative on higher ground. National police spokesman Ivan Mejia \\r\\nsaid the Coco, Segovia and Cruta rivers all overflowed their banks \\r\\nMonday along Honduras' eastern coast. ``Frightened people are moving \\r\\ninto the mountains to search for shelter,'' he said. In El Progreso, \\r\\n100 miles (160 kilometers) north of the Honduran capital of Tegucigalpa, \\r\\nthe army evacuated more than 5,000 people who live in low-lying banana \\r\\nplantations along the Ulua River, said Nolly Soliman, a resident. \\r\\nBefore bearing down on Honduras, Mitch swept past Jamaica and the \\r\\nCayman Islands. Rain squalls flooded streets in the Jamaican capital, \\r\\nKingston, and government offices and schools closed in the Caymans, \\r\\na British colony of 28,000 people. The strongest hurricane to hit \\r\\nHonduras in recent memory was Fifi in 1974, which ravaged Honduras' \\r\\nCaribbean coast, killing at least 2,000 people. \\r\\n \\r\\nHurricane Mitch paused in its whirl through the western Caribbean \\r\\non Wednesday to punish Honduras with 120-mph (205-kph) winds, topping \\r\\ntrees, sweeping away bridges, flooding neighborhoods and killing at \\r\\nleast 32 people. Mitch was drifting west at only 2 mph (3 kph) over \\r\\nthe Bay Islands, Honduras' most popular tourist area. It also was \\r\\nonly 30 miles (50 kms) off the coast, and hurricane-force winds stretched \\r\\noutward 105 miles (165 kms); tropical storm-force winds 175 miles \\r\\n(280 kms). That meant the Honduran coast had been under hurricane \\r\\nconditions for more than a day. ``The hurricane has destroyed almost \\r\\neverything,'' said Mike Brown, a resident of Guanaja Island which \\r\\nwas within miles (kms) of the eye of the hurricane. ``Few houses have \\r\\nremained standing.'' At its, 4th graf pvs \\r\\n \\r\\nHurricane Mitch cut through the Honduran coast like a ripsaw Thursday, \\r\\nits devastating winds whirling for a third day through resort islands \\r\\nand mainland communities. At least 32 people were killed and widespread \\r\\nflooding prompted more than 150,000 to seek higher ground. Mitch, \\r\\nonce among the century's most powerful hurricanes, weakened today \\r\\nas it blasted this Central American nation, bringing downpours that \\r\\nflooded at least 50 rivers. It also kicked up huge waves that pounded \\r\\nseaside communities. The storm's power was easing and by 1200 GMT, \\r\\nit had sustained winds of 80 mph (130 kph), down from 100 mph (160 \\r\\nkph) around midnight and well below its 180 mph (290 kph) peak of \\r\\nearly Tuesday. After remaining virtually stationary for more than \\r\\na day, the U.S. National Hurricane Center said Thursday the center \\r\\nof the 350-mile-wide (560-kilometer-wide) storm had moved slightly \\r\\nto the south but remained just off the Honduran coast. Hurricane-force \\r\\nwinds whirled up to 30 miles (50 kilometers) from the center, with \\r\\nrain-laden tropical storm winds extending well beyond that. Caught \\r\\nnear the heart of the storm were the Bay Islands, about 25 miles (40 \\r\\nkilometers) off Honduras' coast and popular with divers and beachcombers. \\r\\n``The hurricane has destroyed almost everything,'' said Mike Brown, \\r\\na resident of Guanaja Island, 20 miles (32 kilometers) off the coast. \\r\\n``Few houses have remained standing.'' Honduran officials said 14 \\r\\npeople had died on that small island alone, and at least nine had \\r\\ndied elsewhere in the country. More than 72,000 people had been evacuated \\r\\nto shelters. Nine other deaths had been reported elsewhere in the \\r\\nregion by early Thursday _ more than a day after Mitch drifted to \\r\\njust off the coast and seemed to park there. An American was thrown \\r\\nfrom his boat south of Cancun, Mexico, on Monday and was presumed \\r\\ndead. Eight others died in Nicaragua in flooding. Honduran officials \\r\\nsaid more than 200 towns and villages had been isolated by the storm, \\r\\nleft without power, telephones or clean drinking water. Agriculture \\r\\nMinister Pedro Arturo Sevilla said crucial grain, citrus and banana \\r\\ncrops had been damaged ``and the economic future of Honduras is uncertain.'' \\r\\nRain-swollen rivers knocked out bridges and roads, isolating La Ceiba, \\r\\na coastal city of 40,000 people located 80 miles (128 kilometers) \\r\\nfrom the Bay Islands. About 10,000 residents fled to crowded shelters \\r\\nin schools, churches and firehouses. While supplies of food and gasoline \\r\\nseemed to hold up, drivers worried about the coming days formed long \\r\\nlines to fill their tanks at gas stations and some supermarkets took \\r\\nmeasures to limit panic buying. La Ceiba officials appealed for pure \\r\\nwater for those in shelters and some residents set out plastic buckets \\r\\nto collect rainwater. Only a few hotels and offices with their own \\r\\ngenerators had electricity. Wind-whipped waves almost buried some \\r\\nhouses near the shore. People evacuated low-lying houses by wading \\r\\nthrough chest-deep water with sodden bags of belongings on their heads. \\r\\nIn neighboring Belize, most of the 75,000 residents of coastal Belize \\r\\nCity had left by Wednesday, turning the country's largest city into \\r\\na ghost town. Police and soldiers patrolled the streets, and a few \\r\\npeople wandered amid the boarded-up houses. The cable television company \\r\\nwas broadcasting only The Weather Channel. With the storm seemingly \\r\\nanchored off Honduras, officials in Mexico to the north eased emergency \\r\\nmeasures on the Caribbean coast of the Yucatan Peninsula, where hundreds \\r\\nof people remained in shelters as a precaution Wednesday night. More \\r\\nthan 20,000 tourists had abandoned Cancun and nearby resort areas, \\r\\nleaving hotels at about 20 percent of capacity. Houston accountant \\r\\nKathy Montgomery said that she and her friend Nina Devries had tried \\r\\nto leave Cancun but found all the flights full. ``It's been horrible,'' \\r\\nsaid Montgomery, as she and her friend drank cocktails at an outdoor \\r\\nrestaurant. ``We couldn't go out on a boat, we couldn't go snorkeling. \\r\\n``Even Carlos' N Charlie's and Senor Frog's are closed,'' she said \\r\\ndejectedly, referring to two restaurants. ``Some vacation.'' The U.S. \\r\\nAgency for International Development sent two helicopters each to \\r\\nBelize and Honduras to help in search, rescue and relief efforts. \\r\\nAt its peak, Mitch was the fourth-strongest Caribbean hurricane in \\r\\nthis century, behind Gilbert in 1988, Allen in 1980 and the Labor \\r\\nDay hurricane of 1935. \\r\\n \\r\\nAt least 231 people have been confirmed dead in Honduras from former-hurricane \\r\\nMitch, bringing the storm's death toll in the region to 357, the National \\r\\nEmergency Commission said Saturday. Mitch _ once, 2nd graf pvs \\r\\n \\r\\nIn Honduras, at least 231 deaths have been blamed on Mitch, the National \\r\\nEmergency Commission said Saturday. El Salvador _ where 140 people \\r\\ndied in flash floods _ declared a state of emergency Saturday, as \\r\\ndid Guatemala, where 21 people died when floods swept away their homes. \\r\\nMexico reported one death from Mitch last Monday. In the Caribbean, \\r\\nthe U.S. Coast Guard widened a search for a tourist schooner with \\r\\n31 people aboard that hasn't been heard from since Tuesday. By late \\r\\nSunday, Mitch's winds, once near 180 mph (290 kph), had dropped to \\r\\nnear 30 mph (50 kph), and the storm _ now classified as a tropical \\r\\ndepression _ was near Tapachula, on Mexico's southern Pacific coast \\r\\nnear the Guatemalan border. Mitch was moving west at 8 mph (13 kph) \\r\\nand was dissipating but threatened to strengthen again if it moved \\r\\nback out to sea. \\r\\n \\r\\nNicaraguan Vice President Enrique Bolanos said Sunday night that between \\r\\n1,000 and 1,500 people were buried in a 32-square mile (82.88 square-kilometer) \\r\\narea below the slopes of the Casita volcano in northern Nicaragua. \\r\\nThat is in addition to least another 600 people elsewhere in the country, \\r\\nBolanos said. \\r\\n \\r\\nBRUSSELS, Belgium (AP) - The European Union on Tuesday approved 6.4 \\r\\nmillion European currency units (dlrs 7.7 million) in aid for thousands \\r\\nof victims of the devastation caused by Hurricane Mitch in Central \\r\\nAmerica. EU spokesman Pietro Petrucci said the funds will be used \\r\\nto provide basic care such as medicine, food, water sanitation and \\r\\nblankets to thousands of people whose homes were destroyed by torrential \\r\\nrains and mudslides. The aid will be distributed in Nicaragua, El \\r\\nSalvador, Honduras and Guatemala which have most suffered from Mitch's \\r\\ndeadly passage, the EU executive Commission said in a statement. Officials \\r\\nin Central America estimated Tuesday that about 7,000 people have \\r\\ndied in the region. The greatest losses were reported in Honduras, \\r\\nwhere an estimated 5,000 people died and 600,000 people _ 10 percent \\r\\nof the population _ were forced to flee their homes after last week's \\r\\nstorm. El Salvador's National Emergency Committee listed 174 dead, \\r\\n96 missing and 27,000 homeless. But its own regional affiliate in \\r\\nSan Miguel province reported 125 dead there alone. Guatemala reported \\r\\n100 storm-related deaths. The latest EU aid follows an initial 400,000 \\r\\necu (dlrs 480,000). the EU approved for the region on Friday. The \\r\\nfull 6.8 million ecu (dlrs 8.18 million) will be channeled through \\r\\nhumanitarian groups working in the region. \\r\\n \\r\\nPope John Paul II appealed for aid Wednesday for the Central American \\r\\ncountries stricken by hurricane Mitch and said he feels close to the \\r\\nthousands who are suffering. Speaking during his general audience, \\r\\nthe pope urged ``all public and private institutions and all men of \\r\\ngood will'' to do all they can ``in this grave moment of destruction \\r\\nand death.'' Hurricane Mitch killed an estimated 9,000 people throughout \\r\\nCentral America in a disaster of such proportions that relief agencies \\r\\nhave been overwhelmed. Among those attending the audience were six \\r\\nRussian cosmonauts taking a special course in Italy. As a gift, they \\r\\ngave John Paul a spacesuit. \\r\\n \\r\\nBetter information from Honduras' ravaged countryside enabled officials \\r\\nto lower the confirmed death toll from Hurricane Mitch from 7,000 \\r\\nto about 6,100 on Thursday, but leaders insisted the need for help \\r\\nwas growing. President Carlos Flores declared Hurricane Mitch had \\r\\nset back Honduras' development by 50 years. He urged the more than \\r\\n1.5 million Hondurans affected by the storm to help with the recovery \\r\\neffort. ``The county is semi-destroyed and awaits the maximum effort \\r\\nand most fervent and constant work of every one of its children,'' \\r\\nhe said. In the capital, Tegucigalpa, Mexican rescue teams began searching \\r\\nfor avalanche victims. Honduran doctors dispensed vaccinations to \\r\\nprevent disease outbreaks in shelters crammed with refugees. As of \\r\\nThursday, Mitch had killed 6,076 people in Honduras _ down from officials' \\r\\nearlier estimate of 7,000. The numbers of missing dropped from an \\r\\nestimated 11,000 to 4,621, Government Minister Delmer Urbizo said. \\r\\n``We have more access to places affected by the storm,'' Urbizo explained. \\r\\n``Until now, we have had a short amount of time and few resources \\r\\nto get reliable information.'' In Nicaragua, around 2,000 people were \\r\\nkilled, most of those swept away when a volcano crater lake collapsed \\r\\na week ago. El Salvador reported 239 dead; Guatemala said 194 of its \\r\\npeople had been killed. Six people died in southern Mexico and seven \\r\\nin Costa Rica. Aid groups and governments have called for other countries \\r\\nto send medicine, water, canned food, roofing materials and equipment \\r\\nto help deliver supplies. In Washington on Thursday, President Bill \\r\\nClinton ordered dlrs 30 million in Defense Department equipment and \\r\\nservices and dlrs 36 million in food, fuel and other aid be sent to \\r\\nHonduras, Nicaragua, El Salvador and Guatemala. The White House also \\r\\nsaid Clinton was dispatching Tipper Gore, wife of Vice President Al \\r\\nGore, to Central America on a mission to show the U.S. commitment \\r\\nto providing humanitarian relief. Hillary Rodham Clinton also will \\r\\ntravel to the region, visiting Nicaragua and Honduras on Nov. 16. \\r\\nShe later will stop in El Salvador and Guatemala before continuing \\r\\non to Haiti and the Dominican Republic for a visit that had been canceled \\r\\ndue to Hurricane Georges, which struck the Caribbean in October. Mitch, \\r\\nwhich sat off the Honduran coast for several days last week, destroyed \\r\\nscores of Central American communities before moving northwest. The \\r\\nweakened storm crossed southern Florida on Thursday, damaging mobile \\r\\nhomes and buildings and injuring at least seven people. Countries \\r\\noverwhelmed by the storm's devastation have only just begun to calculate \\r\\nthe damage. Honduran authorities still don't know how many shelters \\r\\nhave been set up across the Central American country. Surveyors have \\r\\nyet to evaluate roughly 10 percent of the most affected areas _ the \\r\\ndepartments of Cortes, Atlantida, Colon and Yoro in the north, southern \\r\\nCholuteca and Valle, and the central department of Francisco Morazan, \\r\\nwhich includes the capital. Numbers still can vary wildly. The estimated \\r\\nnumber of homeless dropped from 580,000 to 569,000 Thursday. Mitch \\r\\ndamaged or destroyed at least 90 bridges on major highways, including \\r\\nmost spans on Highway 5, the main north-south route, officials said. \\r\\nUrbizo said Honduran officials hoped the scale of need in next-door \\r\\nNicaragua wouldn't overshadow Honduras' plight. ``Our problem is that \\r\\nall of the country has been affected,'' he said. Thursday's relief \\r\\noperations paled in comparison to the scope of the disaster. A total \\r\\nof 14 helicopter relief missions were delivering aid to stricken towns, \\r\\nsaid Col. Roger Antonio Caceres of the government's Operation Mitch \\r\\nemergency response task force. ``We can manage with the number of \\r\\naircraft we have because there is little to distribute,'' Caceres \\r\\nsaid. More help was on the way. Mexico was sending 700 tons of food, \\r\\n11 tons of medicine, at least 12 helicopters, four cargo planes and \\r\\n475 soldiers to help in relief operations. The United States committed \\r\\n19 Blackhawk and Chinook helicopters, two C-27 aircraft and one C-130 \\r\\ncargo plane. France said it was sending 250 rescue workers to Central \\r\\nAmerica, along with a ship loaded with construction material and equipment. \\r\\nThe U.N. World Food Program said Thursday it was diverting ships, \\r\\nsome already at sea, to rush their cargoes of donated food to Central \\r\\nAmerica. It also was pulling food from warehouses at its base in Rome, \\r\\nprobably for delivery by emergency relief flights, spokesman Trevor \\r\\nRowe said. ``We're trying to move food as fast as possible to help \\r\\npeople as soon as possible,'' Rowe said. Searches for the missing \\r\\ncontinued, and some decomposed bodies, once found, were being buried \\r\\nin common graves. About 100 victims had been buried around Tegucigalpa, \\r\\nMayor Nahum Valladeres said. In the flood-ravaged Tegucigalpa neighborhood \\r\\nof Nueva Esperanza, Mexican military rescuers loaded search dogs on \\r\\ntheir backs and forded a muddy river to look for people believed buried \\r\\nin a 200-foot (60-meter) avalanche that occurred last Friday. Dozens \\r\\nof homes were swept into the river. ``This is the first place we've \\r\\nbeen'' with the dogs, Honduran army Maj. Freddy Diaz Celaya said. \\r\\n``From here we'll continue searching downriver.'' Concerned that crowded \\r\\nshelter conditions could produce outbreaks of hepatitis, respiratory \\r\\ninfections and other ailments, the Health Ministry announced an inoculation \\r\\ncampaign, especially for children. Doctors volunteering at a shelter \\r\\nhousing 4,000 people at Tegucigalpa's Polytechnic Development Institute \\r\\nsaid they'd heard of the campaign but had yet to receive word or medicines \\r\\nfrom the Health Ministry. ``We have to vaccinate the children,'' said \\r\\nDr. Mario Soto, who has treated at least 300 children at the shelter \\r\\nfor diarrhea, conjunctivitis and bacterial infections. \\r\\n \\r\\nAid workers struggled Friday to reach survivors of Hurricane Mitch, \\r\\nwho are in danger of dying from starvation and disease in the wake \\r\\nof the storm that officials estimate killed more than 10,000 people. \\r\\nForeign aid and pledges of assistance poured into Central America, \\r\\nbut damage to roads and bridges reduced the amount of supplies reaching \\r\\nhundreds of isolated communities to a trickle: only as much as could \\r\\nbe dropped from a helicopter, when the aircraft can get through. In \\r\\nthe Aguan River Valley in northern Honduras, floodwaters have receded, \\r\\nleaving a carpet of mud over hundreds of acres (hectares). In many \\r\\nnearby villages, residents have gone days without potable water or \\r\\nfood. A 7-month-old baby died in the village of Olvido after three \\r\\ndays without food. Residents feared more children would die. ``The \\r\\nworst thing, the saddest thing, are the children. The children are \\r\\nsuffering, even dying,'' said the Rev. Cecilio Escobar Gallindo, the \\r\\nparish priest. A score of cargo aircraft landed Thursday at the normally \\r\\nquiet Toncontin airport in the Honduran capital of Tegucigalpa, delivering \\r\\naid from Mexico, the United States, Japan and Argentina. Former U.S. \\r\\nPresident Jimmy Carter and his wife, Rosalynn, intended to visit Nicaragua \\r\\non Friday to learn more about the hurricane's impact, The Carter Center \\r\\nin Atlanta announced. ``We hope this visit will help call attention \\r\\nto the suffering and humanitarian need this disaster has created,'' \\r\\nCarter said in a statement. U.S. President Bill Clinton requested \\r\\na ``global relief effort'' to help Central America and boosted U.S. \\r\\nemergency aid to dlrs 70 million. Clinton is dispatching a delegation \\r\\nnext week led by Tipper Gore, wife of Vice President Al Gore, to deliver \\r\\nsome of the supplies destined for Honduras, Nicaragua, El Salvador \\r\\nand Guatemala. First lady Hillary Rodham Clinton added Nicaragua and \\r\\nHonduras to a trip she plans to the region beginning Nov. 16. Taiwan \\r\\nsaid today it will donate dlrs 2.6 million in relief to Honduras, \\r\\nNicaragua, El Salvador and Guatemala. The four countries are among \\r\\na dwindling number of nations that recognize Taiwan, which China claims \\r\\nis a breakaway province. Two British ships that were in the area on \\r\\nan exercise were on their way to Honduras to join relief efforts, \\r\\nthe Defense Ministry said Friday. ``It's a coincidence that the ships \\r\\nare there but they've got men and equipment that can be put to work \\r\\nin an organized way,'' said International Development Secretary Clare \\r\\nShort. Nicaragua said Friday it will accept Cuba's offer to send doctors \\r\\nas long as the communist nation flies them in on its own helicopters \\r\\nand with their own supplies. Nicaraguan leaders previously had refused \\r\\nCuba's offer of medical help, saying it did not have the means to \\r\\ntransport or support the doctors. Nicaragua's leftist Sandinistas, \\r\\nwho maintained close relations with Fidel Castro during their 1979-90 \\r\\nrule, had criticized the refusal by President Arnoldo Aleman's administration. \\r\\n\""
      ]
     },
     "execution_count": 3,
     "metadata": {},
     "output_type": "execute_result"
    }
   ],
   "source": [
    "import pandas as pd\n",
    "data = pd.read_csv('DUC/Duc_first_reference/main_dataset/Duc_dataset_first_ref_summary.csv')\n",
    "text = data.iloc[1,0]\n",
    "text"
   ]
  },
  {
   "cell_type": "code",
   "execution_count": 4,
   "metadata": {},
   "outputs": [],
   "source": [
    "# # define the input text\n",
    "# #\n",
    "# # load the GPT-2 tokenizer and model\n",
    "# tokenizer = GPT2Tokenizer.from_pretrained('gpt2')\n",
    "# model = GPT2Model.from_pretrained('gpt2')\n",
    "# # tokenize the input text into sentences\n",
    "# sentences = text.split('. ')\n",
    "\n",
    "# # compute the embedding of each sentence using GPT-2\n",
    "# embeddings = []\n",
    "# for sentence in sentences:\n",
    "#     input_ids = tokenizer.encode(sentence, return_tensors='pt')\n",
    "#     with torch.no_grad():\n",
    "#         output = model(input_ids)[0][:, -1, :]\n",
    "#         embeddings.append(output)\n",
    "# # compute the similarity between each sentence embedding and the embedding of the entire text\n",
    "# text_embedding = torch.mean(torch.cat(embeddings, dim=0), dim=0, keepdim=True)\n",
    "# similarity_scores = cosine_similarity(torch.cat(embeddings, dim=0), text_embedding)\n",
    "\n",
    "# # rank the sentences based on their similarity score\n",
    "# sentence_scores = list(zip(sentences, similarity_scores))\n",
    "# sentence_scores = sorted(sentence_scores, key=lambda x: x[1], reverse=True)\n",
    "\n",
    "# # select the top N sentences to form the summary\n",
    "# N = 5\n",
    "# summary = [s[0] for s in sentence_scores[:N]]"
   ]
  },
  {
   "cell_type": "code",
   "execution_count": 5,
   "metadata": {},
   "outputs": [],
   "source": [
    "def gpt2_extractive_summarization(filtered_sentences,text, num_sentences):\n",
    "    # load the GPT-2 tokenizer and model\n",
    "    tokenizer = GPT2Tokenizer.from_pretrained('gpt2')\n",
    "    model = GPT2Model.from_pretrained('gpt2')\n",
    "\n",
    "    # tokenize the input text into sentences\n",
    "    sentences = text.split('. ')\n",
    "    print(sentences)\n",
    "\n",
    "    # compute the embedding of each sentence using GPT-2\n",
    "    embeddings = []\n",
    "    for sentence in sentences:\n",
    "        input_ids = tokenizer.encode(sentence, return_tensors='pt')\n",
    "        with torch.no_grad():\n",
    "            output = model(input_ids)[0][:, -1, :]\n",
    "            embeddings.append(output)\n",
    "\n",
    "            \n",
    "\n",
    "    # compute the similarity between each sentence embedding and the embedding of the entire text\n",
    "    text_embedding = torch.mean(torch.cat(embeddings, dim=0), dim=0, keepdim=True)\n",
    "    return embeddings,text_embedding\n",
    "    similarity_scores = cosine_similarity(torch.cat(embeddings, dim=0).numpy(), text_embedding.numpy())\n",
    "\n",
    "\n",
    "    # rank the sentences based on their similarity score\n",
    "    sentence_scores = list(zip(text, similarity_scores))\n",
    "    sentence_scores = sorted(sentence_scores, key=lambda x: x[1], reverse=True)\n",
    "\n",
    "    # select the top N sentences to form the summary\n",
    "    summary = [s[0] for s in sentence_scores[:num_sentences]]\n",
    "    return '. '.join(summary)\n"
   ]
  },
  {
   "cell_type": "code",
   "execution_count": 20,
   "metadata": {},
   "outputs": [],
   "source": [
    "def gpt2_extractive_summarization(sentences, filtered_sentences, size):\n",
    "    # load the GPT-2 tokenizer and model\n",
    "    tokenizer = GPT2Tokenizer.from_pretrained('gpt2')\n",
    "    model = GPT2Model.from_pretrained('gpt2')\n",
    "\n",
    "    # compute the embedding of each sentence using GPT-2\n",
    "    embeddings = []\n",
    "    for sentence in filtered_sentences:\n",
    "        input_ids = tokenizer.encode(sentence, return_tensors='pt')\n",
    "        with torch.no_grad():\n",
    "            output = model(input_ids)[0][:, -1, :]\n",
    "            embeddings.append(output)\n",
    "\n",
    "    # compute the similarity between each sentence embedding and the embedding of the entire text\n",
    "    text_embedding = torch.mean(torch.cat(embeddings, dim=0), dim=0, keepdim=True)\n",
    "    similarity_scores = cosine_similarity(torch.cat(embeddings, dim=0).numpy(), text_embedding.numpy())\n",
    "\n",
    "    # rank the sentences based on their similarity score\n",
    "    sentence_scores = list(zip(sentences, similarity_scores))\n",
    "    top_scores = sorted(sentence_scores, key=lambda x: x[1], reverse=True)[:size]\n",
    "\n",
    "    # select the top N sentences to form the summary\n",
    "    summary = [s[0] for s in sentence_scores if s in top_scores]\n",
    "    scores = [s[1] for s in sentence_scores if s in top_scores]\n",
    "    return summary\n"
   ]
  },
  {
   "cell_type": "code",
   "execution_count": 8,
   "metadata": {},
   "outputs": [],
   "source": [
    "import nltk\n",
    "from nltk.corpus import stopwords\n",
    "from nltk.stem import WordNetLemmatizer\n",
    "\n",
    "# Initialize the lemmatizer and stopword list\n",
    "lemmatizer = WordNetLemmatizer()\n",
    "stopwords = set(stopwords.words('english'))\n",
    "\n",
    "# Original sentences\n",
    "original_sentences = [\"The quick brown fox jumps over the lazy dog.\",\n",
    "                       \"This is a sentence.\",\n",
    "                       \"Another sentence here.\",\n",
    "                       \"This is a short sentence.\",\n",
    "                       \"The dog is lazy.\"]\n",
    "\n",
    "# Preprocess the sentences\n",
    "filtered_sentences = []\n",
    "for sentence in original_sentences:\n",
    "    # Tokenize the sentence\n",
    "    words = nltk.word_tokenize(sentence.lower())\n",
    "    \n",
    "    # Remove stopwords and lemmatize the remaining words\n",
    "    filtered_words = [lemmatizer.lemmatize(word) for word in words if word not in stopwords]\n",
    "    \n",
    "    # Convert the filtered words back to a sentence and add it to the list of filtered sentences\n",
    "    filtered_sentence = ' '.join(filtered_words)\n",
    "    filtered_sentences.append(filtered_sentence)"
   ]
  },
  {
   "cell_type": "code",
   "execution_count": 9,
   "metadata": {},
   "outputs": [
    {
     "name": "stderr",
     "output_type": "stream",
     "text": [
      "[nltk_data] Downloading package wordnet to\n",
      "[nltk_data]     C:\\Users\\Zeyad\\AppData\\Roaming\\nltk_data...\n",
      "[nltk_data]   Package wordnet is already up-to-date!\n"
     ]
    },
    {
     "data": {
      "text/plain": [
       "True"
      ]
     },
     "execution_count": 9,
     "metadata": {},
     "output_type": "execute_result"
    }
   ],
   "source": [
    "nltk.download('wordnet')"
   ]
  },
  {
   "cell_type": "code",
   "execution_count": 10,
   "metadata": {},
   "outputs": [
    {
     "data": {
      "text/plain": [
       "['The quick brown fox jumps over the lazy dog.',\n",
       " 'This is a sentence.',\n",
       " 'Another sentence here.',\n",
       " 'This is a short sentence.',\n",
       " 'The dog is lazy.']"
      ]
     },
     "execution_count": 10,
     "metadata": {},
     "output_type": "execute_result"
    }
   ],
   "source": [
    "original_sentences"
   ]
  },
  {
   "cell_type": "code",
   "execution_count": 11,
   "metadata": {},
   "outputs": [],
   "source": [
    "gpt2_extractive_summarization(filtered_sentences,original_sentences,5)"
   ]
  },
  {
   "cell_type": "code",
   "execution_count": 12,
   "metadata": {},
   "outputs": [],
   "source": [
    "from preprocessing_algorithms import *"
   ]
  },
  {
   "cell_type": "code",
   "execution_count": 23,
   "metadata": {},
   "outputs": [],
   "source": [
    "article_str_sentences, processed_sentences = preprocessing_text_with_spacy(text, False, False)"
   ]
  },
  {
   "cell_type": "code",
   "execution_count": 14,
   "metadata": {},
   "outputs": [],
   "source": [
    "import pandas as pd\n",
    "df = pd.read_csv(\"DUC\\Duc_first_reference\\main_dataset\\Duc_dataset_first_ref_summary.csv\")"
   ]
  },
  {
   "cell_type": "code",
   "execution_count": 15,
   "metadata": {},
   "outputs": [
    {
     "name": "stderr",
     "output_type": "stream",
     "text": [
      "100%|██████████| 49/49 [02:01<00:00,  2.48s/it]\n"
     ]
    }
   ],
   "source": [
    "sentences, processed_sentences = process_one_column_df(df[\"Original Article\"])"
   ]
  },
  {
   "cell_type": "code",
   "execution_count": 24,
   "metadata": {},
   "outputs": [
    {
     "ename": "TypeError",
     "evalue": "cosine_similarity() missing 2 required positional arguments: 'i' and 'j'",
     "output_type": "error",
     "traceback": [
      "\u001b[1;31m---------------------------------------------------------------------------\u001b[0m",
      "\u001b[1;31mTypeError\u001b[0m                                 Traceback (most recent call last)",
      "Cell \u001b[1;32mIn[24], line 1\u001b[0m\n\u001b[1;32m----> 1\u001b[0m gpt2_extractive_summarization(processed_sentences,article_str_sentences,\u001b[39m5\u001b[39;49m)\n",
      "Cell \u001b[1;32mIn[20], line 16\u001b[0m, in \u001b[0;36mgpt2_extractive_summarization\u001b[1;34m(sentences, filtered_sentences, size)\u001b[0m\n\u001b[0;32m     14\u001b[0m \u001b[39m# compute the similarity between each sentence embedding and the embedding of the entire text\u001b[39;00m\n\u001b[0;32m     15\u001b[0m text_embedding \u001b[39m=\u001b[39m torch\u001b[39m.\u001b[39mmean(torch\u001b[39m.\u001b[39mcat(embeddings, dim\u001b[39m=\u001b[39m\u001b[39m0\u001b[39m), dim\u001b[39m=\u001b[39m\u001b[39m0\u001b[39m, keepdim\u001b[39m=\u001b[39m\u001b[39mTrue\u001b[39;00m)\n\u001b[1;32m---> 16\u001b[0m similarity_scores \u001b[39m=\u001b[39m cosine_similarity(torch\u001b[39m.\u001b[39;49mcat(embeddings, dim\u001b[39m=\u001b[39;49m\u001b[39m0\u001b[39;49m)\u001b[39m.\u001b[39;49mnumpy(), text_embedding\u001b[39m.\u001b[39;49mnumpy())\n\u001b[0;32m     18\u001b[0m \u001b[39m# rank the sentences based on their similarity score\u001b[39;00m\n\u001b[0;32m     19\u001b[0m sentence_scores \u001b[39m=\u001b[39m \u001b[39mlist\u001b[39m(\u001b[39mzip\u001b[39m(sentences, similarity_scores))\n",
      "\u001b[1;31mTypeError\u001b[0m: cosine_similarity() missing 2 required positional arguments: 'i' and 'j'"
     ]
    }
   ],
   "source": [
    "gpt2_extractive_summarization(processed_sentences,article_str_sentences,5)"
   ]
  },
  {
   "cell_type": "code",
   "execution_count": null,
   "metadata": {},
   "outputs": [],
   "source": []
  },
  {
   "cell_type": "code",
   "execution_count": 17,
   "metadata": {},
   "outputs": [],
   "source": [
    "from summarization_algorithm import *"
   ]
  },
  {
   "cell_type": "code",
   "execution_count": 21,
   "metadata": {},
   "outputs": [
    {
     "name": "stderr",
     "output_type": "stream",
     "text": [
      "  0%|          | 0/49 [00:16<?, ?it/s]\n"
     ]
    },
    {
     "ename": "TypeError",
     "evalue": "cosine_similarity() missing 2 required positional arguments: 'i' and 'j'",
     "output_type": "error",
     "traceback": [
      "\u001b[1;31m---------------------------------------------------------------------------\u001b[0m",
      "\u001b[1;31mTypeError\u001b[0m                                 Traceback (most recent call last)",
      "Cell \u001b[1;32mIn[21], line 1\u001b[0m\n\u001b[1;32m----> 1\u001b[0m summarize_with(processed_sentences, sentences,gpt2_extractive_summarization, \u001b[39m5\u001b[39;49m)\n",
      "File \u001b[1;32mf:\\PycharmProjects\\NLP\\text_summarization\\summarization_algorithm.py:318\u001b[0m, in \u001b[0;36msummarize_with\u001b[1;34m(list_of_filtered_articles, list_of_articles, summary_algorithm, size)\u001b[0m\n\u001b[0;32m    316\u001b[0m     filtered_sentences \u001b[39m=\u001b[39m list_of_filtered_articles[row]\n\u001b[0;32m    317\u001b[0m                               \u001b[39m#(filtered_sentences,sentence)\u001b[39;00m\n\u001b[1;32m--> 318\u001b[0m     summary \u001b[39m=\u001b[39m summary_algorithm(filtered_sentences,sentences,size)\n\u001b[0;32m    319\u001b[0m     summarized_text\u001b[39m.\u001b[39mappend(summary)\n\u001b[0;32m    320\u001b[0m summary_df \u001b[39m=\u001b[39m pd\u001b[39m.\u001b[39mDataFrame (summarized_text, columns \u001b[39m=\u001b[39m [\u001b[39mf\u001b[39m\u001b[39m'\u001b[39m\u001b[39m{\u001b[39;00msummary_algorithm\u001b[39m.\u001b[39m\u001b[39m__name__\u001b[39m\u001b[39m}\u001b[39;00m\u001b[39m summary\u001b[39m\u001b[39m'\u001b[39m])\n",
      "Cell \u001b[1;32mIn[20], line 16\u001b[0m, in \u001b[0;36mgpt2_extractive_summarization\u001b[1;34m(sentences, filtered_sentences, size)\u001b[0m\n\u001b[0;32m     14\u001b[0m \u001b[39m# compute the similarity between each sentence embedding and the embedding of the entire text\u001b[39;00m\n\u001b[0;32m     15\u001b[0m text_embedding \u001b[39m=\u001b[39m torch\u001b[39m.\u001b[39mmean(torch\u001b[39m.\u001b[39mcat(embeddings, dim\u001b[39m=\u001b[39m\u001b[39m0\u001b[39m), dim\u001b[39m=\u001b[39m\u001b[39m0\u001b[39m, keepdim\u001b[39m=\u001b[39m\u001b[39mTrue\u001b[39;00m)\n\u001b[1;32m---> 16\u001b[0m similarity_scores \u001b[39m=\u001b[39m cosine_similarity(torch\u001b[39m.\u001b[39;49mcat(embeddings, dim\u001b[39m=\u001b[39;49m\u001b[39m0\u001b[39;49m)\u001b[39m.\u001b[39;49mnumpy(), text_embedding\u001b[39m.\u001b[39;49mnumpy())\n\u001b[0;32m     18\u001b[0m \u001b[39m# rank the sentences based on their similarity score\u001b[39;00m\n\u001b[0;32m     19\u001b[0m sentence_scores \u001b[39m=\u001b[39m \u001b[39mlist\u001b[39m(\u001b[39mzip\u001b[39m(sentences, similarity_scores))\n",
      "\u001b[1;31mTypeError\u001b[0m: cosine_similarity() missing 2 required positional arguments: 'i' and 'j'"
     ]
    }
   ],
   "source": [
    "summarize_with(processed_sentences, sentences,gpt2_extractive_summarization, 5)"
   ]
  },
  {
   "cell_type": "code",
   "execution_count": null,
   "metadata": {},
   "outputs": [],
   "source": []
  }
 ],
 "metadata": {
  "kernelspec": {
   "display_name": "Python 3",
   "language": "python",
   "name": "python3"
  },
  "language_info": {
   "codemirror_mode": {
    "name": "ipython",
    "version": 3
   },
   "file_extension": ".py",
   "mimetype": "text/x-python",
   "name": "python",
   "nbconvert_exporter": "python",
   "pygments_lexer": "ipython3",
   "version": "3.10.5"
  },
  "orig_nbformat": 4
 },
 "nbformat": 4,
 "nbformat_minor": 2
}
