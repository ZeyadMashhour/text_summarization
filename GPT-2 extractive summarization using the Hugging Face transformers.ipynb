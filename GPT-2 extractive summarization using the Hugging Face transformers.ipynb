{
 "cells": [
  {
   "cell_type": "code",
   "execution_count": 15,
   "metadata": {},
   "outputs": [],
   "source": [
    "from summarization_algorithm import *\n",
    "from preprocessing_algorithms import *"
   ]
  },
  {
   "cell_type": "code",
   "execution_count": 16,
   "metadata": {},
   "outputs": [],
   "source": [
    "from transformers import GPT2Tokenizer, GPT2Model\n",
    "import torch\n",
    "from sklearn.metrics.pairwise import cosine_similarity"
   ]
  },
  {
   "cell_type": "code",
   "execution_count": 28,
   "metadata": {},
   "outputs": [
    {
     "data": {
      "text/plain": [
       "\"\\r\\nHonduras braced for potential catastrophe Tuesday as Hurricane Mitch \\r\\nroared through the northwest Caribbean, churning up high waves and \\r\\nintense rain that sent coastal residents scurrying for safer ground. \\r\\nPresident Carlos Flores Facusse declared a state of maximum alert \\r\\nand the Honduran military sent planes to pluck residents from their \\r\\nhomes on islands near the coast. At 0900 GMT Tuesday, Mitch was 95 \\r\\nmiles (152 kilometers) north of Honduras, near the Swan Islands. With \\r\\nwinds near 180 mph (289 kph), and even higher gusts, it was a Category \\r\\n5 monster _ the highest, most dangerous rating for a storm. The 350-mile \\r\\n(560-kilometer) wide hurricane was moving west at 8 mph (12 kph). \\r\\n``Mitch is closing in,'' said Monterrey Cardenas, mayor of Utila, \\r\\nan island 20 miles (32 kilometers) off the Honduran coast. ``And God \\r\\nhelp us.'' Mitch posed no immediate threat to the United States, forecasters \\r\\nsaid, but was expected to remain in the northwest Caribbean for five \\r\\ndays. The U.S. National Weather Service in Miami said Mitch could \\r\\nweaken somewhat, but warned it would still remain ``a very dangerous \\r\\nhurricane capable of causing catastrophic damage.'' The entire coast \\r\\nof Honduras was under a hurricane warning and up to 15 inches (38 \\r\\ncentimeters) of rain was forecast in mountain areas. The Honduran \\r\\npresident closed schools and public offices on the coast Monday and \\r\\nordered all air force planes and helicopters to evacuate people from \\r\\nthe Islas de la Bahia, a string of small islands off the country's \\r\\ncentral coast. The head of the Honduran armed forces, Gen. Mario Hung \\r\\nPacheco, said 5,000 soldiers were standing by to help victims of the \\r\\nstorm, but he warned the military could not reach everyone. ``For \\r\\nthat humanitarian work, we would need more than 300 Hercules C-137 \\r\\nplanes,'' he said. ``Honduras doesn't have them.'' A hurricane warning \\r\\nwas also in effect for the Caribbean coast of Guatemala. In Belize, \\r\\na hurricane watch was in place and the government also closed schools \\r\\nand sent workers home early Monday. Panic buying stripped bread from \\r\\nthe shelves of some stores and some gasoline stations ran dry. Coastal \\r\\nBelize City was hit so hard by Hurricane Hattie in 1961 that the country \\r\\nbuilt a new capital inland at Belmopan. Mexico mobilized troops and \\r\\nemergency workers Monday on the east coast of the Yucatan peninsula, \\r\\nwhich was also under a hurricane watch, and Cuba said it had evacuated \\r\\n600 vacationers from the Island of Youth. Jerry Jarrell, the weather \\r\\ncenter director, said Mitch was the strongest hurricane to strike \\r\\nthe Caribbean since 1988, when Gilbert killed more than 300 people. \\r\\nIn La Ceiba, on Honduras' northern coast, people stood in long lines \\r\\nat filling stations Monday to buy gasoline under a steady rain. Maria \\r\\nGonzalez said she needed the gas to cook with when her firewood gets \\r\\nwet. Still, she bought only 37 cents worth _ all she could afford. \\r\\n``I have six children, and we live in a riverbed,'' she said. ``If \\r\\nit gets really bad, we'll go to the church and see what the architect \\r\\nof the world has in store for us.'' Swinwick Jackson, a fisherman \\r\\non Utila, had tied up his boats and was taking his family to stay \\r\\nwith a relative on higher ground. National police spokesman Ivan Mejia \\r\\nsaid the Coco, Segovia and Cruta rivers all overflowed their banks \\r\\nMonday along Honduras' eastern coast. ``Frightened people are moving \\r\\ninto the mountains to search for shelter,'' he said. In El Progreso, \\r\\n100 miles (160 kilometers) north of the Honduran capital of Tegucigalpa, \\r\\nthe army evacuated more than 5,000 people who live in low-lying banana \\r\\nplantations along the Ulua River, said Nolly Soliman, a resident. \\r\\nBefore bearing down on Honduras, Mitch swept past Jamaica and the \\r\\nCayman Islands. Rain squalls flooded streets in the Jamaican capital, \\r\\nKingston, and government offices and schools closed in the Caymans, \\r\\na British colony of 28,000 people. The strongest hurricane to hit \\r\\nHonduras in recent memory was Fifi in 1974, which ravaged Honduras' \\r\\nCaribbean coast, killing at least 2,000 people. \\r\\n \\r\\nHurricane Mitch paused in its whirl through the western Caribbean \\r\\non Wednesday to punish Honduras with 120-mph (205-kph) winds, topping \\r\\ntrees, sweeping away bridges, flooding neighborhoods and killing at \\r\\nleast 32 people. Mitch was drifting west at only 2 mph (3 kph) over \\r\\nthe Bay Islands, Honduras' most popular tourist area. It also was \\r\\nonly 30 miles (50 kms) off the coast, and hurricane-force winds stretched \\r\\noutward 105 miles (165 kms); tropical storm-force winds 175 miles \\r\\n(280 kms). That meant the Honduran coast had been under hurricane \\r\\nconditions for more than a day. ``The hurricane has destroyed almost \\r\\neverything,'' said Mike Brown, a resident of Guanaja Island which \\r\\nwas within miles (kms) of the eye of the hurricane. ``Few houses have \\r\\nremained standing.'' At its, 4th graf pvs \\r\\n \\r\\nHurricane Mitch cut through the Honduran coast like a ripsaw Thursday, \\r\\nits devastating winds whirling for a third day through resort islands \\r\\nand mainland communities. At least 32 people were killed and widespread \\r\\nflooding prompted more than 150,000 to seek higher ground. Mitch, \\r\\nonce among the century's most powerful hurricanes, weakened today \\r\\nas it blasted this Central American nation, bringing downpours that \\r\\nflooded at least 50 rivers. It also kicked up huge waves that pounded \\r\\nseaside communities. The storm's power was easing and by 1200 GMT, \\r\\nit had sustained winds of 80 mph (130 kph), down from 100 mph (160 \\r\\nkph) around midnight and well below its 180 mph (290 kph) peak of \\r\\nearly Tuesday. After remaining virtually stationary for more than \\r\\na day, the U.S. National Hurricane Center said Thursday the center \\r\\nof the 350-mile-wide (560-kilometer-wide) storm had moved slightly \\r\\nto the south but remained just off the Honduran coast. Hurricane-force \\r\\nwinds whirled up to 30 miles (50 kilometers) from the center, with \\r\\nrain-laden tropical storm winds extending well beyond that. Caught \\r\\nnear the heart of the storm were the Bay Islands, about 25 miles (40 \\r\\nkilometers) off Honduras' coast and popular with divers and beachcombers. \\r\\n``The hurricane has destroyed almost everything,'' said Mike Brown, \\r\\na resident of Guanaja Island, 20 miles (32 kilometers) off the coast. \\r\\n``Few houses have remained standing.'' Honduran officials said 14 \\r\\npeople had died on that small island alone, and at least nine had \\r\\ndied elsewhere in the country. More than 72,000 people had been evacuated \\r\\nto shelters. Nine other deaths had been reported elsewhere in the \\r\\nregion by early Thursday _ more than a day after Mitch drifted to \\r\\njust off the coast and seemed to park there. An American was thrown \\r\\nfrom his boat south of Cancun, Mexico, on Monday and was presumed \\r\\ndead. Eight others died in Nicaragua in flooding. Honduran officials \\r\\nsaid more than 200 towns and villages had been isolated by the storm, \\r\\nleft without power, telephones or clean drinking water. Agriculture \\r\\nMinister Pedro Arturo Sevilla said crucial grain, citrus and banana \\r\\ncrops had been damaged ``and the economic future of Honduras is uncertain.'' \\r\\nRain-swollen rivers knocked out bridges and roads, isolating La Ceiba, \\r\\na coastal city of 40,000 people located 80 miles (128 kilometers) \\r\\nfrom the Bay Islands. About 10,000 residents fled to crowded shelters \\r\\nin schools, churches and firehouses. While supplies of food and gasoline \\r\\nseemed to hold up, drivers worried about the coming days formed long \\r\\nlines to fill their tanks at gas stations and some supermarkets took \\r\\nmeasures to limit panic buying. La Ceiba officials appealed for pure \\r\\nwater for those in shelters and some residents set out plastic buckets \\r\\nto collect rainwater. Only a few hotels and offices with their own \\r\\ngenerators had electricity. Wind-whipped waves almost buried some \\r\\nhouses near the shore. People evacuated low-lying houses by wading \\r\\nthrough chest-deep water with sodden bags of belongings on their heads. \\r\\nIn neighboring Belize, most of the 75,000 residents of coastal Belize \\r\\nCity had left by Wednesday, turning the country's largest city into \\r\\na ghost town. Police and soldiers patrolled the streets, and a few \\r\\npeople wandered amid the boarded-up houses. The cable television company \\r\\nwas broadcasting only The Weather Channel. With the storm seemingly \\r\\nanchored off Honduras, officials in Mexico to the north eased emergency \\r\\nmeasures on the Caribbean coast of the Yucatan Peninsula, where hundreds \\r\\nof people remained in shelters as a precaution Wednesday night. More \\r\\nthan 20,000 tourists had abandoned Cancun and nearby resort areas, \\r\\nleaving hotels at about 20 percent of capacity. Houston accountant \\r\\nKathy Montgomery said that she and her friend Nina Devries had tried \\r\\nto leave Cancun but found all the flights full. ``It's been horrible,'' \\r\\nsaid Montgomery, as she and her friend drank cocktails at an outdoor \\r\\nrestaurant. ``We couldn't go out on a boat, we couldn't go snorkeling. \\r\\n``Even Carlos' N Charlie's and Senor Frog's are closed,'' she said \\r\\ndejectedly, referring to two restaurants. ``Some vacation.'' The U.S. \\r\\nAgency for International Development sent two helicopters each to \\r\\nBelize and Honduras to help in search, rescue and relief efforts. \\r\\nAt its peak, Mitch was the fourth-strongest Caribbean hurricane in \\r\\nthis century, behind Gilbert in 1988, Allen in 1980 and the Labor \\r\\nDay hurricane of 1935. \\r\\n \\r\\nAt least 231 people have been confirmed dead in Honduras from former-hurricane \\r\\nMitch, bringing the storm's death toll in the region to 357, the National \\r\\nEmergency Commission said Saturday. Mitch _ once, 2nd graf pvs \\r\\n \\r\\nIn Honduras, at least 231 deaths have been blamed on Mitch, the National \\r\\nEmergency Commission said Saturday. El Salvador _ where 140 people \\r\\ndied in flash floods _ declared a state of emergency Saturday, as \\r\\ndid Guatemala, where 21 people died when floods swept away their homes. \\r\\nMexico reported one death from Mitch last Monday. In the Caribbean, \\r\\nthe U.S. Coast Guard widened a search for a tourist schooner with \\r\\n31 people aboard that hasn't been heard from since Tuesday. By late \\r\\nSunday, Mitch's winds, once near 180 mph (290 kph), had dropped to \\r\\nnear 30 mph (50 kph), and the storm _ now classified as a tropical \\r\\ndepression _ was near Tapachula, on Mexico's southern Pacific coast \\r\\nnear the Guatemalan border. Mitch was moving west at 8 mph (13 kph) \\r\\nand was dissipating but threatened to strengthen again if it moved \\r\\nback out to sea. \\r\\n \\r\\nNicaraguan Vice President Enrique Bolanos said Sunday night that between \\r\\n1,000 and 1,500 people were buried in a 32-square mile (82.88 square-kilometer) \\r\\narea below the slopes of the Casita volcano in northern Nicaragua. \\r\\nThat is in addition to least another 600 people elsewhere in the country, \\r\\nBolanos said. \\r\\n \\r\\nBRUSSELS, Belgium (AP) - The European Union on Tuesday approved 6.4 \\r\\nmillion European currency units (dlrs 7.7 million) in aid for thousands \\r\\nof victims of the devastation caused by Hurricane Mitch in Central \\r\\nAmerica. EU spokesman Pietro Petrucci said the funds will be used \\r\\nto provide basic care such as medicine, food, water sanitation and \\r\\nblankets to thousands of people whose homes were destroyed by torrential \\r\\nrains and mudslides. The aid will be distributed in Nicaragua, El \\r\\nSalvador, Honduras and Guatemala which have most suffered from Mitch's \\r\\ndeadly passage, the EU executive Commission said in a statement. Officials \\r\\nin Central America estimated Tuesday that about 7,000 people have \\r\\ndied in the region. The greatest losses were reported in Honduras, \\r\\nwhere an estimated 5,000 people died and 600,000 people _ 10 percent \\r\\nof the population _ were forced to flee their homes after last week's \\r\\nstorm. El Salvador's National Emergency Committee listed 174 dead, \\r\\n96 missing and 27,000 homeless. But its own regional affiliate in \\r\\nSan Miguel province reported 125 dead there alone. Guatemala reported \\r\\n100 storm-related deaths. The latest EU aid follows an initial 400,000 \\r\\necu (dlrs 480,000). the EU approved for the region on Friday. The \\r\\nfull 6.8 million ecu (dlrs 8.18 million) will be channeled through \\r\\nhumanitarian groups working in the region. \\r\\n \\r\\nPope John Paul II appealed for aid Wednesday for the Central American \\r\\ncountries stricken by hurricane Mitch and said he feels close to the \\r\\nthousands who are suffering. Speaking during his general audience, \\r\\nthe pope urged ``all public and private institutions and all men of \\r\\ngood will'' to do all they can ``in this grave moment of destruction \\r\\nand death.'' Hurricane Mitch killed an estimated 9,000 people throughout \\r\\nCentral America in a disaster of such proportions that relief agencies \\r\\nhave been overwhelmed. Among those attending the audience were six \\r\\nRussian cosmonauts taking a special course in Italy. As a gift, they \\r\\ngave John Paul a spacesuit. \\r\\n \\r\\nBetter information from Honduras' ravaged countryside enabled officials \\r\\nto lower the confirmed death toll from Hurricane Mitch from 7,000 \\r\\nto about 6,100 on Thursday, but leaders insisted the need for help \\r\\nwas growing. President Carlos Flores declared Hurricane Mitch had \\r\\nset back Honduras' development by 50 years. He urged the more than \\r\\n1.5 million Hondurans affected by the storm to help with the recovery \\r\\neffort. ``The county is semi-destroyed and awaits the maximum effort \\r\\nand most fervent and constant work of every one of its children,'' \\r\\nhe said. In the capital, Tegucigalpa, Mexican rescue teams began searching \\r\\nfor avalanche victims. Honduran doctors dispensed vaccinations to \\r\\nprevent disease outbreaks in shelters crammed with refugees. As of \\r\\nThursday, Mitch had killed 6,076 people in Honduras _ down from officials' \\r\\nearlier estimate of 7,000. The numbers of missing dropped from an \\r\\nestimated 11,000 to 4,621, Government Minister Delmer Urbizo said. \\r\\n``We have more access to places affected by the storm,'' Urbizo explained. \\r\\n``Until now, we have had a short amount of time and few resources \\r\\nto get reliable information.'' In Nicaragua, around 2,000 people were \\r\\nkilled, most of those swept away when a volcano crater lake collapsed \\r\\na week ago. El Salvador reported 239 dead; Guatemala said 194 of its \\r\\npeople had been killed. Six people died in southern Mexico and seven \\r\\nin Costa Rica. Aid groups and governments have called for other countries \\r\\nto send medicine, water, canned food, roofing materials and equipment \\r\\nto help deliver supplies. In Washington on Thursday, President Bill \\r\\nClinton ordered dlrs 30 million in Defense Department equipment and \\r\\nservices and dlrs 36 million in food, fuel and other aid be sent to \\r\\nHonduras, Nicaragua, El Salvador and Guatemala. The White House also \\r\\nsaid Clinton was dispatching Tipper Gore, wife of Vice President Al \\r\\nGore, to Central America on a mission to show the U.S. commitment \\r\\nto providing humanitarian relief. Hillary Rodham Clinton also will \\r\\ntravel to the region, visiting Nicaragua and Honduras on Nov. 16. \\r\\nShe later will stop in El Salvador and Guatemala before continuing \\r\\non to Haiti and the Dominican Republic for a visit that had been canceled \\r\\ndue to Hurricane Georges, which struck the Caribbean in October. Mitch, \\r\\nwhich sat off the Honduran coast for several days last week, destroyed \\r\\nscores of Central American communities before moving northwest. The \\r\\nweakened storm crossed southern Florida on Thursday, damaging mobile \\r\\nhomes and buildings and injuring at least seven people. Countries \\r\\noverwhelmed by the storm's devastation have only just begun to calculate \\r\\nthe damage. Honduran authorities still don't know how many shelters \\r\\nhave been set up across the Central American country. Surveyors have \\r\\nyet to evaluate roughly 10 percent of the most affected areas _ the \\r\\ndepartments of Cortes, Atlantida, Colon and Yoro in the north, southern \\r\\nCholuteca and Valle, and the central department of Francisco Morazan, \\r\\nwhich includes the capital. Numbers still can vary wildly. The estimated \\r\\nnumber of homeless dropped from 580,000 to 569,000 Thursday. Mitch \\r\\ndamaged or destroyed at least 90 bridges on major highways, including \\r\\nmost spans on Highway 5, the main north-south route, officials said. \\r\\nUrbizo said Honduran officials hoped the scale of need in next-door \\r\\nNicaragua wouldn't overshadow Honduras' plight. ``Our problem is that \\r\\nall of the country has been affected,'' he said. Thursday's relief \\r\\noperations paled in comparison to the scope of the disaster. A total \\r\\nof 14 helicopter relief missions were delivering aid to stricken towns, \\r\\nsaid Col. Roger Antonio Caceres of the government's Operation Mitch \\r\\nemergency response task force. ``We can manage with the number of \\r\\naircraft we have because there is little to distribute,'' Caceres \\r\\nsaid. More help was on the way. Mexico was sending 700 tons of food, \\r\\n11 tons of medicine, at least 12 helicopters, four cargo planes and \\r\\n475 soldiers to help in relief operations. The United States committed \\r\\n19 Blackhawk and Chinook helicopters, two C-27 aircraft and one C-130 \\r\\ncargo plane. France said it was sending 250 rescue workers to Central \\r\\nAmerica, along with a ship loaded with construction material and equipment. \\r\\nThe U.N. World Food Program said Thursday it was diverting ships, \\r\\nsome already at sea, to rush their cargoes of donated food to Central \\r\\nAmerica. It also was pulling food from warehouses at its base in Rome, \\r\\nprobably for delivery by emergency relief flights, spokesman Trevor \\r\\nRowe said. ``We're trying to move food as fast as possible to help \\r\\npeople as soon as possible,'' Rowe said. Searches for the missing \\r\\ncontinued, and some decomposed bodies, once found, were being buried \\r\\nin common graves. About 100 victims had been buried around Tegucigalpa, \\r\\nMayor Nahum Valladeres said. In the flood-ravaged Tegucigalpa neighborhood \\r\\nof Nueva Esperanza, Mexican military rescuers loaded search dogs on \\r\\ntheir backs and forded a muddy river to look for people believed buried \\r\\nin a 200-foot (60-meter) avalanche that occurred last Friday. Dozens \\r\\nof homes were swept into the river. ``This is the first place we've \\r\\nbeen'' with the dogs, Honduran army Maj. Freddy Diaz Celaya said. \\r\\n``From here we'll continue searching downriver.'' Concerned that crowded \\r\\nshelter conditions could produce outbreaks of hepatitis, respiratory \\r\\ninfections and other ailments, the Health Ministry announced an inoculation \\r\\ncampaign, especially for children. Doctors volunteering at a shelter \\r\\nhousing 4,000 people at Tegucigalpa's Polytechnic Development Institute \\r\\nsaid they'd heard of the campaign but had yet to receive word or medicines \\r\\nfrom the Health Ministry. ``We have to vaccinate the children,'' said \\r\\nDr. Mario Soto, who has treated at least 300 children at the shelter \\r\\nfor diarrhea, conjunctivitis and bacterial infections. \\r\\n \\r\\nAid workers struggled Friday to reach survivors of Hurricane Mitch, \\r\\nwho are in danger of dying from starvation and disease in the wake \\r\\nof the storm that officials estimate killed more than 10,000 people. \\r\\nForeign aid and pledges of assistance poured into Central America, \\r\\nbut damage to roads and bridges reduced the amount of supplies reaching \\r\\nhundreds of isolated communities to a trickle: only as much as could \\r\\nbe dropped from a helicopter, when the aircraft can get through. In \\r\\nthe Aguan River Valley in northern Honduras, floodwaters have receded, \\r\\nleaving a carpet of mud over hundreds of acres (hectares). In many \\r\\nnearby villages, residents have gone days without potable water or \\r\\nfood. A 7-month-old baby died in the village of Olvido after three \\r\\ndays without food. Residents feared more children would die. ``The \\r\\nworst thing, the saddest thing, are the children. The children are \\r\\nsuffering, even dying,'' said the Rev. Cecilio Escobar Gallindo, the \\r\\nparish priest. A score of cargo aircraft landed Thursday at the normally \\r\\nquiet Toncontin airport in the Honduran capital of Tegucigalpa, delivering \\r\\naid from Mexico, the United States, Japan and Argentina. Former U.S. \\r\\nPresident Jimmy Carter and his wife, Rosalynn, intended to visit Nicaragua \\r\\non Friday to learn more about the hurricane's impact, The Carter Center \\r\\nin Atlanta announced. ``We hope this visit will help call attention \\r\\nto the suffering and humanitarian need this disaster has created,'' \\r\\nCarter said in a statement. U.S. President Bill Clinton requested \\r\\na ``global relief effort'' to help Central America and boosted U.S. \\r\\nemergency aid to dlrs 70 million. Clinton is dispatching a delegation \\r\\nnext week led by Tipper Gore, wife of Vice President Al Gore, to deliver \\r\\nsome of the supplies destined for Honduras, Nicaragua, El Salvador \\r\\nand Guatemala. First lady Hillary Rodham Clinton added Nicaragua and \\r\\nHonduras to a trip she plans to the region beginning Nov. 16. Taiwan \\r\\nsaid today it will donate dlrs 2.6 million in relief to Honduras, \\r\\nNicaragua, El Salvador and Guatemala. The four countries are among \\r\\na dwindling number of nations that recognize Taiwan, which China claims \\r\\nis a breakaway province. Two British ships that were in the area on \\r\\nan exercise were on their way to Honduras to join relief efforts, \\r\\nthe Defense Ministry said Friday. ``It's a coincidence that the ships \\r\\nare there but they've got men and equipment that can be put to work \\r\\nin an organized way,'' said International Development Secretary Clare \\r\\nShort. Nicaragua said Friday it will accept Cuba's offer to send doctors \\r\\nas long as the communist nation flies them in on its own helicopters \\r\\nand with their own supplies. Nicaraguan leaders previously had refused \\r\\nCuba's offer of medical help, saying it did not have the means to \\r\\ntransport or support the doctors. Nicaragua's leftist Sandinistas, \\r\\nwho maintained close relations with Fidel Castro during their 1979-90 \\r\\nrule, had criticized the refusal by President Arnoldo Aleman's administration. \\r\\n\""
      ]
     },
     "execution_count": 28,
     "metadata": {},
     "output_type": "execute_result"
    }
   ],
   "source": [
    "import pandas as pd\n",
    "data = pd.read_csv('DUC/Duc_first_reference/main_dataset/Duc_dataset_first_ref_summary.csv')\n",
    "text = data.iloc[1,0]\n",
    "text"
   ]
  },
  {
   "cell_type": "code",
   "execution_count": 3,
   "metadata": {},
   "outputs": [],
   "source": [
    "# # define the input text\n",
    "# #\n",
    "# # load the GPT-2 tokenizer and model\n",
    "# tokenizer = GPT2Tokenizer.from_pretrained('gpt2')\n",
    "# model = GPT2Model.from_pretrained('gpt2')\n",
    "# # tokenize the input text into sentences\n",
    "# sentences = text.split('. ')\n",
    "\n",
    "# # compute the embedding of each sentence using GPT-2\n",
    "# embeddings = []\n",
    "# for sentence in sentences:\n",
    "#     input_ids = tokenizer.encode(sentence, return_tensors='pt')\n",
    "#     with torch.no_grad():\n",
    "#         output = model(input_ids)[0][:, -1, :]\n",
    "#         embeddings.append(output)\n",
    "# # compute the similarity between each sentence embedding and the embedding of the entire text\n",
    "# text_embedding = torch.mean(torch.cat(embeddings, dim=0), dim=0, keepdim=True)\n",
    "# similarity_scores = cosine_similarity(torch.cat(embeddings, dim=0), text_embedding)\n",
    "\n",
    "# # rank the sentences based on their similarity score\n",
    "# sentence_scores = list(zip(sentences, similarity_scores))\n",
    "# sentence_scores = sorted(sentence_scores, key=lambda x: x[1], reverse=True)\n",
    "\n",
    "# # select the top N sentences to form the summary\n",
    "# N = 5\n",
    "# summary = [s[0] for s in sentence_scores[:N]]"
   ]
  },
  {
   "cell_type": "code",
   "execution_count": 2,
   "metadata": {},
   "outputs": [],
   "source": [
    "def gpt2_extractive_summarization(filtered_sentences,text, num_sentences):\n",
    "    # load the GPT-2 tokenizer and model\n",
    "    tokenizer = GPT2Tokenizer.from_pretrained('gpt2')\n",
    "    model = GPT2Model.from_pretrained('gpt2')\n",
    "\n",
    "    # tokenize the input text into sentences\n",
    "    sentences = text.split('. ')\n",
    "    print(sentences)\n",
    "\n",
    "    # compute the embedding of each sentence using GPT-2\n",
    "    embeddings = []\n",
    "    for sentence in sentences:\n",
    "        input_ids = tokenizer.encode(sentence, return_tensors='pt')\n",
    "        with torch.no_grad():\n",
    "            output = model(input_ids)[0][:, -1, :]\n",
    "            embeddings.append(output)\n",
    "\n",
    "            \n",
    "\n",
    "    # compute the similarity between each sentence embedding and the embedding of the entire text\n",
    "    text_embedding = torch.mean(torch.cat(embeddings, dim=0), dim=0, keepdim=True)\n",
    "    return embeddings,text_embedding\n",
    "    similarity_scores = cosine_similarity(torch.cat(embeddings, dim=0).numpy(), text_embedding.numpy())\n",
    "\n",
    "\n",
    "    # rank the sentences based on their similarity score\n",
    "    sentence_scores = list(zip(text, similarity_scores))\n",
    "    sentence_scores = sorted(sentence_scores, key=lambda x: x[1], reverse=True)\n",
    "\n",
    "    # select the top N sentences to form the summary\n",
    "    summary = [s[0] for s in sentence_scores[:num_sentences]]\n",
    "    return '. '.join(summary)\n"
   ]
  },
  {
   "cell_type": "code",
   "execution_count": 3,
   "metadata": {},
   "outputs": [
    {
     "ename": "NameError",
     "evalue": "name 'filtered_sentences' is not defined",
     "output_type": "error",
     "traceback": [
      "\u001b[1;31m---------------------------------------------------------------------------\u001b[0m",
      "\u001b[1;31mNameError\u001b[0m                                 Traceback (most recent call last)",
      "Cell \u001b[1;32mIn[3], line 1\u001b[0m\n\u001b[1;32m----> 1\u001b[0m filtered_sentences\n",
      "\u001b[1;31mNameError\u001b[0m: name 'filtered_sentences' is not defined"
     ]
    }
   ],
   "source": [
    "filtered_sentences"
   ]
  },
  {
   "cell_type": "code",
   "execution_count": 4,
   "metadata": {},
   "outputs": [
    {
     "ename": "NameError",
     "evalue": "name 'text' is not defined",
     "output_type": "error",
     "traceback": [
      "\u001b[1;31m---------------------------------------------------------------------------\u001b[0m",
      "\u001b[1;31mNameError\u001b[0m                                 Traceback (most recent call last)",
      "Cell \u001b[1;32mIn[4], line 1\u001b[0m\n\u001b[1;32m----> 1\u001b[0m x,y \u001b[39m=\u001b[39m gpt2_extractive_summarization(\u001b[39m'\u001b[39m\u001b[39mx\u001b[39m\u001b[39m'\u001b[39m,text, num_sentences\u001b[39m=\u001b[39m\u001b[39m5\u001b[39m)\n",
      "\u001b[1;31mNameError\u001b[0m: name 'text' is not defined"
     ]
    }
   ],
   "source": [
    "x,y = gpt2_extractive_summarization('x',text, num_sentences=5)\n"
   ]
  },
  {
   "cell_type": "code",
   "execution_count": 41,
   "metadata": {},
   "outputs": [],
   "source": [
    "import heapq\n"
   ]
  },
  {
   "cell_type": "code",
   "execution_count": 42,
   "metadata": {},
   "outputs": [],
   "source": [
    "def gpt2_extractive_summarization(sentences, filtered_sentences, size):\n",
    "    # load the GPT-2 tokenizer and model\n",
    "    tokenizer = GPT2Tokenizer.from_pretrained('gpt2')\n",
    "    model = GPT2Model.from_pretrained('gpt2')\n",
    "\n",
    "    # compute the embedding of each sentence using GPT-2\n",
    "    embeddings = []\n",
    "    for sentence in filtered_sentences:\n",
    "        input_ids = tokenizer.encode(sentence, return_tensors='pt')\n",
    "        with torch.no_grad():\n",
    "            output = model(input_ids)[0][:, -1, :]\n",
    "            embeddings.append(output)\n",
    "\n",
    "    # compute the similarity between each sentence embedding and the embedding of the entire text\n",
    "    text_embedding = torch.mean(torch.cat(embeddings, dim=0), dim=0, keepdim=True)\n",
    "    similarity_scores = cosine_similarity(torch.cat(embeddings, dim=0).numpy(), text_embedding.numpy())\n",
    "\n",
    "    # rank the sentences based on their similarity score\n",
    "    sentence_scores = list(zip(sentences, similarity_scores))\n",
    "    top_scores = sorted(sentence_scores, key=lambda x: x[1], reverse=True)[:size]\n",
    "\n",
    "    # select the top N sentences to form the summary\n",
    "    summary = [s[0] for s in sentence_scores if s in top_scores]\n",
    "    scores = [s[1] for s in sentence_scores if s in top_scores]\n",
    "    return scores, summary\n"
   ]
  },
  {
   "cell_type": "code",
   "execution_count": 43,
   "metadata": {},
   "outputs": [],
   "source": [
    "import nltk\n",
    "from nltk.corpus import stopwords\n",
    "from nltk.stem import WordNetLemmatizer\n",
    "\n",
    "# Initialize the lemmatizer and stopword list\n",
    "lemmatizer = WordNetLemmatizer()\n",
    "stopwords = set(stopwords.words('english'))\n",
    "\n",
    "# Original sentences\n",
    "original_sentences = [\"The quick brown fox jumps over the lazy dog.\",\n",
    "                       \"This is a sentence.\",\n",
    "                       \"Another sentence here.\",\n",
    "                       \"This is a short sentence.\",\n",
    "                       \"The dog is lazy.\"]\n",
    "\n",
    "# Preprocess the sentences\n",
    "filtered_sentences = []\n",
    "for sentence in original_sentences:\n",
    "    # Tokenize the sentence\n",
    "    words = nltk.word_tokenize(sentence.lower())\n",
    "    \n",
    "    # Remove stopwords and lemmatize the remaining words\n",
    "    filtered_words = [lemmatizer.lemmatize(word) for word in words if word not in stopwords]\n",
    "    \n",
    "    # Convert the filtered words back to a sentence and add it to the list of filtered sentences\n",
    "    filtered_sentence = ' '.join(filtered_words)\n",
    "    filtered_sentences.append(filtered_sentence)"
   ]
  },
  {
   "cell_type": "code",
   "execution_count": 20,
   "metadata": {},
   "outputs": [
    {
     "name": "stderr",
     "output_type": "stream",
     "text": [
      "[nltk_data] Downloading package wordnet to\n",
      "[nltk_data]     C:\\Users\\Zeyad\\AppData\\Roaming\\nltk_data...\n",
      "[nltk_data]   Package wordnet is already up-to-date!\n"
     ]
    },
    {
     "data": {
      "text/plain": [
       "True"
      ]
     },
     "execution_count": 20,
     "metadata": {},
     "output_type": "execute_result"
    }
   ],
   "source": [
    "nltk.download('wordnet')"
   ]
  },
  {
   "cell_type": "code",
   "execution_count": 21,
   "metadata": {},
   "outputs": [
    {
     "data": {
      "text/plain": [
       "['The quick brown fox jumps over the lazy dog.',\n",
       " 'This is a sentence.',\n",
       " 'Another sentence here.',\n",
       " 'This is a short sentence.',\n",
       " 'The dog is lazy.']"
      ]
     },
     "execution_count": 21,
     "metadata": {},
     "output_type": "execute_result"
    }
   ],
   "source": [
    "original_sentences"
   ]
  },
  {
   "cell_type": "code",
   "execution_count": 22,
   "metadata": {},
   "outputs": [
    {
     "name": "stderr",
     "output_type": "stream",
     "text": [
      "Downloading (…)olve/main/vocab.json: 100%|██████████| 1.04M/1.04M [00:01<00:00, 711kB/s]\n",
      "c:\\Users\\Zeyad\\AppData\\Local\\Programs\\Python\\Python310\\lib\\site-packages\\huggingface_hub\\file_download.py:133: UserWarning: `huggingface_hub` cache-system uses symlinks by default to efficiently store duplicated files but your machine does not support them in C:\\Users\\Zeyad\\.cache\\huggingface\\hub. Caching files will still work but in a degraded version that might require more space on your disk. This warning can be disabled by setting the `HF_HUB_DISABLE_SYMLINKS_WARNING` environment variable. For more details, see https://huggingface.co/docs/huggingface_hub/how-to-cache#limitations.\n",
      "To support symlinks on Windows, you either need to activate Developer Mode or to run Python as an administrator. In order to see activate developer mode, see this article: https://docs.microsoft.com/en-us/windows/apps/get-started/enable-your-device-for-development\n",
      "  warnings.warn(message)\n",
      "Downloading (…)olve/main/merges.txt: 100%|██████████| 456k/456k [00:00<00:00, 1.91MB/s]\n",
      "Downloading (…)lve/main/config.json: 100%|██████████| 665/665 [00:00<00:00, 222kB/s]\n",
      "Downloading pytorch_model.bin: 100%|██████████| 548M/548M [03:13<00:00, 2.83MB/s] \n"
     ]
    },
    {
     "data": {
      "text/plain": [
       "([array([0.9998806], dtype=float32),\n",
       "  array([0.99981004], dtype=float32),\n",
       "  array([0.99971485], dtype=float32),\n",
       "  array([0.9996187], dtype=float32),\n",
       "  array([0.9989705], dtype=float32)],\n",
       " ['short sentence .',\n",
       "  'sentence .',\n",
       "  'another sentence .',\n",
       "  'dog lazy .',\n",
       "  'quick brown fox jump lazy dog .'])"
      ]
     },
     "execution_count": 22,
     "metadata": {},
     "output_type": "execute_result"
    }
   ],
   "source": [
    "gpt2_extractive_summarization(filtered_sentences,original_sentences,5)"
   ]
  },
  {
   "cell_type": "code",
   "execution_count": 23,
   "metadata": {},
   "outputs": [],
   "source": [
    "from preprocessing_algorithms import *"
   ]
  },
  {
   "cell_type": "code",
   "execution_count": 29,
   "metadata": {},
   "outputs": [],
   "source": [
    "article_str_sentences, processed_sentences = preprocessing_text_with_spacy(text, False, False)"
   ]
  },
  {
   "cell_type": "code",
   "execution_count": 31,
   "metadata": {},
   "outputs": [
    {
     "data": {
      "text/plain": [
       "['\\r\\nHonduras braced for potential catastrophe Tuesday as Hurricane Mitch \\r\\nroared through the northwest Caribbean, churning up high waves and \\r\\nintense rain that sent coastal residents scurrying for safer ground. \\r\\n',\n",
       " 'President Carlos Flores Facusse declared a state of maximum alert \\r\\nand the Honduran military sent planes to pluck residents from their \\r\\nhomes on islands near the coast.',\n",
       " 'At 0900 GMT Tuesday, Mitch was 95 \\r\\nmiles (152 kilometers) north of Honduras, near the Swan Islands.',\n",
       " 'With \\r\\nwinds near 180 mph (289 kph), and even higher gusts, it was a Category \\r\\n5 monster _',\n",
       " 'the highest, most dangerous rating for a storm.',\n",
       " 'The 350-mile \\r\\n(560-kilometer) wide hurricane was moving west at 8 mph (12 kph). \\r\\n',\n",
       " \"``Mitch is closing in,'' said Monterrey Cardenas, mayor of Utila, \\r\\nan island 20 miles (32 kilometers) off the Honduran coast.\",\n",
       " \"``And God \\r\\nhelp us.''\",\n",
       " 'Mitch posed no immediate threat to the United States, forecasters \\r\\nsaid, but was expected to remain in the northwest Caribbean for five \\r\\ndays.',\n",
       " \"The U.S. National Weather Service in Miami said Mitch could \\r\\nweaken somewhat, but warned it would still remain ``a very dangerous \\r\\nhurricane capable of causing catastrophic damage.''\",\n",
       " 'The entire coast \\r\\nof Honduras was under a hurricane warning and up to 15 inches (38 \\r\\ncentimeters) of rain was forecast in mountain areas.',\n",
       " \"The Honduran \\r\\npresident closed schools and public offices on the coast Monday and \\r\\nordered all air force planes and helicopters to evacuate people from \\r\\nthe Islas de la Bahia, a string of small islands off the country's \\r\\ncentral coast.\",\n",
       " 'The head of the Honduran armed forces, Gen. Mario Hung \\r\\nPacheco, said 5,000 soldiers were standing by to help victims of the \\r\\nstorm, but he warned the military could not reach everyone.',\n",
       " \"``For \\r\\nthat humanitarian work, we would need more than 300 Hercules C-137 \\r\\nplanes,'' he said.\",\n",
       " \"``Honduras doesn't have them.''\",\n",
       " 'A hurricane warning \\r\\nwas also in effect for the Caribbean coast of Guatemala.',\n",
       " 'In Belize, \\r\\na hurricane watch was in place and the government also closed schools \\r\\nand sent workers home early Monday.',\n",
       " 'Panic buying stripped bread from \\r\\nthe shelves of some stores and some gasoline stations ran dry.',\n",
       " 'Coastal \\r\\nBelize City was hit so hard by Hurricane Hattie in 1961 that the country \\r\\nbuilt a new capital inland at Belmopan.',\n",
       " 'Mexico mobilized troops and \\r\\nemergency workers Monday on the east coast of the Yucatan peninsula, \\r\\nwhich was also under a hurricane watch, and Cuba said it had evacuated \\r\\n600 vacationers from the Island of Youth.',\n",
       " 'Jerry Jarrell, the weather \\r\\ncenter director, said Mitch was the strongest hurricane to strike \\r\\nthe Caribbean since 1988, when Gilbert killed more than 300 people. \\r\\n',\n",
       " \"In La Ceiba, on Honduras' northern coast, people stood in long lines \\r\\nat filling stations Monday to buy gasoline under a steady rain.\",\n",
       " 'Maria \\r\\nGonzalez said she needed the gas to cook with when her firewood gets \\r\\nwet.',\n",
       " 'Still, she bought only 37 cents worth _ all she could afford. \\r\\n',\n",
       " \"``I have six children, and we live in a riverbed,'' she said.\",\n",
       " \"``If \\r\\nit gets really bad, we'll go to the church and see what the architect \\r\\nof the world has in store for us.''\",\n",
       " 'Swinwick Jackson, a fisherman \\r\\non Utila, had tied up his boats and was taking his family to stay \\r\\nwith a relative on higher ground.',\n",
       " \"National police spokesman Ivan Mejia \\r\\nsaid the Coco, Segovia and Cruta rivers all overflowed their banks \\r\\nMonday along Honduras' eastern coast.\",\n",
       " \"``Frightened people are moving \\r\\ninto the mountains to search for shelter,'' he said.\",\n",
       " 'In El Progreso, \\r\\n100 miles (160 kilometers) north of the Honduran capital of Tegucigalpa, \\r\\nthe army evacuated more than 5,000 people who live in low-lying banana \\r\\nplantations along the Ulua River, said Nolly Soliman, a resident. \\r\\n',\n",
       " 'Before bearing down on Honduras, Mitch swept past Jamaica and the \\r\\nCayman Islands.',\n",
       " 'Rain squalls flooded streets in the Jamaican capital, \\r\\nKingston, and government offices and schools closed in the Caymans, \\r\\na British colony of 28,000 people.',\n",
       " \"The strongest hurricane to hit \\r\\nHonduras in recent memory was Fifi in 1974, which ravaged Honduras' \\r\\nCaribbean coast, killing at least 2,000 people. \\r\\n \\r\\n\",\n",
       " 'Hurricane Mitch paused in its whirl through the western Caribbean \\r\\non Wednesday to punish Honduras with 120-mph (205-kph) winds, topping \\r\\ntrees, sweeping away bridges, flooding neighborhoods and killing at \\r\\nleast 32 people.',\n",
       " \"Mitch was drifting west at only 2 mph (3 kph) over \\r\\nthe Bay Islands, Honduras' most popular tourist area.\",\n",
       " 'It also was \\r\\nonly 30 miles (50 kms) off the coast, and hurricane-force winds stretched \\r\\noutward 105 miles (165 kms); tropical storm-force winds 175 miles \\r\\n(280 kms).',\n",
       " 'That meant the Honduran coast had been under hurricane \\r\\nconditions for more than a day.',\n",
       " \"``The hurricane has destroyed almost \\r\\neverything,'' said Mike Brown, a resident of Guanaja Island which \\r\\nwas within miles (kms) of the eye of the hurricane.\",\n",
       " \"``Few houses have \\r\\nremained standing.''\",\n",
       " 'At its, 4th graf pvs \\r\\n \\r\\nHurricane Mitch cut through the Honduran coast like a ripsaw Thursday, \\r\\nits devastating winds whirling for a third day through resort islands \\r\\nand mainland communities.',\n",
       " 'At least 32 people were killed and widespread \\r\\nflooding prompted more than 150,000 to seek higher ground.',\n",
       " \"Mitch, \\r\\nonce among the century's most powerful hurricanes, weakened today \\r\\nas it blasted this Central American nation, bringing downpours that \\r\\nflooded at least 50 rivers.\",\n",
       " 'It also kicked up huge waves that pounded \\r\\nseaside communities.',\n",
       " \"The storm's power was easing and by 1200 GMT, \\r\\nit had sustained winds of 80 mph (130 kph), down from 100 mph (160 \\r\\nkph) around midnight and well below its 180 mph (290 kph) peak of \\r\\nearly Tuesday.\",\n",
       " 'After remaining virtually stationary for more than \\r\\na day, the U.S. National Hurricane Center said Thursday the center \\r\\nof the 350-mile-wide (560-kilometer-wide) storm had moved slightly \\r\\nto the south but remained just off the Honduran coast.',\n",
       " 'Hurricane-force \\r\\nwinds whirled up to 30 miles (50 kilometers) from the center, with \\r\\nrain-laden tropical storm winds extending well beyond that.',\n",
       " \"Caught \\r\\nnear the heart of the storm were the Bay Islands, about 25 miles (40 \\r\\nkilometers) off Honduras' coast and popular with divers and beachcombers. \\r\\n\",\n",
       " \"``The hurricane has destroyed almost everything,'' said Mike Brown, \\r\\na resident of Guanaja Island, 20 miles (32 kilometers) off the coast. \\r\\n\",\n",
       " \"``Few houses have remained standing.''\",\n",
       " 'Honduran officials said 14 \\r\\npeople had died on that small island alone, and at least nine had \\r\\ndied elsewhere in the country.',\n",
       " 'More than 72,000 people had been evacuated \\r\\nto shelters.',\n",
       " 'Nine other deaths had been reported elsewhere in the \\r\\nregion by early Thursday _ more than a day after Mitch drifted to \\r\\njust off the coast and seemed to park there.',\n",
       " 'An American was thrown \\r\\nfrom his boat south of Cancun, Mexico, on Monday and was presumed \\r\\ndead.',\n",
       " 'Eight others died in Nicaragua in flooding.',\n",
       " 'Honduran officials \\r\\nsaid more than 200 towns and villages had been isolated by the storm, \\r\\nleft without power, telephones or clean drinking water.',\n",
       " \"Agriculture \\r\\nMinister Pedro Arturo Sevilla said crucial grain, citrus and banana \\r\\ncrops had been damaged ``and the economic future of Honduras is uncertain.'' \\r\\n\",\n",
       " 'Rain-swollen rivers knocked out bridges and roads, isolating La Ceiba, \\r\\na coastal city of 40,000 people located 80 miles (128 kilometers) \\r\\nfrom the Bay Islands.',\n",
       " 'About 10,000 residents fled to crowded shelters \\r\\nin schools, churches and firehouses.',\n",
       " 'While supplies of food and gasoline \\r\\nseemed to hold up, drivers worried about the coming days formed long \\r\\nlines to fill their tanks at gas stations and some supermarkets took \\r\\nmeasures to limit panic buying.',\n",
       " 'La Ceiba officials appealed for pure \\r\\nwater for those in shelters and some residents set out plastic buckets \\r\\nto collect rainwater.',\n",
       " 'Only a few hotels and offices with their own \\r\\ngenerators had electricity.',\n",
       " 'Wind-whipped waves almost buried some \\r\\nhouses near the shore.',\n",
       " 'People evacuated low-lying houses by wading \\r\\nthrough chest-deep water with sodden bags of belongings on their heads. \\r\\n',\n",
       " \"In neighboring Belize, most of the 75,000 residents of coastal Belize \\r\\nCity had left by Wednesday, turning the country's largest city into \\r\\na ghost town.\",\n",
       " 'Police and soldiers patrolled the streets, and a few \\r\\npeople wandered amid the boarded-up houses.',\n",
       " 'The cable television company \\r\\nwas broadcasting only The Weather Channel.',\n",
       " 'With the storm seemingly \\r\\nanchored off Honduras, officials in Mexico to the north eased emergency \\r\\nmeasures on the Caribbean coast of the Yucatan Peninsula, where hundreds \\r\\nof people remained in shelters as a precaution Wednesday night.',\n",
       " 'More \\r\\nthan 20,000 tourists had abandoned Cancun and nearby resort areas, \\r\\nleaving hotels at about 20 percent of capacity.',\n",
       " 'Houston accountant \\r\\nKathy Montgomery said that she and her friend Nina Devries had tried \\r\\nto leave Cancun but found all the flights full.',\n",
       " \"``It's been horrible,'' \\r\\nsaid Montgomery, as she and her friend drank cocktails at an outdoor \\r\\nrestaurant.\",\n",
       " \"``We couldn't go out on a boat, we couldn't go snorkeling. \\r\\n\",\n",
       " \"``Even Carlos' N Charlie's and Senor Frog's are closed,'' she said \\r\\ndejectedly, referring to two restaurants.\",\n",
       " \"``Some vacation.''\",\n",
       " 'The U.S. \\r\\nAgency for International Development sent two helicopters each to \\r\\nBelize and Honduras to help in search, rescue and relief efforts. \\r\\n',\n",
       " 'At its peak, Mitch was the fourth-strongest Caribbean hurricane in \\r\\nthis century, behind Gilbert in 1988, Allen in 1980 and the Labor \\r\\nDay hurricane of 1935. \\r\\n \\r\\n',\n",
       " \"At least 231 people have been confirmed dead in Honduras from former-hurricane \\r\\nMitch, bringing the storm's death toll in the region to 357, the National \\r\\nEmergency Commission said Saturday.\",\n",
       " 'Mitch _ once, 2nd graf pvs \\r\\n \\r\\nIn Honduras, at least 231 deaths have been blamed on Mitch, the National \\r\\nEmergency Commission said Saturday.',\n",
       " 'El Salvador _ where 140 people \\r\\ndied in flash floods _ declared a state of emergency Saturday, as \\r\\ndid Guatemala, where 21 people died when floods swept away their homes. \\r\\n',\n",
       " 'Mexico reported one death from Mitch last Monday.',\n",
       " \"In the Caribbean, \\r\\nthe U.S. Coast Guard widened a search for a tourist schooner with \\r\\n31 people aboard that hasn't been heard from since Tuesday.\",\n",
       " \"By late \\r\\nSunday, Mitch's winds, once near 180 mph (290 kph), had dropped to \\r\\nnear 30 mph (50 kph), and the storm _ now classified as a tropical \\r\\ndepression _ was near Tapachula, on Mexico's southern Pacific coast \\r\\nnear the Guatemalan border.\",\n",
       " 'Mitch was moving west at 8 mph (13 kph) \\r\\nand was dissipating but threatened to strengthen again if it moved \\r\\nback out to sea. \\r\\n \\r\\n',\n",
       " 'Nicaraguan Vice President Enrique Bolanos said Sunday night that between \\r\\n1,000 and 1,500 people were buried in a 32-square mile (82.88 square-kilometer) \\r\\narea below the slopes of the Casita volcano in northern Nicaragua. \\r\\n',\n",
       " 'That is in addition to least another 600 people elsewhere in the country, \\r\\nBolanos said. \\r\\n \\r\\n',\n",
       " 'BRUSSELS, Belgium (AP) -',\n",
       " 'The European Union on Tuesday approved 6.4 \\r\\nmillion European currency units (dlrs 7.7 million) in aid for thousands \\r\\nof victims of the devastation caused by Hurricane Mitch in Central \\r\\nAmerica.',\n",
       " 'EU spokesman Pietro Petrucci said the funds will be used \\r\\nto provide basic care such as medicine, food, water sanitation and \\r\\nblankets to thousands of people whose homes were destroyed by torrential \\r\\nrains and mudslides.',\n",
       " \"The aid will be distributed in Nicaragua, El \\r\\nSalvador, Honduras and Guatemala which have most suffered from Mitch's \\r\\ndeadly passage, the EU executive Commission said in a statement.\",\n",
       " 'Officials \\r\\nin Central America estimated Tuesday that about 7,000 people have \\r\\ndied in the region.',\n",
       " \"The greatest losses were reported in Honduras, \\r\\nwhere an estimated 5,000 people died and 600,000 people _ 10 percent \\r\\nof the population _ were forced to flee their homes after last week's \\r\\nstorm.\",\n",
       " \"El Salvador's National Emergency Committee listed 174 dead, \\r\\n96 missing and 27,000 homeless.\",\n",
       " 'But its own regional affiliate in \\r\\nSan Miguel province reported 125 dead there alone.',\n",
       " 'Guatemala reported \\r\\n100 storm-related deaths.',\n",
       " 'The latest EU aid follows an initial 400,000 \\r\\necu (dlrs 480,000).',\n",
       " 'the EU approved for the region on Friday.',\n",
       " 'The \\r\\nfull 6.8 million ecu (dlrs 8.18 million) will be channeled through \\r\\nhumanitarian groups working in the region. \\r\\n \\r\\n',\n",
       " 'Pope John Paul II appealed for aid Wednesday for the Central American \\r\\ncountries stricken by hurricane Mitch and said he feels close to the \\r\\nthousands who are suffering.',\n",
       " \"Speaking during his general audience, \\r\\nthe pope urged ``all public and private institutions and all men of \\r\\ngood will'' to do all they can ``in this grave moment of destruction \\r\\nand death.''\",\n",
       " 'Hurricane Mitch killed an estimated 9,000 people throughout \\r\\nCentral America in a disaster of such proportions that relief agencies \\r\\nhave been overwhelmed.',\n",
       " 'Among those attending the audience were six \\r\\nRussian cosmonauts taking a special course in Italy.',\n",
       " 'As a gift, they \\r\\ngave John Paul a spacesuit. \\r\\n \\r\\n',\n",
       " \"Better information from Honduras' ravaged countryside enabled officials \\r\\nto lower the confirmed death toll from Hurricane Mitch from 7,000 \\r\\nto about 6,100 on Thursday, but leaders insisted the need for help \\r\\nwas growing.\",\n",
       " \"President Carlos Flores declared Hurricane Mitch had \\r\\nset back Honduras' development by 50 years.\",\n",
       " 'He urged the more than \\r\\n1.5 million Hondurans affected by the storm to help with the recovery \\r\\neffort.',\n",
       " \"``The county is semi-destroyed and awaits the maximum effort \\r\\nand most fervent and constant work of every one of its children,'' \\r\\nhe said.\",\n",
       " 'In the capital, Tegucigalpa, Mexican rescue teams began searching \\r\\nfor avalanche victims.',\n",
       " 'Honduran doctors dispensed vaccinations to \\r\\nprevent disease outbreaks in shelters crammed with refugees.',\n",
       " \"As of \\r\\nThursday, Mitch had killed 6,076 people in Honduras _ down from officials' \\r\\nearlier estimate of 7,000.\",\n",
       " 'The numbers of missing dropped from an \\r\\nestimated 11,000 to 4,621, Government Minister Delmer Urbizo said. \\r\\n',\n",
       " \"``We have more access to places affected by the storm,'' Urbizo explained. \\r\\n\",\n",
       " \"``Until now, we have had a short amount of time and few resources \\r\\nto get reliable information.''\",\n",
       " 'In Nicaragua, around 2,000 people were \\r\\nkilled, most of those swept away when a volcano crater lake collapsed \\r\\na week ago.',\n",
       " 'El Salvador reported 239 dead; Guatemala said 194 of its \\r\\npeople had been killed.',\n",
       " 'Six people died in southern Mexico and seven \\r\\nin Costa Rica.',\n",
       " 'Aid groups and governments have called for other countries \\r\\nto send medicine, water, canned food, roofing materials and equipment \\r\\nto help deliver supplies.',\n",
       " 'In Washington on Thursday, President Bill \\r\\nClinton ordered dlrs 30 million in Defense Department equipment and \\r\\nservices and dlrs 36 million in food, fuel and other aid be sent to \\r\\nHonduras, Nicaragua, El Salvador and Guatemala.',\n",
       " 'The White House also \\r\\nsaid Clinton was dispatching Tipper Gore, wife of Vice President Al \\r\\nGore, to Central America on a mission to show the U.S. commitment \\r\\nto providing humanitarian relief.',\n",
       " 'Hillary Rodham Clinton also will \\r\\ntravel to the region, visiting Nicaragua and Honduras on Nov. 16. \\r\\n',\n",
       " 'She later will stop in El Salvador and Guatemala before continuing \\r\\non to Haiti and the Dominican Republic for a visit that had been canceled \\r\\ndue to Hurricane Georges, which struck the Caribbean in October.',\n",
       " 'Mitch, \\r\\nwhich sat off the Honduran coast for several days last week, destroyed \\r\\nscores of Central American communities before moving northwest.',\n",
       " 'The \\r\\nweakened storm crossed southern Florida on Thursday, damaging mobile \\r\\nhomes and buildings and injuring at least seven people.',\n",
       " \"Countries \\r\\noverwhelmed by the storm's devastation have only just begun to calculate \\r\\nthe damage.\",\n",
       " \"Honduran authorities still don't know how many shelters \\r\\nhave been set up across the Central American country.\",\n",
       " 'Surveyors have \\r\\nyet to evaluate roughly 10 percent of the most affected areas _',\n",
       " 'the \\r\\ndepartments of Cortes, Atlantida, Colon and Yoro in the north, southern \\r\\nCholuteca and Valle, and the central department of Francisco Morazan, \\r\\nwhich includes the capital.',\n",
       " 'Numbers still can vary wildly.',\n",
       " 'The estimated \\r\\nnumber of homeless dropped from 580,000 to 569,000 Thursday.',\n",
       " 'Mitch \\r\\ndamaged or destroyed at least 90 bridges on major highways, including \\r\\nmost spans on Highway 5, the main north-south route, officials said. \\r\\n',\n",
       " \"Urbizo said Honduran officials hoped the scale of need in next-door \\r\\nNicaragua wouldn't overshadow Honduras' plight.\",\n",
       " \"``Our problem is that \\r\\nall of the country has been affected,'' he said.\",\n",
       " \"Thursday's relief \\r\\noperations paled in comparison to the scope of the disaster.\",\n",
       " \"A total \\r\\nof 14 helicopter relief missions were delivering aid to stricken towns, \\r\\nsaid Col. Roger Antonio Caceres of the government's Operation Mitch \\r\\nemergency response task force.\",\n",
       " \"``We can manage with the number of \\r\\naircraft we have because there is little to distribute,'' Caceres \\r\\nsaid.\",\n",
       " 'More help was on the way.',\n",
       " 'Mexico was sending 700 tons of food, \\r\\n11 tons of medicine, at least 12 helicopters, four cargo planes and \\r\\n475 soldiers to help in relief operations.',\n",
       " 'The United States committed \\r\\n19 Blackhawk and Chinook helicopters, two C-27 aircraft and one C-130 \\r\\ncargo plane.',\n",
       " 'France said it was sending 250 rescue workers to Central \\r\\nAmerica, along with a ship loaded with construction material and equipment. \\r\\n',\n",
       " 'The U.N. World Food Program said Thursday it was diverting ships, \\r\\nsome already at sea, to rush their cargoes of donated food to Central \\r\\nAmerica.',\n",
       " 'It also was pulling food from warehouses at its base in Rome, \\r\\nprobably for delivery by emergency relief flights, spokesman Trevor \\r\\nRowe said.',\n",
       " \"``We're trying to move food as fast as possible to help \\r\\npeople as soon as possible,'' Rowe said.\",\n",
       " 'Searches for the missing \\r\\ncontinued, and some decomposed bodies, once found, were being buried \\r\\nin common graves.',\n",
       " 'About 100 victims had been buried around Tegucigalpa, \\r\\nMayor Nahum Valladeres said.',\n",
       " 'In the flood-ravaged Tegucigalpa neighborhood \\r\\nof Nueva Esperanza, Mexican military rescuers loaded search dogs on \\r\\ntheir backs and forded a muddy river to look for people believed buried \\r\\nin a 200-foot (60-meter) avalanche that occurred last Friday.',\n",
       " 'Dozens \\r\\nof homes were swept into the river.',\n",
       " \"``This is the first place we've \\r\\nbeen'' with the dogs, Honduran army Maj.\",\n",
       " 'Freddy Diaz Celaya said. \\r\\n',\n",
       " \"``From here we'll continue searching downriver.''\",\n",
       " 'Concerned that crowded \\r\\nshelter conditions could produce outbreaks of hepatitis, respiratory \\r\\ninfections and other ailments, the Health Ministry announced an inoculation \\r\\ncampaign, especially for children.',\n",
       " \"Doctors volunteering at a shelter \\r\\nhousing 4,000 people at Tegucigalpa's Polytechnic Development Institute \\r\\nsaid they'd heard of the campaign but had yet to receive word or medicines \\r\\nfrom the Health Ministry.\",\n",
       " \"``We have to vaccinate the children,'' said \\r\\nDr. Mario Soto, who has treated at least 300 children at the shelter \\r\\nfor diarrhea, conjunctivitis and bacterial infections. \\r\\n \\r\\n\",\n",
       " 'Aid workers struggled Friday to reach survivors of Hurricane Mitch, \\r\\nwho are in danger of dying from starvation and disease in the wake \\r\\nof the storm that officials estimate killed more than 10,000 people. \\r\\n',\n",
       " 'Foreign aid and pledges of assistance poured into Central America, \\r\\nbut damage to roads and bridges reduced the amount of supplies reaching \\r\\nhundreds of isolated communities to a trickle: only as much as could \\r\\nbe dropped from a helicopter, when the aircraft can get through.',\n",
       " 'In \\r\\nthe Aguan River Valley in northern Honduras, floodwaters have receded, \\r\\nleaving a carpet of mud over hundreds of acres (hectares).',\n",
       " 'In many \\r\\nnearby villages, residents have gone days without potable water or \\r\\nfood.',\n",
       " 'A 7-month-old baby died in the village of Olvido after three \\r\\ndays without food.',\n",
       " 'Residents feared more children would die.',\n",
       " '``The \\r\\nworst thing, the saddest thing, are the children.',\n",
       " \"The children are \\r\\nsuffering, even dying,'' said the Rev. Cecilio Escobar Gallindo, the \\r\\nparish priest.\",\n",
       " 'A score of cargo aircraft landed Thursday at the normally \\r\\nquiet Toncontin airport in the Honduran capital of Tegucigalpa, delivering \\r\\naid from Mexico, the United States, Japan and Argentina.',\n",
       " \"Former U.S. \\r\\nPresident Jimmy Carter and his wife, Rosalynn, intended to visit Nicaragua \\r\\non Friday to learn more about the hurricane's impact, The Carter Center \\r\\nin Atlanta announced.\",\n",
       " \"``We hope this visit will help call attention \\r\\nto the suffering and humanitarian need this disaster has created,'' \\r\\n\",\n",
       " 'Carter said in a statement.',\n",
       " \"U.S. President Bill Clinton requested \\r\\na ``global relief effort'' to help Central America and boosted U.S. \\r\\nemergency aid to dlrs 70 million.\",\n",
       " 'Clinton is dispatching a delegation \\r\\nnext week led by Tipper Gore, wife of Vice President Al Gore, to deliver \\r\\nsome of the supplies destined for Honduras, Nicaragua, El Salvador \\r\\nand Guatemala.',\n",
       " 'First lady Hillary Rodham Clinton added Nicaragua and \\r\\nHonduras to a trip she plans to the region beginning Nov. 16.',\n",
       " 'Taiwan \\r\\nsaid today it will donate dlrs 2.6 million in relief to Honduras, \\r\\nNicaragua, El Salvador and Guatemala.',\n",
       " 'The four countries are among \\r\\na dwindling number of nations that recognize Taiwan, which China claims \\r\\nis a breakaway province.',\n",
       " 'Two British ships that were in the area on \\r\\nan exercise were on their way to Honduras to join relief efforts, \\r\\nthe Defense Ministry said Friday.',\n",
       " \"``It's a coincidence that the ships \\r\\nare there but they've got men and equipment that can be put to work \\r\\nin an organized way,'' said International Development Secretary Clare \\r\\nShort.\",\n",
       " \"Nicaragua said Friday it will accept Cuba's offer to send doctors \\r\\nas long as the communist nation flies them in on its own helicopters \\r\\nand with their own supplies.\",\n",
       " \"Nicaraguan leaders previously had refused \\r\\nCuba's offer of medical help, saying it did not have the means to \\r\\ntransport or support the doctors.\",\n",
       " \"Nicaragua's leftist Sandinistas, \\r\\nwho maintained close relations with Fidel Castro during their 1979-90 \\r\\nrule, had criticized the refusal by President Arnoldo Aleman's administration. \\r\\n\"]"
      ]
     },
     "execution_count": 31,
     "metadata": {},
     "output_type": "execute_result"
    }
   ],
   "source": [
    "article_str_sentences"
   ]
  },
  {
   "cell_type": "code",
   "execution_count": 32,
   "metadata": {},
   "outputs": [
    {
     "data": {
      "text/plain": [
       "['honduras braced for potential catastrophe tuesday as hurricane mitch roared through the northwest caribbean churning up high waves and intense rain that sent coastal residents scurrying for safer ground',\n",
       " 'president carlos flores facusse declared a state of maximum alert and the honduran military sent planes to pluck residents from their homes on islands near the coast',\n",
       " 'at 0900 gmt tuesday mitch was 95 miles 152 kilometers north of honduras near the swan islands',\n",
       " 'with winds near 180 mph 289 kph and even higher gusts it was a category 5 monster',\n",
       " 'the highest most dangerous rating for a storm',\n",
       " 'the 350-mile 560-kilometer wide hurricane was moving west at 8 mph 12 kph',\n",
       " 'mitch is closing in said monterrey cardenas mayor of utila an island 20 miles 32 kilometers off the honduran coast',\n",
       " 'and god help us',\n",
       " 'mitch posed no immediate threat to the united states forecasters said but was expected to remain in the northwest caribbean for five days',\n",
       " 'the u s national weather service in miami said mitch could weaken somewhat but warned it would still remain a very dangerous hurricane capable of causing catastrophic damage',\n",
       " 'the entire coast of honduras was under a hurricane warning and up to 15 inches 38 centimeters of rain was forecast in mountain areas',\n",
       " 'the honduran president closed schools and public offices on the coast monday and ordered all air force planes and helicopters to evacuate people from the islas de la bahia a string of small islands off the countrys central coast',\n",
       " 'the head of the honduran armed forces gen mario hung pacheco said 5 000 soldiers were standing by to help victims of the storm but he warned the military could not reach everyone',\n",
       " 'for that humanitarian work we would need more than 300 hercules c-137 planes he said',\n",
       " 'honduras doesnt have them',\n",
       " 'a hurricane warning was also in effect for the caribbean coast of guatemala',\n",
       " 'in belize a hurricane watch was in place and the government also closed schools and sent workers home early monday',\n",
       " 'panic buying stripped bread from the shelves of some stores and some gasoline stations ran dry',\n",
       " 'coastal belize city was hit so hard by hurricane hattie in 1961 that the country built a new capital inland at belmopan',\n",
       " 'mexico mobilized troops and emergency workers monday on the east coast of the yucatan peninsula which was also under a hurricane watch and cuba said it had evacuated 600 vacationers from the island of youth',\n",
       " 'jerry jarrell the weather center director said mitch was the strongest hurricane to strike the caribbean since 1988 when gilbert killed more than 300 people',\n",
       " 'in la ceiba on honduras northern coast people stood in long lines at filling stations monday to buy gasoline under a steady rain',\n",
       " 'maria gonzalez said she needed the gas to cook with when her firewood gets wet',\n",
       " 'still she bought only 37 cents worth all she could afford',\n",
       " 'i have six children and we live in a riverbed she said',\n",
       " 'if it gets really bad well go to the church and see what the architect of the world has in store for us',\n",
       " 'swinwick jackson a fisherman on utila had tied up his boats and was taking his family to stay with a relative on higher ground',\n",
       " 'national police spokesman ivan mejia said the coco segovia and cruta rivers all overflowed their banks monday along honduras eastern coast',\n",
       " 'frightened people are moving into the mountains to search for shelter he said',\n",
       " 'in el progreso 100 miles 160 kilometers north of the honduran capital of tegucigalpa the army evacuated more than 5 000 people who live in low-lying banana plantations along the ulua river said nolly soliman a resident',\n",
       " 'before bearing down on honduras mitch swept past jamaica and the cayman islands',\n",
       " 'rain squalls flooded streets in the jamaican capital kingston and government offices and schools closed in the caymans a british colony of 28 000 people',\n",
       " 'the strongest hurricane to hit honduras in recent memory was fifi in 1974 which ravaged honduras caribbean coast killing at least 2 000 people',\n",
       " 'hurricane mitch paused in its whirl through the western caribbean on wednesday to punish honduras with 120-mph 205-kph winds topping trees sweeping away bridges flooding neighborhoods and killing at least 32 people',\n",
       " 'mitch was drifting west at only 2 mph 3 kph over the bay islands honduras most popular tourist area',\n",
       " 'it also was only 30 miles 50 kms off the coast and hurricane-force winds stretched outward 105 miles 165 kms tropical storm-force winds 175 miles 280 kms',\n",
       " 'that meant the honduran coast had been under hurricane conditions for more than a day',\n",
       " 'the hurricane has destroyed almost everything said mike brown a resident of guanaja island which was within miles kms of the eye of the hurricane',\n",
       " 'few houses have remained standing',\n",
       " 'at its 4th graf pvs hurricane mitch cut through the honduran coast like a ripsaw thursday its devastating winds whirling for a third day through resort islands and mainland communities',\n",
       " 'at least 32 people were killed and widespread flooding prompted more than 150 000 to seek higher ground',\n",
       " 'mitch once among the centurys most powerful hurricanes weakened today as it blasted this central american nation bringing downpours that flooded at least 50 rivers',\n",
       " 'it also kicked up huge waves that pounded seaside communities',\n",
       " 'the storms power was easing and by 1200 gmt it had sustained winds of 80 mph 130 kph down from 100 mph 160 kph around midnight and well below its 180 mph 290 kph peak of early tuesday',\n",
       " 'after remaining virtually stationary for more than a day the u s national hurricane center said thursday the center of the 350-mile-wide 560-kilometer-wide storm had moved slightly to the south but remained just off the honduran coast',\n",
       " 'hurricane-force winds whirled up to 30 miles 50 kilometers from the center with rain-laden tropical storm winds extending well beyond that',\n",
       " 'caught near the heart of the storm were the bay islands about 25 miles 40 kilometers off honduras coast and popular with divers and beachcombers',\n",
       " 'the hurricane has destroyed almost everything said mike brown a resident of guanaja island 20 miles 32 kilometers off the coast',\n",
       " 'few houses have remained standing',\n",
       " 'honduran officials said 14 people had died on that small island alone and at least nine had died elsewhere in the country',\n",
       " 'more than 72 000 people had been evacuated to shelters',\n",
       " 'nine other deaths had been reported elsewhere in the region by early thursday more than a day after mitch drifted to just off the coast and seemed to park there',\n",
       " 'an american was thrown from his boat south of cancun mexico on monday and was presumed dead',\n",
       " 'eight others died in nicaragua in flooding',\n",
       " 'honduran officials said more than 200 towns and villages had been isolated by the storm left without power telephones or clean drinking water',\n",
       " 'agriculture minister pedro arturo sevilla said crucial grain citrus and banana crops had been damaged and the economic future of honduras is uncertain',\n",
       " 'rain-swollen rivers knocked out bridges and roads isolating la ceiba a coastal city of 40 000 people located 80 miles 128 kilometers from the bay islands',\n",
       " 'about 10 000 residents fled to crowded shelters in schools churches and firehouses',\n",
       " 'while supplies of food and gasoline seemed to hold up drivers worried about the coming days formed long lines to fill their tanks at gas stations and some supermarkets took measures to limit panic buying',\n",
       " 'la ceiba officials appealed for pure water for those in shelters and some residents set out plastic buckets to collect rainwater',\n",
       " 'only a few hotels and offices with their own generators had electricity',\n",
       " 'wind-whipped waves almost buried some houses near the shore',\n",
       " 'people evacuated low-lying houses by wading through chest-deep water with sodden bags of belongings on their heads',\n",
       " 'in neighboring belize most of the 75 000 residents of coastal belize city had left by wednesday turning the countrys largest city into a ghost town',\n",
       " 'police and soldiers patrolled the streets and a few people wandered amid the boarded-up houses',\n",
       " 'the cable television company was broadcasting only the weather channel',\n",
       " 'with the storm seemingly anchored off honduras officials in mexico to the north eased emergency measures on the caribbean coast of the yucatan peninsula where hundreds of people remained in shelters as a precaution wednesday night',\n",
       " 'more than 20 000 tourists had abandoned cancun and nearby resort areas leaving hotels at about 20 percent of capacity',\n",
       " 'houston accountant kathy montgomery said that she and her friend nina devries had tried to leave cancun but found all the flights full',\n",
       " 'its been horrible said montgomery as she and her friend drank cocktails at an outdoor restaurant',\n",
       " 'we couldnt go out on a boat we couldnt go snorkeling',\n",
       " 'even carlos n charlies and senor frogs are closed she said dejectedly referring to two restaurants',\n",
       " 'some vacation',\n",
       " 'the u s agency for international development sent two helicopters each to belize and honduras to help in search rescue and relief efforts',\n",
       " 'at its peak mitch was the fourth-strongest caribbean hurricane in this century behind gilbert in 1988 allen in 1980 and the labor day hurricane of 1935',\n",
       " 'at least 231 people have been confirmed dead in honduras from former-hurricane mitch bringing the storms death toll in the region to 357 the national emergency commission said saturday',\n",
       " 'mitch once 2nd graf pvs in honduras at least 231 deaths have been blamed on mitch the national emergency commission said saturday',\n",
       " 'el salvador where 140 people died in flash floods declared a state of emergency saturday as did guatemala where 21 people died when floods swept away their homes',\n",
       " 'mexico reported one death from mitch last monday',\n",
       " 'in the caribbean the u s coast guard widened a search for a tourist schooner with 31 people aboard that hasnt been heard from since tuesday',\n",
       " 'by late sunday mitchs winds once near 180 mph 290 kph had dropped to near 30 mph 50 kph and the storm now classified as a tropical depression was near tapachula on mexicos southern pacific coast near the guatemalan border',\n",
       " 'mitch was moving west at 8 mph 13 kph and was dissipating but threatened to strengthen again if it moved back out to sea',\n",
       " 'nicaraguan vice president enrique bolanos said sunday night that between 1 000 and 1 500 people were buried in a 32-square mile 82 88 square-kilometer area below the slopes of the casita volcano in northern nicaragua',\n",
       " 'that is in addition to least another 600 people elsewhere in the country bolanos said',\n",
       " 'brussels belgium ap',\n",
       " 'the european union on tuesday approved 6 4 million european currency units dlrs 7 7 million in aid for thousands of victims of the devastation caused by hurricane mitch in central america',\n",
       " 'eu spokesman pietro petrucci said the funds will be used to provide basic care such as medicine food water sanitation and blankets to thousands of people whose homes were destroyed by torrential rains and mudslides',\n",
       " 'the aid will be distributed in nicaragua el salvador honduras and guatemala which have most suffered from mitchs deadly passage the eu executive commission said in a statement',\n",
       " 'officials in central america estimated tuesday that about 7 000 people have died in the region',\n",
       " 'the greatest losses were reported in honduras where an estimated 5 000 people died and 600 000 people 10 percent of the population were forced to flee their homes after last weeks storm',\n",
       " 'el salvadors national emergency committee listed 174 dead 96 missing and 27 000 homeless',\n",
       " 'but its own regional affiliate in san miguel province reported 125 dead there alone',\n",
       " 'guatemala reported 100 storm-related deaths',\n",
       " 'the latest eu aid follows an initial 400 000 ecu dlrs 480 000',\n",
       " 'the eu approved for the region on friday',\n",
       " 'the full 6 8 million ecu dlrs 8 18 million will be channeled through humanitarian groups working in the region',\n",
       " 'pope john paul ii appealed for aid wednesday for the central american countries stricken by hurricane mitch and said he feels close to the thousands who are suffering',\n",
       " 'speaking during his general audience the pope urged all public and private institutions and all men of good will to do all they can in this grave moment of destruction and death',\n",
       " 'hurricane mitch killed an estimated 9 000 people throughout central america in a disaster of such proportions that relief agencies have been overwhelmed',\n",
       " 'among those attending the audience were six russian cosmonauts taking a special course in italy',\n",
       " 'as a gift they gave john paul a spacesuit',\n",
       " 'better information from honduras ravaged countryside enabled officials to lower the confirmed death toll from hurricane mitch from 7 000 to about 6 100 on thursday but leaders insisted the need for help was growing',\n",
       " 'president carlos flores declared hurricane mitch had set back honduras development by 50 years',\n",
       " 'he urged the more than 1 5 million hondurans affected by the storm to help with the recovery effort',\n",
       " 'the county is semi-destroyed and awaits the maximum effort and most fervent and constant work of every one of its children he said',\n",
       " 'in the capital tegucigalpa mexican rescue teams began searching for avalanche victims',\n",
       " 'honduran doctors dispensed vaccinations to prevent disease outbreaks in shelters crammed with refugees',\n",
       " 'as of thursday mitch had killed 6 076 people in honduras down from officials earlier estimate of 7 000',\n",
       " 'the numbers of missing dropped from an estimated 11 000 to 4 621 government minister delmer urbizo said',\n",
       " 'we have more access to places affected by the storm urbizo explained',\n",
       " 'until now we have had a short amount of time and few resources to get reliable information',\n",
       " 'in nicaragua around 2 000 people were killed most of those swept away when a volcano crater lake collapsed a week ago',\n",
       " 'el salvador reported 239 dead guatemala said 194 of its people had been killed',\n",
       " 'six people died in southern mexico and seven in costa rica',\n",
       " 'aid groups and governments have called for other countries to send medicine water canned food roofing materials and equipment to help deliver supplies',\n",
       " 'in washington on thursday president bill clinton ordered dlrs 30 million in defense department equipment and services and dlrs 36 million in food fuel and other aid be sent to honduras nicaragua el salvador and guatemala',\n",
       " 'the white house also said clinton was dispatching tipper gore wife of vice president al gore to central america on a mission to show the u s commitment to providing humanitarian relief',\n",
       " 'hillary rodham clinton also will travel to the region visiting nicaragua and honduras on nov 16',\n",
       " 'she later will stop in el salvador and guatemala before continuing on to haiti and the dominican republic for a visit that had been canceled due to hurricane georges which struck the caribbean in october',\n",
       " 'mitch which sat off the honduran coast for several days last week destroyed scores of central american communities before moving northwest',\n",
       " 'the weakened storm crossed southern florida on thursday damaging mobile homes and buildings and injuring at least seven people',\n",
       " 'countries overwhelmed by the storms devastation have only just begun to calculate the damage',\n",
       " 'honduran authorities still dont know how many shelters have been set up across the central american country',\n",
       " 'surveyors have yet to evaluate roughly 10 percent of the most affected areas',\n",
       " 'the departments of cortes atlantida colon and yoro in the north southern choluteca and valle and the central department of francisco morazan which includes the capital',\n",
       " 'numbers still can vary wildly',\n",
       " 'the estimated number of homeless dropped from 580 000 to 569 000 thursday',\n",
       " 'mitch damaged or destroyed at least 90 bridges on major highways including most spans on highway 5 the main north-south route officials said',\n",
       " 'urbizo said honduran officials hoped the scale of need in next-door nicaragua wouldnt overshadow honduras plight',\n",
       " 'our problem is that all of the country has been affected he said',\n",
       " 'thursdays relief operations paled in comparison to the scope of the disaster',\n",
       " 'a total of 14 helicopter relief missions were delivering aid to stricken towns said col roger antonio caceres of the governments operation mitch emergency response task force',\n",
       " 'we can manage with the number of aircraft we have because there is little to distribute caceres said',\n",
       " 'more help was on the way',\n",
       " 'mexico was sending 700 tons of food 11 tons of medicine at least 12 helicopters four cargo planes and 475 soldiers to help in relief operations',\n",
       " 'the united states committed 19 blackhawk and chinook helicopters two c-27 aircraft and one c-130 cargo plane',\n",
       " 'france said it was sending 250 rescue workers to central america along with a ship loaded with construction material and equipment',\n",
       " 'the u n world food program said thursday it was diverting ships some already at sea to rush their cargoes of donated food to central america',\n",
       " 'it also was pulling food from warehouses at its base in rome probably for delivery by emergency relief flights spokesman trevor rowe said',\n",
       " 'were trying to move food as fast as possible to help people as soon as possible rowe said',\n",
       " 'searches for the missing continued and some decomposed bodies once found were being buried in common graves',\n",
       " 'about 100 victims had been buried around tegucigalpa mayor nahum valladeres said',\n",
       " 'in the flood-ravaged tegucigalpa neighborhood of nueva esperanza mexican military rescuers loaded search dogs on their backs and forded a muddy river to look for people believed buried in a 200-foot 60-meter avalanche that occurred last friday',\n",
       " 'dozens of homes were swept into the river',\n",
       " 'this is the first place weve been with the dogs honduran army maj',\n",
       " 'freddy diaz celaya said',\n",
       " 'from here well continue searching downriver',\n",
       " 'concerned that crowded shelter conditions could produce outbreaks of hepatitis respiratory infections and other ailments the health ministry announced an inoculation campaign especially for children',\n",
       " 'doctors volunteering at a shelter housing 4 000 people at tegucigalpas polytechnic development institute said theyd heard of the campaign but had yet to receive word or medicines from the health ministry',\n",
       " 'we have to vaccinate the children said dr mario soto who has treated at least 300 children at the shelter for diarrhea conjunctivitis and bacterial infections',\n",
       " 'aid workers struggled friday to reach survivors of hurricane mitch who are in danger of dying from starvation and disease in the wake of the storm that officials estimate killed more than 10 000 people',\n",
       " 'foreign aid and pledges of assistance poured into central america but damage to roads and bridges reduced the amount of supplies reaching hundreds of isolated communities to a trickle only as much as could be dropped from a helicopter when the aircraft can get through',\n",
       " 'in the aguan river valley in northern honduras floodwaters have receded leaving a carpet of mud over hundreds of acres hectares',\n",
       " 'in many nearby villages residents have gone days without potable water or food',\n",
       " 'a 7-month-old baby died in the village of olvido after three days without food',\n",
       " 'residents feared more children would die',\n",
       " 'the worst thing the saddest thing are the children',\n",
       " 'the children are suffering even dying said the rev cecilio escobar gallindo the parish priest',\n",
       " 'a score of cargo aircraft landed thursday at the normally quiet toncontin airport in the honduran capital of tegucigalpa delivering aid from mexico the united states japan and argentina',\n",
       " 'former u s president jimmy carter and his wife rosalynn intended to visit nicaragua on friday to learn more about the hurricanes impact the carter center in atlanta announced',\n",
       " 'we hope this visit will help call attention to the suffering and humanitarian need this disaster has created',\n",
       " 'carter said in a statement',\n",
       " 'u s president bill clinton requested a global relief effort to help central america and boosted u s emergency aid to dlrs 70 million',\n",
       " 'clinton is dispatching a delegation next week led by tipper gore wife of vice president al gore to deliver some of the supplies destined for honduras nicaragua el salvador and guatemala',\n",
       " 'first lady hillary rodham clinton added nicaragua and honduras to a trip she plans to the region beginning nov 16',\n",
       " 'taiwan said today it will donate dlrs 2 6 million in relief to honduras nicaragua el salvador and guatemala',\n",
       " 'the four countries are among a dwindling number of nations that recognize taiwan which china claims is a breakaway province',\n",
       " 'two british ships that were in the area on an exercise were on their way to honduras to join relief efforts the defense ministry said friday',\n",
       " 'its a coincidence that the ships are there but theyve got men and equipment that can be put to work in an organized way said international development secretary clare short',\n",
       " 'nicaragua said friday it will accept cubas offer to send doctors as long as the communist nation flies them in on its own helicopters and with their own supplies',\n",
       " 'nicaraguan leaders previously had refused cubas offer of medical help saying it did not have the means to transport or support the doctors',\n",
       " 'nicaraguas leftist sandinistas who maintained close relations with fidel castro during their 1979-90 rule had criticized the refusal by president arnoldo alemans administration']"
      ]
     },
     "execution_count": 32,
     "metadata": {},
     "output_type": "execute_result"
    }
   ],
   "source": [
    "processed_sentences"
   ]
  },
  {
   "cell_type": "code",
   "execution_count": 44,
   "metadata": {},
   "outputs": [
    {
     "data": {
      "text/plain": [
       "([array([0.9984894], dtype=float32),\n",
       "  array([0.9986974], dtype=float32),\n",
       "  array([0.998545], dtype=float32),\n",
       "  array([0.9984776], dtype=float32),\n",
       "  array([0.9986681], dtype=float32)],\n",
       " ['la ceiba officials appealed for pure water for those in shelters and some residents set out plastic buckets to collect rainwater',\n",
       "  'more than 20 000 tourists had abandoned cancun and nearby resort areas leaving hotels at about 20 percent of capacity',\n",
       "  'guatemala reported 100 storm-related deaths',\n",
       "  'six people died in southern mexico and seven in costa rica',\n",
       "  'the estimated number of homeless dropped from 580 000 to 569 000 thursday'])"
      ]
     },
     "execution_count": 44,
     "metadata": {},
     "output_type": "execute_result"
    }
   ],
   "source": [
    "gpt2_extractive_summarization(processed_sentences,article_str_sentences,5)"
   ]
  }
 ],
 "metadata": {
  "kernelspec": {
   "display_name": "Python 3",
   "language": "python",
   "name": "python3"
  },
  "language_info": {
   "codemirror_mode": {
    "name": "ipython",
    "version": 3
   },
   "file_extension": ".py",
   "mimetype": "text/x-python",
   "name": "python",
   "nbconvert_exporter": "python",
   "pygments_lexer": "ipython3",
   "version": "3.10.5"
  },
  "orig_nbformat": 4
 },
 "nbformat": 4,
 "nbformat_minor": 2
}
