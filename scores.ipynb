{
 "cells": [
  {
   "cell_type": "code",
   "execution_count": 1,
   "metadata": {},
   "outputs": [
    {
     "name": "stderr",
     "output_type": "stream",
     "text": [
      "c:\\Users\\Zeyad\\AppData\\Local\\Programs\\Python\\Python310\\lib\\site-packages\\tqdm\\auto.py:22: TqdmWarning: IProgress not found. Please update jupyter and ipywidgets. See https://ipywidgets.readthedocs.io/en/stable/user_install.html\n",
      "  from .autonotebook import tqdm as notebook_tqdm\n"
     ]
    }
   ],
   "source": [
    "import pandas as pd\n",
    "from preprocessing_algorithms import *"
   ]
  },
  {
   "cell_type": "code",
   "execution_count": 2,
   "metadata": {},
   "outputs": [],
   "source": [
    "df = pd.read_csv(\"weights_of_alogrithms_and_their_combinations.csv\", index_col=0)"
   ]
  },
  {
   "cell_type": "code",
   "execution_count": 3,
   "metadata": {},
   "outputs": [
    {
     "data": {
      "text/html": [
       "<div>\n",
       "<style scoped>\n",
       "    .dataframe tbody tr th:only-of-type {\n",
       "        vertical-align: middle;\n",
       "    }\n",
       "\n",
       "    .dataframe tbody tr th {\n",
       "        vertical-align: top;\n",
       "    }\n",
       "\n",
       "    .dataframe thead th {\n",
       "        text-align: right;\n",
       "    }\n",
       "</style>\n",
       "<table border=\"1\" class=\"dataframe\">\n",
       "  <thead>\n",
       "    <tr style=\"text-align: right;\">\n",
       "      <th></th>\n",
       "      <th>0</th>\n",
       "    </tr>\n",
       "  </thead>\n",
       "  <tbody>\n",
       "    <tr>\n",
       "      <th>LDA</th>\n",
       "      <td>0.083333</td>\n",
       "    </tr>\n",
       "    <tr>\n",
       "      <th>Lex LDA</th>\n",
       "      <td>0.166667</td>\n",
       "    </tr>\n",
       "    <tr>\n",
       "      <th>Lex Luhn</th>\n",
       "      <td>0.333333</td>\n",
       "    </tr>\n",
       "    <tr>\n",
       "      <th>Lex Luhn LDA</th>\n",
       "      <td>0.333333</td>\n",
       "    </tr>\n",
       "    <tr>\n",
       "      <th>Lex Luhn Lsa LDA</th>\n",
       "      <td>0.083333</td>\n",
       "    </tr>\n",
       "  </tbody>\n",
       "</table>\n",
       "</div>"
      ],
      "text/plain": [
       "                         0\n",
       "LDA               0.083333\n",
       "Lex LDA           0.166667\n",
       "Lex Luhn          0.333333\n",
       "Lex Luhn LDA      0.333333\n",
       "Lex Luhn Lsa LDA  0.083333"
      ]
     },
     "execution_count": 3,
     "metadata": {},
     "output_type": "execute_result"
    }
   ],
   "source": [
    "df.T.head()"
   ]
  },
  {
   "cell_type": "code",
   "execution_count": 7,
   "metadata": {},
   "outputs": [],
   "source": [
    "columns = df.columns"
   ]
  },
  {
   "cell_type": "code",
   "execution_count": 8,
   "metadata": {},
   "outputs": [],
   "source": [
    "columns = [string.replace(\"(\", \"\").replace(\")\", \"\").replace(\"'\", \"\").replace(\",\",\"\") for string in columns]"
   ]
  },
  {
   "cell_type": "code",
   "execution_count": 9,
   "metadata": {},
   "outputs": [
    {
     "data": {
      "text/plain": [
       "['LDA',\n",
       " 'Lex LDA',\n",
       " 'Lex Luhn',\n",
       " 'Lex Luhn LDA',\n",
       " 'Lex Luhn Lsa LDA',\n",
       " 'Lex Luhn Lsa Tr',\n",
       " 'Lex Luhn Lsa Tr LDA',\n",
       " 'Lex Luhn Tr',\n",
       " 'Lex Luhn Tr LDA',\n",
       " 'Lex Tr',\n",
       " 'Lex Tr LDA',\n",
       " 'Lex',\n",
       " 'Lsa',\n",
       " 'Luhn Tr',\n",
       " 'Luhn Tr LDA',\n",
       " 'Luhn',\n",
       " 'Tm LDA',\n",
       " 'Tm Lex',\n",
       " 'Tm Lex LDA',\n",
       " 'Tm Lex Luhn',\n",
       " 'Tm Lex Luhn LDA',\n",
       " 'Tm Lex Luhn Lsa',\n",
       " 'Tm Lex Luhn Lsa LDA',\n",
       " 'Tm Lex Luhn Lsa Tr',\n",
       " 'Tm Lex Luhn Lsa Tr LDA',\n",
       " 'Tm Lex Luhn Tr',\n",
       " 'Tm Lex Luhn Tr LDA',\n",
       " 'Tm Lex Tr',\n",
       " 'Tm Lex Tr LDA',\n",
       " 'Tm Luhn',\n",
       " 'Tm Luhn LDA',\n",
       " 'Tm Luhn Lsa',\n",
       " 'Tm Luhn Lsa LDA',\n",
       " 'Tm Luhn Lsa Tr',\n",
       " 'Tm Luhn Lsa Tr LDA',\n",
       " 'Tm Luhn Tr',\n",
       " 'Tm Luhn Tr LDA',\n",
       " 'Tm Tr',\n",
       " 'Tm Tr LDA',\n",
       " 'Tm',\n",
       " 'Tr LDA',\n",
       " 'Tr',\n",
       " 'Original Article',\n",
       " 'Original Summary']"
      ]
     },
     "execution_count": 9,
     "metadata": {},
     "output_type": "execute_result"
    }
   ],
   "source": [
    "columns"
   ]
  },
  {
   "cell_type": "code",
   "execution_count": 10,
   "metadata": {},
   "outputs": [],
   "source": [
    "original_algorithms = ['Tm', 'Lex', 'Luhn', 'Lsa', 'Tr', 'LDA']\n",
    "original_algorithms_scores  = [['Tm',0], ['Lex',0], ['Luhn',0], ['Lsa',0], ['Tr',0], ['LDA',0]]\n",
    "i = 0\n",
    "for algorrithm in original_algorithms:\n",
    "    for element in columns:\n",
    "        if algorrithm in element:\n",
    "            original_algorithms_scores[i][1] +=1\n",
    "    i+=1"
   ]
  },
  {
   "cell_type": "code",
   "execution_count": 11,
   "metadata": {},
   "outputs": [
    {
     "data": {
      "text/plain": [
       "[['Tm', 24], ['Lex', 23], ['Luhn', 26], ['Lsa', 12], ['Tr', 22], ['LDA', 21]]"
      ]
     },
     "execution_count": 11,
     "metadata": {},
     "output_type": "execute_result"
    }
   ],
   "source": [
    "original_algorithms_scores"
   ]
  },
  {
   "cell_type": "code",
   "execution_count": 12,
   "metadata": {},
   "outputs": [
    {
     "name": "stdout",
     "output_type": "stream",
     "text": [
      "{'LDA': 21, 'Lex': 23, 'Luhn': 26, 'Lsa': 12, 'Tr': 22, 'Tm': 24, 'Original': 2, 'Article': 1, 'Summary': 1}\n"
     ]
    }
   ],
   "source": [
    "my_list = columns\n",
    "counts = {}\n",
    "\n",
    "for inner_list in my_list:\n",
    "    inner_list = inner_list.split()\n",
    "    for word in inner_list:\n",
    "        if word in counts:\n",
    "            counts[word] += 1\n",
    "        else:\n",
    "            counts[word] = 1\n",
    "\n",
    "print(counts)"
   ]
  },
  {
   "cell_type": "code",
   "execution_count": null,
   "metadata": {},
   "outputs": [],
   "source": []
  }
 ],
 "metadata": {
  "kernelspec": {
   "display_name": "Python 3",
   "language": "python",
   "name": "python3"
  },
  "language_info": {
   "codemirror_mode": {
    "name": "ipython",
    "version": 3
   },
   "file_extension": ".py",
   "mimetype": "text/x-python",
   "name": "python",
   "nbconvert_exporter": "python",
   "pygments_lexer": "ipython3",
   "version": "3.10.5"
  },
  "orig_nbformat": 4
 },
 "nbformat": 4,
 "nbformat_minor": 2
}
