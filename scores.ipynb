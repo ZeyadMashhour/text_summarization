{
 "cells": [
  {
   "cell_type": "code",
   "execution_count": 12,
   "metadata": {},
   "outputs": [
    {
     "name": "stderr",
     "output_type": "stream",
     "text": [
      "c:\\Users\\Zeyad\\AppData\\Local\\Programs\\Python\\Python310\\lib\\site-packages\\tqdm\\auto.py:22: TqdmWarning: IProgress not found. Please update jupyter and ipywidgets. See https://ipywidgets.readthedocs.io/en/stable/user_install.html\n",
      "  from .autonotebook import tqdm as notebook_tqdm\n"
     ]
    }
   ],
   "source": [
    "import pandas as pd\n",
    "from preprocessing_algorithms import *"
   ]
  },
  {
   "cell_type": "code",
   "execution_count": 34,
   "metadata": {},
   "outputs": [],
   "source": [
    "df = pd.read_csv(\"weights_of_alogrithms_and_their_combinations.csv\", index_col=0)"
   ]
  },
  {
   "cell_type": "code",
   "execution_count": 35,
   "metadata": {},
   "outputs": [
    {
     "data": {
      "text/html": [
       "<div>\n",
       "<style scoped>\n",
       "    .dataframe tbody tr th:only-of-type {\n",
       "        vertical-align: middle;\n",
       "    }\n",
       "\n",
       "    .dataframe tbody tr th {\n",
       "        vertical-align: top;\n",
       "    }\n",
       "\n",
       "    .dataframe thead th {\n",
       "        text-align: right;\n",
       "    }\n",
       "</style>\n",
       "<table border=\"1\" class=\"dataframe\">\n",
       "  <thead>\n",
       "    <tr style=\"text-align: right;\">\n",
       "      <th></th>\n",
       "      <th>('LDA',)</th>\n",
       "      <th>('Lex', 'LDA')</th>\n",
       "      <th>('Lex', 'Luhn')</th>\n",
       "      <th>('Lex', 'Luhn', 'LDA')</th>\n",
       "      <th>('Lex', 'Luhn', 'Lsa', 'LDA')</th>\n",
       "      <th>('Lex', 'Luhn', 'Lsa', 'Tr')</th>\n",
       "      <th>('Lex', 'Luhn', 'Lsa', 'Tr', 'LDA')</th>\n",
       "      <th>('Lex', 'Luhn', 'Tr')</th>\n",
       "      <th>('Lex', 'Luhn', 'Tr', 'LDA')</th>\n",
       "      <th>('Lex', 'Tr')</th>\n",
       "      <th>...</th>\n",
       "      <th>('Tm', 'Luhn', 'Lsa', 'Tr', 'LDA')</th>\n",
       "      <th>('Tm', 'Luhn', 'Tr')</th>\n",
       "      <th>('Tm', 'Luhn', 'Tr', 'LDA')</th>\n",
       "      <th>('Tm', 'Tr')</th>\n",
       "      <th>('Tm', 'Tr', 'LDA')</th>\n",
       "      <th>('Tm',)</th>\n",
       "      <th>('Tr', 'LDA')</th>\n",
       "      <th>('Tr',)</th>\n",
       "      <th>Original Article</th>\n",
       "      <th>Original Summary</th>\n",
       "    </tr>\n",
       "  </thead>\n",
       "  <tbody>\n",
       "    <tr>\n",
       "      <th>0</th>\n",
       "      <td>0.083333</td>\n",
       "      <td>0.166667</td>\n",
       "      <td>0.333333</td>\n",
       "      <td>0.333333</td>\n",
       "      <td>0.083333</td>\n",
       "      <td>0.25</td>\n",
       "      <td>0.166667</td>\n",
       "      <td>0.333333</td>\n",
       "      <td>0.333333</td>\n",
       "      <td>0.5</td>\n",
       "      <td>...</td>\n",
       "      <td>0.166667</td>\n",
       "      <td>0.333333</td>\n",
       "      <td>0.333333</td>\n",
       "      <td>0.25</td>\n",
       "      <td>0.166667</td>\n",
       "      <td>0.166667</td>\n",
       "      <td>0.333333</td>\n",
       "      <td>0.083333</td>\n",
       "      <td>0.333333</td>\n",
       "      <td>1.0</td>\n",
       "    </tr>\n",
       "  </tbody>\n",
       "</table>\n",
       "<p>1 rows × 44 columns</p>\n",
       "</div>"
      ],
      "text/plain": [
       "   ('LDA',)  ('Lex', 'LDA')  ('Lex', 'Luhn')  ('Lex', 'Luhn', 'LDA')  \\\n",
       "0  0.083333        0.166667         0.333333                0.333333   \n",
       "\n",
       "   ('Lex', 'Luhn', 'Lsa', 'LDA')  ('Lex', 'Luhn', 'Lsa', 'Tr')  \\\n",
       "0                       0.083333                          0.25   \n",
       "\n",
       "   ('Lex', 'Luhn', 'Lsa', 'Tr', 'LDA')  ('Lex', 'Luhn', 'Tr')  \\\n",
       "0                             0.166667               0.333333   \n",
       "\n",
       "   ('Lex', 'Luhn', 'Tr', 'LDA')  ('Lex', 'Tr')  ...  \\\n",
       "0                      0.333333            0.5  ...   \n",
       "\n",
       "   ('Tm', 'Luhn', 'Lsa', 'Tr', 'LDA')  ('Tm', 'Luhn', 'Tr')  \\\n",
       "0                            0.166667              0.333333   \n",
       "\n",
       "   ('Tm', 'Luhn', 'Tr', 'LDA')  ('Tm', 'Tr')  ('Tm', 'Tr', 'LDA')   ('Tm',)  \\\n",
       "0                     0.333333          0.25             0.166667  0.166667   \n",
       "\n",
       "   ('Tr', 'LDA')   ('Tr',)  Original Article  Original Summary  \n",
       "0       0.333333  0.083333          0.333333               1.0  \n",
       "\n",
       "[1 rows x 44 columns]"
      ]
     },
     "execution_count": 35,
     "metadata": {},
     "output_type": "execute_result"
    }
   ],
   "source": [
    "df.T.head()"
   ]
  },
  {
   "cell_type": "code",
   "execution_count": 54,
   "metadata": {},
   "outputs": [],
   "source": [
    "columns = df.T.columns"
   ]
  },
  {
   "cell_type": "code",
   "execution_count": 56,
   "metadata": {},
   "outputs": [],
   "source": [
    "columns = [string.replace(\"(\", \"\").replace(\")\", \"\").replace(\"'\", \"\").replace(\",\",\"\") for string in columns]"
   ]
  },
  {
   "cell_type": "code",
   "execution_count": 60,
   "metadata": {},
   "outputs": [
    {
     "data": {
      "text/plain": [
       "['LDA',\n",
       " 'Lex LDA',\n",
       " 'Lex Luhn',\n",
       " 'Lex Luhn LDA',\n",
       " 'Lex Luhn Lsa LDA',\n",
       " 'Lex Luhn Lsa Tr',\n",
       " 'Lex Luhn Lsa Tr LDA',\n",
       " 'Lex Luhn Tr',\n",
       " 'Lex Luhn Tr LDA',\n",
       " 'Lex Tr',\n",
       " 'Lex Tr LDA',\n",
       " 'Lex',\n",
       " 'Lsa',\n",
       " 'Luhn Tr',\n",
       " 'Luhn Tr LDA',\n",
       " 'Luhn',\n",
       " 'Tm LDA',\n",
       " 'Tm Lex',\n",
       " 'Tm Lex LDA',\n",
       " 'Tm Lex Luhn',\n",
       " 'Tm Lex Luhn LDA',\n",
       " 'Tm Lex Luhn Lsa',\n",
       " 'Tm Lex Luhn Lsa LDA',\n",
       " 'Tm Lex Luhn Lsa Tr',\n",
       " 'Tm Lex Luhn Lsa Tr LDA',\n",
       " 'Tm Lex Luhn Tr',\n",
       " 'Tm Lex Luhn Tr LDA',\n",
       " 'Tm Lex Tr',\n",
       " 'Tm Lex Tr LDA',\n",
       " 'Tm Luhn',\n",
       " 'Tm Luhn LDA',\n",
       " 'Tm Luhn Lsa',\n",
       " 'Tm Luhn Lsa LDA',\n",
       " 'Tm Luhn Lsa Tr',\n",
       " 'Tm Luhn Lsa Tr LDA',\n",
       " 'Tm Luhn Tr',\n",
       " 'Tm Luhn Tr LDA',\n",
       " 'Tm Tr',\n",
       " 'Tm Tr LDA',\n",
       " 'Tm',\n",
       " 'Tr LDA',\n",
       " 'Tr',\n",
       " 'Original Article',\n",
       " 'Original Summary']"
      ]
     },
     "execution_count": 60,
     "metadata": {},
     "output_type": "execute_result"
    }
   ],
   "source": [
    "columns"
   ]
  },
  {
   "cell_type": "code",
   "execution_count": 66,
   "metadata": {},
   "outputs": [],
   "source": [
    "original_algorithms = ['Tm', 'Lex', 'Luhn', 'Lsa', 'Tr', 'LDA']\n",
    "original_algorithms_scores  = [['Tm',0], ['Lex',0], ['Luhn',0], ['Lsa',0], ['Tr',0], ['LDA',0]]\n",
    "i = 0\n",
    "for algorrithm in original_algorithms:\n",
    "    for element in columns:\n",
    "        if algorrithm in element:\n",
    "            original_algorithms_scores[i][1] +=1\n",
    "    i+=1"
   ]
  },
  {
   "cell_type": "code",
   "execution_count": 67,
   "metadata": {},
   "outputs": [
    {
     "data": {
      "text/plain": [
       "[['Tm', 24], ['Lex', 23], ['Luhn', 26], ['Lsa', 12], ['Tr', 22], ['LDA', 21]]"
      ]
     },
     "execution_count": 67,
     "metadata": {},
     "output_type": "execute_result"
    }
   ],
   "source": [
    "original_algorithms_scores"
   ]
  },
  {
   "cell_type": "code",
   "execution_count": 78,
   "metadata": {},
   "outputs": [
    {
     "name": "stdout",
     "output_type": "stream",
     "text": [
      "{'LDA': 1, 'Lex LDA': 1, 'Lex Luhn': 1, 'Lex Luhn LDA': 1, 'Lex Luhn Lsa LDA': 1, 'Lex Luhn Lsa Tr': 1, 'Lex Luhn Lsa Tr LDA': 1, 'Lex Luhn Tr': 1, 'Lex Luhn Tr LDA': 1, 'Lex Tr': 1, 'Lex Tr LDA': 1, 'Lex': 1, 'Lsa': 1, 'Luhn Tr': 1, 'Luhn Tr LDA': 1, 'Luhn': 1, 'Tm LDA': 1, 'Tm Lex': 1, 'Tm Lex LDA': 1, 'Tm Lex Luhn': 1, 'Tm Lex Luhn LDA': 1, 'Tm Lex Luhn Lsa': 1, 'Tm Lex Luhn Lsa LDA': 1, 'Tm Lex Luhn Lsa Tr': 1, 'Tm Lex Luhn Lsa Tr LDA': 1, 'Tm Lex Luhn Tr': 1, 'Tm Lex Luhn Tr LDA': 1, 'Tm Lex Tr': 1, 'Tm Lex Tr LDA': 1, 'Tm Luhn': 1, 'Tm Luhn LDA': 1, 'Tm Luhn Lsa': 1, 'Tm Luhn Lsa LDA': 1, 'Tm Luhn Lsa Tr': 1, 'Tm Luhn Lsa Tr LDA': 1, 'Tm Luhn Tr': 1, 'Tm Luhn Tr LDA': 1, 'Tm Tr': 1, 'Tm Tr LDA': 1, 'Tm': 1, 'Tr LDA': 1, 'Tr': 1, 'Original Article': 1, 'Original Summary': 1}\n"
     ]
    }
   ],
   "source": [
    "my_list = columns\n",
    "counts = {}\n",
    "\n",
    "for inner_list in my_list:\n",
    "    if inner_list in counts:\n",
    "        counts[inner_list] += 1\n",
    "    else:\n",
    "        counts[inner_list] = 1\n",
    "\n",
    "print(counts)"
   ]
  },
  {
   "cell_type": "code",
   "execution_count": null,
   "metadata": {},
   "outputs": [],
   "source": [
    "text = 'Lex Luhn'\n",
    "text = text"
   ]
  }
 ],
 "metadata": {
  "kernelspec": {
   "display_name": "Python 3",
   "language": "python",
   "name": "python3"
  },
  "language_info": {
   "codemirror_mode": {
    "name": "ipython",
    "version": 3
   },
   "file_extension": ".py",
   "mimetype": "text/x-python",
   "name": "python",
   "nbconvert_exporter": "python",
   "pygments_lexer": "ipython3",
   "version": "3.10.5"
  },
  "orig_nbformat": 4
 },
 "nbformat": 4,
 "nbformat_minor": 2
}
