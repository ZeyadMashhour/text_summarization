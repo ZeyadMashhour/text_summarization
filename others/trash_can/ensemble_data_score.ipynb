{
 "cells": [
  {
   "cell_type": "code",
   "execution_count": 1,
   "metadata": {},
   "outputs": [
    {
     "name": "stderr",
     "output_type": "stream",
     "text": [
      "c:\\Users\\Zeyad\\AppData\\Local\\Programs\\Python\\Python310\\lib\\site-packages\\tqdm\\auto.py:22: TqdmWarning: IProgress not found. Please update jupyter and ipywidgets. See https://ipywidgets.readthedocs.io/en/stable/user_install.html\n",
      "  from .autonotebook import tqdm as notebook_tqdm\n"
     ]
    }
   ],
   "source": [
    "#from imported_libraries import *\n",
    "from summarization_algorithm import * \n",
    "from preprocessing_algorithms import*\n",
    "from efficiency_scores import *\n",
    "from process_dataframe import*"
   ]
  },
  {
   "cell_type": "code",
   "execution_count": 2,
   "metadata": {},
   "outputs": [],
   "source": [
    "# This is the file where the scores is saved in(create csv file of scores)\n",
    "scores_file_name = \"avg_scores_df_for_first_refrence_7_sentences_normal_text.csv\"\n",
    "\n",
    "\"\"\"\n",
    "EL fo2 dah el ben8ayro ya 4abab mo3zem el wa2t\n",
    "\"\"\"\n",
    "\n",
    "\n",
    "# This is the path file to the refrence summary\n",
    "reference_summary_dataset_path = r\"F:\\PycharmProjects\\NLP\\text_summarization\\DUC\\Duc_first_reference\\main_dataset\\Duc_dataset_first_ref_summary.csv\"\n",
    "# This is the system summaries we created ya bassel!\n",
    "system_summaries_path = r\"F:\\PycharmProjects\\NLP\\text_summarization\\trash_can\\7_percent_of_text.csv\""
   ]
  },
  {
   "cell_type": "code",
   "execution_count": 3,
   "metadata": {},
   "outputs": [],
   "source": [
    "reference_summary_dataset = pd.read_csv(reference_summary_dataset_path)\n"
   ]
  },
  {
   "cell_type": "code",
   "execution_count": 7,
   "metadata": {},
   "outputs": [],
   "source": [
    "system_summaries = pd.read_csv(system_summaries_path)"
   ]
  },
  {
   "cell_type": "code",
   "execution_count": null,
   "metadata": {},
   "outputs": [],
   "source": []
  }
 ],
 "metadata": {
  "kernelspec": {
   "display_name": "Python 3",
   "language": "python",
   "name": "python3"
  },
  "language_info": {
   "codemirror_mode": {
    "name": "ipython",
    "version": 3
   },
   "file_extension": ".py",
   "mimetype": "text/x-python",
   "name": "python",
   "nbconvert_exporter": "python",
   "pygments_lexer": "ipython3",
   "version": "3.10.5"
  },
  "orig_nbformat": 4
 },
 "nbformat": 4,
 "nbformat_minor": 2
}
