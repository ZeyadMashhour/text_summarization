{
 "cells": [
  {
   "cell_type": "code",
   "execution_count": 81,
   "metadata": {},
   "outputs": [],
   "source": [
    "#from imported_libraries import *\n",
    "import pandas as pd\n",
    "from summarization_algorithm import * \n",
    "from preprocessing_algorithms import*\n",
    "from efficiency_scores import *\n"
   ]
  },
  {
   "cell_type": "code",
   "execution_count": 82,
   "metadata": {},
   "outputs": [
    {
     "data": {
      "text/html": [
       "<div>\n",
       "<style scoped>\n",
       "    .dataframe tbody tr th:only-of-type {\n",
       "        vertical-align: middle;\n",
       "    }\n",
       "\n",
       "    .dataframe tbody tr th {\n",
       "        vertical-align: top;\n",
       "    }\n",
       "\n",
       "    .dataframe thead th {\n",
       "        text-align: right;\n",
       "    }\n",
       "</style>\n",
       "<table border=\"1\" class=\"dataframe\">\n",
       "  <thead>\n",
       "    <tr style=\"text-align: right;\">\n",
       "      <th></th>\n",
       "      <th>Articles</th>\n",
       "      <th>Summaries</th>\n",
       "    </tr>\n",
       "  </thead>\n",
       "  <tbody>\n",
       "    <tr>\n",
       "      <th>0</th>\n",
       "      <td>\\nCambodian leader Hun Sen on Friday rejected ...</td>\n",
       "      <td>Prospects were dim for resolution of the polit...</td>\n",
       "    </tr>\n",
       "    <tr>\n",
       "      <th>1</th>\n",
       "      <td>\\nHonduras braced for potential catastrophe Tu...</td>\n",
       "      <td>Hurricane Mitch approached Honduras on Oct. 27...</td>\n",
       "    </tr>\n",
       "    <tr>\n",
       "      <th>2</th>\n",
       "      <td>\\nCuban President Fidel Castro said Sunday he ...</td>\n",
       "      <td>Britain caused international controversy and C...</td>\n",
       "    </tr>\n",
       "    <tr>\n",
       "      <th>3</th>\n",
       "      <td>\\nMUNICH, Germany (AP) _ U.S. prosecutors have...</td>\n",
       "      <td>After the bombing of U.S. embassies in East Af...</td>\n",
       "    </tr>\n",
       "    <tr>\n",
       "      <th>4</th>\n",
       "      <td>\\nIn a critical ruling for the North American ...</td>\n",
       "      <td>In a dispute over a new collective bargaining ...</td>\n",
       "    </tr>\n",
       "    <tr>\n",
       "      <th>5</th>\n",
       "      <td>\\nRebels attacked a village in western Uganda ...</td>\n",
       "      <td>After years of civil war, Congo in October 199...</td>\n",
       "    </tr>\n",
       "    <tr>\n",
       "      <th>6</th>\n",
       "      <td>\\nIndonesian President B.J. Habibie finds atte...</td>\n",
       "      <td>Prospects for the Asia-Pacific Economic Cooper...</td>\n",
       "    </tr>\n",
       "    <tr>\n",
       "      <th>7</th>\n",
       "      <td>\\nIsrael's Cabinet announced within hours of a...</td>\n",
       "      <td>On Nov. 6, 1998 a suicide auto-bomb attack on ...</td>\n",
       "    </tr>\n",
       "    <tr>\n",
       "      <th>8</th>\n",
       "      <td>\\nBruises on the face of jailed dissident Anwa...</td>\n",
       "      <td>Malaysian Prime Minister Mahathir Mohamad rule...</td>\n",
       "    </tr>\n",
       "    <tr>\n",
       "      <th>9</th>\n",
       "      <td>\\nBRUSSELS, Belgium (AP) _ U.S. special envoy ...</td>\n",
       "      <td>On Oct. 4, 1998 Yugoslav President Milosevic o...</td>\n",
       "    </tr>\n",
       "    <tr>\n",
       "      <th>10</th>\n",
       "      <td>\\nFamine-threatened North Korea's harvest will...</td>\n",
       "      <td>Famine had become the rule as North Korea ente...</td>\n",
       "    </tr>\n",
       "    <tr>\n",
       "      <th>11</th>\n",
       "      <td>\\nOrganizers of December's Asian Games have di...</td>\n",
       "      <td>Despite concern that corruption, incompetence ...</td>\n",
       "    </tr>\n",
       "    <tr>\n",
       "      <th>12</th>\n",
       "      <td>\\nHours before China was expected to sign a ke...</td>\n",
       "      <td>On the eve of China's signing the Internationa...</td>\n",
       "    </tr>\n",
       "    <tr>\n",
       "      <th>13</th>\n",
       "      <td>\\nA week after the White House and congression...</td>\n",
       "      <td>James Carville complained that fellow Democrat...</td>\n",
       "    </tr>\n",
       "    <tr>\n",
       "      <th>14</th>\n",
       "      <td>\\nThe outcome of the Microsoft antitrust case ...</td>\n",
       "      <td>As the U.S. government pressed its antitrust c...</td>\n",
       "    </tr>\n",
       "    <tr>\n",
       "      <th>15</th>\n",
       "      <td>\\nWall Street extended a global stock selloff ...</td>\n",
       "      <td>In October 1998 amid worldwide financial crise...</td>\n",
       "    </tr>\n",
       "    <tr>\n",
       "      <th>16</th>\n",
       "      <td>\\nTurkey has sent 10,000 troops to its southea...</td>\n",
       "      <td>In early October 1998 Turkey moved 10,000 troo...</td>\n",
       "    </tr>\n",
       "    <tr>\n",
       "      <th>17</th>\n",
       "      <td>\\nUnited States maxi Sayonara looks set to con...</td>\n",
       "      <td>As contestants prepared for the 1998 running o...</td>\n",
       "    </tr>\n",
       "    <tr>\n",
       "      <th>18</th>\n",
       "      <td>\\nFor the second day in a row, astronauts boar...</td>\n",
       "      <td>After discarding a suggested change of orbit, ...</td>\n",
       "    </tr>\n",
       "    <tr>\n",
       "      <th>19</th>\n",
       "      <td>\\nIn his most candid remarks yet on the econom...</td>\n",
       "      <td>Eleven countries were to adopt a common Europe...</td>\n",
       "    </tr>\n",
       "    <tr>\n",
       "      <th>20</th>\n",
       "      <td>\\nIndonesia on Tuesday denied claims that its ...</td>\n",
       "      <td>Indonesia invaded the former Portuguese territ...</td>\n",
       "    </tr>\n",
       "    <tr>\n",
       "      <th>21</th>\n",
       "      <td>\\nThere's room for a few more names on a 20th ...</td>\n",
       "      <td>One of those mentioned for the 1998 Nobel Lite...</td>\n",
       "    </tr>\n",
       "    <tr>\n",
       "      <th>22</th>\n",
       "      <td>\\nAriel Sharon, the hawkish former general tip...</td>\n",
       "      <td>Prior to his appointment as foreign minister b...</td>\n",
       "    </tr>\n",
       "    <tr>\n",
       "      <th>23</th>\n",
       "      <td>\\nWhat started as a local controversy in Salt ...</td>\n",
       "      <td>In December 1998 a story broke that relatives ...</td>\n",
       "    </tr>\n",
       "    <tr>\n",
       "      <th>24</th>\n",
       "      <td>\\nAmid a flurry of last minute preparations, t...</td>\n",
       "      <td>The Wye River Accord provided for an airport a...</td>\n",
       "    </tr>\n",
       "    <tr>\n",
       "      <th>25</th>\n",
       "      <td>\\nLibyan leader Moammar Gadhafi began a surpri...</td>\n",
       "      <td>Kofi Annan talked with Gadhafi in Libya on bri...</td>\n",
       "    </tr>\n",
       "    <tr>\n",
       "      <th>26</th>\n",
       "      <td>\\nA Kurdish rebel group fighting for autonomy ...</td>\n",
       "      <td>PKK leader Ocalan was arrested on arrival at t...</td>\n",
       "    </tr>\n",
       "    <tr>\n",
       "      <th>27</th>\n",
       "      <td>\\nExxon Corp. and Mobil Corp. have held discus...</td>\n",
       "      <td>Exxon and Mobil consider merger.\\nPartnerships...</td>\n",
       "    </tr>\n",
       "    <tr>\n",
       "      <th>28</th>\n",
       "      <td>\\nHouse Speaker-elect Robert L. Livingston pre...</td>\n",
       "      <td>House Speaker-elect Robert L. Livingston was f...</td>\n",
       "    </tr>\n",
       "    <tr>\n",
       "      <th>29</th>\n",
       "      <td>\\nRussian space experts were making final prep...</td>\n",
       "      <td>NASA and the Russian Space Agency readied the ...</td>\n",
       "    </tr>\n",
       "    <tr>\n",
       "      <th>30</th>\n",
       "      <td>\\nLatin American leaders flew Friday to Portug...</td>\n",
       "      <td>Latin leaders at Ibero-American summit explore...</td>\n",
       "    </tr>\n",
       "    <tr>\n",
       "      <th>31</th>\n",
       "      <td>\\nA South Korean lawmaker said Friday communis...</td>\n",
       "      <td>S. Korea says N. Korea may be producing pluton...</td>\n",
       "    </tr>\n",
       "    <tr>\n",
       "      <th>32</th>\n",
       "      <td>\\nIn a cocoon of loyal and wealthy supporters,...</td>\n",
       "      <td>Acknowledging his mistakes, Clinton supports D...</td>\n",
       "    </tr>\n",
       "    <tr>\n",
       "      <th>33</th>\n",
       "      <td>\\nYugoslavia must cooperate with the U.N. war ...</td>\n",
       "      <td>The UN war crimes tribunal demands Yugoslavia'...</td>\n",
       "    </tr>\n",
       "    <tr>\n",
       "      <th>34</th>\n",
       "      <td>\\nLess than a week before U.S. President Bill ...</td>\n",
       "      <td>Clinton will visit Israel, Gaza and the West b...</td>\n",
       "    </tr>\n",
       "    <tr>\n",
       "      <th>35</th>\n",
       "      <td>\\nItaly's Communists on Sunday voted to withdr...</td>\n",
       "      <td>Italy's Communist Refounding Party rejected Pr...</td>\n",
       "    </tr>\n",
       "    <tr>\n",
       "      <th>36</th>\n",
       "      <td>\\nA truck blew up when it drove over a land mi...</td>\n",
       "      <td>In Chechnya, 3-5 people a week, many of them c...</td>\n",
       "    </tr>\n",
       "    <tr>\n",
       "      <th>37</th>\n",
       "      <td>\\nA liberal lawmaker who planned to run for pr...</td>\n",
       "      <td>Liberal Russian lawmaker Galina Starovoitova w...</td>\n",
       "    </tr>\n",
       "    <tr>\n",
       "      <th>38</th>\n",
       "      <td>\\nTorturers and bombers who carried out atroci...</td>\n",
       "      <td>The Truth and Reconciliation Commission, which...</td>\n",
       "    </tr>\n",
       "    <tr>\n",
       "      <th>39</th>\n",
       "      <td>\\nAt first, the passing bicyclist thought the ...</td>\n",
       "      <td>1,000 people mourned Matthew Shepherd, the gay...</td>\n",
       "    </tr>\n",
       "    <tr>\n",
       "      <th>40</th>\n",
       "      <td>\\nANKARA, Turkey (AP) - Prime Minister Mesut Y...</td>\n",
       "      <td>Turkey's Prime Minister Yilmaz was ousted by a...</td>\n",
       "    </tr>\n",
       "    <tr>\n",
       "      <th>41</th>\n",
       "      <td>\\nWhile veterans and civic leaders devote Wedn...</td>\n",
       "      <td>Dr. Barnett Slepian, the mainstay of Buffalo's...</td>\n",
       "    </tr>\n",
       "    <tr>\n",
       "      <th>42</th>\n",
       "      <td>\\nA fire turned a Swedish dance hall jammed wi...</td>\n",
       "      <td>At least 60 teenagers were killed and another ...</td>\n",
       "    </tr>\n",
       "    <tr>\n",
       "      <th>43</th>\n",
       "      <td>\\nA strong sign that this city is going bonker...</td>\n",
       "      <td>The New York Yankees prevailed in the sixth ga...</td>\n",
       "    </tr>\n",
       "    <tr>\n",
       "      <th>44</th>\n",
       "      <td>\\nHouse and Senate negotiators agreed Thursday...</td>\n",
       "      <td>Budget negotiations between the White House an...</td>\n",
       "    </tr>\n",
       "    <tr>\n",
       "      <th>45</th>\n",
       "      <td>\\nPresident Boris Yeltsin has suffered minor b...</td>\n",
       "      <td>Concern over the health of President Boris Yel...</td>\n",
       "    </tr>\n",
       "    <tr>\n",
       "      <th>46</th>\n",
       "      <td>\\nIn the summer of 1995, a whiff of revolution...</td>\n",
       "      <td>The government suit against Microsoft is the m...</td>\n",
       "    </tr>\n",
       "    <tr>\n",
       "      <th>47</th>\n",
       "      <td>\\nPolice and soldiers on Friday blocked off th...</td>\n",
       "      <td>Terrorists bombed the US embassy in Nairobi, k...</td>\n",
       "    </tr>\n",
       "    <tr>\n",
       "      <th>48</th>\n",
       "      <td>\\nThe commander of Lebanon's army will become ...</td>\n",
       "      <td>Power in Lebanon is shared equally by a Maroni...</td>\n",
       "    </tr>\n",
       "    <tr>\n",
       "      <th>49</th>\n",
       "      <td>\\nHours before China was expected to sign a ke...</td>\n",
       "      <td>While China plans to sign the International Co...</td>\n",
       "    </tr>\n",
       "  </tbody>\n",
       "</table>\n",
       "</div>"
      ],
      "text/plain": [
       "                                             Articles  \\\n",
       "0   \\nCambodian leader Hun Sen on Friday rejected ...   \n",
       "1   \\nHonduras braced for potential catastrophe Tu...   \n",
       "2   \\nCuban President Fidel Castro said Sunday he ...   \n",
       "3   \\nMUNICH, Germany (AP) _ U.S. prosecutors have...   \n",
       "4   \\nIn a critical ruling for the North American ...   \n",
       "5   \\nRebels attacked a village in western Uganda ...   \n",
       "6   \\nIndonesian President B.J. Habibie finds atte...   \n",
       "7   \\nIsrael's Cabinet announced within hours of a...   \n",
       "8   \\nBruises on the face of jailed dissident Anwa...   \n",
       "9   \\nBRUSSELS, Belgium (AP) _ U.S. special envoy ...   \n",
       "10  \\nFamine-threatened North Korea's harvest will...   \n",
       "11  \\nOrganizers of December's Asian Games have di...   \n",
       "12  \\nHours before China was expected to sign a ke...   \n",
       "13  \\nA week after the White House and congression...   \n",
       "14  \\nThe outcome of the Microsoft antitrust case ...   \n",
       "15  \\nWall Street extended a global stock selloff ...   \n",
       "16  \\nTurkey has sent 10,000 troops to its southea...   \n",
       "17  \\nUnited States maxi Sayonara looks set to con...   \n",
       "18  \\nFor the second day in a row, astronauts boar...   \n",
       "19  \\nIn his most candid remarks yet on the econom...   \n",
       "20  \\nIndonesia on Tuesday denied claims that its ...   \n",
       "21  \\nThere's room for a few more names on a 20th ...   \n",
       "22  \\nAriel Sharon, the hawkish former general tip...   \n",
       "23  \\nWhat started as a local controversy in Salt ...   \n",
       "24  \\nAmid a flurry of last minute preparations, t...   \n",
       "25  \\nLibyan leader Moammar Gadhafi began a surpri...   \n",
       "26  \\nA Kurdish rebel group fighting for autonomy ...   \n",
       "27  \\nExxon Corp. and Mobil Corp. have held discus...   \n",
       "28  \\nHouse Speaker-elect Robert L. Livingston pre...   \n",
       "29  \\nRussian space experts were making final prep...   \n",
       "30  \\nLatin American leaders flew Friday to Portug...   \n",
       "31  \\nA South Korean lawmaker said Friday communis...   \n",
       "32  \\nIn a cocoon of loyal and wealthy supporters,...   \n",
       "33  \\nYugoslavia must cooperate with the U.N. war ...   \n",
       "34  \\nLess than a week before U.S. President Bill ...   \n",
       "35  \\nItaly's Communists on Sunday voted to withdr...   \n",
       "36  \\nA truck blew up when it drove over a land mi...   \n",
       "37  \\nA liberal lawmaker who planned to run for pr...   \n",
       "38  \\nTorturers and bombers who carried out atroci...   \n",
       "39  \\nAt first, the passing bicyclist thought the ...   \n",
       "40  \\nANKARA, Turkey (AP) - Prime Minister Mesut Y...   \n",
       "41  \\nWhile veterans and civic leaders devote Wedn...   \n",
       "42  \\nA fire turned a Swedish dance hall jammed wi...   \n",
       "43  \\nA strong sign that this city is going bonker...   \n",
       "44  \\nHouse and Senate negotiators agreed Thursday...   \n",
       "45  \\nPresident Boris Yeltsin has suffered minor b...   \n",
       "46  \\nIn the summer of 1995, a whiff of revolution...   \n",
       "47  \\nPolice and soldiers on Friday blocked off th...   \n",
       "48  \\nThe commander of Lebanon's army will become ...   \n",
       "49  \\nHours before China was expected to sign a ke...   \n",
       "\n",
       "                                            Summaries  \n",
       "0   Prospects were dim for resolution of the polit...  \n",
       "1   Hurricane Mitch approached Honduras on Oct. 27...  \n",
       "2   Britain caused international controversy and C...  \n",
       "3   After the bombing of U.S. embassies in East Af...  \n",
       "4   In a dispute over a new collective bargaining ...  \n",
       "5   After years of civil war, Congo in October 199...  \n",
       "6   Prospects for the Asia-Pacific Economic Cooper...  \n",
       "7   On Nov. 6, 1998 a suicide auto-bomb attack on ...  \n",
       "8   Malaysian Prime Minister Mahathir Mohamad rule...  \n",
       "9   On Oct. 4, 1998 Yugoslav President Milosevic o...  \n",
       "10  Famine had become the rule as North Korea ente...  \n",
       "11  Despite concern that corruption, incompetence ...  \n",
       "12  On the eve of China's signing the Internationa...  \n",
       "13  James Carville complained that fellow Democrat...  \n",
       "14  As the U.S. government pressed its antitrust c...  \n",
       "15  In October 1998 amid worldwide financial crise...  \n",
       "16  In early October 1998 Turkey moved 10,000 troo...  \n",
       "17  As contestants prepared for the 1998 running o...  \n",
       "18  After discarding a suggested change of orbit, ...  \n",
       "19  Eleven countries were to adopt a common Europe...  \n",
       "20  Indonesia invaded the former Portuguese territ...  \n",
       "21  One of those mentioned for the 1998 Nobel Lite...  \n",
       "22  Prior to his appointment as foreign minister b...  \n",
       "23  In December 1998 a story broke that relatives ...  \n",
       "24  The Wye River Accord provided for an airport a...  \n",
       "25  Kofi Annan talked with Gadhafi in Libya on bri...  \n",
       "26  PKK leader Ocalan was arrested on arrival at t...  \n",
       "27  Exxon and Mobil consider merger.\\nPartnerships...  \n",
       "28  House Speaker-elect Robert L. Livingston was f...  \n",
       "29  NASA and the Russian Space Agency readied the ...  \n",
       "30  Latin leaders at Ibero-American summit explore...  \n",
       "31  S. Korea says N. Korea may be producing pluton...  \n",
       "32  Acknowledging his mistakes, Clinton supports D...  \n",
       "33  The UN war crimes tribunal demands Yugoslavia'...  \n",
       "34  Clinton will visit Israel, Gaza and the West b...  \n",
       "35  Italy's Communist Refounding Party rejected Pr...  \n",
       "36  In Chechnya, 3-5 people a week, many of them c...  \n",
       "37  Liberal Russian lawmaker Galina Starovoitova w...  \n",
       "38  The Truth and Reconciliation Commission, which...  \n",
       "39  1,000 people mourned Matthew Shepherd, the gay...  \n",
       "40  Turkey's Prime Minister Yilmaz was ousted by a...  \n",
       "41  Dr. Barnett Slepian, the mainstay of Buffalo's...  \n",
       "42  At least 60 teenagers were killed and another ...  \n",
       "43  The New York Yankees prevailed in the sixth ga...  \n",
       "44  Budget negotiations between the White House an...  \n",
       "45  Concern over the health of President Boris Yel...  \n",
       "46  The government suit against Microsoft is the m...  \n",
       "47  Terrorists bombed the US embassy in Nairobi, k...  \n",
       "48  Power in Lebanon is shared equally by a Maroni...  \n",
       "49  While China plans to sign the International Co...  "
      ]
     },
     "execution_count": 82,
     "metadata": {},
     "output_type": "execute_result"
    }
   ],
   "source": [
    "data = pd.read_csv(\"Duc_dataset_first_ref_summary.csv\",index_col=0)\n",
    "data"
   ]
  },
  {
   "cell_type": "code",
   "execution_count": 83,
   "metadata": {},
   "outputs": [
    {
     "name": "stderr",
     "output_type": "stream",
     "text": [
      "100%|██████████| 50/50 [01:29<00:00,  1.79s/it]\n"
     ]
    }
   ],
   "source": [
    "sentences,filtered_sentences = process_df(data)"
   ]
  },
  {
   "cell_type": "code",
   "execution_count": 84,
   "metadata": {},
   "outputs": [
    {
     "name": "stderr",
     "output_type": "stream",
     "text": [
      "100%|██████████| 50/50 [00:03<00:00, 15.35it/s]\n"
     ]
    }
   ],
   "source": [
    "text_matchin_summaries = summarize_with(sentences,filtered_sentences,text_matching_algorithm,size=2)"
   ]
  },
  {
   "cell_type": "code",
   "execution_count": 85,
   "metadata": {},
   "outputs": [
    {
     "name": "stderr",
     "output_type": "stream",
     "text": [
      "100%|██████████| 50/50 [00:00<00:00, 1171.72it/s]\n"
     ]
    }
   ],
   "source": [
    "luhn_summaries = summarize_with(sentences,filtered_sentences,luhn_algorithm,size=2)"
   ]
  },
  {
   "cell_type": "code",
   "execution_count": 86,
   "metadata": {},
   "outputs": [
    {
     "name": "stderr",
     "output_type": "stream",
     "text": [
      "100%|██████████| 50/50 [00:01<00:00, 43.12it/s]\n"
     ]
    }
   ],
   "source": [
    "lsa_summaries = summarize_with(sentences,filtered_sentences,lsa_summarization,size=2)"
   ]
  },
  {
   "cell_type": "code",
   "execution_count": 87,
   "metadata": {},
   "outputs": [
    {
     "name": "stderr",
     "output_type": "stream",
     "text": [
      "100%|██████████| 50/50 [00:15<00:00,  3.18it/s]\n"
     ]
    }
   ],
   "source": [
    "LexRank_summaries = summarize_with(sentences,filtered_sentences,LexRank_algorithm,size=2)"
   ]
  },
  {
   "cell_type": "code",
   "execution_count": 88,
   "metadata": {},
   "outputs": [],
   "source": [
    "#nltk.download('punkt')"
   ]
  },
  {
   "cell_type": "code",
   "execution_count": 89,
   "metadata": {},
   "outputs": [
    {
     "name": "stderr",
     "output_type": "stream",
     "text": [
      "100%|██████████| 50/50 [01:01<00:00,  1.22s/it]\n"
     ]
    }
   ],
   "source": [
    "\"\"\"\n",
    "Parameters are dataframe of original summary and dataframe of system summary\n",
    "NOTE system summary is calculated in the cell above\n",
    "\"\"\"\n",
    "text_matchin_scores = rouge_scores_df(df=data, algorithm_summary_df=text_matchin_summaries)"
   ]
  },
  {
   "cell_type": "code",
   "execution_count": 90,
   "metadata": {},
   "outputs": [
    {
     "name": "stderr",
     "output_type": "stream",
     "text": [
      "100%|██████████| 50/50 [01:01<00:00,  1.23s/it]\n"
     ]
    }
   ],
   "source": [
    "luhn_scores = rouge_scores_df(df=data, algorithm_summary_df=luhn_summaries)"
   ]
  },
  {
   "cell_type": "code",
   "execution_count": 91,
   "metadata": {},
   "outputs": [
    {
     "name": "stderr",
     "output_type": "stream",
     "text": [
      "100%|██████████| 50/50 [01:00<00:00,  1.21s/it]\n"
     ]
    }
   ],
   "source": [
    "lsa_scores = rouge_scores_df(df=data, algorithm_summary_df=lsa_summaries)"
   ]
  },
  {
   "cell_type": "code",
   "execution_count": 92,
   "metadata": {},
   "outputs": [
    {
     "name": "stderr",
     "output_type": "stream",
     "text": [
      "100%|██████████| 50/50 [01:00<00:00,  1.22s/it]\n"
     ]
    }
   ],
   "source": [
    "LexRank_scores = rouge_scores_df(df=data, algorithm_summary_df=LexRank_summaries)"
   ]
  },
  {
   "cell_type": "code",
   "execution_count": 93,
   "metadata": {},
   "outputs": [],
   "source": [
    "#lexRank_scores.to_csv(\"lsa_algorithm_summary_on_BBC_dataset.csv\")\n",
    "# zx = pd.read_csv(\"lsa_algorithm_summary_on_BBC_dataset.csv\",index_col=0)\n",
    "# zx"
   ]
  },
  {
   "cell_type": "code",
   "execution_count": 94,
   "metadata": {},
   "outputs": [],
   "source": [
    "def df_avg_by_column(df):\n",
    "    row,col = df.shape\n",
    "    return df.sum()/row"
   ]
  },
  {
   "cell_type": "code",
   "execution_count": 95,
   "metadata": {},
   "outputs": [],
   "source": [
    "text_matchin_avg_scores = df_avg_by_column(text_matchin_scores)"
   ]
  },
  {
   "cell_type": "code",
   "execution_count": 96,
   "metadata": {},
   "outputs": [],
   "source": [
    "luhn_avg_scores = df_avg_by_column(luhn_scores)"
   ]
  },
  {
   "cell_type": "code",
   "execution_count": 97,
   "metadata": {},
   "outputs": [],
   "source": [
    "lsa_avg_scores = text_matchin_avg_scores = df_avg_by_column(lsa_scores)"
   ]
  },
  {
   "cell_type": "code",
   "execution_count": 98,
   "metadata": {},
   "outputs": [],
   "source": [
    "LexRank_avg_pscores = df_avg_by_column(LexRank_scores)"
   ]
  },
  {
   "cell_type": "code",
   "execution_count": 105,
   "metadata": {},
   "outputs": [
    {
     "data": {
      "text/plain": [
       "rouge1_fmeasure        tensor(0.1842)\n",
       "rouge1_precision       tensor(0.3563)\n",
       "rouge1_recall          tensor(0.1310)\n",
       "rouge2_fmeasure        tensor(0.0394)\n",
       "rouge2_precision       tensor(0.0792)\n",
       "rouge2_recall          tensor(0.0282)\n",
       "rougeL_fmeasure        tensor(0.1262)\n",
       "rougeL_precision       tensor(0.2490)\n",
       "rougeL_recall          tensor(0.0897)\n",
       "rougeLsum_fmeasure     tensor(0.1680)\n",
       "rougeLsum_precision    tensor(0.3273)\n",
       "rougeLsum_recall       tensor(0.1195)\n",
       "dtype: object"
      ]
     },
     "execution_count": 105,
     "metadata": {},
     "output_type": "execute_result"
    }
   ],
   "source": [
    "lsa_avg_scores"
   ]
  }
 ],
 "metadata": {
  "kernelspec": {
   "display_name": "Python 3",
   "language": "python",
   "name": "python3"
  },
  "language_info": {
   "codemirror_mode": {
    "name": "ipython",
    "version": 3
   },
   "file_extension": ".py",
   "mimetype": "text/x-python",
   "name": "python",
   "nbconvert_exporter": "python",
   "pygments_lexer": "ipython3",
   "version": "3.10.0"
  },
  "orig_nbformat": 4,
  "vscode": {
   "interpreter": {
    "hash": "480c14cd519d4cac626ed4e2ff26eb76a48d8461070c1f960eb23b2ab109b24d"
   }
  }
 },
 "nbformat": 4,
 "nbformat_minor": 2
}
