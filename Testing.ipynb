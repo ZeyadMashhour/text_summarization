{
 "cells": [
  {
   "cell_type": "code",
   "execution_count": 14,
   "metadata": {},
   "outputs": [],
   "source": [
    "from imported_libraries import *\n"
   ]
  },
  {
   "cell_type": "code",
   "execution_count": 15,
   "metadata": {},
   "outputs": [
    {
     "name": "stdout",
     "output_type": "stream",
     "text": [
      "\n"
     ]
    }
   ],
   "source": [
    "path = (r'')\n",
    "print(path)"
   ]
  },
  {
   "cell_type": "code",
   "execution_count": null,
   "metadata": {},
   "outputs": [],
   "source": []
  },
  {
   "cell_type": "code",
   "execution_count": 16,
   "metadata": {},
   "outputs": [
    {
     "data": {
      "text/plain": [
       "[\"\\nCambodian leader Hun Sen on Friday rejected opposition parties' demands \\nfor talks outside the country, accusing them of trying to ``internationalize'' \\nthe political crisis. Government and opposition parties have asked \\nKing Norodom Sihanouk to host a summit meeting after a series of post-election \\nnegotiations between the two opposition groups and Hun Sen's party \\nto form a new government failed. Opposition leaders Prince Norodom \\nRanariddh and Sam Rainsy, citing Hun Sen's threats to arrest opposition \\nfigures after two alleged attempts on his life, said they could not \\nnegotiate freely in Cambodia and called for talks at Sihanouk's residence \\nin Beijing. Hun Sen, however, rejected that. ``I would like to make \\nit clear that all meetings related to Cambodian affairs must be conducted \\nin the Kingdom of Cambodia,'' Hun Sen told reporters after a Cabinet \\nmeeting on Friday. ``No-one should internationalize Cambodian affairs. \\nIt is detrimental to the sovereignty of Cambodia,'' he said. Hun Sen's \\nCambodian People's Party won 64 of the 122 parliamentary seats in \\nJuly's elections, short of the two-thirds majority needed to form \\na government on its own. Ranariddh and Sam Rainsy have charged that \\nHun Sen's victory in the elections was achieved through widespread \\nfraud. They have demanded a thorough investigation into their election \\ncomplaints as a precondition for their cooperation in getting the \\nnational assembly moving and a new government formed. Hun Sen said \\non Friday that the opposition concerns over their safety in the country \\nwas ``just an excuse for them to stay abroad.'' Both Ranariddh and \\nSam Rainsy have been outside the country since parliament was ceremonially \\nopened on Sep. 24. Sam Rainsy and a number of opposition figures have \\nbeen under court investigation for a grenade attack on Hun Sen's Phnom \\nPenh residence on Sep. 7. Hun Sen was not home at the time of the \\nattack, which was followed by a police crackdown on demonstrators \\ncontesting Hun Sen's election victory. The Sam Rainsy Party, in a \\nstatement released Friday, accused Hun Sen of being ``unwilling to \\nmake any compromise'' on negotiations to break the deadlock. ``A meeting \\noutside Cambodia, as suggested by the opposition, could place all \\nparties on more equal footing,'' said the statement. ``But the ruling \\nparty refuses to negotiate unless it is able to threaten its negotiating \\npartners with arrest or worse.'' \\n\\nKing Norodom Sihanouk has declined requests to chair a summit of Cambodia's \\ntop political leaders, saying the meeting would not bring any progress \\nin deadlocked negotiations to form a government. Cambodian leader \\nHun Sen's ruling party and the two-party opposition had called on \\nthe monarch to lead top-level talks, but disagreed on its location. \\n``Papa will not preside over any summit meeting between the three \\nparties, whether it is held in Phnom Penh or Beijing, because such \\na meeting will certainly achieve no result,'' Sihanouk wrote in an \\nOct. 17 letter to his son, Prince Norodom Ranariddh, leader of the \\nsenior opposition FUNCINPEC party. A copy of the letter was obtained \\nThursday. In it, the king called on the three parties to make compromises \\nto end the stalemate: ``Papa would like to ask all three parties to \\ntake responsibility before the nation and the people.'' Hun Sen used \\nThursday's anniversary of a peace agreement ending the country's civil \\nwar to pressure the opposition to form a coalition government with \\nhis party. ``Only those who want to prolong the anarchy and instability \\nprevent efforts to set up a new government,'' Hun Sen said in a televised \\nspeech marking the anniversary of the 1991 Paris Peace Accords. Hun \\nSen's party won 64 of the 122 seats in parliament in July's national \\nelection, but not the two-thirds majority necessary to form a government \\non its own. Opposition parties led by Ranariddh and former finance \\nminister Sam Ram Rainsy have refused to enter into a coalition with \\nHun Sen until their allegations of election fraud have been thoroughly \\ninvestigated. International monitors said the election was relatively \\nfree and fair. Hun Sen said his current government would remain in \\npower as long as the opposition refused to form a new one. Ranariddh \\nand Sam Rainsy have remained outside the country since the Sept. 24 \\nceremonial convening of parliament. Citing Hun Sen's threats to arrest \\nopposition politicians following two alleged attempts on his life, \\nRanariddh and Sam Rainsy have said they do not feel safe negotiating \\ninside the country and asked the king to chair the summit at his residence \\nin Beijing. Hun Sen has rejected the opposition's reservations, saying \\nit would be inappropriate to hold a summit outside the country. Negotiations \\nso far have proved fruitless except for the opening of parliament \\nafter a Sept. 22 summit led by the king. Hun Sen implied Thursday \\nthat the opposition failed to follow through on promises made at the \\nsummit. ``If those results are strictly respected, there seems no \\nreason to hold another summit,'' Hun Sen said in a speech on the anniversary \\nof the 1991 Paris Peace Accords. Sihanouk is reportedly set to fly \\nto Beijing next month to receive medical treatment from his Chinese \\ndoctors. The 75-year-old monarch suffers from a variety ailments and \\nperiodically makes extended trips to Beijing. He was diagnosed with \\ncolon cancer in 1993, but it has since gone into remission. In September, \\nthousands of people filled the streets of Phnom Penh to protest against \\nthe alleged election fraud. Hun Sen ordered police to break up the \\ndemonstrations. At least four demonstrators were killed by police, \\nbut the discovery of more than 20 bodies in the aftermath has prompted \\nspeculation that the death tally could be much higher. In his speech, \\nHun Sen blamed the violence on opposition leaders, saying the demonstrations \\ninstigated social and economic chaos. \\n\\nCambodia's two-party opposition asked the Asian Development Bank Monday \\nto stop providing loans to the incumbent government, which it calls \\nillegal. Negotiations to form the next government have become deadlocked, \\nand opposition party leaders Prince Norodom Ranariddh and Sam Rainsy \\nare out of the country following threats of arrest from strongman \\nHun Sen. Hun Sen complained Monday that the opposition was trying \\nto make its members' return an international issue. Hun Sen's ruling \\nparty narrowly won a majority in elections in July, but the opposition \\n_ claiming widespread intimidation and fraud _ has denied Hun Sen \\nthe two-thirds vote in parliament required to approve the next government. \\nMeanwhile, it says, the old government is holding power illegally. \\nRanariddh and Sam Rainsy renewed their international lobbying campaign \\nagainst the old government Monday in a letter to ADB President Mitsuo \\nSato calling for the bank to stop lending money to it. ``We respectfully \\nadvise the Asian Development Bank not to provide any new loans to \\nthe current regime in Cambodia,'' the two party leaders wrote. ``At \\nbest the current regime could be considered a caretaker government \\nas it has not been approved by the National Assembly.'' After a meeting \\nbetween Hun Sen and the new French ambassador to Cambodia, Hun Sen \\naide Prak Sokhonn said the Cambodian leader had repeated calls for \\nthe opposition to return, but expressed concern that the international \\ncommunity may be asked for security guarantees. ``There have been \\nreports that there is an attempt to internationalize the return of \\nthose members of parliament on the excuse of security problems,'' \\nPrak Sokhonn said. ``Some (opposition politicians) have wanted the \\nUnited Nations to help guarantee a safe return for them.'' The U.N. \\nsecretary-general's representative office in Phnom Penh provided monitors \\nto opposition politicians after they returned to Cambodia to participate \\nin the July election. The monitoring ended Sept. 30. ``Our office \\nhas not received any official request for that operation to be started \\nup again,'' U.N. diplomat Jonathan Prentice said Monday in reaction \\nto Prak Sokhonn's statement. The opposition has insisted that any \\nfurther talks on the next government must take place outside the country, \\nbut the ruling party has rejected allegations of intimidation and \\nrecently guaranteed opposition members' safety inside the country. \\nDiplomatic efforts to revive the stalled talks appeared to bear fruit \\nMonday as Japanese Foreign Affairs Secretary of State Nobutaka Machimura \\nsaid King Norodom Sihanouk has called on Ranariddh and Sam Rainsy \\nto return to Cambodia. Less than two weeks after abandoning hope that \\nhe could influence the parties to reach a compromise, Sihanouk is \\nnow ``strongly interested'' in presiding over a summit meeting of \\nthe three party leaders in Cambodia, Machimura said. \\n\\nCambodia's ruling party responded Tuesday to criticisms of its leader \\nin the U.S. Congress with a lengthy defense of strongman Hun Sen's \\nhuman rights record. The Cambodian People's Party criticized a non-binding \\nresolution passed earlier this month by the U.S. House of Representatives \\ncalling for an investigation into violations of international humanitarian \\nlaw allegedly committed by Hun Sen. Events mentioned in the resolution \\ninclude Hun Sen's coup last year against his co-prime minister, Prince \\nNorodom Ranariddh, and his violent crackdown in September against \\nanti-government demonstrations. A copy of the resolution has since \\nbeen submitted to the U.S. Senate Committee on Foreign Relations. \\n``The CPP would like to launch an appeal to U.S. senators to wisely \\nand realistically consider this draft resolution and give justice \\nto the CPP, Hun Sen and the Cambodian people by not approving it,'' \\nthe party said in a statement. It defended Hun Sen's ouster of Ranariddh \\nas a proper response to the prince's attempts at the time to negotiate \\nthe defections of senior Khmer Rouge rebels. It also repeated claims \\nthat the prince's party had moved rebel soldiers into Phnom Penh, \\na contention that remains unproved. The killings of nearly 100 of \\nRanariddh's supporters documented by U.N. human rights workers in \\nthe aftermath of the coup were dismissed by the CPP as mostly fabrications \\nmeant to distort the political situation. Ranariddh and his core supporters \\ndid not return to Cambodia until a few months before an election in \\nJuly this year that the ruling party narrowly won. Ranariddh and his \\nopposition ally, Sam Rainsy, refused to accept the election results, \\nalleging widespread intimidation and fraud by the CPP. When their \\nclaims were dismissed by a Hun Sen-friendly court, they rallied their \\nsupporters into the streets of Phnom Penh. After two weeks of tolerating \\nthe demonstrations, Hun Sen ordered a violent crackdown that resulted \\nin the deaths of at least four protesters. U.N. human rights workers \\nlater discovered more than 20 bodies _ many bearing signs of torture \\n_ in and around the capital, prompting speculation that the death \\ntoll could be much higher. The ruling party supported the police action \\nin its statement, noting that public property was damaged by protesters \\nand that grenades were thrown at Hun Sen's home after Sam Rainsy suggested \\nin a speech that the U.S. government should fire cruise missiles at \\nHun Sen. The opposition claims the grenade attack was staged as an \\nexcuse to begin the crackdown. ``The leaders of illegal demonstrations \\nare the ones who must bear responsibility for the consequences deriving \\nfrom the protest,'' the CPP said Tuesday, referring to the deadly \\nviolence as ``minor incidents.'' The ruling party also reminded the \\nUnited States that Washington supported a Cambodian exile government \\ndominated by the brutal Khmer Rouge in the 1980s. The Khmer Rouge \\nwas responsible for the deaths of as many as 2 million people during \\nthe guerrilla group's 1975-79 rule of Cambodia. After a series of \\nborder clashes, the Khmer Rouge was ousted from power by an invading \\nVietnamese army that set up a surrogate Cambodian communist government \\nlater led by Hun Sen. The ruling party accused U.S. policy-makers \\nof not taking timely action to save the Cambodian people from the \\nKhmer Rouge. ``They must not make unjust accusations against those \\nwho led the struggle to liberate the people from genocide,'' it added. \\n\\nCambodia's leading opposition party ruled out sharing the presidency \\nof Parliament with its arch foe Saturday, insisting it alone must \\noccupy the top position in the legislative body. Disputes over the \\npresidency have been a major stumbling block in talks between the \\ntwo-party opposition bloc and the Cambodian People's Party to form \\na new government. Cambodian leader Hun Sen, who heads the CPP, has \\noffered to share the legislature's top job with the royalist FUNCINPEC \\nparty of Prince Norodom Ranariddh in order to break the impasse. The \\nprince's party, in a statement dated Friday and seen Saturday, said \\nsuch a scenario was unconstitutional. ``Co-sharing anything with the \\nCPP means surrendering full power to them. Furthermore, such a proposal \\nis unconstitutional,'' the faxed statement said. The royalist party \\nalso rejected Hun Sen's calls to hold bilateral talks, insisting that \\nRanariddh's main ally Sam Rainsy also be included. ``No party with \\nseats at the National Assembly should be left out if transparency \\nand a check and balance system is to be used in government,'' the \\nstatement said, adding that the Sam Rainsy Party should also be given \\nchairmanship of one of the national assembly's nine commissions. Noting \\nthat FUNCINPEC allowed the CPP to hold the presidency despite its \\nwin in the 1993 general elections, the statement said it was now its \\nturn to take the post. In the most recent elections, held in July, \\nHun Sen's party collected 64 of the 122 parliamentary seats, but was \\nshort of the two-thirds majority needed to set up a new government. \\nFearing arrest, many opposition members of Parliament left Cambodia \\nafter the ceremonial opening of the National Assembly on Sep. 24. \\nA series of negotiations to forge a new government have failed. The \\ntalks have been complicated by the CPP-FUNCINPEC quarrel over the \\nParliament's top job. Hun Sen's party recently called on Ranariddh \\nto return to the negotiation table and said it was willing to make \\nan ``appropriate concession'' to break the deadlock over forming a \\ngovernment. FUNCINPEC has demanded from Hun Sen written guarantees \\nfor the safety of its members and activities as a precondition for \\nre-entering negotiations. \\n\\nCambodia's bickering political parties broke a three-month deadlock \\nFriday and agreed to a coalition government leaving strongman Hun \\nSen as sole prime minister, King Norodom Sihanouk announced. In a \\nlong-elusive compromise, opposition leader Prince Norodom Ranariddh \\nwill become president of the National Assembly resulting from disputed \\nelections in July, even though Hun Sen's party holds a majority of \\n64 seats in the 122-member chamber. Hun Sen's Cambodian People's Party \\ndropped insistence on a joint assembly chairmanship shared by Ranariddh \\nand party boss Chea Sim, the current speaker. It was one of the main \\nstumbling blocks in months of discord. Instead, Sihanouk announced, \\nthe constitution will be modified to create a new Senate, which Chea \\nSim will head. Chea Sim will still serve as acting head of state during \\nthe king's frequent absences from the country. ``The major political \\ncrisis in the country has been resolved and the political deadlock \\nfacing the nation has also come to an end,'' the king said in his \\nstatement. The Senate will initially be appointed by the king. The \\nagreement did not say how many seats there would be, nor how they \\nwould be divided. The parties will hammer out details later. Pok Than, \\none of Ranariddh's negotiators, said the Senate would serve a mostly \\nadvisory role to the assembly. The senior Senate leaders will join \\nthose of the assembly, the prime minister and the country's top two \\nBuddhist monks in a delicate balance of power on the council that \\nwill choose Cambodia's next king after Sihanouk dies. The two parties \\nsaid that the assembly would convene again Nov. 25. The agreement \\ncame surprisingly quickly following Ranariddh's return Thursday from \\nThailand, where he had been holed up with other opposition figures \\nfor weeks amid fears for their safety if they stayed in Cambodia. \\nThe deal should allow rapid formation of a government between the \\nCPP and Ranariddh's royalist FUNCINPEC to allow international donors \\nand businesses to again operate in the poverty-stricken country, which \\nis in desperate need of aid. It could also hasten Cambodia's entry \\ninto the Association of Southeast Asian Nations, put on hold last \\nyear after Hun Sen deposed Ranariddh as co-prime minister in a bloody \\ncoup. Earlier, as both sides arrived at the Royal Palace for a second \\nday of meetings, Sihanouk said they had agreed in principle to form \\na coalition and made ``important concessions.'' The king, the sole \\nforce in Cambodian politics able to broker a deal, pressured both \\nsides to reach agreement before he leaves Saturday for medical treatment \\nin Beijing. Sihanouk reported that Hun Sen responded positively to \\na request by Ranariddh for five of his key supporters to receive political \\npardons. All five were convicted of political crimes by courts that \\nare widely seen as loyal to Hun Sen. The king has powers to grant \\npardons, but has awaited agreement from Hun Sen in politically sensitive \\ncases. Former battlefield enemies, the CPP and FUNCINPEC have been \\nat loggerheads since the CPP narrowly won parliamentary elections \\nin July. The vote failed to put an end to instability that followed \\nlast year's coup. The CPP fell short of the two-thirds majority needed \\nto form a government alone. Ranariddh's party and opposition ally \\nSam Rainsy held back their support, claiming the CPP won due to fraud \\nand intimidation. The opposition organized protests in Phnom Penh \\nseeking Hun Sen's ouster that were violently dispersed. Sam Rainsy, \\nunder investigation by a Phnom Penh court for his role in the demonstrations, \\nhas remained abroad. His 15 seats in the 122-seat assembly are irrelevant \\nto forming a working government. \\n\\nCambodian politicians expressed hope Monday that a new partnership \\nbetween the parties of strongman Hun Sen and his rival, Prince Norodom \\nRanariddh, in a coalition government would not end in more violence. \\nHun Sen and Ranariddh, co-prime ministers in a coalition formed in \\n1993 after a landmark U.N.-sponsored election, often clashed over \\npower-sharing and the integration of guerrilla fighters from the crumbling \\nKhmer Rouge. Their arguments turned bloody last year when Hun Sen \\nousted Ranariddh in a coup. The prince fled Cambodia and did not return \\nuntil a few months before elections in July. Hun Sen's Cambodian People's \\nParty narrowly won the polls, but a strong second-place finish by \\nRanariddh's FUNCINPEC gave the royalist party leverage in post-election \\nnegotiations. After a three-month impasse, they agreed last week to \\na coalition deal that will make Hun Sen sole prime minister and Ranariddh \\npresident of the National Assembly. ``This will not be a repetition \\nof 1993 because there will not be two prime ministers,'' said Hun \\nSen aide Prak Sokhon, who attended last week's summit. ``When we had \\ntwo prime ministers, everything moved very slowly and decisions were \\nmade more politically than technically.'' Ranariddh said Saturday \\nthat the two parties agreed to keep the ministries of interior and \\ndefense under co-ministers. Senior FUNCINPEC official Ahmad Yahya \\nrevealed Monday that it was also agreed that the CPP would control \\nthe foreign affairs and finance portfolios. FUNCINPEC will take justice \\nand information. The parties are to form working groups this week \\nto divide remaining government posts and draft a constitutional amendment \\nto form a new Senate. Hun Sen and Ranariddh are scheduled to meet \\nNov. 23 _ two days before parliament reopens _ to review the results \\nof the working groups and give their final approval, Ahmad Yahya said. \\nTheir ability to repair their relationship and work together will \\nbe the key to a stable coalition. ``I consider this a remarriage,'' \\nAhmad Yahya said. ``They have to be careful with the way they work \\nand what they say. They will have to compromise to achieve results.'' \\nRanariddh's ally, Sam Rainsy, whose party placed a distant third in \\nthe election, was left out of last week's deal. Sam Rainsy, a virulent \\ncritic of Hun Sen, and his party's 14 other members of parliament \\nhave remained outside Cambodia since September amid fears for their \\nsecurity. In a letter to King Norodom Sihanouk released Monday, Sam \\nRainsy complained that Hun Sen had not responded to his queries on \\nsecurity, making it unsafe for his people to return for the reconvening \\nof parliament. Sam Rainsy said he had been told by Ranariddh that \\nhis party and former Khmer Rouge guerrillas had been implicated by \\nHun Sen in a rocket attack on the Sept. 24 opening of parliament. \\nAuthorities have called it an assassination attempt on Hun Sen. A \\npolice general investigating the attack said Monday that likely suspects \\nhave been identified, but he would not reveal names or their political \\naffiliation. \\n\\nCambodian leader Hun Sen has guaranteed the safety and political freedom \\nof all politicians, trying to ease the fears of his rivals that they \\nwill be arrested or killed if they return to the country. The assurances \\nwere aimed especially at Sam Rainsy, leader of a vocally anti-Hun \\nSen opposition party, who was forced to take refuge in the U.N. offices \\nin September to avoid arrest after Hun Sen accused him of being behind \\na plot against his life. Sam Rainsy and the 14 members of parliament \\nfrom his party have been holed up overseas for two months. But a deal \\nreached between Hun Sen and his chief rival, Prince Norodom Ranariddh, \\non forming a new government last week has opened the door for their \\nreturn. In a letter to King Norodom Sihanouk _ the prince's father \\nand Cambodia's head of state _ that was broadcast on television Tuesday, \\nHun Sen said that guarantees of safety extended to Ranariddh applied \\nto all politicians. His assurances come a week before the first session \\nof Cambodia's new parliament, the National Assembly. Sam Rainsy said \\nWednesday that he was unsatisfied with the guarantee. He said it contained \\nindirect language and loopholes that suggest he and his Sam Rainsy \\nParty members are still under threat of arrest from Hun Sen's ruling \\nparty. ``It should be easy for them to say, `Rainsy and the SRP members \\nof the assembly have no charges against them and will not be arrested,''' \\nthe opposition leader said in a statement. ``But instead they make \\nroundabout statements, full of loopholes that can easily be exploited \\nby a legal system that is completely in their control.'' Ranariddh \\ntold reporters Wednesday that he believed it was safe for Sam Rainsy \\nin Cambodia. Speaking upon his return from a brief stay in Bangkok, \\nthe prince said he would soon meet with Hun Sen to discuss the apportioning \\nof ministries in the new coalition government. Last week, Hun Sen's \\nCambodian People's Party and Ranariddh's FUNCINPEC party agreed to \\nform a coalition that would leave Hun Sen as sole prime minister and \\nmake the prince president of the National Assembly. The deal assures \\nthe two-thirds vote in parliament needed to approve a new government. \\nThe men served as co-prime ministers until Hun Sen overthrew Ranariddh \\nin a coup last year. ``I think Hun Sen has got everything. He's got \\nthe premiership and legitimacy through the election and recognition \\nfrom his majesty the king. I don't think there is any benefit for \\nHun Sen to cause instability for our country,'' Ranariddh said. The \\nprince also said that his top general, Nhek Bunchhay, would not be \\ngiven back his previous position as the second-ranking general in \\nthe Cambodian military's general staff. Nhek Bunchhay's outnumbered \\nforces in the capital put up tough but unsuccessful resistance to \\nlast year's coup. \\n\\nWorried that party colleagues still face arrest for their politics, \\nopposition leader Sam Rainsy sought further clarification Friday of \\nsecurity guarantees promised by strongman Hun Sen. Sam Rainsy wrote \\nin a letter to King Norodom Sihanouk that he was eager to attend the \\nfirst session of the new National Assembly on Nov. 25, but complained \\nthat Hun Sen's assurances were not strong enough to ease concerns \\nhis party members may be arrested upon their return to Cambodia. Hun \\nSen announced a government guarantee Wednesday of all politicians' \\nsafety and their right to conduct political activities ``in accordance \\nwith the laws in force.'' Sam Rainsy, who earlier called Hun Sen's \\nstatement ``full of loopholes,'' asked Sihanouk for his help in obtaining \\na promise from Hun Sen that all members of the Sam Rainsy Party were \\nfree from prosecution for their political activities during and after \\nlast July's election. Sam Rainsy, a staunch critic of Hun Sen, was \\nforced to take refuge in a U.N. office in September to avoid arrest \\nafter Hun Sen accused him of being behind a plot against his life. \\nThe alleged assassination attempt came during massive street demonstrations \\norganized by the opposition after Hun Sen's Cambodian People's Party \\nnarrowly won the election. The opposition, alleging widespread fraud \\nand intimidation, refused to accept the results of the polls. Fearing \\nfor their safety, Sam Rainsy and his then-ally Prince Norodom Ranariddh \\nled an exodus of opposition lawmakers out of Cambodia after parliament \\nwas ceremonially opened in late September. Ranariddh, whose FUNCINPEC \\nparty finished a close second in the election, returned last week \\nand struck a deal with Hun Sen to form a coalition government. The \\nagreement will make Hun Sen prime minister and Ranariddh president \\nof the National Assembly. The two parties have formed three working \\ngroups to hammer out details of the agreement, including the establishment \\nof a Senate to be the upper house of parliament. Sok An, representing \\nHun Sen's party, said Friday that one working group had completed \\nits work on a joint political platform to be implemented by the new \\ngovernment. The platform is said to emphasize administrative, economic \\nand judicial reforms, but Sok An would not reveal details, saying \\nHun Sen would announce it when he presents his Cabinet choices to \\nthe National Assembly. \\n\\nKing Norodom Sihanouk on Tuesday praised agreements by Cambodia's \\ntop two political parties _ previously bitter rivals _ to form a coalition \\ngovernment led by strongman Hun Sen. In a short letter sent to news \\nagencies, the king said he had received copies of cooperation agreements \\nsigned Monday that will place Hun Sen and his Cambodian People's Party \\nin firm control of fiscal and administrative functions in the government. \\n``The protocol on cooperation between the CPP and FUNCINPEC will certainly \\nbring peace and progress to our nation and people,'' Sihanouk wrote. \\nUncompromising enemies just a few months ago, Hun Sen and FUNCINPEC \\nPresident Prince Norodom Ranariddh agreed Nov. 13 to form a government \\nat a summit convened by Sihanouk. The deal, which will make Hun Sen \\nprime minister and Ranariddh president of the National Assembly, ended \\nmore than three months of political deadlock that followed a July \\nelection narrowly won by Hun Sen. Key to the agreement was the formation \\nof a Senate as the upper house of Parliament, to be led by CPP President \\nChea Sim, the outgoing head of the National Assembly. Sihanouk, recalling \\nprocedures used in a past government, suggested Tuesday that he should \\nappoint the first two members of the upper house. The remaining senators, \\nhe said, should be selected by a method agreed upon by the new government \\nand the National Assembly. Hun Sen said Monday that the CPP and FUNCINPEC \\nhad agreed that the Senate would be half as large as the 122-seat \\nNational Assembly. Other details of the Senate, including how much \\npower it will be given in the promulgation of legislation, have yet \\nto be ironed out by the two parties. \\n\"]"
      ]
     },
     "execution_count": 16,
     "metadata": {},
     "output_type": "execute_result"
    }
   ],
   "source": [
    "text = \"\\nCambodian leader Hun Sen on Friday rejected opposition parties' demands \\nfor talks outside the country, accusing them of trying to ``internationalize'' \\nthe political crisis. Government and opposition parties have asked \\nKing Norodom Sihanouk to host a summit meeting after a series of post-election \\nnegotiations between the two opposition groups and Hun Sen's party \\nto form a new government failed. Opposition leaders Prince Norodom \\nRanariddh and Sam Rainsy, citing Hun Sen's threats to arrest opposition \\nfigures after two alleged attempts on his life, said they could not \\nnegotiate freely in Cambodia and called for talks at Sihanouk's residence \\nin Beijing. Hun Sen, however, rejected that. ``I would like to make \\nit clear that all meetings related to Cambodian affairs must be conducted \\nin the Kingdom of Cambodia,'' Hun Sen told reporters after a Cabinet \\nmeeting on Friday. ``No-one should internationalize Cambodian affairs. \\nIt is detrimental to the sovereignty of Cambodia,'' he said. Hun Sen's \\nCambodian People's Party won 64 of the 122 parliamentary seats in \\nJuly's elections, short of the two-thirds majority needed to form \\na government on its own. Ranariddh and Sam Rainsy have charged that \\nHun Sen's victory in the elections was achieved through widespread \\nfraud. They have demanded a thorough investigation into their election \\ncomplaints as a precondition for their cooperation in getting the \\nnational assembly moving and a new government formed. Hun Sen said \\non Friday that the opposition concerns over their safety in the country \\nwas ``just an excuse for them to stay abroad.'' Both Ranariddh and \\nSam Rainsy have been outside the country since parliament was ceremonially \\nopened on Sep. 24. Sam Rainsy and a number of opposition figures have \\nbeen under court investigation for a grenade attack on Hun Sen's Phnom \\nPenh residence on Sep. 7. Hun Sen was not home at the time of the \\nattack, which was followed by a police crackdown on demonstrators \\ncontesting Hun Sen's election victory. The Sam Rainsy Party, in a \\nstatement released Friday, accused Hun Sen of being ``unwilling to \\nmake any compromise'' on negotiations to break the deadlock. ``A meeting \\noutside Cambodia, as suggested by the opposition, could place all \\nparties on more equal footing,'' said the statement. ``But the ruling \\nparty refuses to negotiate unless it is able to threaten its negotiating \\npartners with arrest or worse.'' \\n\\nKing Norodom Sihanouk has declined requests to chair a summit of Cambodia's \\ntop political leaders, saying the meeting would not bring any progress \\nin deadlocked negotiations to form a government. Cambodian leader \\nHun Sen's ruling party and the two-party opposition had called on \\nthe monarch to lead top-level talks, but disagreed on its location. \\n``Papa will not preside over any summit meeting between the three \\nparties, whether it is held in Phnom Penh or Beijing, because such \\na meeting will certainly achieve no result,'' Sihanouk wrote in an \\nOct. 17 letter to his son, Prince Norodom Ranariddh, leader of the \\nsenior opposition FUNCINPEC party. A copy of the letter was obtained \\nThursday. In it, the king called on the three parties to make compromises \\nto end the stalemate: ``Papa would like to ask all three parties to \\ntake responsibility before the nation and the people.'' Hun Sen used \\nThursday's anniversary of a peace agreement ending the country's civil \\nwar to pressure the opposition to form a coalition government with \\nhis party. ``Only those who want to prolong the anarchy and instability \\nprevent efforts to set up a new government,'' Hun Sen said in a televised \\nspeech marking the anniversary of the 1991 Paris Peace Accords. Hun \\nSen's party won 64 of the 122 seats in parliament in July's national \\nelection, but not the two-thirds majority necessary to form a government \\non its own. Opposition parties led by Ranariddh and former finance \\nminister Sam Ram Rainsy have refused to enter into a coalition with \\nHun Sen until their allegations of election fraud have been thoroughly \\ninvestigated. International monitors said the election was relatively \\nfree and fair. Hun Sen said his current government would remain in \\npower as long as the opposition refused to form a new one. Ranariddh \\nand Sam Rainsy have remained outside the country since the Sept. 24 \\nceremonial convening of parliament. Citing Hun Sen's threats to arrest \\nopposition politicians following two alleged attempts on his life, \\nRanariddh and Sam Rainsy have said they do not feel safe negotiating \\ninside the country and asked the king to chair the summit at his residence \\nin Beijing. Hun Sen has rejected the opposition's reservations, saying \\nit would be inappropriate to hold a summit outside the country. Negotiations \\nso far have proved fruitless except for the opening of parliament \\nafter a Sept. 22 summit led by the king. Hun Sen implied Thursday \\nthat the opposition failed to follow through on promises made at the \\nsummit. ``If those results are strictly respected, there seems no \\nreason to hold another summit,'' Hun Sen said in a speech on the anniversary \\nof the 1991 Paris Peace Accords. Sihanouk is reportedly set to fly \\nto Beijing next month to receive medical treatment from his Chinese \\ndoctors. The 75-year-old monarch suffers from a variety ailments and \\nperiodically makes extended trips to Beijing. He was diagnosed with \\ncolon cancer in 1993, but it has since gone into remission. In September, \\nthousands of people filled the streets of Phnom Penh to protest against \\nthe alleged election fraud. Hun Sen ordered police to break up the \\ndemonstrations. At least four demonstrators were killed by police, \\nbut the discovery of more than 20 bodies in the aftermath has prompted \\nspeculation that the death tally could be much higher. In his speech, \\nHun Sen blamed the violence on opposition leaders, saying the demonstrations \\ninstigated social and economic chaos. \\n\\nCambodia's two-party opposition asked the Asian Development Bank Monday \\nto stop providing loans to the incumbent government, which it calls \\nillegal. Negotiations to form the next government have become deadlocked, \\nand opposition party leaders Prince Norodom Ranariddh and Sam Rainsy \\nare out of the country following threats of arrest from strongman \\nHun Sen. Hun Sen complained Monday that the opposition was trying \\nto make its members' return an international issue. Hun Sen's ruling \\nparty narrowly won a majority in elections in July, but the opposition \\n_ claiming widespread intimidation and fraud _ has denied Hun Sen \\nthe two-thirds vote in parliament required to approve the next government. \\nMeanwhile, it says, the old government is holding power illegally. \\nRanariddh and Sam Rainsy renewed their international lobbying campaign \\nagainst the old government Monday in a letter to ADB President Mitsuo \\nSato calling for the bank to stop lending money to it. ``We respectfully \\nadvise the Asian Development Bank not to provide any new loans to \\nthe current regime in Cambodia,'' the two party leaders wrote. ``At \\nbest the current regime could be considered a caretaker government \\nas it has not been approved by the National Assembly.'' After a meeting \\nbetween Hun Sen and the new French ambassador to Cambodia, Hun Sen \\naide Prak Sokhonn said the Cambodian leader had repeated calls for \\nthe opposition to return, but expressed concern that the international \\ncommunity may be asked for security guarantees. ``There have been \\nreports that there is an attempt to internationalize the return of \\nthose members of parliament on the excuse of security problems,'' \\nPrak Sokhonn said. ``Some (opposition politicians) have wanted the \\nUnited Nations to help guarantee a safe return for them.'' The U.N. \\nsecretary-general's representative office in Phnom Penh provided monitors \\nto opposition politicians after they returned to Cambodia to participate \\nin the July election. The monitoring ended Sept. 30. ``Our office \\nhas not received any official request for that operation to be started \\nup again,'' U.N. diplomat Jonathan Prentice said Monday in reaction \\nto Prak Sokhonn's statement. The opposition has insisted that any \\nfurther talks on the next government must take place outside the country, \\nbut the ruling party has rejected allegations of intimidation and \\nrecently guaranteed opposition members' safety inside the country. \\nDiplomatic efforts to revive the stalled talks appeared to bear fruit \\nMonday as Japanese Foreign Affairs Secretary of State Nobutaka Machimura \\nsaid King Norodom Sihanouk has called on Ranariddh and Sam Rainsy \\nto return to Cambodia. Less than two weeks after abandoning hope that \\nhe could influence the parties to reach a compromise, Sihanouk is \\nnow ``strongly interested'' in presiding over a summit meeting of \\nthe three party leaders in Cambodia, Machimura said. \\n\\nCambodia's ruling party responded Tuesday to criticisms of its leader \\nin the U.S. Congress with a lengthy defense of strongman Hun Sen's \\nhuman rights record. The Cambodian People's Party criticized a non-binding \\nresolution passed earlier this month by the U.S. House of Representatives \\ncalling for an investigation into violations of international humanitarian \\nlaw allegedly committed by Hun Sen. Events mentioned in the resolution \\ninclude Hun Sen's coup last year against his co-prime minister, Prince \\nNorodom Ranariddh, and his violent crackdown in September against \\nanti-government demonstrations. A copy of the resolution has since \\nbeen submitted to the U.S. Senate Committee on Foreign Relations. \\n``The CPP would like to launch an appeal to U.S. senators to wisely \\nand realistically consider this draft resolution and give justice \\nto the CPP, Hun Sen and the Cambodian people by not approving it,'' \\nthe party said in a statement. It defended Hun Sen's ouster of Ranariddh \\nas a proper response to the prince's attempts at the time to negotiate \\nthe defections of senior Khmer Rouge rebels. It also repeated claims \\nthat the prince's party had moved rebel soldiers into Phnom Penh, \\na contention that remains unproved. The killings of nearly 100 of \\nRanariddh's supporters documented by U.N. human rights workers in \\nthe aftermath of the coup were dismissed by the CPP as mostly fabrications \\nmeant to distort the political situation. Ranariddh and his core supporters \\ndid not return to Cambodia until a few months before an election in \\nJuly this year that the ruling party narrowly won. Ranariddh and his \\nopposition ally, Sam Rainsy, refused to accept the election results, \\nalleging widespread intimidation and fraud by the CPP. When their \\nclaims were dismissed by a Hun Sen-friendly court, they rallied their \\nsupporters into the streets of Phnom Penh. After two weeks of tolerating \\nthe demonstrations, Hun Sen ordered a violent crackdown that resulted \\nin the deaths of at least four protesters. U.N. human rights workers \\nlater discovered more than 20 bodies _ many bearing signs of torture \\n_ in and around the capital, prompting speculation that the death \\ntoll could be much higher. The ruling party supported the police action \\nin its statement, noting that public property was damaged by protesters \\nand that grenades were thrown at Hun Sen's home after Sam Rainsy suggested \\nin a speech that the U.S. government should fire cruise missiles at \\nHun Sen. The opposition claims the grenade attack was staged as an \\nexcuse to begin the crackdown. ``The leaders of illegal demonstrations \\nare the ones who must bear responsibility for the consequences deriving \\nfrom the protest,'' the CPP said Tuesday, referring to the deadly \\nviolence as ``minor incidents.'' The ruling party also reminded the \\nUnited States that Washington supported a Cambodian exile government \\ndominated by the brutal Khmer Rouge in the 1980s. The Khmer Rouge \\nwas responsible for the deaths of as many as 2 million people during \\nthe guerrilla group's 1975-79 rule of Cambodia. After a series of \\nborder clashes, the Khmer Rouge was ousted from power by an invading \\nVietnamese army that set up a surrogate Cambodian communist government \\nlater led by Hun Sen. The ruling party accused U.S. policy-makers \\nof not taking timely action to save the Cambodian people from the \\nKhmer Rouge. ``They must not make unjust accusations against those \\nwho led the struggle to liberate the people from genocide,'' it added. \\n\\nCambodia's leading opposition party ruled out sharing the presidency \\nof Parliament with its arch foe Saturday, insisting it alone must \\noccupy the top position in the legislative body. Disputes over the \\npresidency have been a major stumbling block in talks between the \\ntwo-party opposition bloc and the Cambodian People's Party to form \\na new government. Cambodian leader Hun Sen, who heads the CPP, has \\noffered to share the legislature's top job with the royalist FUNCINPEC \\nparty of Prince Norodom Ranariddh in order to break the impasse. The \\nprince's party, in a statement dated Friday and seen Saturday, said \\nsuch a scenario was unconstitutional. ``Co-sharing anything with the \\nCPP means surrendering full power to them. Furthermore, such a proposal \\nis unconstitutional,'' the faxed statement said. The royalist party \\nalso rejected Hun Sen's calls to hold bilateral talks, insisting that \\nRanariddh's main ally Sam Rainsy also be included. ``No party with \\nseats at the National Assembly should be left out if transparency \\nand a check and balance system is to be used in government,'' the \\nstatement said, adding that the Sam Rainsy Party should also be given \\nchairmanship of one of the national assembly's nine commissions. Noting \\nthat FUNCINPEC allowed the CPP to hold the presidency despite its \\nwin in the 1993 general elections, the statement said it was now its \\nturn to take the post. In the most recent elections, held in July, \\nHun Sen's party collected 64 of the 122 parliamentary seats, but was \\nshort of the two-thirds majority needed to set up a new government. \\nFearing arrest, many opposition members of Parliament left Cambodia \\nafter the ceremonial opening of the National Assembly on Sep. 24. \\nA series of negotiations to forge a new government have failed. The \\ntalks have been complicated by the CPP-FUNCINPEC quarrel over the \\nParliament's top job. Hun Sen's party recently called on Ranariddh \\nto return to the negotiation table and said it was willing to make \\nan ``appropriate concession'' to break the deadlock over forming a \\ngovernment. FUNCINPEC has demanded from Hun Sen written guarantees \\nfor the safety of its members and activities as a precondition for \\nre-entering negotiations. \\n\\nCambodia's bickering political parties broke a three-month deadlock \\nFriday and agreed to a coalition government leaving strongman Hun \\nSen as sole prime minister, King Norodom Sihanouk announced. In a \\nlong-elusive compromise, opposition leader Prince Norodom Ranariddh \\nwill become president of the National Assembly resulting from disputed \\nelections in July, even though Hun Sen's party holds a majority of \\n64 seats in the 122-member chamber. Hun Sen's Cambodian People's Party \\ndropped insistence on a joint assembly chairmanship shared by Ranariddh \\nand party boss Chea Sim, the current speaker. It was one of the main \\nstumbling blocks in months of discord. Instead, Sihanouk announced, \\nthe constitution will be modified to create a new Senate, which Chea \\nSim will head. Chea Sim will still serve as acting head of state during \\nthe king's frequent absences from the country. ``The major political \\ncrisis in the country has been resolved and the political deadlock \\nfacing the nation has also come to an end,'' the king said in his \\nstatement. The Senate will initially be appointed by the king. The \\nagreement did not say how many seats there would be, nor how they \\nwould be divided. The parties will hammer out details later. Pok Than, \\none of Ranariddh's negotiators, said the Senate would serve a mostly \\nadvisory role to the assembly. The senior Senate leaders will join \\nthose of the assembly, the prime minister and the country's top two \\nBuddhist monks in a delicate balance of power on the council that \\nwill choose Cambodia's next king after Sihanouk dies. The two parties \\nsaid that the assembly would convene again Nov. 25. The agreement \\ncame surprisingly quickly following Ranariddh's return Thursday from \\nThailand, where he had been holed up with other opposition figures \\nfor weeks amid fears for their safety if they stayed in Cambodia. \\nThe deal should allow rapid formation of a government between the \\nCPP and Ranariddh's royalist FUNCINPEC to allow international donors \\nand businesses to again operate in the poverty-stricken country, which \\nis in desperate need of aid. It could also hasten Cambodia's entry \\ninto the Association of Southeast Asian Nations, put on hold last \\nyear after Hun Sen deposed Ranariddh as co-prime minister in a bloody \\ncoup. Earlier, as both sides arrived at the Royal Palace for a second \\nday of meetings, Sihanouk said they had agreed in principle to form \\na coalition and made ``important concessions.'' The king, the sole \\nforce in Cambodian politics able to broker a deal, pressured both \\nsides to reach agreement before he leaves Saturday for medical treatment \\nin Beijing. Sihanouk reported that Hun Sen responded positively to \\na request by Ranariddh for five of his key supporters to receive political \\npardons. All five were convicted of political crimes by courts that \\nare widely seen as loyal to Hun Sen. The king has powers to grant \\npardons, but has awaited agreement from Hun Sen in politically sensitive \\ncases. Former battlefield enemies, the CPP and FUNCINPEC have been \\nat loggerheads since the CPP narrowly won parliamentary elections \\nin July. The vote failed to put an end to instability that followed \\nlast year's coup. The CPP fell short of the two-thirds majority needed \\nto form a government alone. Ranariddh's party and opposition ally \\nSam Rainsy held back their support, claiming the CPP won due to fraud \\nand intimidation. The opposition organized protests in Phnom Penh \\nseeking Hun Sen's ouster that were violently dispersed. Sam Rainsy, \\nunder investigation by a Phnom Penh court for his role in the demonstrations, \\nhas remained abroad. His 15 seats in the 122-seat assembly are irrelevant \\nto forming a working government. \\n\\nCambodian politicians expressed hope Monday that a new partnership \\nbetween the parties of strongman Hun Sen and his rival, Prince Norodom \\nRanariddh, in a coalition government would not end in more violence. \\nHun Sen and Ranariddh, co-prime ministers in a coalition formed in \\n1993 after a landmark U.N.-sponsored election, often clashed over \\npower-sharing and the integration of guerrilla fighters from the crumbling \\nKhmer Rouge. Their arguments turned bloody last year when Hun Sen \\nousted Ranariddh in a coup. The prince fled Cambodia and did not return \\nuntil a few months before elections in July. Hun Sen's Cambodian People's \\nParty narrowly won the polls, but a strong second-place finish by \\nRanariddh's FUNCINPEC gave the royalist party leverage in post-election \\nnegotiations. After a three-month impasse, they agreed last week to \\na coalition deal that will make Hun Sen sole prime minister and Ranariddh \\npresident of the National Assembly. ``This will not be a repetition \\nof 1993 because there will not be two prime ministers,'' said Hun \\nSen aide Prak Sokhon, who attended last week's summit. ``When we had \\ntwo prime ministers, everything moved very slowly and decisions were \\nmade more politically than technically.'' Ranariddh said Saturday \\nthat the two parties agreed to keep the ministries of interior and \\ndefense under co-ministers. Senior FUNCINPEC official Ahmad Yahya \\nrevealed Monday that it was also agreed that the CPP would control \\nthe foreign affairs and finance portfolios. FUNCINPEC will take justice \\nand information. The parties are to form working groups this week \\nto divide remaining government posts and draft a constitutional amendment \\nto form a new Senate. Hun Sen and Ranariddh are scheduled to meet \\nNov. 23 _ two days before parliament reopens _ to review the results \\nof the working groups and give their final approval, Ahmad Yahya said. \\nTheir ability to repair their relationship and work together will \\nbe the key to a stable coalition. ``I consider this a remarriage,'' \\nAhmad Yahya said. ``They have to be careful with the way they work \\nand what they say. They will have to compromise to achieve results.'' \\nRanariddh's ally, Sam Rainsy, whose party placed a distant third in \\nthe election, was left out of last week's deal. Sam Rainsy, a virulent \\ncritic of Hun Sen, and his party's 14 other members of parliament \\nhave remained outside Cambodia since September amid fears for their \\nsecurity. In a letter to King Norodom Sihanouk released Monday, Sam \\nRainsy complained that Hun Sen had not responded to his queries on \\nsecurity, making it unsafe for his people to return for the reconvening \\nof parliament. Sam Rainsy said he had been told by Ranariddh that \\nhis party and former Khmer Rouge guerrillas had been implicated by \\nHun Sen in a rocket attack on the Sept. 24 opening of parliament. \\nAuthorities have called it an assassination attempt on Hun Sen. A \\npolice general investigating the attack said Monday that likely suspects \\nhave been identified, but he would not reveal names or their political \\naffiliation. \\n\\nCambodian leader Hun Sen has guaranteed the safety and political freedom \\nof all politicians, trying to ease the fears of his rivals that they \\nwill be arrested or killed if they return to the country. The assurances \\nwere aimed especially at Sam Rainsy, leader of a vocally anti-Hun \\nSen opposition party, who was forced to take refuge in the U.N. offices \\nin September to avoid arrest after Hun Sen accused him of being behind \\na plot against his life. Sam Rainsy and the 14 members of parliament \\nfrom his party have been holed up overseas for two months. But a deal \\nreached between Hun Sen and his chief rival, Prince Norodom Ranariddh, \\non forming a new government last week has opened the door for their \\nreturn. In a letter to King Norodom Sihanouk _ the prince's father \\nand Cambodia's head of state _ that was broadcast on television Tuesday, \\nHun Sen said that guarantees of safety extended to Ranariddh applied \\nto all politicians. His assurances come a week before the first session \\nof Cambodia's new parliament, the National Assembly. Sam Rainsy said \\nWednesday that he was unsatisfied with the guarantee. He said it contained \\nindirect language and loopholes that suggest he and his Sam Rainsy \\nParty members are still under threat of arrest from Hun Sen's ruling \\nparty. ``It should be easy for them to say, `Rainsy and the SRP members \\nof the assembly have no charges against them and will not be arrested,''' \\nthe opposition leader said in a statement. ``But instead they make \\nroundabout statements, full of loopholes that can easily be exploited \\nby a legal system that is completely in their control.'' Ranariddh \\ntold reporters Wednesday that he believed it was safe for Sam Rainsy \\nin Cambodia. Speaking upon his return from a brief stay in Bangkok, \\nthe prince said he would soon meet with Hun Sen to discuss the apportioning \\nof ministries in the new coalition government. Last week, Hun Sen's \\nCambodian People's Party and Ranariddh's FUNCINPEC party agreed to \\nform a coalition that would leave Hun Sen as sole prime minister and \\nmake the prince president of the National Assembly. The deal assures \\nthe two-thirds vote in parliament needed to approve a new government. \\nThe men served as co-prime ministers until Hun Sen overthrew Ranariddh \\nin a coup last year. ``I think Hun Sen has got everything. He's got \\nthe premiership and legitimacy through the election and recognition \\nfrom his majesty the king. I don't think there is any benefit for \\nHun Sen to cause instability for our country,'' Ranariddh said. The \\nprince also said that his top general, Nhek Bunchhay, would not be \\ngiven back his previous position as the second-ranking general in \\nthe Cambodian military's general staff. Nhek Bunchhay's outnumbered \\nforces in the capital put up tough but unsuccessful resistance to \\nlast year's coup. \\n\\nWorried that party colleagues still face arrest for their politics, \\nopposition leader Sam Rainsy sought further clarification Friday of \\nsecurity guarantees promised by strongman Hun Sen. Sam Rainsy wrote \\nin a letter to King Norodom Sihanouk that he was eager to attend the \\nfirst session of the new National Assembly on Nov. 25, but complained \\nthat Hun Sen's assurances were not strong enough to ease concerns \\nhis party members may be arrested upon their return to Cambodia. Hun \\nSen announced a government guarantee Wednesday of all politicians' \\nsafety and their right to conduct political activities ``in accordance \\nwith the laws in force.'' Sam Rainsy, who earlier called Hun Sen's \\nstatement ``full of loopholes,'' asked Sihanouk for his help in obtaining \\na promise from Hun Sen that all members of the Sam Rainsy Party were \\nfree from prosecution for their political activities during and after \\nlast July's election. Sam Rainsy, a staunch critic of Hun Sen, was \\nforced to take refuge in a U.N. office in September to avoid arrest \\nafter Hun Sen accused him of being behind a plot against his life. \\nThe alleged assassination attempt came during massive street demonstrations \\norganized by the opposition after Hun Sen's Cambodian People's Party \\nnarrowly won the election. The opposition, alleging widespread fraud \\nand intimidation, refused to accept the results of the polls. Fearing \\nfor their safety, Sam Rainsy and his then-ally Prince Norodom Ranariddh \\nled an exodus of opposition lawmakers out of Cambodia after parliament \\nwas ceremonially opened in late September. Ranariddh, whose FUNCINPEC \\nparty finished a close second in the election, returned last week \\nand struck a deal with Hun Sen to form a coalition government. The \\nagreement will make Hun Sen prime minister and Ranariddh president \\nof the National Assembly. The two parties have formed three working \\ngroups to hammer out details of the agreement, including the establishment \\nof a Senate to be the upper house of parliament. Sok An, representing \\nHun Sen's party, said Friday that one working group had completed \\nits work on a joint political platform to be implemented by the new \\ngovernment. The platform is said to emphasize administrative, economic \\nand judicial reforms, but Sok An would not reveal details, saying \\nHun Sen would announce it when he presents his Cabinet choices to \\nthe National Assembly. \\n\\nKing Norodom Sihanouk on Tuesday praised agreements by Cambodia's \\ntop two political parties _ previously bitter rivals _ to form a coalition \\ngovernment led by strongman Hun Sen. In a short letter sent to news \\nagencies, the king said he had received copies of cooperation agreements \\nsigned Monday that will place Hun Sen and his Cambodian People's Party \\nin firm control of fiscal and administrative functions in the government. \\n``The protocol on cooperation between the CPP and FUNCINPEC will certainly \\nbring peace and progress to our nation and people,'' Sihanouk wrote. \\nUncompromising enemies just a few months ago, Hun Sen and FUNCINPEC \\nPresident Prince Norodom Ranariddh agreed Nov. 13 to form a government \\nat a summit convened by Sihanouk. The deal, which will make Hun Sen \\nprime minister and Ranariddh president of the National Assembly, ended \\nmore than three months of political deadlock that followed a July \\nelection narrowly won by Hun Sen. Key to the agreement was the formation \\nof a Senate as the upper house of Parliament, to be led by CPP President \\nChea Sim, the outgoing head of the National Assembly. Sihanouk, recalling \\nprocedures used in a past government, suggested Tuesday that he should \\nappoint the first two members of the upper house. The remaining senators, \\nhe said, should be selected by a method agreed upon by the new government \\nand the National Assembly. Hun Sen said Monday that the CPP and FUNCINPEC \\nhad agreed that the Senate would be half as large as the 122-seat \\nNational Assembly. Other details of the Senate, including how much \\npower it will be given in the promulgation of legislation, have yet \\nto be ironed out by the two parties. \\n\"\n",
    "[text]"
   ]
  },
  {
   "cell_type": "code",
   "execution_count": 28,
   "metadata": {},
   "outputs": [],
   "source": [
    "original_text =\"\"\"Prospects were dim for resolution of the political crisis in Cambodia in October 1998.\n",
    "Prime Minister Hun Sen insisted that talks take place in Cambodia while opposition leaders Ranariddh and Sam Rainsy, fearing arrest at home, wanted them abroad.\n",
    "King Sihanouk declined to chair talks in either place.\n",
    "A U.S. House resolution criticized Hun Sen's regime while the opposition tried to cut off his access to loans.\n",
    "But in November the King announced a coalition government with Hun Sen heading the executive and Ranariddh leading the parliament.\n",
    "Left out, Sam Rainsy sought the King's assurance of Hun Sen's promise of safety and freedom for all politicians.\"\"\""
   ]
  },
  {
   "cell_type": "code",
   "execution_count": 17,
   "metadata": {},
   "outputs": [],
   "source": [
    "import pandas as pd"
   ]
  },
  {
   "cell_type": "code",
   "execution_count": 18,
   "metadata": {},
   "outputs": [],
   "source": [
    "dataframe = pd.DataFrame([text])"
   ]
  },
  {
   "cell_type": "code",
   "execution_count": 30,
   "metadata": {},
   "outputs": [
    {
     "data": {
      "text/html": [
       "<div>\n",
       "<style scoped>\n",
       "    .dataframe tbody tr th:only-of-type {\n",
       "        vertical-align: middle;\n",
       "    }\n",
       "\n",
       "    .dataframe tbody tr th {\n",
       "        vertical-align: top;\n",
       "    }\n",
       "\n",
       "    .dataframe thead th {\n",
       "        text-align: right;\n",
       "    }\n",
       "</style>\n",
       "<table border=\"1\" class=\"dataframe\">\n",
       "  <thead>\n",
       "    <tr style=\"text-align: right;\">\n",
       "      <th></th>\n",
       "      <th>0</th>\n",
       "    </tr>\n",
       "  </thead>\n",
       "  <tbody>\n",
       "    <tr>\n",
       "      <th>0</th>\n",
       "      <td>Prospects were dim for resolution of the polit...</td>\n",
       "    </tr>\n",
       "  </tbody>\n",
       "</table>\n",
       "</div>"
      ],
      "text/plain": [
       "                                                   0\n",
       "0  Prospects were dim for resolution of the polit..."
      ]
     },
     "execution_count": 30,
     "metadata": {},
     "output_type": "execute_result"
    }
   ],
   "source": [
    "original_df= pd.DataFrame([original_text])\n",
    "original_df"
   ]
  },
  {
   "cell_type": "code",
   "execution_count": 13,
   "metadata": {},
   "outputs": [
    {
     "data": {
      "text/html": [
       "<div>\n",
       "<style scoped>\n",
       "    .dataframe tbody tr th:only-of-type {\n",
       "        vertical-align: middle;\n",
       "    }\n",
       "\n",
       "    .dataframe tbody tr th {\n",
       "        vertical-align: top;\n",
       "    }\n",
       "\n",
       "    .dataframe thead th {\n",
       "        text-align: right;\n",
       "    }\n",
       "</style>\n",
       "<table border=\"1\" class=\"dataframe\">\n",
       "  <thead>\n",
       "    <tr style=\"text-align: right;\">\n",
       "      <th></th>\n",
       "      <th>0</th>\n",
       "    </tr>\n",
       "  </thead>\n",
       "  <tbody>\n",
       "    <tr>\n",
       "      <th>0</th>\n",
       "      <td>\\nCambodian leader Hun Sen on Friday rejected ...</td>\n",
       "    </tr>\n",
       "  </tbody>\n",
       "</table>\n",
       "</div>"
      ],
      "text/plain": [
       "                                                   0\n",
       "0  \\nCambodian leader Hun Sen on Friday rejected ..."
      ]
     },
     "execution_count": 13,
     "metadata": {},
     "output_type": "execute_result"
    }
   ],
   "source": [
    "dataframe"
   ]
  },
  {
   "cell_type": "code",
   "execution_count": 35,
   "metadata": {},
   "outputs": [
    {
     "name": "stderr",
     "output_type": "stream",
     "text": [
      "100%|██████████| 1/1 [00:00<00:00,  2.16it/s]\n"
     ]
    }
   ],
   "source": [
    "os,ofs = process_df(original_df)"
   ]
  },
  {
   "cell_type": "code",
   "execution_count": 38,
   "metadata": {},
   "outputs": [
    {
     "data": {
      "text/plain": [
       "[['Prospects were dim for resolution of the political crisis in Cambodia in October 1998.\\n',\n",
       "  'Prime Minister Hun Sen insisted that talks take place in Cambodia while opposition leaders Ranariddh and Sam Rainsy, fearing arrest at home, wanted them abroad.\\n',\n",
       "  'King Sihanouk declined to chair talks in either place.\\n',\n",
       "  \"A U.S. House resolution criticized Hun Sen's regime while the opposition tried to cut off his access to loans.\\n\",\n",
       "  'But in November the King announced a coalition government with Hun Sen heading the executive and Ranariddh leading the parliament.\\n',\n",
       "  \"Left out, Sam Rainsy sought the King's assurance of Hun Sen's promise of safety and freedom for all politicians.\"]]"
      ]
     },
     "execution_count": 38,
     "metadata": {},
     "output_type": "execute_result"
    }
   ],
   "source": [
    "os"
   ]
  },
  {
   "cell_type": "code",
   "execution_count": 39,
   "metadata": {},
   "outputs": [
    {
     "data": {
      "text/plain": [
       "6"
      ]
     },
     "execution_count": 39,
     "metadata": {},
     "output_type": "execute_result"
    }
   ],
   "source": [
    "len(os[0])"
   ]
  },
  {
   "cell_type": "code",
   "execution_count": 22,
   "metadata": {},
   "outputs": [
    {
     "name": "stderr",
     "output_type": "stream",
     "text": [
      "100%|██████████| 1/1 [00:01<00:00,  1.27s/it]\n"
     ]
    }
   ],
   "source": [
    "s,fs = process_df(dataframe)"
   ]
  },
  {
   "cell_type": "code",
   "execution_count": 56,
   "metadata": {},
   "outputs": [
    {
     "name": "stderr",
     "output_type": "stream",
     "text": [
      "100%|██████████| 1/1 [00:00<00:00,  4.69it/s]\n"
     ]
    }
   ],
   "source": [
    "lexsum = summarize_with(s,fs,LexRank_algorithm,size=2)"
   ]
  },
  {
   "cell_type": "code",
   "execution_count": 57,
   "metadata": {},
   "outputs": [
    {
     "data": {
      "text/plain": [
       "\"The deal, which will make Hun Sen \\nprime minister and Ranariddh president of the National Assembly, ended \\nmore than three months of political deadlock that followed a July \\nelection narrowly won by Hun Sen. Key to the agreement was the formation \\nof a Senate as the upper house of Parliament, to be led by CPP President \\nChea Sim, the outgoing head of the National Assembly.Negotiations to form the next government have become deadlocked, \\nand opposition party leaders Prince Norodom Ranariddh and Sam Rainsy \\nare out of the country following threats of arrest from strongman \\nHun Sen. Hun Sen complained Monday that the opposition was trying \\nto make its members' return an international issue.\""
      ]
     },
     "execution_count": 57,
     "metadata": {},
     "output_type": "execute_result"
    }
   ],
   "source": [
    "lexsum.iloc[0,0]"
   ]
  },
  {
   "cell_type": "code",
   "execution_count": 61,
   "metadata": {},
   "outputs": [],
   "source": [
    "z=pd.concat([original_df,lexsum],axis=1)\n",
    "predicted_summary=z.iloc[0,0]"
   ]
  },
  {
   "cell_type": "code",
   "execution_count": 62,
   "metadata": {},
   "outputs": [],
   "source": [
    "original_summary=z.iloc[0,1]"
   ]
  },
  {
   "cell_type": "code",
   "execution_count": 63,
   "metadata": {},
   "outputs": [],
   "source": [
    "efficiency_dict = calculate_efficiency(predicted_summary,original_summary)"
   ]
  },
  {
   "cell_type": "code",
   "execution_count": 64,
   "metadata": {},
   "outputs": [
    {
     "data": {
      "text/plain": [
       "{'rouge1_fmeasure': tensor(0.3661),\n",
       " 'rouge1_precision': tensor(0.3727),\n",
       " 'rouge1_recall': tensor(0.3596),\n",
       " 'rouge2_fmeasure': tensor(0.0991),\n",
       " 'rouge2_precision': tensor(0.1009),\n",
       " 'rouge2_recall': tensor(0.0973),\n",
       " 'rougeL_fmeasure': tensor(0.1786),\n",
       " 'rougeL_precision': tensor(0.1818),\n",
       " 'rougeL_recall': tensor(0.1754),\n",
       " 'rougeLsum_fmeasure': tensor(0.2500),\n",
       " 'rougeLsum_precision': tensor(0.2545),\n",
       " 'rougeLsum_recall': tensor(0.2456)}"
      ]
     },
     "execution_count": 64,
     "metadata": {},
     "output_type": "execute_result"
    }
   ],
   "source": [
    "efficiency_dict\n"
   ]
  },
  {
   "cell_type": "code",
   "execution_count": 66,
   "metadata": {},
   "outputs": [
    {
     "name": "stderr",
     "output_type": "stream",
     "text": [
      "100%|██████████| 1/1 [00:01<00:00,  1.20s/it]\n"
     ]
    },
    {
     "data": {
      "text/html": [
       "<div>\n",
       "<style scoped>\n",
       "    .dataframe tbody tr th:only-of-type {\n",
       "        vertical-align: middle;\n",
       "    }\n",
       "\n",
       "    .dataframe tbody tr th {\n",
       "        vertical-align: top;\n",
       "    }\n",
       "\n",
       "    .dataframe thead th {\n",
       "        text-align: right;\n",
       "    }\n",
       "</style>\n",
       "<table border=\"1\" class=\"dataframe\">\n",
       "  <thead>\n",
       "    <tr style=\"text-align: right;\">\n",
       "      <th></th>\n",
       "      <th>rouge1_fmeasure</th>\n",
       "      <th>rouge1_precision</th>\n",
       "      <th>rouge1_recall</th>\n",
       "      <th>rouge2_fmeasure</th>\n",
       "      <th>rouge2_precision</th>\n",
       "      <th>rouge2_recall</th>\n",
       "      <th>rougeL_fmeasure</th>\n",
       "      <th>rougeL_precision</th>\n",
       "      <th>rougeL_recall</th>\n",
       "      <th>rougeLsum_fmeasure</th>\n",
       "      <th>rougeLsum_precision</th>\n",
       "      <th>rougeLsum_recall</th>\n",
       "    </tr>\n",
       "  </thead>\n",
       "  <tbody>\n",
       "    <tr>\n",
       "      <th>0</th>\n",
       "      <td>tensor(0.3661)</td>\n",
       "      <td>tensor(0.3727)</td>\n",
       "      <td>tensor(0.3596)</td>\n",
       "      <td>tensor(0.0991)</td>\n",
       "      <td>tensor(0.1009)</td>\n",
       "      <td>tensor(0.0973)</td>\n",
       "      <td>tensor(0.1786)</td>\n",
       "      <td>tensor(0.1818)</td>\n",
       "      <td>tensor(0.1754)</td>\n",
       "      <td>tensor(0.2500)</td>\n",
       "      <td>tensor(0.2545)</td>\n",
       "      <td>tensor(0.2456)</td>\n",
       "    </tr>\n",
       "  </tbody>\n",
       "</table>\n",
       "</div>"
      ],
      "text/plain": [
       "  rouge1_fmeasure rouge1_precision   rouge1_recall rouge2_fmeasure  \\\n",
       "0  tensor(0.3661)   tensor(0.3727)  tensor(0.3596)  tensor(0.0991)   \n",
       "\n",
       "  rouge2_precision   rouge2_recall rougeL_fmeasure rougeL_precision  \\\n",
       "0   tensor(0.1009)  tensor(0.0973)  tensor(0.1786)   tensor(0.1818)   \n",
       "\n",
       "    rougeL_recall rougeLsum_fmeasure rougeLsum_precision rougeLsum_recall  \n",
       "0  tensor(0.1754)     tensor(0.2500)      tensor(0.2545)   tensor(0.2456)  "
      ]
     },
     "execution_count": 66,
     "metadata": {},
     "output_type": "execute_result"
    }
   ],
   "source": [
    "rouge_scores_df(df=z, algorithm_summary_df=z)"
   ]
  },
  {
   "cell_type": "code",
   "execution_count": 17,
   "metadata": {},
   "outputs": [],
   "source": [
    "read_file = pd.read_csv(path)\n",
    "read_file.to_csv (path)\n",
    "\n",
    "#columns_titles = [\"Articles\",\"Summaries\"]\n",
    "#df=df.reindex(columns=columns_titles)\n"
   ]
  },
  {
   "cell_type": "code",
   "execution_count": 18,
   "metadata": {},
   "outputs": [
    {
     "data": {
      "text/html": [
       "<div>\n",
       "<style scoped>\n",
       "    .dataframe tbody tr th:only-of-type {\n",
       "        vertical-align: middle;\n",
       "    }\n",
       "\n",
       "    .dataframe tbody tr th {\n",
       "        vertical-align: top;\n",
       "    }\n",
       "\n",
       "    .dataframe thead th {\n",
       "        text-align: right;\n",
       "    }\n",
       "</style>\n",
       "<table border=\"1\" class=\"dataframe\">\n",
       "  <thead>\n",
       "    <tr style=\"text-align: right;\">\n",
       "      <th></th>\n",
       "      <th>Articles</th>\n",
       "      <th>Summaries</th>\n",
       "    </tr>\n",
       "  </thead>\n",
       "  <tbody>\n",
       "    <tr>\n",
       "      <th>0</th>\n",
       "      <td>Ad sales boost Time Warner profit\\r\\n\\r\\nQuart...</td>\n",
       "      <td>TimeWarner said fourth quarter sales rose 2% t...</td>\n",
       "    </tr>\n",
       "    <tr>\n",
       "      <th>1</th>\n",
       "      <td>Dollar gains on Greenspan speech\\r\\n\\r\\nThe do...</td>\n",
       "      <td>The dollar has hit its highest level against t...</td>\n",
       "    </tr>\n",
       "    <tr>\n",
       "      <th>2</th>\n",
       "      <td>Yukos unit buyer faces loan claim\\r\\n\\r\\nThe o...</td>\n",
       "      <td>Yukos' owner Menatep Group says it will ask Ro...</td>\n",
       "    </tr>\n",
       "    <tr>\n",
       "      <th>3</th>\n",
       "      <td>High fuel prices hit BA's profits\\r\\n\\r\\nBriti...</td>\n",
       "      <td>Rod Eddington, BA's chief executive, said the ...</td>\n",
       "    </tr>\n",
       "    <tr>\n",
       "      <th>4</th>\n",
       "      <td>Pernod takeover talk lifts Domecq\\r\\n\\r\\nShare...</td>\n",
       "      <td>Pernod has reduced the debt it took on to fund...</td>\n",
       "    </tr>\n",
       "    <tr>\n",
       "      <th>5</th>\n",
       "      <td>Japan narrowly escapes recession\\r\\n\\r\\nJapan'...</td>\n",
       "      <td>On an annual basis, the data suggests annual g...</td>\n",
       "    </tr>\n",
       "    <tr>\n",
       "      <th>6</th>\n",
       "      <td>Jobs growth still slow in the US\\r\\n\\r\\nThe US...</td>\n",
       "      <td>The job gains mean that President Bush can cel...</td>\n",
       "    </tr>\n",
       "    <tr>\n",
       "      <th>7</th>\n",
       "      <td>India calls for fair trade rules\\r\\n\\r\\nIndia,...</td>\n",
       "      <td>At a conference on developing enterprise hoste...</td>\n",
       "    </tr>\n",
       "    <tr>\n",
       "      <th>8</th>\n",
       "      <td>Ethiopia's crop production up 24%\\r\\n\\r\\nEthio...</td>\n",
       "      <td>In 2003, crop production totalled 11.49 millio...</td>\n",
       "    </tr>\n",
       "    <tr>\n",
       "      <th>9</th>\n",
       "      <td>Court rejects $280bn tobacco case\\r\\n\\r\\nA US ...</td>\n",
       "      <td>A US government claim accusing the country's b...</td>\n",
       "    </tr>\n",
       "  </tbody>\n",
       "</table>\n",
       "</div>"
      ],
      "text/plain": [
       "                                            Articles  \\\n",
       "0  Ad sales boost Time Warner profit\\r\\n\\r\\nQuart...   \n",
       "1  Dollar gains on Greenspan speech\\r\\n\\r\\nThe do...   \n",
       "2  Yukos unit buyer faces loan claim\\r\\n\\r\\nThe o...   \n",
       "3  High fuel prices hit BA's profits\\r\\n\\r\\nBriti...   \n",
       "4  Pernod takeover talk lifts Domecq\\r\\n\\r\\nShare...   \n",
       "5  Japan narrowly escapes recession\\r\\n\\r\\nJapan'...   \n",
       "6  Jobs growth still slow in the US\\r\\n\\r\\nThe US...   \n",
       "7  India calls for fair trade rules\\r\\n\\r\\nIndia,...   \n",
       "8  Ethiopia's crop production up 24%\\r\\n\\r\\nEthio...   \n",
       "9  Court rejects $280bn tobacco case\\r\\n\\r\\nA US ...   \n",
       "\n",
       "                                           Summaries  \n",
       "0  TimeWarner said fourth quarter sales rose 2% t...  \n",
       "1  The dollar has hit its highest level against t...  \n",
       "2  Yukos' owner Menatep Group says it will ask Ro...  \n",
       "3  Rod Eddington, BA's chief executive, said the ...  \n",
       "4  Pernod has reduced the debt it took on to fund...  \n",
       "5  On an annual basis, the data suggests annual g...  \n",
       "6  The job gains mean that President Bush can cel...  \n",
       "7  At a conference on developing enterprise hoste...  \n",
       "8  In 2003, crop production totalled 11.49 millio...  \n",
       "9  A US government claim accusing the country's b...  "
      ]
     },
     "execution_count": 18,
     "metadata": {},
     "output_type": "execute_result"
    }
   ],
   "source": [
    "df = pd.read_csv(\"BBC_Dataset.csv\")\n",
    "df=df.iloc[:,1:]#remove first column(unnamed col)\n",
    "df.dropna(inplace=True)\n",
    "columns_titles = [\"Articles\",\"Summaries\"]\n",
    "df=df.reindex(columns=columns_titles)\n",
    "mini_df = df[:10]\n",
    "mini_df"
   ]
  },
  {
   "cell_type": "code",
   "execution_count": 19,
   "metadata": {},
   "outputs": [
    {
     "name": "stderr",
     "output_type": "stream",
     "text": [
      "100%|██████████| 10/10 [00:09<00:00,  1.06it/s]\n"
     ]
    }
   ],
   "source": [
    "\"\"\"Preprocessing\"\"\"                            #(lemm,stopwords)\n",
    "sentences, filtered_sentences = process_df(mini_df,True,False)\n"
   ]
  },
  {
   "cell_type": "code",
   "execution_count": 20,
   "metadata": {},
   "outputs": [
    {
     "name": "stderr",
     "output_type": "stream",
     "text": [
      "100%|██████████| 10/10 [00:00<00:00, 345.86it/s]"
     ]
    },
    {
     "name": "stdout",
     "output_type": "stream",
     "text": [
      "                     text_matching_algorithm summary\n",
      "0  The company said it was unable to estimate the...\n",
      "1  The recent falls have partly been the result o...\n",
      "2  \"The pledged assets are with Rosneft, so it wi...\n",
      "3  Yet aviation analyst Mike Powell of Dresdner K...\n",
      "4  Pernod takeover talk lifts Domecq\\r\\n\\r\\nShare...\n",
      "5  Japan narrowly escapes recession\\r\\n\\r\\nJapan'...\n",
      "6  The job gains mean that President Bush can cel...\n",
      "7  Separately, the IMF warned on Thursday that In...\n",
      "8  On top of that, 89,000 tonnes of fortified ble...\n",
      "9  But the Court of Appeals for the District of C...\n"
     ]
    },
    {
     "name": "stderr",
     "output_type": "stream",
     "text": [
      "\n"
     ]
    }
   ],
   "source": [
    "\"\"\"\n",
    "Parameters are sentences,filtered_sentences ,summary_algorithm, size = 2(default value)\n",
    "\n",
    "\"\"\"\n",
    "\n",
    "text_matchin_algorithm_summary = summarize_with(list_of_articles= sentences, list_of_filtered_articles= filtered_sentences, summary_algorithm= text_matching_algorithm, size=5) \n",
    "print(text_matchin_algorithm_summary)"
   ]
  },
  {
   "cell_type": "code",
   "execution_count": 21,
   "metadata": {},
   "outputs": [],
   "source": [
    "#rouge_scores_df(df=df, algorithm_summary_df=lsa_algorithm_summary).to_csv(\"lsa_algorithm_summary_on_BBC_dataset.csv\")"
   ]
  },
  {
   "cell_type": "code",
   "execution_count": 22,
   "metadata": {},
   "outputs": [
    {
     "name": "stderr",
     "output_type": "stream",
     "text": [
      "100%|██████████| 10/10 [00:13<00:00,  1.37s/it]\n"
     ]
    },
    {
     "data": {
      "text/html": [
       "<div>\n",
       "<style scoped>\n",
       "    .dataframe tbody tr th:only-of-type {\n",
       "        vertical-align: middle;\n",
       "    }\n",
       "\n",
       "    .dataframe tbody tr th {\n",
       "        vertical-align: top;\n",
       "    }\n",
       "\n",
       "    .dataframe thead th {\n",
       "        text-align: right;\n",
       "    }\n",
       "</style>\n",
       "<table border=\"1\" class=\"dataframe\">\n",
       "  <thead>\n",
       "    <tr style=\"text-align: right;\">\n",
       "      <th></th>\n",
       "      <th>rouge1_fmeasure</th>\n",
       "      <th>rouge1_precision</th>\n",
       "      <th>rouge1_recall</th>\n",
       "      <th>rouge2_fmeasure</th>\n",
       "      <th>rouge2_precision</th>\n",
       "      <th>rouge2_recall</th>\n",
       "      <th>rougeL_fmeasure</th>\n",
       "      <th>rougeL_precision</th>\n",
       "      <th>rougeL_recall</th>\n",
       "      <th>rougeLsum_fmeasure</th>\n",
       "      <th>rougeLsum_precision</th>\n",
       "      <th>rougeLsum_recall</th>\n",
       "    </tr>\n",
       "  </thead>\n",
       "  <tbody>\n",
       "    <tr>\n",
       "      <th>0</th>\n",
       "      <td>tensor(0.3178)</td>\n",
       "      <td>tensor(0.3036)</td>\n",
       "      <td>tensor(0.3333)</td>\n",
       "      <td>tensor(0.0376)</td>\n",
       "      <td>tensor(0.0359)</td>\n",
       "      <td>tensor(0.0395)</td>\n",
       "      <td>tensor(0.1558)</td>\n",
       "      <td>tensor(0.1488)</td>\n",
       "      <td>tensor(0.1634)</td>\n",
       "      <td>tensor(0.1869)</td>\n",
       "      <td>tensor(0.1786)</td>\n",
       "      <td>tensor(0.1961)</td>\n",
       "    </tr>\n",
       "    <tr>\n",
       "      <th>1</th>\n",
       "      <td>tensor(0.5763)</td>\n",
       "      <td>tensor(0.5543)</td>\n",
       "      <td>tensor(0.6000)</td>\n",
       "      <td>tensor(0.4034)</td>\n",
       "      <td>tensor(0.3880)</td>\n",
       "      <td>tensor(0.4201)</td>\n",
       "      <td>tensor(0.2712)</td>\n",
       "      <td>tensor(0.2609)</td>\n",
       "      <td>tensor(0.2824)</td>\n",
       "      <td>tensor(0.4237)</td>\n",
       "      <td>tensor(0.4076)</td>\n",
       "      <td>tensor(0.4412)</td>\n",
       "    </tr>\n",
       "    <tr>\n",
       "      <th>2</th>\n",
       "      <td>tensor(0.5912)</td>\n",
       "      <td>tensor(0.5625)</td>\n",
       "      <td>tensor(0.6231)</td>\n",
       "      <td>tensor(0.4485)</td>\n",
       "      <td>tensor(0.4266)</td>\n",
       "      <td>tensor(0.4729)</td>\n",
       "      <td>tensor(0.2774)</td>\n",
       "      <td>tensor(0.2639)</td>\n",
       "      <td>tensor(0.2923)</td>\n",
       "      <td>tensor(0.5255)</td>\n",
       "      <td>tensor(0.5000)</td>\n",
       "      <td>tensor(0.5538)</td>\n",
       "    </tr>\n",
       "    <tr>\n",
       "      <th>3</th>\n",
       "      <td>tensor(0.7654)</td>\n",
       "      <td>tensor(0.7828)</td>\n",
       "      <td>tensor(0.7488)</td>\n",
       "      <td>tensor(0.6600)</td>\n",
       "      <td>tensor(0.6751)</td>\n",
       "      <td>tensor(0.6456)</td>\n",
       "      <td>tensor(0.3852)</td>\n",
       "      <td>tensor(0.3939)</td>\n",
       "      <td>tensor(0.3768)</td>\n",
       "      <td>tensor(0.7457)</td>\n",
       "      <td>tensor(0.7626)</td>\n",
       "      <td>tensor(0.7295)</td>\n",
       "    </tr>\n",
       "    <tr>\n",
       "      <th>4</th>\n",
       "      <td>tensor(0.5669)</td>\n",
       "      <td>tensor(0.5255)</td>\n",
       "      <td>tensor(0.6154)</td>\n",
       "      <td>tensor(0.4444)</td>\n",
       "      <td>tensor(0.4118)</td>\n",
       "      <td>tensor(0.4828)</td>\n",
       "      <td>tensor(0.3228)</td>\n",
       "      <td>tensor(0.2993)</td>\n",
       "      <td>tensor(0.3504)</td>\n",
       "      <td>tensor(0.4961)</td>\n",
       "      <td>tensor(0.4599)</td>\n",
       "      <td>tensor(0.5385)</td>\n",
       "    </tr>\n",
       "    <tr>\n",
       "      <th>5</th>\n",
       "      <td>tensor(0.5354)</td>\n",
       "      <td>tensor(0.4274)</td>\n",
       "      <td>tensor(0.7162)</td>\n",
       "      <td>tensor(0.4388)</td>\n",
       "      <td>tensor(0.3496)</td>\n",
       "      <td>tensor(0.5890)</td>\n",
       "      <td>tensor(0.2424)</td>\n",
       "      <td>tensor(0.1935)</td>\n",
       "      <td>tensor(0.3243)</td>\n",
       "      <td>tensor(0.4848)</td>\n",
       "      <td>tensor(0.3871)</td>\n",
       "      <td>tensor(0.6486)</td>\n",
       "    </tr>\n",
       "    <tr>\n",
       "      <th>6</th>\n",
       "      <td>tensor(0.7855)</td>\n",
       "      <td>tensor(0.8060)</td>\n",
       "      <td>tensor(0.7660)</td>\n",
       "      <td>tensor(0.6960)</td>\n",
       "      <td>tensor(0.7143)</td>\n",
       "      <td>tensor(0.6786)</td>\n",
       "      <td>tensor(0.6182)</td>\n",
       "      <td>tensor(0.6343)</td>\n",
       "      <td>tensor(0.6028)</td>\n",
       "      <td>tensor(0.7564)</td>\n",
       "      <td>tensor(0.7761)</td>\n",
       "      <td>tensor(0.7376)</td>\n",
       "    </tr>\n",
       "    <tr>\n",
       "      <th>7</th>\n",
       "      <td>tensor(0.7443)</td>\n",
       "      <td>tensor(0.8099)</td>\n",
       "      <td>tensor(0.6886)</td>\n",
       "      <td>tensor(0.6775)</td>\n",
       "      <td>tensor(0.7376)</td>\n",
       "      <td>tensor(0.6265)</td>\n",
       "      <td>tensor(0.5761)</td>\n",
       "      <td>tensor(0.6268)</td>\n",
       "      <td>tensor(0.5329)</td>\n",
       "      <td>tensor(0.5761)</td>\n",
       "      <td>tensor(0.6268)</td>\n",
       "      <td>tensor(0.5329)</td>\n",
       "    </tr>\n",
       "    <tr>\n",
       "      <th>8</th>\n",
       "      <td>tensor(0.7012)</td>\n",
       "      <td>tensor(0.5986)</td>\n",
       "      <td>tensor(0.8462)</td>\n",
       "      <td>tensor(0.6024)</td>\n",
       "      <td>tensor(0.5137)</td>\n",
       "      <td>tensor(0.7282)</td>\n",
       "      <td>tensor(0.3347)</td>\n",
       "      <td>tensor(0.2857)</td>\n",
       "      <td>tensor(0.4038)</td>\n",
       "      <td>tensor(0.6295)</td>\n",
       "      <td>tensor(0.5374)</td>\n",
       "      <td>tensor(0.7596)</td>\n",
       "    </tr>\n",
       "    <tr>\n",
       "      <th>9</th>\n",
       "      <td>tensor(0.5966)</td>\n",
       "      <td>tensor(0.4965)</td>\n",
       "      <td>tensor(0.7474)</td>\n",
       "      <td>tensor(0.4915)</td>\n",
       "      <td>tensor(0.4085)</td>\n",
       "      <td>tensor(0.6170)</td>\n",
       "      <td>tensor(0.3782)</td>\n",
       "      <td>tensor(0.3147)</td>\n",
       "      <td>tensor(0.4737)</td>\n",
       "      <td>tensor(0.5462)</td>\n",
       "      <td>tensor(0.4545)</td>\n",
       "      <td>tensor(0.6842)</td>\n",
       "    </tr>\n",
       "  </tbody>\n",
       "</table>\n",
       "</div>"
      ],
      "text/plain": [
       "  rouge1_fmeasure rouge1_precision   rouge1_recall rouge2_fmeasure  \\\n",
       "0  tensor(0.3178)   tensor(0.3036)  tensor(0.3333)  tensor(0.0376)   \n",
       "1  tensor(0.5763)   tensor(0.5543)  tensor(0.6000)  tensor(0.4034)   \n",
       "2  tensor(0.5912)   tensor(0.5625)  tensor(0.6231)  tensor(0.4485)   \n",
       "3  tensor(0.7654)   tensor(0.7828)  tensor(0.7488)  tensor(0.6600)   \n",
       "4  tensor(0.5669)   tensor(0.5255)  tensor(0.6154)  tensor(0.4444)   \n",
       "5  tensor(0.5354)   tensor(0.4274)  tensor(0.7162)  tensor(0.4388)   \n",
       "6  tensor(0.7855)   tensor(0.8060)  tensor(0.7660)  tensor(0.6960)   \n",
       "7  tensor(0.7443)   tensor(0.8099)  tensor(0.6886)  tensor(0.6775)   \n",
       "8  tensor(0.7012)   tensor(0.5986)  tensor(0.8462)  tensor(0.6024)   \n",
       "9  tensor(0.5966)   tensor(0.4965)  tensor(0.7474)  tensor(0.4915)   \n",
       "\n",
       "  rouge2_precision   rouge2_recall rougeL_fmeasure rougeL_precision  \\\n",
       "0   tensor(0.0359)  tensor(0.0395)  tensor(0.1558)   tensor(0.1488)   \n",
       "1   tensor(0.3880)  tensor(0.4201)  tensor(0.2712)   tensor(0.2609)   \n",
       "2   tensor(0.4266)  tensor(0.4729)  tensor(0.2774)   tensor(0.2639)   \n",
       "3   tensor(0.6751)  tensor(0.6456)  tensor(0.3852)   tensor(0.3939)   \n",
       "4   tensor(0.4118)  tensor(0.4828)  tensor(0.3228)   tensor(0.2993)   \n",
       "5   tensor(0.3496)  tensor(0.5890)  tensor(0.2424)   tensor(0.1935)   \n",
       "6   tensor(0.7143)  tensor(0.6786)  tensor(0.6182)   tensor(0.6343)   \n",
       "7   tensor(0.7376)  tensor(0.6265)  tensor(0.5761)   tensor(0.6268)   \n",
       "8   tensor(0.5137)  tensor(0.7282)  tensor(0.3347)   tensor(0.2857)   \n",
       "9   tensor(0.4085)  tensor(0.6170)  tensor(0.3782)   tensor(0.3147)   \n",
       "\n",
       "    rougeL_recall rougeLsum_fmeasure rougeLsum_precision rougeLsum_recall  \n",
       "0  tensor(0.1634)     tensor(0.1869)      tensor(0.1786)   tensor(0.1961)  \n",
       "1  tensor(0.2824)     tensor(0.4237)      tensor(0.4076)   tensor(0.4412)  \n",
       "2  tensor(0.2923)     tensor(0.5255)      tensor(0.5000)   tensor(0.5538)  \n",
       "3  tensor(0.3768)     tensor(0.7457)      tensor(0.7626)   tensor(0.7295)  \n",
       "4  tensor(0.3504)     tensor(0.4961)      tensor(0.4599)   tensor(0.5385)  \n",
       "5  tensor(0.3243)     tensor(0.4848)      tensor(0.3871)   tensor(0.6486)  \n",
       "6  tensor(0.6028)     tensor(0.7564)      tensor(0.7761)   tensor(0.7376)  \n",
       "7  tensor(0.5329)     tensor(0.5761)      tensor(0.6268)   tensor(0.5329)  \n",
       "8  tensor(0.4038)     tensor(0.6295)      tensor(0.5374)   tensor(0.7596)  \n",
       "9  tensor(0.4737)     tensor(0.5462)      tensor(0.4545)   tensor(0.6842)  "
      ]
     },
     "execution_count": 22,
     "metadata": {},
     "output_type": "execute_result"
    }
   ],
   "source": [
    "\"\"\"\n",
    "Parameters are dataframe of original summary and dataframe of system summary\n",
    "NOTE system summary is calculated in the cell above\n",
    "\"\"\"\n",
    "rouge_scores_df(df=mini_df, algorithm_summary_df=text_matchin_algorithm_summary)\n"
   ]
  },
  {
   "cell_type": "code",
   "execution_count": 23,
   "metadata": {},
   "outputs": [],
   "source": [
    "# horizontal_concat_df = pd.concat(\n",
    "#     [\n",
    "#         mini_df,\n",
    "#         luhn,\n",
    "#         lsa,\n",
    "#         text_matching,\n",
    "#         LexRank\n",
    "#     ],\n",
    "#     axis=1,\n",
    "# )\n",
    "# #horizontal_concat_df[horizontal_concat_df.isnull().any(axis=1)]\n",
    "# horizontal_concat_df"
   ]
  }
 ],
 "metadata": {
  "kernelspec": {
   "display_name": "Python 3",
   "language": "python",
   "name": "python3"
  },
  "language_info": {
   "codemirror_mode": {
    "name": "ipython",
    "version": 3
   },
   "file_extension": ".py",
   "mimetype": "text/x-python",
   "name": "python",
   "nbconvert_exporter": "python",
   "pygments_lexer": "ipython3",
   "version": "3.10.0"
  },
  "orig_nbformat": 4,
  "vscode": {
   "interpreter": {
    "hash": "480c14cd519d4cac626ed4e2ff26eb76a48d8461070c1f960eb23b2ab109b24d"
   }
  }
 },
 "nbformat": 4,
 "nbformat_minor": 2
}
