{
 "cells": [
  {
   "cell_type": "code",
   "execution_count": 6,
   "metadata": {},
   "outputs": [],
   "source": [
    "import spacy\n",
    "from nltk.tokenize import sent_tokenize, word_tokenize\n",
    "from nltk.corpus import stopwords"
   ]
  },
  {
   "cell_type": "code",
   "execution_count": 7,
   "metadata": {},
   "outputs": [],
   "source": [
    "def preprocessing_with_spacy(text):\n",
    "    sentences = text\n",
    "\n",
    "    # Load the model (English) into spaCy\n",
    "    nlp = spacy.load('en_core_web_sm')\n",
    "\n",
    "    # Adding 'sentencizer' component to the pipeline\n",
    "    nlp.add_pipe('sentencizer')\n",
    "\n",
    "    # Tokenization & Lemmatization\n",
    "    lemmatized_sentences = []\n",
    "\n",
    "    doc = nlp(sentences)\n",
    "\n",
    "    sentences = []\n",
    "    for sentence in doc.sents:\n",
    "        sentences.append(sentence.text)\n",
    "        lemmatized_sentences.append([token.lemma_ for token in sentence])\n",
    "\n",
    "\n",
    "    # Removing Stop Words & Punctuation \n",
    "    filtered_sentences = []\n",
    "\n",
    "    for sentences_group in lemmatized_sentences:\n",
    "        filtered = \"\"\n",
    "\n",
    "        for sentence in sentences_group:\n",
    "            sentence_doc = nlp(sentence)\n",
    "            words_of_sentence = [token.text for token in sentence_doc]\n",
    "\n",
    "            for token in sentence_doc:\n",
    "                if token.is_stop == False and token.text.isalpha() == True:\n",
    "                    filtered += token.text + \" \"\n",
    "\n",
    "        filtered_sentences.append(filtered)\n",
    "\n",
    "    return sentences, filtered_sentences"
   ]
  },
  {
   "cell_type": "code",
   "execution_count": 10,
   "metadata": {},
   "outputs": [],
   "source": [
    "def tokenization(text):\n",
    "    sentences = sent_tokenize(text)\n",
    "    # count the number of sentences in the text \n",
    "    total_sentences = len(sentences)\n",
    "    #print(\"Total number of sentences:\", total_sentences)\n",
    "    return sentences\n",
    "\n",
    "def remove_stop_words(sentences):\n",
    "    # define a set of stop words \n",
    "    stop_words = set(stopwords.words('english'))\n",
    "    filtered_sentences = []\n",
    "    for sentence in sentences:\n",
    "        # tokenize each sentence into words\n",
    "        word_tokens = word_tokenize(sentence)\n",
    "        # remove all stop words from each sentence\n",
    "        filtered_words = [word for word in word_tokens if not word in stop_words]\n",
    "        # join all filtered words back into a single sentence\n",
    "        filtered_sentence = ' '.join(filtered_words)\n",
    "        filtered_sentences.append(filtered_sentence)\n",
    "    return filtered_sentences\n",
    "\n",
    "def preprocessing_with_nltk(text):\n",
    "    sentences = tokenization(text)  # Tokenize the text into sentences\n",
    "    filtered_sentences = []\n",
    "    for sentence in sentences:\n",
    "        sentence = sentence .replace('!','.').replace('?','.').replace('\\n',' ')\n",
    "        sentence = sentence .replace('.',' ')\n",
    "        filtered_sentences.append(sentence)\n",
    "    filtered_sentences = remove_stop_words(filtered_sentences)\n"
   ]
  }
 ],
 "metadata": {
  "kernelspec": {
   "display_name": "Python 3",
   "language": "python",
   "name": "python3"
  },
  "language_info": {
   "codemirror_mode": {
    "name": "ipython",
    "version": 3
   },
   "file_extension": ".py",
   "mimetype": "text/x-python",
   "name": "python",
   "nbconvert_exporter": "python",
   "pygments_lexer": "ipython3",
   "version": "3.10.5"
  },
  "orig_nbformat": 4,
  "vscode": {
   "interpreter": {
    "hash": "afbd2e3b20535035cb123f2b315173d4c27faa26889583774d241154cf5dbaf6"
   }
  }
 },
 "nbformat": 4,
 "nbformat_minor": 2
}
