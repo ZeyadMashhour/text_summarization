{
 "cells": [
  {
   "cell_type": "code",
   "execution_count": 1,
   "metadata": {},
   "outputs": [],
   "source": [
    "import pandas as pd\n",
    "from preprocessing_algorithms import *"
   ]
  },
  {
   "cell_type": "code",
   "execution_count": 2,
   "metadata": {},
   "outputs": [],
   "source": [
    "df = pd.read_csv(\"weights_of_alogrithms_and_their_combinations.csv\", index_col=0)"
   ]
  },
  {
   "cell_type": "code",
   "execution_count": 18,
   "metadata": {},
   "outputs": [
    {
     "data": {
      "text/html": [
       "<div>\n",
       "<style scoped>\n",
       "    .dataframe tbody tr th:only-of-type {\n",
       "        vertical-align: middle;\n",
       "    }\n",
       "\n",
       "    .dataframe tbody tr th {\n",
       "        vertical-align: top;\n",
       "    }\n",
       "\n",
       "    .dataframe thead th {\n",
       "        text-align: right;\n",
       "    }\n",
       "</style>\n",
       "<table border=\"1\" class=\"dataframe\">\n",
       "  <thead>\n",
       "    <tr style=\"text-align: right;\">\n",
       "      <th></th>\n",
       "      <th>0</th>\n",
       "    </tr>\n",
       "  </thead>\n",
       "  <tbody>\n",
       "    <tr>\n",
       "      <th>LDA</th>\n",
       "      <td>0.083333</td>\n",
       "    </tr>\n",
       "    <tr>\n",
       "      <th>Lex LDA</th>\n",
       "      <td>0.166667</td>\n",
       "    </tr>\n",
       "    <tr>\n",
       "      <th>Lex Luhn</th>\n",
       "      <td>0.333333</td>\n",
       "    </tr>\n",
       "    <tr>\n",
       "      <th>Lex Luhn LDA</th>\n",
       "      <td>0.333333</td>\n",
       "    </tr>\n",
       "    <tr>\n",
       "      <th>Lex Luhn Lsa LDA</th>\n",
       "      <td>0.083333</td>\n",
       "    </tr>\n",
       "    <tr>\n",
       "      <th>Lex Luhn Lsa Tr</th>\n",
       "      <td>0.250000</td>\n",
       "    </tr>\n",
       "    <tr>\n",
       "      <th>Lex Luhn Lsa Tr LDA</th>\n",
       "      <td>0.166667</td>\n",
       "    </tr>\n",
       "    <tr>\n",
       "      <th>Lex Luhn Tr</th>\n",
       "      <td>0.333333</td>\n",
       "    </tr>\n",
       "    <tr>\n",
       "      <th>Lex Luhn Tr LDA</th>\n",
       "      <td>0.333333</td>\n",
       "    </tr>\n",
       "    <tr>\n",
       "      <th>Lex Tr</th>\n",
       "      <td>0.500000</td>\n",
       "    </tr>\n",
       "    <tr>\n",
       "      <th>Lex Tr LDA</th>\n",
       "      <td>0.166667</td>\n",
       "    </tr>\n",
       "    <tr>\n",
       "      <th>Lex</th>\n",
       "      <td>0.583333</td>\n",
       "    </tr>\n",
       "    <tr>\n",
       "      <th>Lsa</th>\n",
       "      <td>0.083333</td>\n",
       "    </tr>\n",
       "    <tr>\n",
       "      <th>Luhn Tr</th>\n",
       "      <td>0.250000</td>\n",
       "    </tr>\n",
       "    <tr>\n",
       "      <th>Luhn Tr LDA</th>\n",
       "      <td>0.250000</td>\n",
       "    </tr>\n",
       "    <tr>\n",
       "      <th>Luhn</th>\n",
       "      <td>0.166667</td>\n",
       "    </tr>\n",
       "    <tr>\n",
       "      <th>Tm LDA</th>\n",
       "      <td>0.083333</td>\n",
       "    </tr>\n",
       "    <tr>\n",
       "      <th>Tm Lex</th>\n",
       "      <td>0.333333</td>\n",
       "    </tr>\n",
       "    <tr>\n",
       "      <th>Tm Lex LDA</th>\n",
       "      <td>0.166667</td>\n",
       "    </tr>\n",
       "    <tr>\n",
       "      <th>Tm Lex Luhn</th>\n",
       "      <td>0.333333</td>\n",
       "    </tr>\n",
       "    <tr>\n",
       "      <th>Tm Lex Luhn LDA</th>\n",
       "      <td>0.333333</td>\n",
       "    </tr>\n",
       "    <tr>\n",
       "      <th>Tm Lex Luhn Lsa</th>\n",
       "      <td>0.333333</td>\n",
       "    </tr>\n",
       "    <tr>\n",
       "      <th>Tm Lex Luhn Lsa LDA</th>\n",
       "      <td>0.250000</td>\n",
       "    </tr>\n",
       "    <tr>\n",
       "      <th>Tm Lex Luhn Lsa Tr</th>\n",
       "      <td>0.333333</td>\n",
       "    </tr>\n",
       "    <tr>\n",
       "      <th>Tm Lex Luhn Lsa Tr LDA</th>\n",
       "      <td>0.250000</td>\n",
       "    </tr>\n",
       "    <tr>\n",
       "      <th>Tm Lex Luhn Tr</th>\n",
       "      <td>0.333333</td>\n",
       "    </tr>\n",
       "    <tr>\n",
       "      <th>Tm Lex Luhn Tr LDA</th>\n",
       "      <td>0.333333</td>\n",
       "    </tr>\n",
       "    <tr>\n",
       "      <th>Tm Lex Tr</th>\n",
       "      <td>0.333333</td>\n",
       "    </tr>\n",
       "    <tr>\n",
       "      <th>Tm Lex Tr LDA</th>\n",
       "      <td>0.333333</td>\n",
       "    </tr>\n",
       "    <tr>\n",
       "      <th>Tm Luhn</th>\n",
       "      <td>0.333333</td>\n",
       "    </tr>\n",
       "    <tr>\n",
       "      <th>Tm Luhn LDA</th>\n",
       "      <td>0.333333</td>\n",
       "    </tr>\n",
       "    <tr>\n",
       "      <th>Tm Luhn Lsa</th>\n",
       "      <td>0.166667</td>\n",
       "    </tr>\n",
       "    <tr>\n",
       "      <th>Tm Luhn Lsa LDA</th>\n",
       "      <td>0.166667</td>\n",
       "    </tr>\n",
       "    <tr>\n",
       "      <th>Tm Luhn Lsa Tr</th>\n",
       "      <td>0.333333</td>\n",
       "    </tr>\n",
       "    <tr>\n",
       "      <th>Tm Luhn Lsa Tr LDA</th>\n",
       "      <td>0.166667</td>\n",
       "    </tr>\n",
       "    <tr>\n",
       "      <th>Tm Luhn Tr</th>\n",
       "      <td>0.333333</td>\n",
       "    </tr>\n",
       "    <tr>\n",
       "      <th>Tm Luhn Tr LDA</th>\n",
       "      <td>0.333333</td>\n",
       "    </tr>\n",
       "    <tr>\n",
       "      <th>Tm Tr</th>\n",
       "      <td>0.250000</td>\n",
       "    </tr>\n",
       "    <tr>\n",
       "      <th>Tm Tr LDA</th>\n",
       "      <td>0.166667</td>\n",
       "    </tr>\n",
       "    <tr>\n",
       "      <th>Tm</th>\n",
       "      <td>0.166667</td>\n",
       "    </tr>\n",
       "    <tr>\n",
       "      <th>Tr LDA</th>\n",
       "      <td>0.333333</td>\n",
       "    </tr>\n",
       "    <tr>\n",
       "      <th>Tr</th>\n",
       "      <td>0.083333</td>\n",
       "    </tr>\n",
       "    <tr>\n",
       "      <th>Original Article</th>\n",
       "      <td>0.333333</td>\n",
       "    </tr>\n",
       "    <tr>\n",
       "      <th>Original Summary</th>\n",
       "      <td>1.000000</td>\n",
       "    </tr>\n",
       "  </tbody>\n",
       "</table>\n",
       "</div>"
      ],
      "text/plain": [
       "                               0\n",
       "LDA                     0.083333\n",
       "Lex LDA                 0.166667\n",
       "Lex Luhn                0.333333\n",
       "Lex Luhn LDA            0.333333\n",
       "Lex Luhn Lsa LDA        0.083333\n",
       "Lex Luhn Lsa Tr         0.250000\n",
       "Lex Luhn Lsa Tr LDA     0.166667\n",
       "Lex Luhn Tr             0.333333\n",
       "Lex Luhn Tr LDA         0.333333\n",
       "Lex Tr                  0.500000\n",
       "Lex Tr LDA              0.166667\n",
       "Lex                     0.583333\n",
       "Lsa                     0.083333\n",
       "Luhn Tr                 0.250000\n",
       "Luhn Tr LDA             0.250000\n",
       "Luhn                    0.166667\n",
       "Tm LDA                  0.083333\n",
       "Tm Lex                  0.333333\n",
       "Tm Lex LDA              0.166667\n",
       "Tm Lex Luhn             0.333333\n",
       "Tm Lex Luhn LDA         0.333333\n",
       "Tm Lex Luhn Lsa         0.333333\n",
       "Tm Lex Luhn Lsa LDA     0.250000\n",
       "Tm Lex Luhn Lsa Tr      0.333333\n",
       "Tm Lex Luhn Lsa Tr LDA  0.250000\n",
       "Tm Lex Luhn Tr          0.333333\n",
       "Tm Lex Luhn Tr LDA      0.333333\n",
       "Tm Lex Tr               0.333333\n",
       "Tm Lex Tr LDA           0.333333\n",
       "Tm Luhn                 0.333333\n",
       "Tm Luhn LDA             0.333333\n",
       "Tm Luhn Lsa             0.166667\n",
       "Tm Luhn Lsa LDA         0.166667\n",
       "Tm Luhn Lsa Tr          0.333333\n",
       "Tm Luhn Lsa Tr LDA      0.166667\n",
       "Tm Luhn Tr              0.333333\n",
       "Tm Luhn Tr LDA          0.333333\n",
       "Tm Tr                   0.250000\n",
       "Tm Tr LDA               0.166667\n",
       "Tm                      0.166667\n",
       "Tr LDA                  0.333333\n",
       "Tr                      0.083333\n",
       "Original Article        0.333333\n",
       "Original Summary        1.000000"
      ]
     },
     "execution_count": 18,
     "metadata": {},
     "output_type": "execute_result"
    }
   ],
   "source": [
    "df.T"
   ]
  },
  {
   "cell_type": "code",
   "execution_count": 4,
   "metadata": {},
   "outputs": [],
   "source": [
    "columns = df.columns"
   ]
  },
  {
   "cell_type": "code",
   "execution_count": 5,
   "metadata": {},
   "outputs": [],
   "source": [
    "columns = [string.replace(\"(\", \"\").replace(\")\", \"\").replace(\"'\", \"\").replace(\",\",\"\") for string in columns]"
   ]
  },
  {
   "cell_type": "code",
   "execution_count": 6,
   "metadata": {},
   "outputs": [
    {
     "data": {
      "text/plain": [
       "['LDA',\n",
       " 'Lex LDA',\n",
       " 'Lex Luhn',\n",
       " 'Lex Luhn LDA',\n",
       " 'Lex Luhn Lsa LDA',\n",
       " 'Lex Luhn Lsa Tr',\n",
       " 'Lex Luhn Lsa Tr LDA',\n",
       " 'Lex Luhn Tr',\n",
       " 'Lex Luhn Tr LDA',\n",
       " 'Lex Tr',\n",
       " 'Lex Tr LDA',\n",
       " 'Lex',\n",
       " 'Lsa',\n",
       " 'Luhn Tr',\n",
       " 'Luhn Tr LDA',\n",
       " 'Luhn',\n",
       " 'Tm LDA',\n",
       " 'Tm Lex',\n",
       " 'Tm Lex LDA',\n",
       " 'Tm Lex Luhn',\n",
       " 'Tm Lex Luhn LDA',\n",
       " 'Tm Lex Luhn Lsa',\n",
       " 'Tm Lex Luhn Lsa LDA',\n",
       " 'Tm Lex Luhn Lsa Tr',\n",
       " 'Tm Lex Luhn Lsa Tr LDA',\n",
       " 'Tm Lex Luhn Tr',\n",
       " 'Tm Lex Luhn Tr LDA',\n",
       " 'Tm Lex Tr',\n",
       " 'Tm Lex Tr LDA',\n",
       " 'Tm Luhn',\n",
       " 'Tm Luhn LDA',\n",
       " 'Tm Luhn Lsa',\n",
       " 'Tm Luhn Lsa LDA',\n",
       " 'Tm Luhn Lsa Tr',\n",
       " 'Tm Luhn Lsa Tr LDA',\n",
       " 'Tm Luhn Tr',\n",
       " 'Tm Luhn Tr LDA',\n",
       " 'Tm Tr',\n",
       " 'Tm Tr LDA',\n",
       " 'Tm',\n",
       " 'Tr LDA',\n",
       " 'Tr',\n",
       " 'Original Article',\n",
       " 'Original Summary']"
      ]
     },
     "execution_count": 6,
     "metadata": {},
     "output_type": "execute_result"
    }
   ],
   "source": [
    "columns"
   ]
  },
  {
   "cell_type": "code",
   "execution_count": 7,
   "metadata": {},
   "outputs": [],
   "source": [
    "original_algorithms = ['Tm', 'Lex', 'Luhn', 'Lsa', 'Tr', 'LDA']\n",
    "original_algorithms_scores  = [['Tm',0], ['Lex',0], ['Luhn',0], ['Lsa',0], ['Tr',0], ['LDA',0]]\n",
    "i = 0\n",
    "for algorrithm in original_algorithms:\n",
    "    for element in columns:\n",
    "        if algorrithm in element:\n",
    "            original_algorithms_scores[i][1] +=1\n",
    "    i+=1"
   ]
  },
  {
   "cell_type": "code",
   "execution_count": 8,
   "metadata": {},
   "outputs": [
    {
     "data": {
      "text/plain": [
       "[['Tm', 24], ['Lex', 23], ['Luhn', 26], ['Lsa', 12], ['Tr', 22], ['LDA', 21]]"
      ]
     },
     "execution_count": 8,
     "metadata": {},
     "output_type": "execute_result"
    }
   ],
   "source": [
    "original_algorithms_scores"
   ]
  },
  {
   "cell_type": "code",
   "execution_count": 9,
   "metadata": {},
   "outputs": [
    {
     "name": "stdout",
     "output_type": "stream",
     "text": [
      "{'LDA': 21, 'Lex': 23, 'Luhn': 26, 'Lsa': 12, 'Tr': 22, 'Tm': 24, 'Original': 2, 'Article': 1, 'Summary': 1}\n"
     ]
    }
   ],
   "source": [
    "my_list = columns\n",
    "counts = {}\n",
    "\n",
    "for inner_list in my_list:\n",
    "    inner_list = inner_list.split()\n",
    "    for word in inner_list:\n",
    "        if word in counts:\n",
    "            counts[word] += 1\n",
    "        else:\n",
    "            counts[word] = 1\n",
    "\n",
    "print(counts)"
   ]
  },
  {
   "cell_type": "code",
   "execution_count": 12,
   "metadata": {},
   "outputs": [
    {
     "data": {
      "text/plain": [
       "{'LDA': 21,\n",
       " 'Lex': 23,\n",
       " 'Luhn': 26,\n",
       " 'Lsa': 12,\n",
       " 'Tr': 22,\n",
       " 'Tm': 24,\n",
       " 'Original': 2,\n",
       " 'Article': 1,\n",
       " 'Summary': 1}"
      ]
     },
     "execution_count": 12,
     "metadata": {},
     "output_type": "execute_result"
    }
   ],
   "source": [
    "counts"
   ]
  },
  {
   "cell_type": "code",
   "execution_count": 10,
   "metadata": {},
   "outputs": [],
   "source": [
    "def scale_dict_values(original_dict):\n",
    "    min_value = min(original_dict.values())\n",
    "    max_value = max(original_dict.values())\n",
    "    scaled_dict = {}\n",
    "    for key, value in original_dict.items():\n",
    "        scaled_value = (value - min_value) / (max_value - min_value)\n",
    "        scaled_dict[key] = scaled_value\n",
    "    return scaled_dict\n"
   ]
  },
  {
   "cell_type": "code",
   "execution_count": 15,
   "metadata": {},
   "outputs": [
    {
     "data": {
      "text/plain": [
       "{'LDA': 0.8,\n",
       " 'Lex': 0.88,\n",
       " 'Luhn': 1.0,\n",
       " 'Lsa': 0.44,\n",
       " 'Tr': 0.84,\n",
       " 'Tm': 0.92,\n",
       " 'Original': 0.04,\n",
       " 'Article': 0.0,\n",
       " 'Summary': 0.0}"
      ]
     },
     "execution_count": 15,
     "metadata": {},
     "output_type": "execute_result"
    }
   ],
   "source": [
    "scaled_dict = scale_dict_values(counts)\n",
    "scaled_dict"
   ]
  }
 ],
 "metadata": {
  "kernelspec": {
   "display_name": "Python 3",
   "language": "python",
   "name": "python3"
  },
  "language_info": {
   "codemirror_mode": {
    "name": "ipython",
    "version": 3
   },
   "file_extension": ".py",
   "mimetype": "text/x-python",
   "name": "python",
   "nbconvert_exporter": "python",
   "pygments_lexer": "ipython3",
   "version": "3.10.0"
  },
  "orig_nbformat": 4
 },
 "nbformat": 4,
 "nbformat_minor": 2
}
