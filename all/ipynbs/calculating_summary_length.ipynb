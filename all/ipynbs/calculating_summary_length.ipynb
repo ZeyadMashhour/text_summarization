{
 "cells": [
  {
   "cell_type": "code",
   "execution_count": 1,
   "metadata": {},
   "outputs": [
    {
     "name": "stderr",
     "output_type": "stream",
     "text": [
      "c:\\Users\\Zeyad\\AppData\\Local\\Programs\\Python\\Python310\\lib\\site-packages\\tqdm\\auto.py:22: TqdmWarning: IProgress not found. Please update jupyter and ipywidgets. See https://ipywidgets.readthedocs.io/en/stable/user_install.html\n",
      "  from .autonotebook import tqdm as notebook_tqdm\n"
     ]
    }
   ],
   "source": [
    "import pandas as pd\n",
    "import spacy\n",
    "nlp = spacy.load('en_core_web_sm')"
   ]
  },
  {
   "cell_type": "code",
   "execution_count": 2,
   "metadata": {},
   "outputs": [],
   "source": [
    "first_refrence = pd.read_csv(\"DUC\\Duc_first_reference\\main_dataset\\Duc_dataset_first_ref_summary.csv\")\n",
    "first_refrence = first_refrence[\"Original Summary\"]\n",
    "second_refrence = pd.read_csv(\"DUC\\Duc_second_reference\\main_dataset\\Duc_dataset_second_ref_summary.csv\")\n",
    "second_refrence = second_refrence[\"Original Summary\"]\n",
    "third_refrence = pd.read_csv(\"DUC\\Duc_third_reference\\main_dataset\\Duc_dataset_third_ref_summary.csv\")\n",
    "third_refrence = third_refrence[\"Original Summary\"]\n",
    "fourth_refrence = pd.read_csv(\"DUC\\Duc_fourth_reference\\main_dataset\\Duc_dataset_fourth_ref_summary.csv\")\n",
    "fourth_refrence = fourth_refrence[\"Original Summary\"]"
   ]
  },
  {
   "cell_type": "code",
   "execution_count": 3,
   "metadata": {},
   "outputs": [],
   "source": [
    "all_reference = [first_refrence, second_refrence, third_refrence, fourth_refrence]"
   ]
  },
  {
   "cell_type": "code",
   "execution_count": 4,
   "metadata": {},
   "outputs": [],
   "source": [
    "all_sentences_in_references = []\n",
    "for refrence in all_reference:\n",
    "    list_of_sentences = [] \n",
    "    for article in refrence:\n",
    "        doc = nlp(article)\n",
    "        sentences = [sent.text.strip() for sent in doc.sents]\n",
    "        list_of_sentences.append(sentences)\n",
    "    all_sentences_in_references.append(list_of_sentences)"
   ]
  },
  {
   "cell_type": "code",
   "execution_count": 5,
   "metadata": {},
   "outputs": [],
   "source": [
    "lengths = []\n",
    "for list_of_sentences in  all_sentences_in_references:\n",
    "    refrence_list = []\n",
    "    for sublist in list_of_sentences:\n",
    "        sublist_length = len(sublist)\n",
    "        refrence_list.append(sublist_length)\n",
    "    lengths.append(refrence_list)"
   ]
  },
  {
   "cell_type": "code",
   "execution_count": 6,
   "metadata": {},
   "outputs": [
    {
     "name": "stdout",
     "output_type": "stream",
     "text": [
      "[False, False, False, False, False, False, False, False, False, False, False, False, False, False, False, False, False, False, False, False, False, False, False, False, False, False, False, False, False, False, False, False, False, False, False, False, False, False, False, False, False, False, False, True, False, False, False, False, False]\n"
     ]
    }
   ],
   "source": [
    "results = []\n",
    "for a, b, c, d in zip(lengths[0], lengths[1], lengths[2], lengths[3]):\n",
    "    if a == b == c == d:\n",
    "        results.append(True)\n",
    "    else:\n",
    "        results.append(False)\n",
    "\n",
    "print(results)"
   ]
  }
 ],
 "metadata": {
  "kernelspec": {
   "display_name": "Python 3",
   "language": "python",
   "name": "python3"
  },
  "language_info": {
   "codemirror_mode": {
    "name": "ipython",
    "version": 3
   },
   "file_extension": ".py",
   "mimetype": "text/x-python",
   "name": "python",
   "nbconvert_exporter": "python",
   "pygments_lexer": "ipython3",
   "version": "3.10.5"
  },
  "orig_nbformat": 4
 },
 "nbformat": 4,
 "nbformat_minor": 2
}
