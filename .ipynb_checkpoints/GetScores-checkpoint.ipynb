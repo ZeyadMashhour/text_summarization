{
 "cells": [
  {
   "cell_type": "code",
   "execution_count": 1,
   "id": "d875e2c9-4ad3-4fc6-a2ec-0cfdffdcc610",
   "metadata": {},
   "outputs": [],
   "source": [
    "import pandas as pd\n",
    "from efficiency_scores import*"
   ]
  },
  {
   "cell_type": "code",
   "execution_count": null,
   "id": "8cb59d78-ddc3-41b3-969c-f4db0eb9d678",
   "metadata": {},
   "outputs": [],
   "source": []
  }
 ],
 "metadata": {
  "kernelspec": {
   "display_name": "Python 3 (ipykernel)",
   "language": "python",
   "name": "python3"
  },
  "language_info": {
   "codemirror_mode": {
    "name": "ipython",
    "version": 3
   },
   "file_extension": ".py",
   "mimetype": "text/x-python",
   "name": "python",
   "nbconvert_exporter": "python",
   "pygments_lexer": "ipython3",
   "version": "3.10.9"
  }
 },
 "nbformat": 4,
 "nbformat_minor": 5
}
