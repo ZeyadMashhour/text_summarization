{
 "cells": [
  {
   "cell_type": "code",
   "execution_count": 6,
   "id": "d875e2c9-4ad3-4fc6-a2ec-0cfdffdcc610",
   "metadata": {},
   "outputs": [
    {
     "ename": "SyntaxError",
     "evalue": "invalid syntax (2971521355.py, line 1)",
     "output_type": "error",
     "traceback": [
      "\u001b[1;36m  Cell \u001b[1;32mIn[6], line 1\u001b[1;36m\u001b[0m\n\u001b[1;33m    from ../../my_package.summary_evalution import *\u001b[0m\n\u001b[1;37m           ^\u001b[0m\n\u001b[1;31mSyntaxError\u001b[0m\u001b[1;31m:\u001b[0m invalid syntax\n"
     ]
    }
   ],
   "source": [
    "from my_package.summary_evalution import *\n",
    "import pandas as pd"
   ]
  },
  {
   "cell_type": "code",
   "execution_count": 5,
   "id": "8cb59d78-ddc3-41b3-969c-f4db0eb9d678",
   "metadata": {},
   "outputs": [],
   "source": [
    "df = pd.read_csv(r\"../../BBC_7Sent_.csv\")"
   ]
  },
  {
   "cell_type": "code",
   "execution_count": null,
   "id": "4e5ec542",
   "metadata": {},
   "outputs": [],
   "source": [
    "df.head()"
   ]
  },
  {
   "cell_type": "code",
   "execution_count": null,
   "id": "dbf25cb8-19f3-4bb7-835d-d8d357044be4",
   "metadata": {},
   "outputs": [],
   "source": [
    "key = df.columns[2]\n",
    "summdf = pd.DataFrame([df[key]])\n",
    "summdf = summdf.T\n"
   ]
  },
  {
   "cell_type": "code",
   "execution_count": null,
   "id": "5f27ce75",
   "metadata": {},
   "outputs": [],
   "source": [
    "output = rouge_scores_df(df,summdf)\n",
    "output = df_avg_by_column(output)"
   ]
  },
  {
   "cell_type": "code",
   "execution_count": null,
   "id": "dbaab124",
   "metadata": {},
   "outputs": [],
   "source": [
    "output.T"
   ]
  },
  {
   "cell_type": "code",
   "execution_count": null,
   "id": "e6eb355a",
   "metadata": {},
   "outputs": [],
   "source": [
    "pd.DataFrame(output).T"
   ]
  },
  {
   "cell_type": "code",
   "execution_count": null,
   "id": "49ce74a2-6e8c-44f5-b9e8-96715a8c4b82",
   "metadata": {},
   "outputs": [],
   "source": [
    "pd.DataFrame(output).T"
   ]
  },
  {
   "cell_type": "code",
   "execution_count": null,
   "id": "d2a7f8cb-569d-4d02-bd32-155462e83915",
   "metadata": {
    "scrolled": true,
    "tags": []
   },
   "outputs": [],
   "source": [
    "frames = []\n",
    "algos = df.columns[2:]\n",
    "for key in algos:\n",
    "    summdf = pd.DataFrame([df[key]])\n",
    "    summdf = summdf.T\n",
    "    temp = rouge_scores_df(df,summdf)\n",
    "    temp = df_avg_by_column(temp)\n",
    "    temp = pd.DataFrame(temp).T\n",
    "    temp[\"Algorithm\"] = key\n",
    "    frames.append(temp)\n",
    "out = pd.concat(frames)"
   ]
  },
  {
   "cell_type": "code",
   "execution_count": null,
   "id": "c3778717-e09e-4cb6-a0a2-473fec70ecb2",
   "metadata": {},
   "outputs": [],
   "source": [
    "cols = list(out.columns)\n",
    "cols = [cols[-1]] + cols[:-1]\n",
    "out = out[cols]"
   ]
  },
  {
   "cell_type": "code",
   "execution_count": null,
   "id": "878fec91-5462-4c55-9b97-22c37a6aa582",
   "metadata": {},
   "outputs": [],
   "source": [
    "out = out.T\n",
    "out.columns = out.iloc[0]\n",
    "out = out[1:]\n",
    "out"
   ]
  },
  {
   "cell_type": "code",
   "execution_count": null,
   "id": "fcf9f53a-9377-4799-a5f9-2d52c1d62df3",
   "metadata": {},
   "outputs": [],
   "source": []
  }
 ],
 "metadata": {
  "kernelspec": {
   "display_name": "Python 3 (ipykernel)",
   "language": "python",
   "name": "python3"
  },
  "language_info": {
   "codemirror_mode": {
    "name": "ipython",
    "version": 3
   },
   "file_extension": ".py",
   "mimetype": "text/x-python",
   "name": "python",
   "nbconvert_exporter": "python",
   "pygments_lexer": "ipython3",
   "version": "3.10.9"
  }
 },
 "nbformat": 4,
 "nbformat_minor": 5
}
