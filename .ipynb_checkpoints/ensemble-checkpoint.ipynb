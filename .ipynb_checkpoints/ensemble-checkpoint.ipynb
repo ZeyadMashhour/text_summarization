{
 "cells": [
  {
   "cell_type": "code",
   "execution_count": 9,
   "metadata": {},
   "outputs": [
    {
     "ename": "ModuleNotFoundError",
     "evalue": "No module named 'gensim.summarization'",
     "output_type": "error",
     "traceback": [
      "\u001b[1;31m---------------------------------------------------------------------------\u001b[0m",
      "\u001b[1;31mModuleNotFoundError\u001b[0m                       Traceback (most recent call last)",
      "Cell \u001b[1;32mIn[9], line 2\u001b[0m\n\u001b[0;32m      1\u001b[0m \u001b[39mimport\u001b[39;00m \u001b[39mpandas\u001b[39;00m \u001b[39mas\u001b[39;00m \u001b[39mpd\u001b[39;00m\n\u001b[1;32m----> 2\u001b[0m \u001b[39mfrom\u001b[39;00m \u001b[39mgensim\u001b[39;00m\u001b[39m.\u001b[39;00m\u001b[39msummarization\u001b[39;00m\u001b[39m.\u001b[39;00m\u001b[39msummarizer\u001b[39;00m \u001b[39mimport\u001b[39;00m summarize \u001b[39mas\u001b[39;00m textrank_summarize\n\u001b[0;32m      3\u001b[0m \u001b[39mfrom\u001b[39;00m \u001b[39msumma\u001b[39;00m\u001b[39m.\u001b[39;00m\u001b[39msummarizer\u001b[39;00m \u001b[39mimport\u001b[39;00m lexrank \u001b[39mas\u001b[39;00m lexrank_summarize\n\u001b[0;32m      4\u001b[0m \u001b[39mfrom\u001b[39;00m \u001b[39msklearn\u001b[39;00m\u001b[39m.\u001b[39;00m\u001b[39mfeature_extraction\u001b[39;00m\u001b[39m.\u001b[39;00m\u001b[39mtext\u001b[39;00m \u001b[39mimport\u001b[39;00m CountVectorizer\n",
      "\u001b[1;31mModuleNotFoundError\u001b[0m: No module named 'gensim.summarization'"
     ]
    }
   ],
   "source": [
    "import pandas as pd\n",
    "from gensim.summarization.summarizer import summarize as textrank_summarize\n",
    "from summa.summarizer import lexrank as lexrank_summarize\n",
    "from sklearn.feature_extraction.text import CountVectorizer\n",
    "from sklearn.ensemble import VotingClassifier\n",
    "from sklearn.linear_model import LogisticRegression\n",
    "from sklearn.metrics import accuracy_score\n",
    "from sklearn.model_selection import train_test_split\n",
    "from sklearn.pipeline import make_pipeline\n",
    "\n",
    "# Load the data\n",
    "df = pd.read_csv(\"train_data.csv\")\n",
    "data = df[\"text\"].tolist()\n",
    "target = df[\"summary\"].tolist()\n",
    "\n",
    "# Split the data into training and testing sets\n",
    "X_train, X_test, y_train, y_test = train_test_split(data, target, test_size=0.2)\n",
    "\n",
    "# Define the summarization models\n",
    "textrank_model = lambda text: textrank_summarize(text)\n",
    "lexrank_model = lambda text: lexrank_summarize(text)\n",
    "\n",
    "# Define the vectorizer\n",
    "vectorizer = CountVectorizer()\n",
    "\n",
    "# Define the classifiers\n",
    "textrank_clf = LogisticRegression()\n",
    "lexrank_clf = LogisticRegression()\n",
    "\n",
    "# Define the pipeline for Textrank\n",
    "textrank_pipeline = make_pipeline(vectorizer, textrank_clf)\n",
    "\n",
    "# Define the pipeline for Lexrank\n",
    "lexrank_pipeline = make_pipeline(vectorizer, lexrank_clf)\n",
    "\n",
    "# Define the voting classifier\n",
    "voting_clf = VotingClassifier(estimators=[('textrank', textrank_pipeline), ('lexrank', lexrank_pipeline)])\n",
    "\n",
    "# Extract features from the training data using the Textrank and Lexrank models\n",
    "X_train_textrank = [textrank_model(text) for text in X_train]\n",
    "X_train_lexrank = [lexrank_model(text) for text in X_train]\n",
    "\n",
    "# Fit the Textrank classifier on the training data\n",
    "textrank_pipeline.fit(X_train_textrank, y_train)\n",
    "\n",
    "# Fit the Lexrank classifier on the training data\n",
    "lexrank_pipeline.fit(X_train_lexrank, y_train)\n",
    "\n",
    "# Predict the labels for the testing data using the voting classifier\n",
    "y_pred = voting_clf.predict(X_test)\n",
    "\n",
    "# Compute the accuracy of the predictions\n",
    "accuracy = accuracy_score(y_test, y_pred)\n",
    "\n",
    "print(\"Accuracy: {:.2f}%\".format(accuracy * 100))\n"
   ]
  },
  {
   "cell_type": "code",
   "execution_count": 7,
   "metadata": {},
   "outputs": [],
   "source": [
    "lexrank_model = lambda text: lexrank_summarize(text)"
   ]
  },
  {
   "cell_type": "code",
   "execution_count": 8,
   "metadata": {},
   "outputs": [
    {
     "data": {
      "text/plain": [
       "<function __main__.<lambda>(text)>"
      ]
     },
     "execution_count": 8,
     "metadata": {},
     "output_type": "execute_result"
    }
   ],
   "source": [
    "lexrank_model."
   ]
  },
  {
   "cell_type": "code",
   "execution_count": 38,
   "metadata": {},
   "outputs": [
    {
     "name": "stdout",
     "output_type": "stream",
     "text": [
      "[1 2 2 4 5 6]\n",
      "[1 3 3 4 5 6]\n"
     ]
    }
   ],
   "source": [
    "import numpy as np\n",
    "from sklearn.linear_model import LogisticRegression\n",
    "from sklearn.naive_bayes import GaussianNB\n",
    "from sklearn.ensemble import RandomForestClassifier, VotingClassifier\n",
    "clf1 = LogisticRegression(multi_class='multinomial', random_state=1)\n",
    "clf2 = RandomForestClassifier(n_estimators=50, random_state=1)\n",
    "clf3 = GaussianNB()\n",
    "X = np.array([[-1, -1], [-2, -1], [-3, -2], [1, 1], [2, 1], [3, 2]])\n",
    "y = np.array([1, 1, 1, 2, 2, 2])\n",
    "eclf1 = VotingClassifier(estimators=[\n",
    "        ('lr', clf1), ('rf', clf2), ('gnb', clf3)], voting='hard')\n",
    "eclf1 = eclf1.fit(X, y)\n",
    "print(eclf1.predict(X))\n",
    "\n",
    "np.array_equal(eclf1.named_estimators_.lr.predict(X),\n",
    "               eclf1.named_estimators_['lr'].predict(X))\n",
    "\n",
    "eclf2 = VotingClassifier(estimators=[\n",
    "        ('lr', clf1), ('rf', clf2), ('gnb', clf3)],\n",
    "        voting='soft')\n",
    "eclf2 = eclf2.fit(X, y)\n",
    "print(eclf2.predict(X))"
   ]
  },
  {
   "cell_type": "code",
   "execution_count": 18,
   "metadata": {},
   "outputs": [],
   "source": [
    "text = '''\n",
    "Elden Ring is a 2022 action role-playing game developed by FromSoftware and published by Bandai Namco Entertainment. It was directed by Hidetaka Miyazaki with worldbuilding provided by the fantasy writer George R. R. Martin. The game was released for PlayStation 4, PlayStation 5, Windows, Xbox One, and Xbox Series X/S on February 25.\n",
    "\n",
    "In Elden Ring, players control a customizable player character on a journey to repair the Elden Ring and become the new Elden Lord. The game is presented through a third-person perspective, with players freely roaming its interactive open world. Gameplay elements include combat using several types of weapons and magic spells, horseback riding, and crafting.\n",
    "\n",
    "FromSoftware wanted to create an open-world game with gameplay similar to their existing Dark Souls series, intending Elden Ring to act as an evolution of Dark Souls. Miyazaki admired Martin's work and hoped his contributions would produce a more accessible narrative than FromSoftware's previous games. Elden Ring received critical acclaim for its open-world, gameplay systems, and setting, with criticism going towards technical performance issues upon release. By July 2022, the game had sold more than 16.6 million copies.\n",
    "\n",
    "Elden Ring is an action role-playing game played in a third person perspective, with gameplay focusing on combat and exploration. It features elements similar to those found in other games developed by FromSoftware, such as the Dark Souls series, Bloodborne, and Sekiro: Shadows Die Twice. Set in an open world, players are allowed to freely explore the Lands Between and its six main areas; these locations range from Limgrave, an area featuring grassy plains and ancient ruins, to Caelid, a wasteland home to undead monsters. Open world areas are explorable using the character's mount, Torrent, as the primary mode of transportation, along with the ability to fast travel outside of combat. Throughout the game, players encounter non-player characters (NPCs) and enemies, including the demigods who rule each main area and serve as the game's main bosses. Aside from open world areas, Elden Ring also features hidden dungeons, such as catacombs, tunnels, and caves where players can fight bosses and gather helpful items.\n",
    "\n",
    "The player chooses a character class at the start of the game, which determines their starting spells, equipment, and attributes. Combat with enemies can be within melee range, or from a distance using ranged weapons or spells. Attacks from enemies can be blocked using shields or avoided by dodging. Spells in Elden Ring allow the player to enhance their own weapons, fight enemies from afar, and restore lost hit points. The player can memorize a limited amount of spells, which can be cast using a staff or Sacred Seal item. Weapons in Elden Ring can be improved using Ashes of War, obtainable items that grant weapons new capabilities. Ashes of War can be applied to or removed from weapons, and each Ash adds a Weapon Art, a special ability that can be used during combat. Aside from direct combat, stealth mechanics can be used to avoid enemies entirely, or allow for the targeting of foes with critical hits while hidden.\n",
    "\n",
    "Checkpoints called Sites of Grace are located throughout the game's areas; they are places where the character can increase the power of their attributes, change memorized spells, swap Ashes of War, or travel using the fast travel mechanic. Upon death, players respawn at the last Site of Grace where they rested; alternatively, they may choose to respawn at Stakes of Marika provided they died in the area. To increase their attributes at Sites of Grace, the player must spend runes, an in-game currency acquired by defeating enemies. Runes can also be used to buy items and improve weapons and armor. Dying in Elden Ring will cause the player to lose all collected runes at the location of death, and if the player dies again before retrieving the runes, they will be lost forever.\n",
    "\n",
    "The game contains crafting mechanics, which require materials in order to create items. To craft a certain item, the player must have the item's crafting recipe. Recipes can be found inside collectables called Cookbooks, which are scattered throughout the world. Materials can be collected by defeating enemies, exploring the game's world, or by trading with merchant NPCs. Crafted items range from poison darts and exploding pots to consumables that temporarily increase the player's strength in combat. Similar to the Dark Souls games, the player can summon friendly NPCs called spirits to fight enemies. Each type of summonable spirit requires its equivalent Spirit Ash for summoning; different types of Spirit Ashes can be discovered as the player explores the game world. Spirits can only be summoned near structures called Rebirth Monuments, which are primarily found in large areas and inside boss fight arenas.\n",
    "\n",
    "Elden Ring has a multiplayer system that allows players to be summoned for both cooperative and player versus player (PvP) play over the Internet. Cooperative play involves the placing of a Summon Sign on the ground, which causes the sign to appear in the world of online players who have used a Furlcalling Finger Remedy. If another player interacts with the sign, whoever placed down the sign is summoned into their world. Cooperative players remain in the same world until the boss of the area is defeated, or until a summoned player dies and is sent back to their home world. PvP combat involves using a Summon Sign to directly challenge another player to a duel, or using items called the Bloody Finger or Recusant Finger to invade the worlds of others. World hosts may also use a Taunter's Tongue to increase the likelihood that their world will be invaded by others, as well as decreasing the time between invasions.\n",
    "\n",
    "Elden Ring takes place in the Lands Between, a fictional landmass ruled over by several demigods. It was previously ruled over by the immortal Queen Marika, who acted as keeper of the Elden Ring, a powerful force that manifested as the physical concept of order. When Marika eventually shattered the Elden Ring and disappeared, her demigod children began warring over pieces of the Ring in an event called the Shattering. Each demigod possesses a shard of the Ring called a Great Rune, which corrupts them with power. In the game, the player character is a Tarnished, one of a group of exiles from the Lands Between who are summoned back after the Shattering. As one of the Tarnished, the player must traverse the realm to repair the Elden Ring and become the Elden Lord.\n",
    "\n",
    "Early on in their journey to repair the Elden Ring, the Tarnished encounters a Maiden named Melina. As the Tarnished is Maidenless, Melina offers to act as their Maiden, granting them the ability to turn runes into strength, as well as giving the Tarnished her steed Torrent. She does this under the condition that the Tarnished brings her to the Erdtree, the home of the Elden Ring. Melina later takes the Tarnished to the Roundtable Hold, a gathering place for other Tarnished seeking to repair the Elden Ring. The Hold's benefactor, the Two Fingers, instructs the Tarnished to collect the Great Runes and bring them to the Erdtree, where they can be used to repair the Elden Ring.\n",
    "\n",
    "The Tarnished proceeds to journey into the Lands Between, investigating its various locales and defeating the demigods. They soon recover enough Great Runes so that the Two Fingers allows them to battle Morgott the Grace-Given, the demigod guarding the Erdtree. As he dies, Morgott claims that the Erdtree will not allow anyone to enter it, making the Elden Ring irreparable. The Tarnished confirms this when they approach the Erdtree and find the interior blocked by a wall of thorns. Melina then arrives and advises that they journey to find the Flame of Ruin, which they can use to set the Erdtree on fire and burn away the thorns. The Tarnished is then free to journey towards the Flame of Ruin, or can search for a way to harness the equally powerful Frenzied Flame.\n",
    "\n",
    "Upon obtaining the Flame of Ruin, if the Tarnished did not gain the power of the Frenzied Flame, then Melina will take the Flame of Ruin and sacrifice herself to set the Erdtree on fire. If the Tarnished gained the power of the Frenzied Flame, then Melina will abandon the Tarnished, forcing them to use the Frenzied Flame to set the Erdtree on fire. Regardless, the Tarnished is transported to the ruined city of Farum Azula while the Erdtree burns. After defeating Maliketh the Black Blade and using his Rune of Death to fuel the fire, the Tarnished is returned to the foot of the scorched Erdtree. Inside, they fight the reanimated remains of Queen Marika's consort Radagon, as well as the guardian of the tree, the Elden Beast. After both are vanquished, the Tarnished gains access to Marika's shattered corpse, which contains the remains of the Elden Ring. Depending on the Tarnished's actions throughout the game, six different endings can then be achieved, ranging from the Tarnished becoming the Elden Lord, to allowing the Elden Ring to be destroyed by Ranni the Witch, or using the Frenzied Flame to destroy the Lands Between.\n",
    "\n",
    "FromSoftware had previously been known for developing the Dark Souls series, noted for their high level of difficulty. Director Hidetaka Miyazaki wanted to create an open world game, intending Elden Ring to as a mechanical evolution to Dark Souls. The game was designed to have a more expansive environment compared to the narrow dungeons of FromSoftware's previous titles, with Miyazaki hoping that the grander scale would add freedom and depth to exploration. FromSoftware approached the American author George R. R. Martin, known for the A Song of Ice and Fire series of fantasy novels, to provide worldbuilding for Elden Ring. A fan of Martin's work, Miyazaki hoped Martin's contributions would produce a more accessible narrative than the studio's previous games. Miyazaki remained lead writer for the main storyline in the game, but gave Martin the creative freedom to write about events that had taken place before the main narrative. The process was compared by Miyazaki as using a \"dungeon master's handbook in a tabletop RPG\". As with many of FromSoftware's previous games, the story was designed to not be clearly explained. The developers intended for players to interpret the story for themselves via flavor text and optional discussions with non-player characters (NPCs). Miyazaki said that he enjoyed writing NPCs with more detail, believing they were more compelling than in his earlier works. In an interview with IGN, Miyazaki said that he chose to give Martin control over the pre-narrative because of the restrictions that FromSoftware's method of storytelling placed on writers. He noted that FromSoftware did not want a linear or story-focused narrative, and by giving Martin oversight of an history that the player was not directly involved in, he would allow Martin to freely design his contributions. In addition to Martin, some staff from Game of Thrones, a television series adaptation of A Song of Ice and Fire, also assisted with the game's development.\n",
    "\n",
    "Production of the game began in early 2017 following the release of The Ringed City, a piece of downloadable content for Dark Souls III. The game was developed alongside Sekiro: Shadows Die Twice, which Miyazaki also directed. He explained that although the combat in Elden Ring has similarities to Sekiro, neither game directly inspired the mechanics of the other. FromSoftware was able to develop both games simultaneously using a \"co-director\" structure, in which each of the developer’s games had a staff member acting as director through its first stages of development. Miyazaki would then later provide direction on the game's mechanics, art, and music. The design team of Elden Ring focused on environmental scale, roleplaying elements, and storytelling as the core elements of the game. Developers credited the scale of environments as responsible for creating a sense of diversity in the game and intended for the roleplaying elements to allow for a variety of player interactions with the environment. Increasing the scale of the game required the creation of a multitude of castles, caves, and dungeons that players can explore. FromSoftware said the stealth and summoning systems were implemented in order to add alternatives to direct engagement in combat. Miyazaki mentioned Shadow of the Colossus, The Elder Scrolls, The Witcher 3, and The Legend of Zelda: Breath of the Wild  as design influences for Elden Ring. He also credited RuneQuest, The Lord of the Rings, and Michael Moorcock's novel The Eternal Champion as inspirations for the game's story. Elden Ring's original soundtrack was composed by Tsukasa Saitoh, Shoi Miyazawa, Tai Tomisawa, Yuka Kitamura, and Yoshimi Kudo.\n",
    "\n",
    "Elden Ring was revealed during the Xbox games conference at E3 2019. Some information about the game had been previously leaked online due to a vulnerability of the servers at Bandai Namco Entertainment. The game was widely anticipated on announcement, but no further material was announced until another trailer was shown in June 2021. Playtesting was facilitated by Bandai Namco Entertainment, which released the game initially as a closed beta in November 2021 that players could sign up to test. The game was delayed to February 25, 2022, after its previous release date on January 21, 2022. Elden Ring had performance issues at launch, with complaints of deficient frame rate being common. Bandai Namco would address some of these issues through software patches and updates.\n",
    "\n",
    "Elden Ring received \"universal acclaim\" according to review aggregator Metacritic and ranks as the fourth highest-reviewed game on OpenCritic. On Twitch, it drew nearly 900,000 viewers within 24 hours of release, making it the third-largest debut on the platform after Lost Ark and Cyberpunk 2077.\n",
    "\n",
    "The game's open world setting received acclaim, with reviewers praising the exploration mechanics. Tamoor Hussain of GamesSpot praised the Lands Between as the most expansive of FromSoftware's settings, calling exploration and discovery the main appeal of the game. Mitchell Saltzman of IGN lauded the game for rewarding exploration on every part of the map. Simon Parkin of The Guardian called the game's environments \"intriguing and inventive.\" Some reviewers liked that the open landscape provided opportunities to discover and try multiple challenges. Exploration drew many favorable comparisons to The Legend of Zelda: Breath of the Wild. The environments of the game were also praised for their artistic designs, with reviewers positively rating their execution in an open setting, while also appreciating the designs of linear dungeons.\n",
    "\n",
    "Similarly to FromSoftware's earlier Souls games, Elden Ring's difficulty provoked much commentary, with reviewers both praising and criticizing its lack of easier modes as discouraging towards new players. Other reviewers considered Elden Ring the most accessible Souls game, saying that the player could choose to avoid difficult threats and return with more experience. The combat of Elden Ring was praised for offering options towards fighting enemies, while keeping the game challenging. Torrent and fast travel were well-received features, with reviewers citing them as large improvements towards making the game easier to explore. The placing of checkpoints was also praised as helpful towards making the game more approachable.\n",
    "\n",
    "Some reviewers criticized a number of the menu and accessibility systems. Reviewers also complained about the poor performance of the game on PC, with frame rate issues being commonly mentioned. Just after launch, the Steam version received primarily mixed reviews due to performance issues.\n",
    "\n",
    "The story of Elden Ring was noted by reviewers for lacking Martin’s writing style. Kyle Orland of Ars Technica said that Elden Ring's storytelling was \"characteristically sparse and cryptic,” and unlike what fans of Martin would expect. Chris Carter of Destructoid called the story \"low key\", but said it was better told than in previous FromSoftware games. Aoife Wilson of Eurogamer said that the George R. R. Martin's heavy inclusion in the marketing was \"baffling\" when his contributions to the overall narrative were unclear. Conversely, Mitchell Saltzman did not mind the lack of Martin's style, saying \"the organic side stories kept me most enthralled, rather than [Martin's] grand overarching plot.\"\n",
    "\n",
    "Elden Ring sold 13.4 million copies worldwide by the end of March 2022 and 16.6 million by the end of June 2022. It was the top-selling game in several regions between February and March 2022, and is the fastest-selling Bandai Namco game of all time.\n",
    "'''"
   ]
  },
  {
   "cell_type": "code",
   "execution_count": 19,
   "metadata": {},
   "outputs": [],
   "source": [
    "from sklearn.linear_model import LogisticRegression\n",
    "from sklearn.naive_bayes import GaussianNB\n",
    "from sklearn.ensemble import RandomForestClassifier, VotingClassifier\n",
    "from sklearn.feature_extraction.text import TfidfVectorizer\n",
    "from gensim.summarization.summarizer import summarize\n",
    "import numpy as np\n",
    "# Extract the top 2 sentences using TextRank\n",
    "summary = summarize(text, ratio=0.2, split=True)\n",
    "summary = summary[:2]\n",
    "\n",
    "\n"
   ]
  },
  {
   "cell_type": "code",
   "execution_count": 20,
   "metadata": {},
   "outputs": [
    {
     "data": {
      "text/plain": [
       "['Elden Ring is a 2022 action role-playing game developed by FromSoftware and published by Bandai Namco Entertainment.',\n",
       " 'FromSoftware wanted to create an open-world game with gameplay similar to their existing Dark Souls series, intending Elden Ring to act as an evolution of Dark Souls.']"
      ]
     },
     "execution_count": 20,
     "metadata": {},
     "output_type": "execute_result"
    }
   ],
   "source": [
    "summary"
   ]
  },
  {
   "cell_type": "code",
   "execution_count": 31,
   "metadata": {},
   "outputs": [
    {
     "name": "stdout",
     "output_type": "stream",
     "text": [
      "[1 0]\n"
     ]
    }
   ],
   "source": [
    "# Convert the extracted sentences into a feature matrix using TfidfVectorizer\n",
    "vectorizer = TfidfVectorizer()\n",
    "X = vectorizer.fit_transform(summary).toarray()\n",
    "\n",
    "# Define classifiers\n",
    "clf1 = LogisticRegression(multi_class='multinomial', random_state=1)\n",
    "clf2 = RandomForestClassifier(n_estimators=50, random_state=1)\n",
    "clf3 = GaussianNB()\n",
    "\n",
    "# Train the ensemble classifier using the extracted sentences as input\n",
    "eclf1 = VotingClassifier(estimators=[ ('rf', clf2), ('gnb', clf3)], voting='hard')\n",
    "y = np.array([1, 0])\n",
    "eclf1 = eclf1.fit(X, y)\n",
    "\n",
    "# Make predictions using the trained classifier\n",
    "print(eclf1.predict(X))"
   ]
  }
 ],
 "metadata": {
  "kernelspec": {
   "display_name": "Python 3",
   "language": "python",
   "name": "python3"
  },
  "language_info": {
   "codemirror_mode": {
    "name": "ipython",
    "version": 3
   },
   "file_extension": ".py",
   "mimetype": "text/x-python",
   "name": "python",
   "nbconvert_exporter": "python",
   "pygments_lexer": "ipython3",
   "version": "3.10.0"
  },
  "orig_nbformat": 4
 },
 "nbformat": 4,
 "nbformat_minor": 2
}
