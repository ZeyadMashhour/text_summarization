{
 "cells": [
  {
   "cell_type": "code",
   "execution_count": 72,
   "id": "9302e92c-e72e-4457-aa01-01e896dff51c",
   "metadata": {},
   "outputs": [],
   "source": [
    "import statistics\n",
    "import os\n",
    "import pandas as pd\n",
    "from my_package.df_tools import extracted_number_from_df\n",
    "from tqdm import tqdm\n",
    "import numpy as np"
   ]
  },
  {
   "cell_type": "code",
   "execution_count": 155,
   "id": "e1013d6f-b192-435e-bf59-7460a4b53ee2",
   "metadata": {},
   "outputs": [
    {
     "name": "stdout",
     "output_type": "stream",
     "text": [
      "All directories: ['6 Sentences', '7 Sentences', 'Dynamic Sentences']\n"
     ]
    }
   ],
   "source": [
    "path = \"BBC_dataset/Algorithm Eval Scores\"\n",
    "directories = [f for f in os.listdir(path) if os.path.isdir(os.path.join(path, f))]\n",
    "directories = directories[1:]\n",
    "directories.pop(0)\n",
    "directories.pop(3)\n",
    "directories.pop(3)\n",
    "directories.pop(0)\n",
    "print(\"All directories:\", directories)"
   ]
  },
  {
   "cell_type": "code",
   "execution_count": 135,
   "id": "f85877cd-b5b6-49b0-ae48-cc45e927d641",
   "metadata": {},
   "outputs": [],
   "source": [
    "# this cell is for duc only to fetch reference sub directory\n",
    "subdirs = []\n",
    "for dirpath, dirnames, filenames in os.walk(path):\n",
    "    for dirname in dirnames:\n",
    "        subdirs.append(os.path.join(dirpath, dirname))\n",
    "directories = subdirs[10:]"
   ]
  },
  {
   "cell_type": "code",
   "execution_count": 156,
   "id": "a402ab0c-2c7a-419c-954d-1344e57e6d51",
   "metadata": {},
   "outputs": [
    {
     "name": "stderr",
     "output_type": "stream",
     "text": [
      "100%|██████████| 63/63 [07:26<00:00,  7.09s/it]\n",
      "100%|██████████| 63/63 [07:16<00:00,  6.94s/it]\n",
      "100%|██████████| 63/63 [07:16<00:00,  6.92s/it]\n"
     ]
    }
   ],
   "source": [
    "for directory in directories:\n",
    "    if \"ipynb\" in directory:\n",
    "        continue\n",
    "    output = []\n",
    "    files = []\n",
    "    dire = path + \"/\" + directory #BBC\n",
    "    # dire = directory #DUC\n",
    "    for file in os.listdir(dire):\n",
    "        if os.path.isfile(os.path.join(dire, file)):\n",
    "            files.append(dire+\"/\"+file)\n",
    "    for file in tqdm(files):\n",
    "        data = pd.read_csv(file)\n",
    "        data = data.iloc[:, 1:]\n",
    "        data = extracted_number_from_df(data)\n",
    "        std = data.std()\n",
    "        std = list(std)\n",
    "        std.insert(0,file.split(\"(\")[1].split(\")\")[0])\n",
    "        output.append(std)\n",
    "    cols = data.columns\n",
    "    cols = cols.insert(0,\"Model\")\n",
    "    df = pd.DataFrame(output, columns=cols)\n",
    "    df.to_csv(\"BBC_\"+directory+\"_std.csv\")"
   ]
  },
  {
   "cell_type": "code",
   "execution_count": 151,
   "id": "eaf0e828-35a2-459f-9d1b-94bbb34a1372",
   "metadata": {},
   "outputs": [
    {
     "data": {
      "text/plain": [
       "'5 Sentences'"
      ]
     },
     "execution_count": 151,
     "metadata": {},
     "output_type": "execute_result"
    }
   ],
   "source": []
  },
  {
   "cell_type": "code",
   "execution_count": 153,
   "id": "70f6a7a7-8c9e-48b1-9b18-8bb4163a5284",
   "metadata": {},
   "outputs": [],
   "source": []
  },
  {
   "cell_type": "code",
   "execution_count": null,
   "id": "da70ee3e-3b1c-4b13-91cd-921033f4d5a7",
   "metadata": {},
   "outputs": [],
   "source": []
  }
 ],
 "metadata": {
  "kernelspec": {
   "display_name": "Python 3 (ipykernel)",
   "language": "python",
   "name": "python3"
  },
  "language_info": {
   "codemirror_mode": {
    "name": "ipython",
    "version": 3
   },
   "file_extension": ".py",
   "mimetype": "text/x-python",
   "name": "python",
   "nbconvert_exporter": "python",
   "pygments_lexer": "ipython3",
   "version": "3.10.9"
  }
 },
 "nbformat": 4,
 "nbformat_minor": 5
}
