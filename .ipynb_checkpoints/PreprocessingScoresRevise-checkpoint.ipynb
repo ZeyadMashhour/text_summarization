{
 "cells": [
  {
   "cell_type": "code",
   "execution_count": null,
   "id": "d1ae50e8-e085-4019-9006-1d6dd0f6916c",
   "metadata": {},
   "outputs": [],
   "source": [
    "root = \"preprocessing/luhn/nltk_luhn_\"\n",
    "frame1 = pd.read_csv(root+\"fff_scores_avg.csv\")\n",
    "frame2 = pd.read_csv(root+\"fft_scores_avg.csv\")\n",
    "frame3 = pd.read_csv(root+\"ftf_scores_avg.csv\")\n",
    "frame4 = pd.read_csv(root+\"ftt_scores_avg.csv\")\n",
    "frame5 = pd.read_csv(root+\"tff_scores_avg.csv\")\n",
    "frame6 = pd.read_csv(root+\"tft_scores_avg.csv\")\n",
    "frame7 = pd.read_csv(root+\"ttf_scores_avg.csv\")\n",
    "frame8 = pd.read_csv(root+\"ttt_scores_avg.csv\")"
   ]
  },
  {
   "cell_type": "code",
   "execution_count": null,
   "id": "1a4bdfda-1832-4130-948a-b1decd4cc3cf",
   "metadata": {},
   "outputs": [],
   "source": [
    "frame1 = frame1.T\n",
    "frame2 = frame2.T\n",
    "frame3 = frame3.T\n",
    "frame4 = frame4.T\n",
    "frame5 = frame5.T\n",
    "frame6 = frame6.T\n",
    "frame7 = frame7.T\n",
    "frame8 = frame8.T\n",
    "frame1"
   ]
  },
  {
   "cell_type": "code",
   "execution_count": null,
   "id": "b9abf836-608e-4379-bc68-afe267f8bb36",
   "metadata": {},
   "outputs": [],
   "source": [
    "frame1[\"12\"] = [\"type\",\"fff\"]\n",
    "frame2[\"12\"] = [\"type\",\"fft\"]\n",
    "frame3[\"12\"] = [\"type\",\"ftf\"]\n",
    "frame4[\"12\"] = [\"type\",\"ftt\"]\n",
    "frame5[\"12\"] = [\"type\",\"tff\"]\n",
    "frame6[\"12\"] = [\"type\",\"tft\"]\n",
    "frame7[\"12\"] = [\"type\",\"ttf\"]\n",
    "frame8[\"12\"] = [\"type\",\"ttt\"]"
   ]
  },
  {
   "cell_type": "code",
   "execution_count": null,
   "id": "c65f795d-b370-41b0-a182-486611e18af5",
   "metadata": {},
   "outputs": [],
   "source": [
    "frame1 = frame1.append(frame2)\n",
    "frame1 = frame1.append(frame3)\n",
    "frame1 = frame1.append(frame4)\n",
    "frame1 = frame1.append(frame5)\n",
    "frame1 = frame1.append(frame6)\n",
    "frame1 = frame1.append(frame7)\n",
    "frame1 = frame1.append(frame8)"
   ]
  },
  {
   "cell_type": "code",
   "execution_count": null,
   "id": "85fca7e8-7166-40d9-9cb5-6e062072fbc5",
   "metadata": {},
   "outputs": [],
   "source": [
    "frame1 = frame1.rename(columns=frame1.iloc[0]).drop(frame1.index[0])\n",
    "frame1"
   ]
  },
  {
   "cell_type": "code",
   "execution_count": null,
   "id": "ea39a7e1-98a5-44f3-8592-9cdb592b8e95",
   "metadata": {},
   "outputs": [],
   "source": [
    "frame1.to_csv(root+'all.csv', index = False, encoding='utf-8')"
   ]
  },
  {
   "cell_type": "code",
   "execution_count": null,
   "id": "2890c3da-dce4-45f7-afa7-3d78d8ee8959",
   "metadata": {},
   "outputs": [],
   "source": [
    "from process_dataframe import *\n",
    "sumdf = pd.read_csv(root+\"all.csv\")\n",
    "sumdf = extracted_number_from_df(sumdf)\n",
    "sumdf"
   ]
  },
  {
   "cell_type": "code",
   "execution_count": null,
   "id": "cc19e92d-1682-42af-a683-68d7ebf18c4e",
   "metadata": {},
   "outputs": [],
   "source": [
    "rowssum = []\n",
    "rowsavg = []\n",
    "for row in sumdf.iterrows():\n",
    "    rowssum.append(round(sum(row[1][:-1]), 4))\n",
    "    rowsavg.append(round(sum(row[1][:-1])/len(row[1]), 4))"
   ]
  },
  {
   "cell_type": "code",
   "execution_count": null,
   "id": "ea0efafd-6616-4859-bbc3-db601407df93",
   "metadata": {},
   "outputs": [],
   "source": [
    "sumdf[\"score_sum\"] = rowssum\n",
    "sumdf[\"score_avg\"] = rowsavg\n",
    "sumdf.to_csv('nltk_lexrank_all.csv', index = False, encoding='utf-8')"
   ]
  }
 ],
 "metadata": {
  "kernelspec": {
   "display_name": "Python 3 (ipykernel)",
   "language": "python",
   "name": "python3"
  },
  "language_info": {
   "codemirror_mode": {
    "name": "ipython",
    "version": 3
   },
   "file_extension": ".py",
   "mimetype": "text/x-python",
   "name": "python",
   "nbconvert_exporter": "python",
   "pygments_lexer": "ipython3",
   "version": "3.10.9"
  }
 },
 "nbformat": 4,
 "nbformat_minor": 5
}
