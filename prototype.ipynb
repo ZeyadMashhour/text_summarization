{
 "cells": [
  {
   "cell_type": "code",
   "execution_count": 1,
   "id": "7e110610-31f5-453d-b4dc-da748aad72b6",
   "metadata": {},
   "outputs": [],
   "source": [
    "from torchmetrics.text.rouge import ROUGEScore\n",
    "rouge = ROUGEScore()\n",
    "from pprint import pprint"
   ]
  },
  {
   "cell_type": "code",
   "execution_count": 2,
   "id": "e8c729eb-1ca7-473a-9ce5-7b784b1a6520",
   "metadata": {},
   "outputs": [],
   "source": [
    "from summarization_algorithm import * "
   ]
  },
  {
   "cell_type": "code",
   "execution_count": 3,
   "id": "c9a8f302-06b0-4c3c-90b6-9d5638e52fb7",
   "metadata": {},
   "outputs": [],
   "source": [
    "import pandas as pd"
   ]
  },
  {
   "cell_type": "code",
   "execution_count": 4,
   "id": "8d3a1ace-3ef7-45bb-896e-6b5e68b17aaf",
   "metadata": {},
   "outputs": [
    {
     "data": {
      "text/plain": [
       "(4396, 2)"
      ]
     },
     "execution_count": 4,
     "metadata": {},
     "output_type": "execute_result"
    }
   ],
   "source": [
    "df = pd.read_csv(\"dataset.csv\")\n",
    "df=df.iloc[:,1:]#remove first column(unnamed col)\n",
    "df.dropna(inplace=True)\n",
    "df.shape"
   ]
  },
  {
   "cell_type": "code",
   "execution_count": 5,
   "id": "2f16f650-3128-4a65-bac6-c6dd72173836",
   "metadata": {},
   "outputs": [],
   "source": [
    "text = 'The Daman and Diu administration on Wednesday withdrew a circular that asked women staff to tie rakhis on male colleagues after the order triggered a backlash from employees and was ripped apart on social media.The union territory?s administration was forced to retreat within 24 hours of issuing the circular that made it compulsory for its staff to celebrate Rakshabandhan at workplace.?It has been decided to celebrate the festival of Rakshabandhan on August 7. In this connection, all offices/ departments shall remain open and celebrate the festival collectively at a suitable time wherein all the lady staff shall tie rakhis to their colleagues,? the order, issued on August 1 by Gurpreet Singh, deputy secretary (personnel), had said.To ensure that no one skipped office, an attendance report was to be sent to the government the next evening.The two notifications ? one mandating the celebration of Rakshabandhan (left) and the other withdrawing the mandate (right) ? were issued by the Daman and Diu administration a day apart. The circular was withdrawn through a one-line order issued late in the evening by the UT?s department of personnel and administrative reforms.?The circular is ridiculous. There are sensitivities involved. How can the government dictate who I should tie rakhi to? We should maintain the professionalism of a workplace? an official told Hindustan Times earlier in the day. She refused to be identified.The notice was issued on Daman and Diu administrator and former Gujarat home minister Praful Kodabhai Patel?s direction, sources said.Rakshabandhan, a celebration of the bond between brothers and sisters, is one of several Hindu festivities and rituals that are no longer confined of private, family affairs but have become tools to push politic al ideologies.In 2014, the year BJP stormed to power at the Centre, Rashtriya Swayamsevak Sangh (RSS) chief Mohan Bhagwat said the festival had ?national significance? and should be celebrated widely ?to protect Hindu culture and live by the values enshrined in it?. The RSS is the ideological parent of the ruling BJP.Last year, women ministers in the Modi government went to the border areas to celebrate the festival with soldiers. A year before, all cabinet ministers were asked to go to their constituencies for the festival.'"
   ]
  },
  {
   "cell_type": "code",
   "execution_count": 6,
   "id": "8bb78233-cdf3-49be-87e9-120ad9980df2",
   "metadata": {},
   "outputs": [],
   "source": [
    "# sentences = tokenization(text)  # Tokenize the text into sentences\n",
    "# #text = text.replace('!','.').replace('?','.').replace('\\n',' ')\n",
    "# filtered_sentences = remove_stop_words(sentences)\n",
    "\n",
    "sentences = tokenization(text)  # Tokenize the text into sentences\n",
    "filtered_sentences = []\n",
    "for sentence in sentences:\n",
    "    sentence = sentence .replace('!','.').replace('?','.').replace('\\n',' ')\n",
    "    sentence = sentence .replace('.',' ')\n",
    "    filtered_sentences.append(sentence)\n",
    "filtered_sentences = remove_stop_words(filtered_sentences)"
   ]
  },
  {
   "cell_type": "code",
   "execution_count": 7,
   "id": "8425934c-de23-4195-8c23-01041a768240",
   "metadata": {},
   "outputs": [],
   "source": [
    "#df.head(3)"
   ]
  },
  {
   "cell_type": "code",
   "execution_count": 8,
   "id": "844cb799-8dae-423b-bc74-8df6f85420b2",
   "metadata": {},
   "outputs": [],
   "source": [
    "#df.iloc[0,1]"
   ]
  },
  {
   "cell_type": "code",
   "execution_count": 9,
   "id": "c336ec06-5b50-474f-87b3-7a56d465d77c",
   "metadata": {},
   "outputs": [
    {
     "data": {
      "text/plain": [
       "(4396, 2)"
      ]
     },
     "execution_count": 9,
     "metadata": {},
     "output_type": "execute_result"
    }
   ],
   "source": [
    "df.shape"
   ]
  },
  {
   "cell_type": "code",
   "execution_count": 10,
   "id": "696f1924-2caa-4fcf-a4ff-02d3bf801eea",
   "metadata": {},
   "outputs": [],
   "source": [
    "def summarize_with(df, summary_algorithm):\n",
    "    columns, rows = df.shape\n",
    "    summarized_text = []\n",
    "    for column in range(columns):\n",
    "        text = df.iloc[column,1]\n",
    "        #print(column,text,\"\\nEnd\\n\")\n",
    "        #print(luhn_algorithm(text),\"\\nEnd\\n\")\n",
    "        summary = lsa_summarization(filtered_sentences,sentences)\n",
    "        #print(summary)\n",
    "        summarized_text.append(summary)\n",
    "        #print(summarized_text)\n",
    "        summary_df = pd.DataFrame (summarized_text, columns = [f'{summary_algorithm.__name__} summary'])\n",
    "    return summary_df"
   ]
  },
  {
   "cell_type": "code",
   "execution_count": 11,
   "id": "b2e7badc-7681-4f39-8693-3f6bcb8a7d47",
   "metadata": {},
   "outputs": [
    {
     "data": {
      "text/html": [
       "<div>\n",
       "<style scoped>\n",
       "    .dataframe tbody tr th:only-of-type {\n",
       "        vertical-align: middle;\n",
       "    }\n",
       "\n",
       "    .dataframe tbody tr th {\n",
       "        vertical-align: top;\n",
       "    }\n",
       "\n",
       "    .dataframe thead th {\n",
       "        text-align: right;\n",
       "    }\n",
       "</style>\n",
       "<table border=\"1\" class=\"dataframe\">\n",
       "  <thead>\n",
       "    <tr style=\"text-align: right;\">\n",
       "      <th></th>\n",
       "      <th>text_matching_algorithm summary</th>\n",
       "    </tr>\n",
       "  </thead>\n",
       "  <tbody>\n",
       "    <tr>\n",
       "      <th>0</th>\n",
       "      <td>A year before, all cabinet ministers were aske...</td>\n",
       "    </tr>\n",
       "    <tr>\n",
       "      <th>1</th>\n",
       "      <td>A year before, all cabinet ministers were aske...</td>\n",
       "    </tr>\n",
       "    <tr>\n",
       "      <th>2</th>\n",
       "      <td>A year before, all cabinet ministers were aske...</td>\n",
       "    </tr>\n",
       "    <tr>\n",
       "      <th>3</th>\n",
       "      <td>A year before, all cabinet ministers were aske...</td>\n",
       "    </tr>\n",
       "    <tr>\n",
       "      <th>4</th>\n",
       "      <td>A year before, all cabinet ministers were aske...</td>\n",
       "    </tr>\n",
       "    <tr>\n",
       "      <th>...</th>\n",
       "      <td>...</td>\n",
       "    </tr>\n",
       "    <tr>\n",
       "      <th>4391</th>\n",
       "      <td>A year before, all cabinet ministers were aske...</td>\n",
       "    </tr>\n",
       "    <tr>\n",
       "      <th>4392</th>\n",
       "      <td>The RSS is the ideological parent of the rulin...</td>\n",
       "    </tr>\n",
       "    <tr>\n",
       "      <th>4393</th>\n",
       "      <td>The RSS is the ideological parent of the rulin...</td>\n",
       "    </tr>\n",
       "    <tr>\n",
       "      <th>4394</th>\n",
       "      <td>A year before, all cabinet ministers were aske...</td>\n",
       "    </tr>\n",
       "    <tr>\n",
       "      <th>4395</th>\n",
       "      <td>A year before, all cabinet ministers were aske...</td>\n",
       "    </tr>\n",
       "  </tbody>\n",
       "</table>\n",
       "<p>4396 rows × 1 columns</p>\n",
       "</div>"
      ],
      "text/plain": [
       "                        text_matching_algorithm summary\n",
       "0     A year before, all cabinet ministers were aske...\n",
       "1     A year before, all cabinet ministers were aske...\n",
       "2     A year before, all cabinet ministers were aske...\n",
       "3     A year before, all cabinet ministers were aske...\n",
       "4     A year before, all cabinet ministers were aske...\n",
       "...                                                 ...\n",
       "4391  A year before, all cabinet ministers were aske...\n",
       "4392  The RSS is the ideological parent of the rulin...\n",
       "4393  The RSS is the ideological parent of the rulin...\n",
       "4394  A year before, all cabinet ministers were aske...\n",
       "4395  A year before, all cabinet ministers were aske...\n",
       "\n",
       "[4396 rows x 1 columns]"
      ]
     },
     "execution_count": 11,
     "metadata": {},
     "output_type": "execute_result"
    }
   ],
   "source": [
    "my_sum = summarize_with(df,text_matching_algorithm)\n",
    "my_sum"
   ]
  },
  {
   "cell_type": "code",
   "execution_count": 12,
   "id": "0703d158-df4a-4dec-bf63-541ddfafe5ce",
   "metadata": {},
   "outputs": [],
   "source": [
    "def calculate_efficiency(predicted_summary,summary):\n",
    "    from torchmetrics.text.rouge import ROUGEScore\n",
    "    rouge = ROUGEScore()\n",
    "    from pprint import pprint\n",
    "    return rouge(predicted_summary, summary)"
   ]
  },
  {
   "cell_type": "code",
   "execution_count": 13,
   "id": "94884fd6-fab5-439a-a90a-abadeaf15275",
   "metadata": {},
   "outputs": [],
   "source": [
    "#predicted_summary = \"My name is John\"\n",
    "#summary = \"Is your name John\"\n",
    "x = calculate_efficiency(my_sum.iloc[0,0],df.iloc[0,0])"
   ]
  },
  {
   "cell_type": "code",
   "execution_count": 14,
   "id": "8b6c68dd-7bae-44e1-a038-ead4cf86b730",
   "metadata": {},
   "outputs": [
    {
     "name": "stdout",
     "output_type": "stream",
     "text": [
      "{'rouge1_fmeasure': tensor(0.2575),\n",
      " 'rouge1_precision': tensor(0.1734),\n",
      " 'rouge1_recall': tensor(0.5000),\n",
      " 'rouge2_fmeasure': tensor(0.0779),\n",
      " 'rouge2_precision': tensor(0.0523),\n",
      " 'rouge2_recall': tensor(0.1525),\n",
      " 'rougeL_fmeasure': tensor(0.1459),\n",
      " 'rougeL_precision': tensor(0.0983),\n",
      " 'rougeL_recall': tensor(0.2833),\n",
      " 'rougeLsum_fmeasure': tensor(0.1631),\n",
      " 'rougeLsum_precision': tensor(0.1098),\n",
      " 'rougeLsum_recall': tensor(0.3167)}\n"
     ]
    }
   ],
   "source": [
    "pprint(x)"
   ]
  },
  {
   "cell_type": "code",
   "execution_count": null,
   "id": "754e4694-1cc6-405d-95c3-2e796c06cfde",
   "metadata": {},
   "outputs": [],
   "source": []
  },
  {
   "cell_type": "code",
   "execution_count": 15,
   "id": "8e03c957-b5b6-47ae-8594-c50735e65d87",
   "metadata": {},
   "outputs": [
    {
     "name": "stdout",
     "output_type": "stream",
     "text": [
      "wednesday\n"
     ]
    }
   ],
   "source": [
    "switcher = {\n",
    "    1:' monday',\n",
    "    2: 'tuesday',\n",
    "    3: 'wednesday'\n",
    "    }\n",
    "\n",
    "def switch(dayOfWeek):\n",
    "    return switcher.get(dayOfWeek)\n",
    "\n",
    "print(switch(3))"
   ]
  }
 ],
 "metadata": {
  "kernelspec": {
   "display_name": "Python 3 (ipykernel)",
   "language": "python",
   "name": "python3"
  },
  "language_info": {
   "codemirror_mode": {
    "name": "ipython",
    "version": 3
   },
   "file_extension": ".py",
   "mimetype": "text/x-python",
   "name": "python",
   "nbconvert_exporter": "python",
   "pygments_lexer": "ipython3",
   "version": "3.9.12"
  }
 },
 "nbformat": 4,
 "nbformat_minor": 5
}
