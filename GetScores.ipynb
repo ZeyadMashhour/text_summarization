{
 "cells": [
  {
   "cell_type": "code",
   "execution_count": 1,
   "id": "d875e2c9-4ad3-4fc6-a2ec-0cfdffdcc610",
   "metadata": {},
   "outputs": [],
   "source": [
    "import pandas as pd\n",
    "from efficiency_scores import*"
   ]
  },
  {
   "cell_type": "code",
   "execution_count": 14,
   "id": "8cb59d78-ddc3-41b3-969c-f4db0eb9d678",
   "metadata": {},
   "outputs": [],
   "source": [
    "df = pd.read_csv(\"DUC_1st_5Sent_lemT_swT.csv\")"
   ]
  },
  {
   "cell_type": "code",
   "execution_count": 33,
   "id": "dbf25cb8-19f3-4bb7-835d-d8d357044be4",
   "metadata": {},
   "outputs": [
    {
     "name": "stderr",
     "output_type": "stream",
     "text": [
      "100%|██████████| 49/49 [00:01<00:00, 39.80it/s]\n"
     ]
    }
   ],
   "source": [
    "key = df.columns[2]\n",
    "summdf = pd.DataFrame([df[key]])\n",
    "summdf = summdf.T\n",
    "output = rouge_scores_df(df,summdf)\n",
    "output = df_avg_by_column(output)"
   ]
  },
  {
   "cell_type": "code",
   "execution_count": 34,
   "id": "49ce74a2-6e8c-44f5-b9e8-96715a8c4b82",
   "metadata": {},
   "outputs": [
    {
     "data": {
      "text/html": [
       "<div>\n",
       "<style scoped>\n",
       "    .dataframe tbody tr th:only-of-type {\n",
       "        vertical-align: middle;\n",
       "    }\n",
       "\n",
       "    .dataframe tbody tr th {\n",
       "        vertical-align: top;\n",
       "    }\n",
       "\n",
       "    .dataframe thead th {\n",
       "        text-align: right;\n",
       "    }\n",
       "</style>\n",
       "<table border=\"1\" class=\"dataframe\">\n",
       "  <thead>\n",
       "    <tr style=\"text-align: right;\">\n",
       "      <th></th>\n",
       "      <th>rouge1_fmeasure</th>\n",
       "      <th>rouge1_precision</th>\n",
       "      <th>rouge1_recall</th>\n",
       "      <th>rouge2_fmeasure</th>\n",
       "      <th>rouge2_precision</th>\n",
       "      <th>rouge2_recall</th>\n",
       "      <th>rougeL_fmeasure</th>\n",
       "      <th>rougeL_precision</th>\n",
       "      <th>rougeL_recall</th>\n",
       "      <th>rougeLsum_fmeasure</th>\n",
       "      <th>rougeLsum_precision</th>\n",
       "      <th>rougeLsum_recall</th>\n",
       "    </tr>\n",
       "  </thead>\n",
       "  <tbody>\n",
       "    <tr>\n",
       "      <th>0</th>\n",
       "      <td>tensor(0.1117)</td>\n",
       "      <td>tensor(0.2315)</td>\n",
       "      <td>tensor(0.0772)</td>\n",
       "      <td>tensor(0.0115)</td>\n",
       "      <td>tensor(0.0214)</td>\n",
       "      <td>tensor(0.0081)</td>\n",
       "      <td>tensor(0.0756)</td>\n",
       "      <td>tensor(0.1651)</td>\n",
       "      <td>tensor(0.0518)</td>\n",
       "      <td>tensor(0.1009)</td>\n",
       "      <td>tensor(0.2129)</td>\n",
       "      <td>tensor(0.0695)</td>\n",
       "    </tr>\n",
       "  </tbody>\n",
       "</table>\n",
       "</div>"
      ],
      "text/plain": [
       "  rouge1_fmeasure rouge1_precision   rouge1_recall rouge2_fmeasure  \\\n",
       "0  tensor(0.1117)   tensor(0.2315)  tensor(0.0772)  tensor(0.0115)   \n",
       "\n",
       "  rouge2_precision   rouge2_recall rougeL_fmeasure rougeL_precision  \\\n",
       "0   tensor(0.0214)  tensor(0.0081)  tensor(0.0756)   tensor(0.1651)   \n",
       "\n",
       "    rougeL_recall rougeLsum_fmeasure rougeLsum_precision rougeLsum_recall  \n",
       "0  tensor(0.0518)     tensor(0.1009)      tensor(0.2129)   tensor(0.0695)  "
      ]
     },
     "execution_count": 34,
     "metadata": {},
     "output_type": "execute_result"
    }
   ],
   "source": [
    "pd.DataFrame(output).T"
   ]
  },
  {
   "cell_type": "code",
   "execution_count": 36,
   "id": "d2a7f8cb-569d-4d02-bd32-155462e83915",
   "metadata": {
    "scrolled": true,
    "tags": []
   },
   "outputs": [
    {
     "name": "stderr",
     "output_type": "stream",
     "text": [
      "100%|██████████| 49/49 [00:01<00:00, 34.70it/s]\n",
      "100%|██████████| 49/49 [00:01<00:00, 36.38it/s]\n",
      "100%|██████████| 49/49 [00:02<00:00, 21.87it/s]\n",
      "100%|██████████| 49/49 [00:01<00:00, 44.42it/s]\n",
      "100%|██████████| 49/49 [00:03<00:00, 16.21it/s]\n",
      "100%|██████████| 49/49 [00:02<00:00, 24.32it/s]\n",
      "100%|██████████| 49/49 [00:01<00:00, 44.23it/s]\n",
      "100%|██████████| 49/49 [00:01<00:00, 32.75it/s]\n",
      "100%|██████████| 49/49 [00:00<00:00, 49.59it/s]\n",
      "100%|██████████| 49/49 [00:01<00:00, 25.93it/s]\n",
      "100%|██████████| 49/49 [00:01<00:00, 31.49it/s]\n",
      "100%|██████████| 49/49 [00:01<00:00, 39.61it/s]\n",
      "100%|██████████| 49/49 [00:01<00:00, 40.90it/s]\n",
      "100%|██████████| 49/49 [00:01<00:00, 36.81it/s]\n",
      "100%|██████████| 49/49 [00:01<00:00, 35.25it/s]\n",
      "100%|██████████| 49/49 [00:01<00:00, 36.57it/s]\n",
      "100%|██████████| 49/49 [00:02<00:00, 20.59it/s]\n",
      "100%|██████████| 49/49 [00:01<00:00, 28.77it/s]\n",
      "100%|██████████| 49/49 [00:01<00:00, 30.99it/s]\n",
      "100%|██████████| 49/49 [00:01<00:00, 35.92it/s]\n",
      "100%|██████████| 49/49 [00:02<00:00, 24.37it/s]\n",
      "100%|██████████| 49/49 [00:01<00:00, 41.63it/s]\n",
      "100%|██████████| 49/49 [00:01<00:00, 44.03it/s]\n",
      "100%|██████████| 49/49 [00:01<00:00, 39.55it/s]\n",
      "100%|██████████| 49/49 [00:01<00:00, 39.67it/s]\n",
      "100%|██████████| 49/49 [00:01<00:00, 36.70it/s]\n",
      "100%|██████████| 49/49 [00:01<00:00, 28.14it/s]\n",
      "100%|██████████| 49/49 [00:01<00:00, 34.60it/s]\n",
      "100%|██████████| 49/49 [00:01<00:00, 38.58it/s]\n",
      "100%|██████████| 49/49 [00:01<00:00, 40.87it/s]\n",
      "100%|██████████| 49/49 [00:01<00:00, 30.57it/s]\n",
      "100%|██████████| 49/49 [00:01<00:00, 40.33it/s]\n",
      "100%|██████████| 49/49 [00:01<00:00, 41.00it/s]\n",
      "100%|██████████| 49/49 [00:01<00:00, 36.62it/s]\n",
      "100%|██████████| 49/49 [00:01<00:00, 41.53it/s]\n",
      "100%|██████████| 49/49 [00:01<00:00, 42.50it/s]\n",
      "100%|██████████| 49/49 [00:01<00:00, 33.00it/s]\n",
      "100%|██████████| 49/49 [00:01<00:00, 34.90it/s]\n",
      "100%|██████████| 49/49 [00:01<00:00, 37.66it/s]\n",
      "100%|██████████| 49/49 [00:01<00:00, 26.97it/s]\n",
      "100%|██████████| 49/49 [00:01<00:00, 30.86it/s]\n",
      "100%|██████████| 49/49 [00:01<00:00, 45.58it/s]\n",
      "100%|██████████| 49/49 [00:01<00:00, 42.46it/s]\n",
      "100%|██████████| 49/49 [00:01<00:00, 43.71it/s]\n",
      "100%|██████████| 49/49 [00:01<00:00, 45.75it/s]\n",
      "100%|██████████| 49/49 [00:01<00:00, 45.63it/s]\n",
      "100%|██████████| 49/49 [00:01<00:00, 35.71it/s]\n",
      "100%|██████████| 49/49 [00:01<00:00, 36.46it/s]\n",
      "100%|██████████| 49/49 [00:01<00:00, 39.81it/s]\n",
      "100%|██████████| 49/49 [00:01<00:00, 32.73it/s]\n",
      "100%|██████████| 49/49 [00:01<00:00, 36.93it/s]\n",
      "100%|██████████| 49/49 [00:01<00:00, 42.50it/s]\n",
      "100%|██████████| 49/49 [00:01<00:00, 43.98it/s]\n",
      "100%|██████████| 49/49 [00:01<00:00, 38.04it/s]\n",
      "100%|██████████| 49/49 [00:01<00:00, 42.03it/s]\n",
      "100%|██████████| 49/49 [00:01<00:00, 37.43it/s]\n",
      "100%|██████████| 49/49 [00:01<00:00, 45.12it/s]\n",
      "100%|██████████| 49/49 [00:01<00:00, 47.02it/s]\n",
      "100%|██████████| 49/49 [00:01<00:00, 41.28it/s]\n",
      "100%|██████████| 49/49 [00:01<00:00, 43.13it/s]\n",
      "100%|██████████| 49/49 [00:01<00:00, 39.55it/s]\n",
      "100%|██████████| 49/49 [00:01<00:00, 41.92it/s]\n",
      "100%|██████████| 49/49 [00:01<00:00, 42.61it/s]\n"
     ]
    }
   ],
   "source": [
    "frames = []\n",
    "algos = df.columns[2:]\n",
    "for key in algos:\n",
    "    summdf = pd.DataFrame([df[key]])\n",
    "    summdf = summdf.T\n",
    "    temp = rouge_scores_df(df,summdf)\n",
    "    temp = df_avg_by_column(temp)\n",
    "    frames.append(temp)\n",
    "out = pd.concat(frames)"
   ]
  },
  {
   "cell_type": "code",
   "execution_count": 37,
   "id": "c3778717-e09e-4cb6-a0a2-473fec70ecb2",
   "metadata": {},
   "outputs": [
    {
     "data": {
      "text/plain": [
       "rouge1_fmeasure        tensor(0.1117)\n",
       "rouge1_precision       tensor(0.2315)\n",
       "rouge1_recall          tensor(0.0772)\n",
       "rouge2_fmeasure        tensor(0.0115)\n",
       "rouge2_precision       tensor(0.0214)\n",
       "                            ...      \n",
       "rougeL_precision       tensor(0.1567)\n",
       "rougeL_recall          tensor(0.0386)\n",
       "rougeLsum_fmeasure     tensor(0.0806)\n",
       "rougeLsum_precision    tensor(0.2011)\n",
       "rougeLsum_recall       tensor(0.0523)\n",
       "Length: 756, dtype: object"
      ]
     },
     "execution_count": 37,
     "metadata": {},
     "output_type": "execute_result"
    }
   ],
   "source": [
    "out"
   ]
  },
  {
   "cell_type": "code",
   "execution_count": null,
   "id": "878fec91-5462-4c55-9b97-22c37a6aa582",
   "metadata": {},
   "outputs": [],
   "source": []
  }
 ],
 "metadata": {
  "kernelspec": {
   "display_name": "Python 3 (ipykernel)",
   "language": "python",
   "name": "python3"
  },
  "language_info": {
   "codemirror_mode": {
    "name": "ipython",
    "version": 3
   },
   "file_extension": ".py",
   "mimetype": "text/x-python",
   "name": "python",
   "nbconvert_exporter": "python",
   "pygments_lexer": "ipython3",
   "version": "3.10.9"
  }
 },
 "nbformat": 4,
 "nbformat_minor": 5
}
