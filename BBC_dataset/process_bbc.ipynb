{
 "cells": [
  {
   "cell_type": "code",
   "execution_count": 3,
   "metadata": {},
   "outputs": [],
   "source": [
    "import sys\n",
    "sys.path.insert(0, '../')"
   ]
  },
  {
   "cell_type": "code",
   "execution_count": 17,
   "metadata": {},
   "outputs": [],
   "source": [
    "from summarization_algorithm import *\n",
    "from efficiency_scores import *\n",
    "from preprocessing_algorithms import *\n",
    "from all_imports import*"
   ]
  },
  {
   "cell_type": "code",
   "execution_count": 13,
   "metadata": {},
   "outputs": [],
   "source": [
    "bbc = pd.read_csv('BBC_Dataset.csv',index_col=0)\n",
    "bbs = bbc.rename(columns={'Articles': 'Original Article','Summaries': 'Original Summary'},inplace=True, errors='raise')"
   ]
  },
  {
   "cell_type": "code",
   "execution_count": 16,
   "metadata": {},
   "outputs": [
    {
     "data": {
      "text/html": [
       "<div>\n",
       "<style scoped>\n",
       "    .dataframe tbody tr th:only-of-type {\n",
       "        vertical-align: middle;\n",
       "    }\n",
       "\n",
       "    .dataframe tbody tr th {\n",
       "        vertical-align: top;\n",
       "    }\n",
       "\n",
       "    .dataframe thead th {\n",
       "        text-align: right;\n",
       "    }\n",
       "</style>\n",
       "<table border=\"1\" class=\"dataframe\">\n",
       "  <thead>\n",
       "    <tr style=\"text-align: right;\">\n",
       "      <th></th>\n",
       "      <th>Original Article</th>\n",
       "      <th>Original Summary</th>\n",
       "    </tr>\n",
       "  </thead>\n",
       "  <tbody>\n",
       "    <tr>\n",
       "      <th>0</th>\n",
       "      <td>Ad sales boost Time Warner profit\\r\\n\\r\\nQuart...</td>\n",
       "      <td>TimeWarner said fourth quarter sales rose 2% t...</td>\n",
       "    </tr>\n",
       "    <tr>\n",
       "      <th>1</th>\n",
       "      <td>Dollar gains on Greenspan speech\\r\\n\\r\\nThe do...</td>\n",
       "      <td>The dollar has hit its highest level against t...</td>\n",
       "    </tr>\n",
       "    <tr>\n",
       "      <th>2</th>\n",
       "      <td>Yukos unit buyer faces loan claim\\r\\n\\r\\nThe o...</td>\n",
       "      <td>Yukos' owner Menatep Group says it will ask Ro...</td>\n",
       "    </tr>\n",
       "    <tr>\n",
       "      <th>3</th>\n",
       "      <td>High fuel prices hit BA's profits\\r\\n\\r\\nBriti...</td>\n",
       "      <td>Rod Eddington, BA's chief executive, said the ...</td>\n",
       "    </tr>\n",
       "    <tr>\n",
       "      <th>4</th>\n",
       "      <td>Pernod takeover talk lifts Domecq\\r\\n\\r\\nShare...</td>\n",
       "      <td>Pernod has reduced the debt it took on to fund...</td>\n",
       "    </tr>\n",
       "    <tr>\n",
       "      <th>...</th>\n",
       "      <td>...</td>\n",
       "      <td>...</td>\n",
       "    </tr>\n",
       "    <tr>\n",
       "      <th>396</th>\n",
       "      <td>BT program to beat dialler scams\\r\\n\\r\\nBT is ...</td>\n",
       "      <td>BT is introducing two initiatives to help beat...</td>\n",
       "    </tr>\n",
       "    <tr>\n",
       "      <th>397</th>\n",
       "      <td>Spam e-mails tempt net shoppers\\r\\n\\r\\nCompute...</td>\n",
       "      <td>A third of them read unsolicited junk e-mail a...</td>\n",
       "    </tr>\n",
       "    <tr>\n",
       "      <th>398</th>\n",
       "      <td>Be careful how you code\\r\\n\\r\\nA new European ...</td>\n",
       "      <td>This goes to the heart of the European project...</td>\n",
       "    </tr>\n",
       "    <tr>\n",
       "      <th>399</th>\n",
       "      <td>US cyber security chief resigns\\r\\n\\r\\nThe man...</td>\n",
       "      <td>Amit Yoran was director of the National Cyber ...</td>\n",
       "    </tr>\n",
       "    <tr>\n",
       "      <th>400</th>\n",
       "      <td>Losing yourself in online gaming\\r\\n\\r\\nOnline...</td>\n",
       "      <td>He says that in the world of online gaming suc...</td>\n",
       "    </tr>\n",
       "  </tbody>\n",
       "</table>\n",
       "<p>2225 rows × 2 columns</p>\n",
       "</div>"
      ],
      "text/plain": [
       "                                      Original Article   \n",
       "0    Ad sales boost Time Warner profit\\r\\n\\r\\nQuart...  \\\n",
       "1    Dollar gains on Greenspan speech\\r\\n\\r\\nThe do...   \n",
       "2    Yukos unit buyer faces loan claim\\r\\n\\r\\nThe o...   \n",
       "3    High fuel prices hit BA's profits\\r\\n\\r\\nBriti...   \n",
       "4    Pernod takeover talk lifts Domecq\\r\\n\\r\\nShare...   \n",
       "..                                                 ...   \n",
       "396  BT program to beat dialler scams\\r\\n\\r\\nBT is ...   \n",
       "397  Spam e-mails tempt net shoppers\\r\\n\\r\\nCompute...   \n",
       "398  Be careful how you code\\r\\n\\r\\nA new European ...   \n",
       "399  US cyber security chief resigns\\r\\n\\r\\nThe man...   \n",
       "400  Losing yourself in online gaming\\r\\n\\r\\nOnline...   \n",
       "\n",
       "                                      Original Summary  \n",
       "0    TimeWarner said fourth quarter sales rose 2% t...  \n",
       "1    The dollar has hit its highest level against t...  \n",
       "2    Yukos' owner Menatep Group says it will ask Ro...  \n",
       "3    Rod Eddington, BA's chief executive, said the ...  \n",
       "4    Pernod has reduced the debt it took on to fund...  \n",
       "..                                                 ...  \n",
       "396  BT is introducing two initiatives to help beat...  \n",
       "397  A third of them read unsolicited junk e-mail a...  \n",
       "398  This goes to the heart of the European project...  \n",
       "399  Amit Yoran was director of the National Cyber ...  \n",
       "400  He says that in the world of online gaming suc...  \n",
       "\n",
       "[2225 rows x 2 columns]"
      ]
     },
     "execution_count": 16,
     "metadata": {},
     "output_type": "execute_result"
    }
   ],
   "source": [
    "bbc"
   ]
  }
 ],
 "metadata": {
  "kernelspec": {
   "display_name": "Python 3",
   "language": "python",
   "name": "python3"
  },
  "language_info": {
   "codemirror_mode": {
    "name": "ipython",
    "version": 3
   },
   "file_extension": ".py",
   "mimetype": "text/x-python",
   "name": "python",
   "nbconvert_exporter": "python",
   "pygments_lexer": "ipython3",
   "version": "3.10.0"
  },
  "orig_nbformat": 4
 },
 "nbformat": 4,
 "nbformat_minor": 2
}
