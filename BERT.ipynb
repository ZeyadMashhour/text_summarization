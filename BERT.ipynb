{
 "cells": [
  {
   "cell_type": "code",
   "execution_count": 2,
   "metadata": {},
   "outputs": [
    {
     "name": "stderr",
     "output_type": "stream",
     "text": [
      "c:\\Users\\zeyad\\AppData\\Local\\Programs\\Python\\Python310\\lib\\site-packages\\tqdm\\auto.py:22: TqdmWarning: IProgress not found. Please update jupyter and ipywidgets. See https://ipywidgets.readthedocs.io/en/stable/user_install.html\n",
      "  from .autonotebook import tqdm as notebook_tqdm\n"
     ]
    }
   ],
   "source": [
    "from summarizer import Summarizer\n"
   ]
  },
  {
   "cell_type": "code",
   "execution_count": 3,
   "metadata": {},
   "outputs": [
    {
     "name": "stdout",
     "output_type": "stream",
     "text": [
      "[{'summary_text': \"Cambodian leader Hun Sen rejects opposition parties' demands for talks outside the country. Opposition leaders Prince Norodom Ranariddh and Sam Rainsy call for talks at Sihanouk's residence in Beijing. Hun Sen accuses opposition of trying to 'internationalize' the political crisis.\"}]\n"
     ]
    }
   ],
   "source": [
    "from transformers import pipeline\n",
    "\n",
    "summarizer = pipeline(\"summarization\", model=\"facebook/bart-large-cnn\")\n",
    "\n",
    "ARTICLE = \"\"\" Cambodian leader Hun Sen on Friday rejected opposition parties' demands \n",
    "for talks outside the country, accusing them of trying to ``internationalize'' \n",
    "the political crisis. Government and opposition parties have asked \n",
    "King Norodom Sihanouk to host a summit meeting after a series of post-election \n",
    "negotiations between the two opposition groups and Hun Sen's party \n",
    "to form a new government failed. Opposition leaders Prince Norodom \n",
    "Ranariddh and Sam Rainsy, citing Hun Sen's threats to arrest opposition \n",
    "figures after two alleged attempts on his life, said they could not \n",
    "negotiate freely in Cambodia and called for talks at Sihanouk's residence \n",
    "in Beijing. Hun Sen, however, rejected that. ``I would like to make \n",
    "it clear that all meetings related to Cambodian affairs must be conducted \n",
    "in the Kingdom of Cambodia,'' Hun Sen told reporters after a Cabinet \n",
    "meeting on Friday. ``No-one should internationalize Cambodian affairs. \n",
    "It is detrimental to the sovereignty of Cambodia,'' he said. Hun Sen's \n",
    "Cambodian People's Party won 64 of the 122 parliamentary seats in \n",
    "July's elections, short of the two-thirds majority needed to form \n",
    "a government on its own. Ranariddh and Sam Rainsy have charged that \n",
    "Hun Sen's victory in the elections was achieved through widespread \n",
    "fraud. They have demanded a thorough investigation into their election \n",
    "complaints as a precondition for their cooperation in getting the \n",
    "national assembly moving and a new government formed. Hun Sen said \n",
    "on Friday that the opposition concerns over their safety in the country \n",
    "was ``just an excuse for them to stay abroad.'' Both Ranariddh and \n",
    "Sam Rainsy have been outside the country since parliament was ceremonially \n",
    "opened on Sep. 24. Sam Rainsy and a number of opposition figures have \n",
    "been under court investigation for a grenade attack on Hun Sen's Phnom \n",
    "Penh residence on Sep. 7. Hun Sen was not home at the time of the \n",
    "attack, which was followed by a police crackdown on demonstrators \n",
    "contesting Hun Sen's election victory. The Sam Rainsy Party, in a \n",
    "statement released Friday, accused Hun Sen of being ``unwilling to \n",
    "make any compromise'' on negotiations to break the deadlock. ``A meeting \n",
    "outside Cambodia, as suggested by the opposition, could place all \n",
    "parties on more equal footing,'' said the statement. ``But the ruling \n",
    "party refuses to negotiate unless it is able to threaten its negotiating \n",
    "partners with arrest or worse.'' \n",
    "\"\"\"\n",
    "print(summarizer(ARTICLE, max_length=130, min_length=30, do_sample=False))\n"
   ]
  }
 ],
 "metadata": {
  "kernelspec": {
   "display_name": "Python 3",
   "language": "python",
   "name": "python3"
  },
  "language_info": {
   "codemirror_mode": {
    "name": "ipython",
    "version": 3
   },
   "file_extension": ".py",
   "mimetype": "text/x-python",
   "name": "python",
   "nbconvert_exporter": "python",
   "pygments_lexer": "ipython3",
   "version": "3.10.5"
  },
  "orig_nbformat": 4
 },
 "nbformat": 4,
 "nbformat_minor": 2
}
