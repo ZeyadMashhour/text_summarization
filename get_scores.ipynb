{
 "cells": [
  {
   "cell_type": "code",
   "execution_count": 1,
   "metadata": {},
   "outputs": [],
   "source": [
    "import pandas as pd\n",
    "from efficiency_scores import*"
   ]
  },
  {
   "cell_type": "code",
   "execution_count": 2,
   "metadata": {},
   "outputs": [],
   "source": [
    "first_refrence_path = r\"DUC\\Duc_first_reference\\main_dataset\\Duc_dataset_first_ref_summary.csv\"\n",
    "second_refrence_path = r\"DUC\\Duc_second_reference\\main_dataset\\Duc_dataset_second_ref_summary.csv\"\n",
    "third_refrence_path = r\"DUC\\Duc_third_reference\\main_dataset\\Duc_dataset_third_ref_summary.csv\"\n",
    "fourth_refrence_path = r\"DUC\\Duc_fourth_reference\\main_dataset\\Duc_dataset_fourth_ref_summary.csv\"\n",
    "first_refrence_df = pd.read_csv(first_refrence_path)\n",
    "second_refrence_df = pd.read_csv(second_refrence_path)\n",
    "third_refrence_df = pd.read_csv(third_refrence_path)\n",
    "fourth_refrence_df = pd.read_csv(fourth_refrence_path)"
   ]
  },
  {
   "cell_type": "code",
   "execution_count": 3,
   "metadata": {},
   "outputs": [],
   "source": [
    "ff = pd.read_csv('DUC_Weighted_1st_5Sent_lemF_swF.xls')\n",
    "ft = pd.read_csv('DUC_Weighted_1st_5Sent_lemF_swT.xls')\n",
    "tf = pd.read_csv('DUC_Weighted_1st_5Sent_lemT_swF.xls')\n",
    "tt = pd.read_csv('DUC_Weighted_1st_5Sent_lemT_swT.xls')"
   ]
  },
  {
   "cell_type": "code",
   "execution_count": 8,
   "metadata": {},
   "outputs": [],
   "source": [
    "\n",
    "def get_combination(combination_name):\n",
    "    df = pd.DataFrame(ff[combination_name])\n",
    "    return df"
   ]
  },
  {
   "cell_type": "code",
   "execution_count": 9,
   "metadata": {},
   "outputs": [
    {
     "name": "stderr",
     "output_type": "stream",
     "text": [
      "  0%|          | 0/65 [00:00<?, ?it/s]\n"
     ]
    },
    {
     "ename": "AttributeError",
     "evalue": "'DataFrame' object has no attribute 'column'",
     "output_type": "error",
     "traceback": [
      "\u001b[1;31m---------------------------------------------------------------------------\u001b[0m",
      "\u001b[1;31mAttributeError\u001b[0m                            Traceback (most recent call last)",
      "Cell \u001b[1;32mIn[9], line 6\u001b[0m\n\u001b[0;32m      4\u001b[0m \u001b[39mfor\u001b[39;00m combination \u001b[39min\u001b[39;00m tqdm(combinations):\n\u001b[0;32m      5\u001b[0m     combination_df \u001b[39m=\u001b[39m get_combination(combination)\u001b[39m#create dataframe\u001b[39;00m\n\u001b[1;32m----> 6\u001b[0m     ensemble_scores \u001b[39m=\u001b[39m rouge_scores_df(df\u001b[39m=\u001b[39;49moriginal_summary, algorithm_summary_df\u001b[39m=\u001b[39;49mcombination_df)\n\u001b[0;32m      7\u001b[0m     combination_avg \u001b[39m=\u001b[39m df_avg_by_column(ensemble_scores)\n\u001b[0;32m      8\u001b[0m     avg_scores\u001b[39m.\u001b[39mappend(combination_avg)\n",
      "File \u001b[1;32mc:\\Users\\basel\\OneDrive\\Desktop\\GP_Project\\text_summarization\\efficiency_scores.py:16\u001b[0m, in \u001b[0;36mrouge_scores_df\u001b[1;34m(df, algorithm_summary_df)\u001b[0m\n\u001b[0;32m     13\u001b[0m \u001b[39mdef\u001b[39;00m \u001b[39mrouge_scores_df\u001b[39m(df,algorithm_summary_df):\n\u001b[0;32m     14\u001b[0m     \u001b[39m#compute rouge scores between df['Original Summary'] and algorithm_summary_df[algorithm_summary_df_name][i]\u001b[39;00m\n\u001b[0;32m     15\u001b[0m     sentences_efficiency \u001b[39m=\u001b[39m []\n\u001b[1;32m---> 16\u001b[0m     length \u001b[39m=\u001b[39m \u001b[39mlen\u001b[39m(algorithm_summary_df\u001b[39m.\u001b[39;49mcolumn)\n\u001b[0;32m     17\u001b[0m     algorithm_summary_df_name \u001b[39m=\u001b[39m algorithm_summary_df\u001b[39m.\u001b[39mcolumns[\u001b[39m0\u001b[39m]\n\u001b[0;32m     18\u001b[0m     \u001b[39mfor\u001b[39;00m i \u001b[39min\u001b[39;00m tqdm(\u001b[39mrange\u001b[39m(length)):\n",
      "File \u001b[1;32mc:\\Users\\basel\\AppData\\Local\\Programs\\Python\\Python310\\lib\\site-packages\\pandas\\core\\generic.py:5989\u001b[0m, in \u001b[0;36mNDFrame.__getattr__\u001b[1;34m(self, name)\u001b[0m\n\u001b[0;32m   5982\u001b[0m \u001b[39mif\u001b[39;00m (\n\u001b[0;32m   5983\u001b[0m     name \u001b[39mnot\u001b[39;00m \u001b[39min\u001b[39;00m \u001b[39mself\u001b[39m\u001b[39m.\u001b[39m_internal_names_set\n\u001b[0;32m   5984\u001b[0m     \u001b[39mand\u001b[39;00m name \u001b[39mnot\u001b[39;00m \u001b[39min\u001b[39;00m \u001b[39mself\u001b[39m\u001b[39m.\u001b[39m_metadata\n\u001b[0;32m   5985\u001b[0m     \u001b[39mand\u001b[39;00m name \u001b[39mnot\u001b[39;00m \u001b[39min\u001b[39;00m \u001b[39mself\u001b[39m\u001b[39m.\u001b[39m_accessors\n\u001b[0;32m   5986\u001b[0m     \u001b[39mand\u001b[39;00m \u001b[39mself\u001b[39m\u001b[39m.\u001b[39m_info_axis\u001b[39m.\u001b[39m_can_hold_identifiers_and_holds_name(name)\n\u001b[0;32m   5987\u001b[0m ):\n\u001b[0;32m   5988\u001b[0m     \u001b[39mreturn\u001b[39;00m \u001b[39mself\u001b[39m[name]\n\u001b[1;32m-> 5989\u001b[0m \u001b[39mreturn\u001b[39;00m \u001b[39mobject\u001b[39;49m\u001b[39m.\u001b[39;49m\u001b[39m__getattribute__\u001b[39;49m(\u001b[39mself\u001b[39;49m, name)\n",
      "\u001b[1;31mAttributeError\u001b[0m: 'DataFrame' object has no attribute 'column'"
     ]
    }
   ],
   "source": [
    "avg_scores = []\n",
    "combinations = list(ff.columns)\n",
    "original_summary = pd.DataFrame(first_refrence_df[\"Original Summary\"])\n",
    "for combination in tqdm(combinations):\n",
    "    combination_df = get_combination(combination)#create dataframe\n",
    "    ensemble_scores = rouge_scores_df(df=original_summary, algorithm_summary_df=combination_df)\n",
    "    combination_avg = df_avg_by_column(ensemble_scores)\n",
    "    avg_scores.append(combination_avg)"
   ]
  },
  {
   "cell_type": "code",
   "execution_count": null,
   "metadata": {},
   "outputs": [],
   "source": [
    "avg_scores = []\n",
    "original_summary = pd.DataFrame(refrence_summary_dataset[\"Original Summary\"])\n",
    "for combination in tqdm(combinations):\n",
    "    combination_df = get_combination(combination)#create dataframe\n",
    "    ensemble_scores = rouge_scores_df(df=original_summary, algorithm_summary_df=combination_df)\n",
    "    combination_avg = df_avg_by_column(ensemble_scores)\n",
    "    avg_scores.append(combination_avg)"
   ]
  },
  {
   "cell_type": "code",
   "execution_count": 10,
   "metadata": {},
   "outputs": [
    {
     "name": "stderr",
     "output_type": "stream",
     "text": [
      "  0%|          | 0/65 [00:00<?, ?it/s]\n"
     ]
    },
    {
     "ename": "AttributeError",
     "evalue": "'DataFrame' object has no attribute 'column'",
     "output_type": "error",
     "traceback": [
      "\u001b[1;31m---------------------------------------------------------------------------\u001b[0m",
      "\u001b[1;31mAttributeError\u001b[0m                            Traceback (most recent call last)",
      "Cell \u001b[1;32mIn[10], line 1\u001b[0m\n\u001b[1;32m----> 1\u001b[0m ffs1 \u001b[39m=\u001b[39m get_avg_scores_df(first_refrence_df,ff)\n",
      "File \u001b[1;32mc:\\Users\\basel\\OneDrive\\Desktop\\GP_Project\\text_summarization\\efficiency_scores.py:48\u001b[0m, in \u001b[0;36mget_avg_scores_df\u001b[1;34m(reference_summary_dataset, system_summaries)\u001b[0m\n\u001b[0;32m     46\u001b[0m \u001b[39mfor\u001b[39;00m combination \u001b[39min\u001b[39;00m tqdm(combinations):\n\u001b[0;32m     47\u001b[0m     combination_df \u001b[39m=\u001b[39m pd\u001b[39m.\u001b[39mDataFrame(system_summaries[combination])\u001b[39m#create dataframe\u001b[39;00m\n\u001b[1;32m---> 48\u001b[0m     ensemble_scores \u001b[39m=\u001b[39m rouge_scores_df(df\u001b[39m=\u001b[39;49moriginal_summary, algorithm_summary_df\u001b[39m=\u001b[39;49mcombination_df)\n\u001b[0;32m     49\u001b[0m     combination_avg \u001b[39m=\u001b[39m df_avg_by_column(ensemble_scores)\n\u001b[0;32m     50\u001b[0m     avg_scores\u001b[39m.\u001b[39mappend(combination_avg)\n",
      "File \u001b[1;32mc:\\Users\\basel\\OneDrive\\Desktop\\GP_Project\\text_summarization\\efficiency_scores.py:16\u001b[0m, in \u001b[0;36mrouge_scores_df\u001b[1;34m(df, algorithm_summary_df)\u001b[0m\n\u001b[0;32m     13\u001b[0m \u001b[39mdef\u001b[39;00m \u001b[39mrouge_scores_df\u001b[39m(df,algorithm_summary_df):\n\u001b[0;32m     14\u001b[0m     \u001b[39m#compute rouge scores between df['Original Summary'] and algorithm_summary_df[algorithm_summary_df_name][i]\u001b[39;00m\n\u001b[0;32m     15\u001b[0m     sentences_efficiency \u001b[39m=\u001b[39m []\n\u001b[1;32m---> 16\u001b[0m     length \u001b[39m=\u001b[39m \u001b[39mlen\u001b[39m(algorithm_summary_df\u001b[39m.\u001b[39;49mcolumn)\n\u001b[0;32m     17\u001b[0m     algorithm_summary_df_name \u001b[39m=\u001b[39m algorithm_summary_df\u001b[39m.\u001b[39mcolumns[\u001b[39m0\u001b[39m]\n\u001b[0;32m     18\u001b[0m     \u001b[39mfor\u001b[39;00m i \u001b[39min\u001b[39;00m tqdm(\u001b[39mrange\u001b[39m(length)):\n",
      "File \u001b[1;32mc:\\Users\\basel\\AppData\\Local\\Programs\\Python\\Python310\\lib\\site-packages\\pandas\\core\\generic.py:5989\u001b[0m, in \u001b[0;36mNDFrame.__getattr__\u001b[1;34m(self, name)\u001b[0m\n\u001b[0;32m   5982\u001b[0m \u001b[39mif\u001b[39;00m (\n\u001b[0;32m   5983\u001b[0m     name \u001b[39mnot\u001b[39;00m \u001b[39min\u001b[39;00m \u001b[39mself\u001b[39m\u001b[39m.\u001b[39m_internal_names_set\n\u001b[0;32m   5984\u001b[0m     \u001b[39mand\u001b[39;00m name \u001b[39mnot\u001b[39;00m \u001b[39min\u001b[39;00m \u001b[39mself\u001b[39m\u001b[39m.\u001b[39m_metadata\n\u001b[0;32m   5985\u001b[0m     \u001b[39mand\u001b[39;00m name \u001b[39mnot\u001b[39;00m \u001b[39min\u001b[39;00m \u001b[39mself\u001b[39m\u001b[39m.\u001b[39m_accessors\n\u001b[0;32m   5986\u001b[0m     \u001b[39mand\u001b[39;00m \u001b[39mself\u001b[39m\u001b[39m.\u001b[39m_info_axis\u001b[39m.\u001b[39m_can_hold_identifiers_and_holds_name(name)\n\u001b[0;32m   5987\u001b[0m ):\n\u001b[0;32m   5988\u001b[0m     \u001b[39mreturn\u001b[39;00m \u001b[39mself\u001b[39m[name]\n\u001b[1;32m-> 5989\u001b[0m \u001b[39mreturn\u001b[39;00m \u001b[39mobject\u001b[39;49m\u001b[39m.\u001b[39;49m\u001b[39m__getattribute__\u001b[39;49m(\u001b[39mself\u001b[39;49m, name)\n",
      "\u001b[1;31mAttributeError\u001b[0m: 'DataFrame' object has no attribute 'column'"
     ]
    }
   ],
   "source": [
    "ffs1 = get_avg_scores_df(first_refrence_df,ff)"
   ]
  },
  {
   "cell_type": "code",
   "execution_count": 5,
   "metadata": {},
   "outputs": [
    {
     "name": "stderr",
     "output_type": "stream",
     "text": [
      "100%|██████████| 49/49 [01:38<00:00,  2.00s/it]\n"
     ]
    }
   ],
   "source": [
    "fts1 = rouge_scores_df(first_refrence_df,ft)"
   ]
  },
  {
   "cell_type": "code",
   "execution_count": 6,
   "metadata": {},
   "outputs": [
    {
     "name": "stderr",
     "output_type": "stream",
     "text": [
      "100%|██████████| 49/49 [01:35<00:00,  1.95s/it]\n"
     ]
    }
   ],
   "source": [
    "tfs1 = rouge_scores_df(first_refrence_df,tf)"
   ]
  },
  {
   "cell_type": "code",
   "execution_count": 7,
   "metadata": {},
   "outputs": [
    {
     "name": "stderr",
     "output_type": "stream",
     "text": [
      "100%|██████████| 49/49 [01:37<00:00,  1.98s/it]\n"
     ]
    }
   ],
   "source": [
    "tts1 = rouge_scores_df(first_refrence_df,tt)"
   ]
  },
  {
   "cell_type": "code",
   "execution_count": 9,
   "metadata": {},
   "outputs": [
    {
     "name": "stderr",
     "output_type": "stream",
     "text": [
      "100%|██████████| 49/49 [01:39<00:00,  2.02s/it]\n"
     ]
    }
   ],
   "source": [
    "ffs2 = rouge_scores_df(second_refrence_df,ff)"
   ]
  },
  {
   "cell_type": "code",
   "execution_count": 10,
   "metadata": {},
   "outputs": [
    {
     "name": "stderr",
     "output_type": "stream",
     "text": [
      "100%|██████████| 49/49 [01:38<00:00,  2.00s/it]\n"
     ]
    }
   ],
   "source": [
    "fts2 = rouge_scores_df(second_refrence_df,ft)"
   ]
  },
  {
   "cell_type": "code",
   "execution_count": 11,
   "metadata": {},
   "outputs": [
    {
     "name": "stderr",
     "output_type": "stream",
     "text": [
      "100%|██████████| 49/49 [01:37<00:00,  2.00s/it]\n"
     ]
    }
   ],
   "source": [
    "tfs2 = rouge_scores_df(second_refrence_df,tf)"
   ]
  },
  {
   "cell_type": "code",
   "execution_count": 12,
   "metadata": {},
   "outputs": [
    {
     "name": "stderr",
     "output_type": "stream",
     "text": [
      "100%|██████████| 49/49 [01:37<00:00,  1.99s/it]\n"
     ]
    }
   ],
   "source": [
    "tts2 = rouge_scores_df(second_refrence_df,tt)"
   ]
  },
  {
   "cell_type": "code",
   "execution_count": 13,
   "metadata": {},
   "outputs": [
    {
     "name": "stderr",
     "output_type": "stream",
     "text": [
      "100%|██████████| 49/49 [01:38<00:00,  2.02s/it]\n"
     ]
    }
   ],
   "source": [
    "ffs3 = rouge_scores_df(third_refrence_df,ff)"
   ]
  },
  {
   "cell_type": "code",
   "execution_count": 14,
   "metadata": {},
   "outputs": [
    {
     "name": "stderr",
     "output_type": "stream",
     "text": [
      "100%|██████████| 49/49 [01:37<00:00,  2.00s/it]\n"
     ]
    }
   ],
   "source": [
    "fts3 = rouge_scores_df(third_refrence_df,ft)"
   ]
  },
  {
   "cell_type": "code",
   "execution_count": 15,
   "metadata": {},
   "outputs": [
    {
     "name": "stderr",
     "output_type": "stream",
     "text": [
      "100%|██████████| 49/49 [01:38<00:00,  2.01s/it]\n"
     ]
    }
   ],
   "source": [
    "tfs3 = rouge_scores_df(third_refrence_df,tf)"
   ]
  },
  {
   "cell_type": "code",
   "execution_count": 16,
   "metadata": {},
   "outputs": [
    {
     "name": "stderr",
     "output_type": "stream",
     "text": [
      "100%|██████████| 49/49 [01:37<00:00,  1.99s/it]\n"
     ]
    }
   ],
   "source": [
    "tts3 = rouge_scores_df(third_refrence_df,tt)"
   ]
  },
  {
   "cell_type": "code",
   "execution_count": 17,
   "metadata": {},
   "outputs": [
    {
     "name": "stderr",
     "output_type": "stream",
     "text": [
      "100%|██████████| 49/49 [01:36<00:00,  1.98s/it]\n"
     ]
    }
   ],
   "source": [
    "ffs4 = rouge_scores_df(fourth_refrence_df,ff)"
   ]
  },
  {
   "cell_type": "code",
   "execution_count": 18,
   "metadata": {},
   "outputs": [
    {
     "name": "stderr",
     "output_type": "stream",
     "text": [
      "100%|██████████| 49/49 [01:37<00:00,  1.99s/it]\n"
     ]
    }
   ],
   "source": [
    "fts4 = rouge_scores_df(fourth_refrence_df,ft)"
   ]
  },
  {
   "cell_type": "code",
   "execution_count": 19,
   "metadata": {},
   "outputs": [
    {
     "name": "stderr",
     "output_type": "stream",
     "text": [
      "100%|██████████| 49/49 [01:37<00:00,  2.00s/it]\n"
     ]
    }
   ],
   "source": [
    "tfs4 = rouge_scores_df(fourth_refrence_df,tf)"
   ]
  },
  {
   "cell_type": "code",
   "execution_count": 20,
   "metadata": {},
   "outputs": [
    {
     "name": "stderr",
     "output_type": "stream",
     "text": [
      "100%|██████████| 49/49 [01:36<00:00,  1.97s/it]\n"
     ]
    }
   ],
   "source": [
    "tts4 = rouge_scores_df(fourth_refrence_df,tt)"
   ]
  },
  {
   "cell_type": "code",
   "execution_count": 28,
   "metadata": {},
   "outputs": [
    {
     "data": {
      "text/html": [
       "<div>\n",
       "<style scoped>\n",
       "    .dataframe tbody tr th:only-of-type {\n",
       "        vertical-align: middle;\n",
       "    }\n",
       "\n",
       "    .dataframe tbody tr th {\n",
       "        vertical-align: top;\n",
       "    }\n",
       "\n",
       "    .dataframe thead th {\n",
       "        text-align: right;\n",
       "    }\n",
       "</style>\n",
       "<table border=\"1\" class=\"dataframe\">\n",
       "  <thead>\n",
       "    <tr style=\"text-align: right;\">\n",
       "      <th></th>\n",
       "      <th>0</th>\n",
       "      <th>1</th>\n",
       "      <th>2</th>\n",
       "      <th>3</th>\n",
       "      <th>4</th>\n",
       "      <th>5</th>\n",
       "      <th>6</th>\n",
       "      <th>7</th>\n",
       "      <th>8</th>\n",
       "      <th>9</th>\n",
       "      <th>...</th>\n",
       "      <th>39</th>\n",
       "      <th>40</th>\n",
       "      <th>41</th>\n",
       "      <th>42</th>\n",
       "      <th>43</th>\n",
       "      <th>44</th>\n",
       "      <th>45</th>\n",
       "      <th>46</th>\n",
       "      <th>47</th>\n",
       "      <th>48</th>\n",
       "    </tr>\n",
       "  </thead>\n",
       "  <tbody>\n",
       "    <tr>\n",
       "      <th>rouge1_fmeasure</th>\n",
       "      <td>tensor(0.0374)</td>\n",
       "      <td>tensor(0.0557)</td>\n",
       "      <td>tensor(0.0418)</td>\n",
       "      <td>tensor(0.0341)</td>\n",
       "      <td>tensor(0.0252)</td>\n",
       "      <td>tensor(0.0485)</td>\n",
       "      <td>tensor(0.0415)</td>\n",
       "      <td>tensor(0.0392)</td>\n",
       "      <td>tensor(0.0357)</td>\n",
       "      <td>tensor(0.0264)</td>\n",
       "      <td>...</td>\n",
       "      <td>tensor(0.0591)</td>\n",
       "      <td>tensor(0.0199)</td>\n",
       "      <td>tensor(0.0304)</td>\n",
       "      <td>tensor(0.0268)</td>\n",
       "      <td>tensor(0.0231)</td>\n",
       "      <td>tensor(0.0534)</td>\n",
       "      <td>tensor(0.0134)</td>\n",
       "      <td>tensor(0.0544)</td>\n",
       "      <td>tensor(0.0508)</td>\n",
       "      <td>tensor(0.0298)</td>\n",
       "    </tr>\n",
       "    <tr>\n",
       "      <th>rouge1_precision</th>\n",
       "      <td>tensor(0.0191)</td>\n",
       "      <td>tensor(0.0287)</td>\n",
       "      <td>tensor(0.0214)</td>\n",
       "      <td>tensor(0.0174)</td>\n",
       "      <td>tensor(0.0128)</td>\n",
       "      <td>tensor(0.0249)</td>\n",
       "      <td>tensor(0.0212)</td>\n",
       "      <td>tensor(0.0200)</td>\n",
       "      <td>tensor(0.0183)</td>\n",
       "      <td>tensor(0.0134)</td>\n",
       "      <td>...</td>\n",
       "      <td>tensor(0.0305)</td>\n",
       "      <td>tensor(0.0100)</td>\n",
       "      <td>tensor(0.0154)</td>\n",
       "      <td>tensor(0.0136)</td>\n",
       "      <td>tensor(0.0117)</td>\n",
       "      <td>tensor(0.0276)</td>\n",
       "      <td>tensor(0.0067)</td>\n",
       "      <td>tensor(0.0280)</td>\n",
       "      <td>tensor(0.0261)</td>\n",
       "      <td>tensor(0.0152)</td>\n",
       "    </tr>\n",
       "    <tr>\n",
       "      <th>rouge1_recall</th>\n",
       "      <td>tensor(0.8476)</td>\n",
       "      <td>tensor(0.9027)</td>\n",
       "      <td>tensor(0.9048)</td>\n",
       "      <td>tensor(0.7963)</td>\n",
       "      <td>tensor(0.9554)</td>\n",
       "      <td>tensor(0.9528)</td>\n",
       "      <td>tensor(0.8860)</td>\n",
       "      <td>tensor(0.9596)</td>\n",
       "      <td>tensor(0.8447)</td>\n",
       "      <td>tensor(0.9126)</td>\n",
       "      <td>...</td>\n",
       "      <td>tensor(0.9107)</td>\n",
       "      <td>tensor(0.9633)</td>\n",
       "      <td>tensor(0.8636)</td>\n",
       "      <td>tensor(0.9516)</td>\n",
       "      <td>tensor(0.9143)</td>\n",
       "      <td>tensor(0.8142)</td>\n",
       "      <td>tensor(0.9802)</td>\n",
       "      <td>tensor(0.9391)</td>\n",
       "      <td>tensor(0.9048)</td>\n",
       "      <td>tensor(0.9143)</td>\n",
       "    </tr>\n",
       "    <tr>\n",
       "      <th>rouge2_fmeasure</th>\n",
       "      <td>tensor(0.0177)</td>\n",
       "      <td>tensor(0.0246)</td>\n",
       "      <td>tensor(0.0194)</td>\n",
       "      <td>tensor(0.0119)</td>\n",
       "      <td>tensor(0.0146)</td>\n",
       "      <td>tensor(0.0322)</td>\n",
       "      <td>tensor(0.0181)</td>\n",
       "      <td>tensor(0.0198)</td>\n",
       "      <td>tensor(0.0144)</td>\n",
       "      <td>tensor(0.0109)</td>\n",
       "      <td>...</td>\n",
       "      <td>tensor(0.0249)</td>\n",
       "      <td>tensor(0.0129)</td>\n",
       "      <td>tensor(0.0099)</td>\n",
       "      <td>tensor(0.0175)</td>\n",
       "      <td>tensor(0.0123)</td>\n",
       "      <td>tensor(0.0256)</td>\n",
       "      <td>tensor(0.0095)</td>\n",
       "      <td>tensor(0.0338)</td>\n",
       "      <td>tensor(0.0230)</td>\n",
       "      <td>tensor(0.0162)</td>\n",
       "    </tr>\n",
       "    <tr>\n",
       "      <th>rouge2_precision</th>\n",
       "      <td>tensor(0.0090)</td>\n",
       "      <td>tensor(0.0127)</td>\n",
       "      <td>tensor(0.0099)</td>\n",
       "      <td>tensor(0.0061)</td>\n",
       "      <td>tensor(0.0074)</td>\n",
       "      <td>tensor(0.0165)</td>\n",
       "      <td>tensor(0.0093)</td>\n",
       "      <td>tensor(0.0101)</td>\n",
       "      <td>tensor(0.0073)</td>\n",
       "      <td>tensor(0.0056)</td>\n",
       "      <td>...</td>\n",
       "      <td>tensor(0.0129)</td>\n",
       "      <td>tensor(0.0065)</td>\n",
       "      <td>tensor(0.0050)</td>\n",
       "      <td>tensor(0.0089)</td>\n",
       "      <td>tensor(0.0062)</td>\n",
       "      <td>tensor(0.0132)</td>\n",
       "      <td>tensor(0.0048)</td>\n",
       "      <td>tensor(0.0174)</td>\n",
       "      <td>tensor(0.0118)</td>\n",
       "      <td>tensor(0.0082)</td>\n",
       "    </tr>\n",
       "    <tr>\n",
       "      <th>rouge2_recall</th>\n",
       "      <td>tensor(0.4038)</td>\n",
       "      <td>tensor(0.4018)</td>\n",
       "      <td>tensor(0.4231)</td>\n",
       "      <td>tensor(0.2804)</td>\n",
       "      <td>tensor(0.5586)</td>\n",
       "      <td>tensor(0.6381)</td>\n",
       "      <td>tensor(0.3894)</td>\n",
       "      <td>tensor(0.4898)</td>\n",
       "      <td>tensor(0.3431)</td>\n",
       "      <td>tensor(0.3824)</td>\n",
       "      <td>...</td>\n",
       "      <td>tensor(0.3874)</td>\n",
       "      <td>tensor(0.6296)</td>\n",
       "      <td>tensor(0.2844)</td>\n",
       "      <td>tensor(0.6260)</td>\n",
       "      <td>tensor(0.4904)</td>\n",
       "      <td>tensor(0.3929)</td>\n",
       "      <td>tensor(0.7000)</td>\n",
       "      <td>tensor(0.5877)</td>\n",
       "      <td>tensor(0.4135)</td>\n",
       "      <td>tensor(0.5000)</td>\n",
       "    </tr>\n",
       "    <tr>\n",
       "      <th>rougeL_fmeasure</th>\n",
       "      <td>tensor(0.0294)</td>\n",
       "      <td>tensor(0.0404)</td>\n",
       "      <td>tensor(0.0304)</td>\n",
       "      <td>tensor(0.0238)</td>\n",
       "      <td>tensor(0.0189)</td>\n",
       "      <td>tensor(0.0336)</td>\n",
       "      <td>tensor(0.0255)</td>\n",
       "      <td>tensor(0.0301)</td>\n",
       "      <td>tensor(0.0247)</td>\n",
       "      <td>tensor(0.0196)</td>\n",
       "      <td>...</td>\n",
       "      <td>tensor(0.0376)</td>\n",
       "      <td>tensor(0.0150)</td>\n",
       "      <td>tensor(0.0224)</td>\n",
       "      <td>tensor(0.0175)</td>\n",
       "      <td>tensor(0.0161)</td>\n",
       "      <td>tensor(0.0389)</td>\n",
       "      <td>tensor(0.0110)</td>\n",
       "      <td>tensor(0.0388)</td>\n",
       "      <td>tensor(0.0375)</td>\n",
       "      <td>tensor(0.0214)</td>\n",
       "    </tr>\n",
       "    <tr>\n",
       "      <th>rougeL_precision</th>\n",
       "      <td>tensor(0.0151)</td>\n",
       "      <td>tensor(0.0208)</td>\n",
       "      <td>tensor(0.0155)</td>\n",
       "      <td>tensor(0.0122)</td>\n",
       "      <td>tensor(0.0096)</td>\n",
       "      <td>tensor(0.0172)</td>\n",
       "      <td>tensor(0.0130)</td>\n",
       "      <td>tensor(0.0154)</td>\n",
       "      <td>tensor(0.0126)</td>\n",
       "      <td>tensor(0.0100)</td>\n",
       "      <td>...</td>\n",
       "      <td>tensor(0.0194)</td>\n",
       "      <td>tensor(0.0076)</td>\n",
       "      <td>tensor(0.0114)</td>\n",
       "      <td>tensor(0.0089)</td>\n",
       "      <td>tensor(0.0081)</td>\n",
       "      <td>tensor(0.0201)</td>\n",
       "      <td>tensor(0.0055)</td>\n",
       "      <td>tensor(0.0200)</td>\n",
       "      <td>tensor(0.0193)</td>\n",
       "      <td>tensor(0.0109)</td>\n",
       "    </tr>\n",
       "    <tr>\n",
       "      <th>rougeL_recall</th>\n",
       "      <td>tensor(0.6667)</td>\n",
       "      <td>tensor(0.6549)</td>\n",
       "      <td>tensor(0.6571)</td>\n",
       "      <td>tensor(0.5556)</td>\n",
       "      <td>tensor(0.7143)</td>\n",
       "      <td>tensor(0.6604)</td>\n",
       "      <td>tensor(0.5439)</td>\n",
       "      <td>tensor(0.7374)</td>\n",
       "      <td>tensor(0.5825)</td>\n",
       "      <td>tensor(0.6796)</td>\n",
       "      <td>...</td>\n",
       "      <td>tensor(0.5804)</td>\n",
       "      <td>tensor(0.7248)</td>\n",
       "      <td>tensor(0.6364)</td>\n",
       "      <td>tensor(0.6210)</td>\n",
       "      <td>tensor(0.6381)</td>\n",
       "      <td>tensor(0.5929)</td>\n",
       "      <td>tensor(0.8020)</td>\n",
       "      <td>tensor(0.6696)</td>\n",
       "      <td>tensor(0.6667)</td>\n",
       "      <td>tensor(0.6571)</td>\n",
       "    </tr>\n",
       "    <tr>\n",
       "      <th>rougeLsum_fmeasure</th>\n",
       "      <td>tensor(0.0366)</td>\n",
       "      <td>tensor(0.0546)</td>\n",
       "      <td>tensor(0.0414)</td>\n",
       "      <td>tensor(0.0337)</td>\n",
       "      <td>tensor(0.0243)</td>\n",
       "      <td>tensor(0.0480)</td>\n",
       "      <td>tensor(0.0394)</td>\n",
       "      <td>tensor(0.0384)</td>\n",
       "      <td>tensor(0.0345)</td>\n",
       "      <td>tensor(0.0252)</td>\n",
       "      <td>...</td>\n",
       "      <td>tensor(0.0579)</td>\n",
       "      <td>tensor(0.0191)</td>\n",
       "      <td>tensor(0.0294)</td>\n",
       "      <td>tensor(0.0259)</td>\n",
       "      <td>tensor(0.0228)</td>\n",
       "      <td>tensor(0.0522)</td>\n",
       "      <td>tensor(0.0130)</td>\n",
       "      <td>tensor(0.0534)</td>\n",
       "      <td>tensor(0.0492)</td>\n",
       "      <td>tensor(0.0298)</td>\n",
       "    </tr>\n",
       "    <tr>\n",
       "      <th>rougeLsum_precision</th>\n",
       "      <td>tensor(0.0187)</td>\n",
       "      <td>tensor(0.0282)</td>\n",
       "      <td>tensor(0.0212)</td>\n",
       "      <td>tensor(0.0172)</td>\n",
       "      <td>tensor(0.0123)</td>\n",
       "      <td>tensor(0.0246)</td>\n",
       "      <td>tensor(0.0202)</td>\n",
       "      <td>tensor(0.0196)</td>\n",
       "      <td>tensor(0.0176)</td>\n",
       "      <td>tensor(0.0128)</td>\n",
       "      <td>...</td>\n",
       "      <td>tensor(0.0299)</td>\n",
       "      <td>tensor(0.0097)</td>\n",
       "      <td>tensor(0.0150)</td>\n",
       "      <td>tensor(0.0131)</td>\n",
       "      <td>tensor(0.0116)</td>\n",
       "      <td>tensor(0.0270)</td>\n",
       "      <td>tensor(0.0065)</td>\n",
       "      <td>tensor(0.0275)</td>\n",
       "      <td>tensor(0.0253)</td>\n",
       "      <td>tensor(0.0152)</td>\n",
       "    </tr>\n",
       "    <tr>\n",
       "      <th>rougeLsum_recall</th>\n",
       "      <td>tensor(0.8286)</td>\n",
       "      <td>tensor(0.8850)</td>\n",
       "      <td>tensor(0.8952)</td>\n",
       "      <td>tensor(0.7870)</td>\n",
       "      <td>tensor(0.9196)</td>\n",
       "      <td>tensor(0.9434)</td>\n",
       "      <td>tensor(0.8421)</td>\n",
       "      <td>tensor(0.9394)</td>\n",
       "      <td>tensor(0.8155)</td>\n",
       "      <td>tensor(0.8738)</td>\n",
       "      <td>...</td>\n",
       "      <td>tensor(0.8929)</td>\n",
       "      <td>tensor(0.9266)</td>\n",
       "      <td>tensor(0.8364)</td>\n",
       "      <td>tensor(0.9194)</td>\n",
       "      <td>tensor(0.9048)</td>\n",
       "      <td>tensor(0.7965)</td>\n",
       "      <td>tensor(0.9505)</td>\n",
       "      <td>tensor(0.9217)</td>\n",
       "      <td>tensor(0.8762)</td>\n",
       "      <td>tensor(0.9143)</td>\n",
       "    </tr>\n",
       "  </tbody>\n",
       "</table>\n",
       "<p>12 rows × 49 columns</p>\n",
       "</div>"
      ],
      "text/plain": [
       "                                 0               1               2    \n",
       "rouge1_fmeasure      tensor(0.0374)  tensor(0.0557)  tensor(0.0418)  \\\n",
       "rouge1_precision     tensor(0.0191)  tensor(0.0287)  tensor(0.0214)   \n",
       "rouge1_recall        tensor(0.8476)  tensor(0.9027)  tensor(0.9048)   \n",
       "rouge2_fmeasure      tensor(0.0177)  tensor(0.0246)  tensor(0.0194)   \n",
       "rouge2_precision     tensor(0.0090)  tensor(0.0127)  tensor(0.0099)   \n",
       "rouge2_recall        tensor(0.4038)  tensor(0.4018)  tensor(0.4231)   \n",
       "rougeL_fmeasure      tensor(0.0294)  tensor(0.0404)  tensor(0.0304)   \n",
       "rougeL_precision     tensor(0.0151)  tensor(0.0208)  tensor(0.0155)   \n",
       "rougeL_recall        tensor(0.6667)  tensor(0.6549)  tensor(0.6571)   \n",
       "rougeLsum_fmeasure   tensor(0.0366)  tensor(0.0546)  tensor(0.0414)   \n",
       "rougeLsum_precision  tensor(0.0187)  tensor(0.0282)  tensor(0.0212)   \n",
       "rougeLsum_recall     tensor(0.8286)  tensor(0.8850)  tensor(0.8952)   \n",
       "\n",
       "                                 3               4               5    \n",
       "rouge1_fmeasure      tensor(0.0341)  tensor(0.0252)  tensor(0.0485)  \\\n",
       "rouge1_precision     tensor(0.0174)  tensor(0.0128)  tensor(0.0249)   \n",
       "rouge1_recall        tensor(0.7963)  tensor(0.9554)  tensor(0.9528)   \n",
       "rouge2_fmeasure      tensor(0.0119)  tensor(0.0146)  tensor(0.0322)   \n",
       "rouge2_precision     tensor(0.0061)  tensor(0.0074)  tensor(0.0165)   \n",
       "rouge2_recall        tensor(0.2804)  tensor(0.5586)  tensor(0.6381)   \n",
       "rougeL_fmeasure      tensor(0.0238)  tensor(0.0189)  tensor(0.0336)   \n",
       "rougeL_precision     tensor(0.0122)  tensor(0.0096)  tensor(0.0172)   \n",
       "rougeL_recall        tensor(0.5556)  tensor(0.7143)  tensor(0.6604)   \n",
       "rougeLsum_fmeasure   tensor(0.0337)  tensor(0.0243)  tensor(0.0480)   \n",
       "rougeLsum_precision  tensor(0.0172)  tensor(0.0123)  tensor(0.0246)   \n",
       "rougeLsum_recall     tensor(0.7870)  tensor(0.9196)  tensor(0.9434)   \n",
       "\n",
       "                                 6               7               8    \n",
       "rouge1_fmeasure      tensor(0.0415)  tensor(0.0392)  tensor(0.0357)  \\\n",
       "rouge1_precision     tensor(0.0212)  tensor(0.0200)  tensor(0.0183)   \n",
       "rouge1_recall        tensor(0.8860)  tensor(0.9596)  tensor(0.8447)   \n",
       "rouge2_fmeasure      tensor(0.0181)  tensor(0.0198)  tensor(0.0144)   \n",
       "rouge2_precision     tensor(0.0093)  tensor(0.0101)  tensor(0.0073)   \n",
       "rouge2_recall        tensor(0.3894)  tensor(0.4898)  tensor(0.3431)   \n",
       "rougeL_fmeasure      tensor(0.0255)  tensor(0.0301)  tensor(0.0247)   \n",
       "rougeL_precision     tensor(0.0130)  tensor(0.0154)  tensor(0.0126)   \n",
       "rougeL_recall        tensor(0.5439)  tensor(0.7374)  tensor(0.5825)   \n",
       "rougeLsum_fmeasure   tensor(0.0394)  tensor(0.0384)  tensor(0.0345)   \n",
       "rougeLsum_precision  tensor(0.0202)  tensor(0.0196)  tensor(0.0176)   \n",
       "rougeLsum_recall     tensor(0.8421)  tensor(0.9394)  tensor(0.8155)   \n",
       "\n",
       "                                 9   ...              39              40   \n",
       "rouge1_fmeasure      tensor(0.0264)  ...  tensor(0.0591)  tensor(0.0199)  \\\n",
       "rouge1_precision     tensor(0.0134)  ...  tensor(0.0305)  tensor(0.0100)   \n",
       "rouge1_recall        tensor(0.9126)  ...  tensor(0.9107)  tensor(0.9633)   \n",
       "rouge2_fmeasure      tensor(0.0109)  ...  tensor(0.0249)  tensor(0.0129)   \n",
       "rouge2_precision     tensor(0.0056)  ...  tensor(0.0129)  tensor(0.0065)   \n",
       "rouge2_recall        tensor(0.3824)  ...  tensor(0.3874)  tensor(0.6296)   \n",
       "rougeL_fmeasure      tensor(0.0196)  ...  tensor(0.0376)  tensor(0.0150)   \n",
       "rougeL_precision     tensor(0.0100)  ...  tensor(0.0194)  tensor(0.0076)   \n",
       "rougeL_recall        tensor(0.6796)  ...  tensor(0.5804)  tensor(0.7248)   \n",
       "rougeLsum_fmeasure   tensor(0.0252)  ...  tensor(0.0579)  tensor(0.0191)   \n",
       "rougeLsum_precision  tensor(0.0128)  ...  tensor(0.0299)  tensor(0.0097)   \n",
       "rougeLsum_recall     tensor(0.8738)  ...  tensor(0.8929)  tensor(0.9266)   \n",
       "\n",
       "                                 41              42              43   \n",
       "rouge1_fmeasure      tensor(0.0304)  tensor(0.0268)  tensor(0.0231)  \\\n",
       "rouge1_precision     tensor(0.0154)  tensor(0.0136)  tensor(0.0117)   \n",
       "rouge1_recall        tensor(0.8636)  tensor(0.9516)  tensor(0.9143)   \n",
       "rouge2_fmeasure      tensor(0.0099)  tensor(0.0175)  tensor(0.0123)   \n",
       "rouge2_precision     tensor(0.0050)  tensor(0.0089)  tensor(0.0062)   \n",
       "rouge2_recall        tensor(0.2844)  tensor(0.6260)  tensor(0.4904)   \n",
       "rougeL_fmeasure      tensor(0.0224)  tensor(0.0175)  tensor(0.0161)   \n",
       "rougeL_precision     tensor(0.0114)  tensor(0.0089)  tensor(0.0081)   \n",
       "rougeL_recall        tensor(0.6364)  tensor(0.6210)  tensor(0.6381)   \n",
       "rougeLsum_fmeasure   tensor(0.0294)  tensor(0.0259)  tensor(0.0228)   \n",
       "rougeLsum_precision  tensor(0.0150)  tensor(0.0131)  tensor(0.0116)   \n",
       "rougeLsum_recall     tensor(0.8364)  tensor(0.9194)  tensor(0.9048)   \n",
       "\n",
       "                                 44              45              46   \n",
       "rouge1_fmeasure      tensor(0.0534)  tensor(0.0134)  tensor(0.0544)  \\\n",
       "rouge1_precision     tensor(0.0276)  tensor(0.0067)  tensor(0.0280)   \n",
       "rouge1_recall        tensor(0.8142)  tensor(0.9802)  tensor(0.9391)   \n",
       "rouge2_fmeasure      tensor(0.0256)  tensor(0.0095)  tensor(0.0338)   \n",
       "rouge2_precision     tensor(0.0132)  tensor(0.0048)  tensor(0.0174)   \n",
       "rouge2_recall        tensor(0.3929)  tensor(0.7000)  tensor(0.5877)   \n",
       "rougeL_fmeasure      tensor(0.0389)  tensor(0.0110)  tensor(0.0388)   \n",
       "rougeL_precision     tensor(0.0201)  tensor(0.0055)  tensor(0.0200)   \n",
       "rougeL_recall        tensor(0.5929)  tensor(0.8020)  tensor(0.6696)   \n",
       "rougeLsum_fmeasure   tensor(0.0522)  tensor(0.0130)  tensor(0.0534)   \n",
       "rougeLsum_precision  tensor(0.0270)  tensor(0.0065)  tensor(0.0275)   \n",
       "rougeLsum_recall     tensor(0.7965)  tensor(0.9505)  tensor(0.9217)   \n",
       "\n",
       "                                 47              48  \n",
       "rouge1_fmeasure      tensor(0.0508)  tensor(0.0298)  \n",
       "rouge1_precision     tensor(0.0261)  tensor(0.0152)  \n",
       "rouge1_recall        tensor(0.9048)  tensor(0.9143)  \n",
       "rouge2_fmeasure      tensor(0.0230)  tensor(0.0162)  \n",
       "rouge2_precision     tensor(0.0118)  tensor(0.0082)  \n",
       "rouge2_recall        tensor(0.4135)  tensor(0.5000)  \n",
       "rougeL_fmeasure      tensor(0.0375)  tensor(0.0214)  \n",
       "rougeL_precision     tensor(0.0193)  tensor(0.0109)  \n",
       "rougeL_recall        tensor(0.6667)  tensor(0.6571)  \n",
       "rougeLsum_fmeasure   tensor(0.0492)  tensor(0.0298)  \n",
       "rougeLsum_precision  tensor(0.0253)  tensor(0.0152)  \n",
       "rougeLsum_recall     tensor(0.8762)  tensor(0.9143)  \n",
       "\n",
       "[12 rows x 49 columns]"
      ]
     },
     "execution_count": 28,
     "metadata": {},
     "output_type": "execute_result"
    }
   ],
   "source": [
    "ffs4.T\n"
   ]
  },
  {
   "cell_type": "code",
   "execution_count": null,
   "metadata": {},
   "outputs": [],
   "source": []
  }
 ],
 "metadata": {
  "kernelspec": {
   "display_name": "Python 3",
   "language": "python",
   "name": "python3"
  },
  "language_info": {
   "codemirror_mode": {
    "name": "ipython",
    "version": 3
   },
   "file_extension": ".py",
   "mimetype": "text/x-python",
   "name": "python",
   "nbconvert_exporter": "python",
   "pygments_lexer": "ipython3",
   "version": "3.10.0"
  },
  "orig_nbformat": 4
 },
 "nbformat": 4,
 "nbformat_minor": 2
}
