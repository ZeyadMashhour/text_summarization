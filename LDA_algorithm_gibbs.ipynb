{
 "cells": [
  {
   "cell_type": "code",
   "execution_count": 1,
   "metadata": {},
   "outputs": [],
   "source": [
    "from sklearn.feature_extraction.text import CountVectorizer\n",
    "from sklearn.decomposition import LatentDirichletAllocation\n",
    "import pandas as pd\n",
    "from preprocessing_algorithms import *\n",
    "from efficiency_scores import *"
   ]
  },
  {
   "cell_type": "code",
   "execution_count": 2,
   "metadata": {},
   "outputs": [
    {
     "name": "stderr",
     "output_type": "stream",
     "text": [
      "100%|██████████| 49/49 [01:16<00:00,  1.56s/it]\n"
     ]
    }
   ],
   "source": [
    "data = pd.read_csv(\"Duc_dataset_first_ref_summary.csv\")\n",
    "sentences , filtered_sentences = process_df(data,False,False)"
   ]
  },
  {
   "cell_type": "code",
   "execution_count": 12,
   "metadata": {},
   "outputs": [],
   "source": [
    "def lda_algorithm(filtered_sentences,sentences,size=5,num_topics = 3):\n",
    "    # Create a CountVectorizer object to preprocess the text\n",
    "    vectorizer = CountVectorizer(stop_words='english')\n",
    "\n",
    "    # Fit and transform the vectorizer to the text\n",
    "    doc_term_matrix = vectorizer.fit_transform(filtered_sentences)\n",
    "\n",
    "    # Create an LDA object using Gibbs sampling\n",
    "    lda = LatentDirichletAllocation(n_components=num_topics, learning_method='batch', random_state=42)\n",
    "\n",
    "    # Fit the LDA model to the document-term matrix\n",
    "    lda.fit(doc_term_matrix)\n",
    "\n",
    "    # Extract the topic summaries\n",
    "    topic_word_distributions = lda.components_\n",
    "    for i, topic_dist in enumerate(topic_word_distributions):\n",
    "        topic_words = [vectorizer.get_feature_names_out()[j] for j in topic_dist.argsort()[:-6:-1]]\n",
    "        #print(f\"Topic {i}: {' '.join(topic_words)}\")\n",
    "\n",
    "    # Extract the topic distribution for each sentence\n",
    "    sentence_topic_distributions = lda.transform(doc_term_matrix)\n",
    "\n",
    "    # Calculate the sentence scores\n",
    "    sentence_scores = sentence_topic_distributions.max(axis=1)\n",
    "\n",
    "    # Sort the sentences by score in descending order\n",
    "    sorted_indices = sentence_scores.argsort()[::-1]\n",
    "\n",
    "    # Extract the top N sentences\n",
    "    top_indices = sorted_indices[:size]\n",
    "    top_sentences = [sentences[i] for i in top_indices]\n",
    "\n",
    "    # Print the summary\n",
    "    #print('\\n'.join(top_sentences))\n",
    "    return sentence_scores,top_sentences"
   ]
  },
  {
   "cell_type": "code",
   "execution_count": 22,
   "metadata": {},
   "outputs": [],
   "source": [
    "x,y=lda_algorithm(filtered_sentences[0],sentences[0],size=5,num_topics = 3)"
   ]
  },
  {
   "cell_type": "code",
   "execution_count": 36,
   "metadata": {},
   "outputs": [
    {
     "data": {
      "text/plain": [
       "[\"The Cambodian People's Party criticized a non-binding \\nresolution passed earlier this month by the U.S. House of Representatives \\ncalling for an investigation into violations of international humanitarian \\nlaw allegedly committed by Hun Sen. Events mentioned in the resolution \\ninclude Hun Sen's coup last year against his co-prime minister, Prince \\nNorodom Ranariddh, and his violent crackdown in September against \\nanti-government demonstrations.\",\n",
       " \"Worried that party colleagues still face arrest for their politics, \\nopposition leader Sam Rainsy sought further clarification Friday of \\nsecurity guarantees promised by strongman Hun Sen. Sam Rainsy wrote \\nin a letter to King Norodom Sihanouk that he was eager to attend the \\nfirst session of the new National Assembly on Nov. 25, but complained \\nthat Hun Sen's assurances were not strong enough to ease concerns \\nhis party members may be arrested upon their return to Cambodia.\",\n",
       " 'The deal, which will make Hun Sen \\nprime minister and Ranariddh president of the National Assembly, ended \\nmore than three months of political deadlock that followed a July \\nelection narrowly won by Hun Sen. Key to the agreement was the formation \\nof a Senate as the upper house of Parliament, to be led by CPP President \\nChea Sim, the outgoing head of the National Assembly.',\n",
       " \"``Papa will not preside over any summit meeting between the three \\nparties, whether it is held in Phnom Penh or Beijing, because such \\na meeting will certainly achieve no result,'' Sihanouk wrote in an \\nOct. 17 letter to his son, Prince Norodom Ranariddh, leader of the \\nsenior opposition FUNCINPEC party.\",\n",
       " \"Citing Hun Sen's threats to arrest \\nopposition politicians following two alleged attempts on his life, \\nRanariddh and Sam Rainsy have said they do not feel safe negotiating \\ninside the country and asked the king to chair the summit at his residence \\nin Beijing.\"]"
      ]
     },
     "execution_count": 36,
     "metadata": {},
     "output_type": "execute_result"
    }
   ],
   "source": [
    "y"
   ]
  }
 ],
 "metadata": {
  "kernelspec": {
   "display_name": "Python 3",
   "language": "python",
   "name": "python3"
  },
  "language_info": {
   "codemirror_mode": {
    "name": "ipython",
    "version": 3
   },
   "file_extension": ".py",
   "mimetype": "text/x-python",
   "name": "python",
   "nbconvert_exporter": "python",
   "pygments_lexer": "ipython3",
   "version": "3.10.0"
  },
  "orig_nbformat": 4
 },
 "nbformat": 4,
 "nbformat_minor": 2
}
