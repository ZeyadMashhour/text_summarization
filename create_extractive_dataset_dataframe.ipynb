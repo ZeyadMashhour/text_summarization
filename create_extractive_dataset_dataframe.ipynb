{
 "cells": [
  {
   "cell_type": "code",
   "execution_count": 40,
   "metadata": {},
   "outputs": [],
   "source": [
    "import os\n",
    "import pandas as pd"
   ]
  },
  {
   "cell_type": "code",
   "execution_count": 41,
   "metadata": {},
   "outputs": [],
   "source": [
    "# articles_path = r\"C:\\Users\\zeyad\\Downloads\\BBC News Summary\\News Articles\\business\"\n",
    "# summaries_path = r\"C:\\Users\\zeyad\\Downloads\\BBC News Summary\\Summaries\\business\""
   ]
  },
  {
   "cell_type": "code",
   "execution_count": 42,
   "metadata": {},
   "outputs": [],
   "source": [
    "articles_path = r\"C:\\Users\\basel\\OneDrive\\Desktop\\GP_Project\\text_summarization\\duc\\DUC2004_Summarization_Documents\\duc2004_testdata\\tasks1and2\\duc2004_tasks1and2_docs\\docs\"\n",
    "summaries_path = r\"C:\\Users\\basel\\OneDrive\\Desktop\\GP_Project\\text_summarization\\duc\\reference\""
   ]
  },
  {
   "cell_type": "code",
   "execution_count": 43,
   "metadata": {},
   "outputs": [],
   "source": [
    "def create_directory_list(path):\n",
    "    path1 = os.listdir(path)\n",
    "    for paths in path1:\n",
    "        path_temp = os.listdir(paths)"
   ]
  },
  {
   "cell_type": "code",
   "execution_count": 44,
   "metadata": {},
   "outputs": [],
   "source": [
    "import re\n",
    "numbers = re.compile(r'(\\d+)')\n",
    "def numericalSort(value):\n",
    "    parts = numbers.split(value)\n",
    "    parts[1::2] = map(int, parts[1::2])\n",
    "    return parts"
   ]
  },
  {
   "cell_type": "code",
   "execution_count": 45,
   "metadata": {},
   "outputs": [],
   "source": [
    "def read_folders_in_directory(path):\n",
    "    directory_list = create_directory_list(path)\n",
    "    list_of_folder_names = []\n",
    "\n",
    "    for folder in directory_list:\n",
    "        list_of_folder_names.append(folder)\n",
    "    sorted_folder_names = sorted(list_of_folder_names, key=numericalSort)\n",
    "            \n",
    "    return sorted_folder_names"
   ]
  },
  {
   "cell_type": "code",
   "execution_count": 46,
   "metadata": {},
   "outputs": [],
   "source": [
    "def read_files_in_directory(path):\n",
    "    directory_list = create_directory_list(path)\n",
    "    list_of_articles = []\n",
    "    list_of_article_names = []\n",
    "\n",
    "    for txt in directory_list:\n",
    "        with open (path+\"\\\\\"+txt, \"r\") as myfile: \n",
    "            list_of_article_names.append(myfile.name)\n",
    "    sorted_article_names = sorted(list_of_article_names, key=numericalSort)\n",
    "\n",
    "    for name in sorted_article_names:\n",
    "        with open (name, \"r\") as myfile:\n",
    "            list_of_articles.append(myfile.read())\n",
    "\n",
    "    combined_articles=\" \".join(list_of_articles)\n",
    "            \n",
    "    return combined_articles"
   ]
  },
  {
   "cell_type": "code",
   "execution_count": 47,
   "metadata": {},
   "outputs": [],
   "source": [
    "def read_summary_files_in_directory(path,list_of_summary_folders):\n",
    "    list_of_summaries = []\n",
    "    for folder in list_of_summary_folders:\n",
    "        with open (path + \"\\\\\"+folder+f\"\\\\Task{folder}_reference4.txt\",\"r\") as mysummary:\n",
    "            list_of_summaries.append(mysummary.read()) \n",
    "\n",
    "        \n",
    "    return list_of_summaries"
   ]
  },
  {
   "cell_type": "code",
   "execution_count": 48,
   "metadata": {},
   "outputs": [],
   "source": [
    "list_of_folders_of_articles = read_folders_in_directory(articles_path)\n",
    "list_of_folders_of_summaries = read_folders_in_directory(summaries_path)"
   ]
  },
  {
   "cell_type": "code",
   "execution_count": 49,
   "metadata": {},
   "outputs": [],
   "source": [
    "list_of_summaries = read_summary_files_in_directory(summaries_path,list_of_folders_of_summaries)"
   ]
  },
  {
   "cell_type": "code",
   "execution_count": 50,
   "metadata": {},
   "outputs": [],
   "source": [
    "list_of_articles = []\n",
    "for article_name in list_of_folders_of_articles:\n",
    "    article = read_files_in_directory(articles_path+ '\\\\'+ article_name)\n",
    "    list_of_articles.append(article)"
   ]
  },
  {
   "cell_type": "code",
   "execution_count": 51,
   "metadata": {},
   "outputs": [],
   "source": [
    "df_articles=pd.DataFrame(list_of_articles)\n",
    "df_sammaries = pd.DataFrame(list_of_summaries)"
   ]
  },
  {
   "cell_type": "code",
   "execution_count": 52,
   "metadata": {},
   "outputs": [],
   "source": [
    "df = pd.DataFrame(list(zip(list_of_articles, list_of_summaries)),\n",
    "               columns =['Articles', 'Original Summary'])\n",
    "df.to_csv(\"Duc_dataset_fourth_ref_summary.csv\",index = False)"
   ]
  },
  {
   "cell_type": "code",
   "execution_count": 53,
   "metadata": {},
   "outputs": [],
   "source": [
    "data = pd.read_csv(\"Duc_dataset_fourth_ref_summary.csv\")"
   ]
  },
  {
   "cell_type": "code",
   "execution_count": 54,
   "metadata": {},
   "outputs": [
    {
     "data": {
      "text/plain": [
       "'Cambodian elections, fraudulent according to opposition parties, gave the CPP of Hun Sen a scant majority but not enough to form its own government.\\nOpposition leaders fearing arrest, or worse, fled and asked for talks outside the country.\\nHan Sen refused.\\nThe UN found evidence of rights violations by Hun Sen prompting the US House to call for an investigation.\\nThe three-month governmental deadlock ended with Han Sen and his chief rival, Prince Norodom Ranariddh sharing power.\\nHan Sen guaranteed safe return to Cambodia for all opponents but his strongest critic, Sam Rainsy, remained wary.\\nChief of State King Norodom Sihanouk praised the agreement.\\n'"
      ]
     },
     "execution_count": 54,
     "metadata": {},
     "output_type": "execute_result"
    }
   ],
   "source": [
    "data.iloc[0,1]"
   ]
  },
  {
   "cell_type": "code",
   "execution_count": null,
   "metadata": {},
   "outputs": [],
   "source": []
  }
 ],
 "metadata": {
  "kernelspec": {
   "display_name": "Python 3",
   "language": "python",
   "name": "python3"
  },
  "language_info": {
   "codemirror_mode": {
    "name": "ipython",
    "version": 3
   },
   "file_extension": ".py",
   "mimetype": "text/x-python",
   "name": "python",
   "nbconvert_exporter": "python",
   "pygments_lexer": "ipython3",
   "version": "3.10.5"
  },
  "orig_nbformat": 4,
  "vscode": {
   "interpreter": {
    "hash": "480c14cd519d4cac626ed4e2ff26eb76a48d8461070c1f960eb23b2ab109b24d"
   }
  }
 },
 "nbformat": 4,
 "nbformat_minor": 2
}
