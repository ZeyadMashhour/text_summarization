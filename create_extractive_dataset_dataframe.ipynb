{
 "cells": [
  {
   "cell_type": "code",
   "execution_count": 11,
   "metadata": {},
   "outputs": [],
   "source": [
    "import os\n",
    "import pandas as pd"
   ]
  },
  {
   "cell_type": "code",
   "execution_count": 12,
   "metadata": {},
   "outputs": [],
   "source": [
    "# articles_path = r\"C:\\Users\\zeyad\\Downloads\\BBC News Summary\\News Articles\\business\"\n",
    "# summaries_path = r\"C:\\Users\\zeyad\\Downloads\\BBC News Summary\\Summaries\\business\""
   ]
  },
  {
   "cell_type": "code",
   "execution_count": 13,
   "metadata": {},
   "outputs": [],
   "source": [
    "articles_path = r\"C:\\Users\\basel\\OneDrive\\Desktop\\GP_Project\\text_summarization\\duc\\DUC2004_Summarization_Documents\\duc2004_testdata\\tasks1and2\\duc2004_tasks1and2_docs\\docs\\1\"\n",
    "summaries_path = r\"C:\\Users\\basel\\OneDrive\\Desktop\\GP_Project\\text_summarization\\duc\\reference\\1\""
   ]
  },
  {
   "cell_type": "code",
   "execution_count": 14,
   "metadata": {},
   "outputs": [],
   "source": [
    "def create_directory_list(path):\n",
    "    return os.listdir(path)"
   ]
  },
  {
   "cell_type": "code",
   "execution_count": 25,
   "metadata": {},
   "outputs": [
    {
     "data": {
      "text/plain": [
       "['d1', 'd2', 'd10']"
      ]
     },
     "execution_count": 25,
     "metadata": {},
     "output_type": "execute_result"
    }
   ],
   "source": [
    "import re\n",
    "numbers = re.compile(r'(\\d+)')\n",
    "def numericalSort(value):\n",
    "    parts = numbers.split(value)\n",
    "    parts[1::2] = map(int, parts[1::2])\n",
    "    return parts"
   ]
  },
  {
   "cell_type": "code",
   "execution_count": 44,
   "metadata": {},
   "outputs": [],
   "source": [
    "def read_files_in_directory(path):\n",
    "    directory_list = create_directory_list(path)\n",
    "    list_of_articles = []\n",
    "    list_of_article_names = []\n",
    "\n",
    "    for txt in directory_list:\n",
    "        with open (path+\"\\\\\"+txt, \"r\") as myfile: \n",
    "            list_of_article_names.append(myfile.name)\n",
    "    sorted_article_names = sorted(list_of_article_names, key=numericalSort)\n",
    "\n",
    "    for name in sorted_article_names:\n",
    "        with open (name, \"r\") as myfile:\n",
    "            list_of_articles.append(myfile.read())\n",
    "            \n",
    "    return list_of_articles"
   ]
  },
  {
   "cell_type": "code",
   "execution_count": 47,
   "metadata": {},
   "outputs": [
    {
     "name": "stdout",
     "output_type": "stream",
     "text": [
      "name C:\\Users\\basel\\OneDrive\\Desktop\\GP_Project\\text_summarization\\duc\\DUC2004_Summarization_Documents\\duc2004_testdata\\tasks1and2\\duc2004_tasks1and2_docs\\docs\\1\\D1.txt\n",
      "name C:\\Users\\basel\\OneDrive\\Desktop\\GP_Project\\text_summarization\\duc\\DUC2004_Summarization_Documents\\duc2004_testdata\\tasks1and2\\duc2004_tasks1and2_docs\\docs\\1\\D2.txt\n",
      "name C:\\Users\\basel\\OneDrive\\Desktop\\GP_Project\\text_summarization\\duc\\DUC2004_Summarization_Documents\\duc2004_testdata\\tasks1and2\\duc2004_tasks1and2_docs\\docs\\1\\D3.txt\n",
      "name C:\\Users\\basel\\OneDrive\\Desktop\\GP_Project\\text_summarization\\duc\\DUC2004_Summarization_Documents\\duc2004_testdata\\tasks1and2\\duc2004_tasks1and2_docs\\docs\\1\\D4.txt\n",
      "name C:\\Users\\basel\\OneDrive\\Desktop\\GP_Project\\text_summarization\\duc\\DUC2004_Summarization_Documents\\duc2004_testdata\\tasks1and2\\duc2004_tasks1and2_docs\\docs\\1\\D5.txt\n",
      "name C:\\Users\\basel\\OneDrive\\Desktop\\GP_Project\\text_summarization\\duc\\DUC2004_Summarization_Documents\\duc2004_testdata\\tasks1and2\\duc2004_tasks1and2_docs\\docs\\1\\D6.txt\n",
      "name C:\\Users\\basel\\OneDrive\\Desktop\\GP_Project\\text_summarization\\duc\\DUC2004_Summarization_Documents\\duc2004_testdata\\tasks1and2\\duc2004_tasks1and2_docs\\docs\\1\\D7.txt\n",
      "name C:\\Users\\basel\\OneDrive\\Desktop\\GP_Project\\text_summarization\\duc\\DUC2004_Summarization_Documents\\duc2004_testdata\\tasks1and2\\duc2004_tasks1and2_docs\\docs\\1\\D8.txt\n",
      "name C:\\Users\\basel\\OneDrive\\Desktop\\GP_Project\\text_summarization\\duc\\DUC2004_Summarization_Documents\\duc2004_testdata\\tasks1and2\\duc2004_tasks1and2_docs\\docs\\1\\D9.txt\n",
      "name C:\\Users\\basel\\OneDrive\\Desktop\\GP_Project\\text_summarization\\duc\\DUC2004_Summarization_Documents\\duc2004_testdata\\tasks1and2\\duc2004_tasks1and2_docs\\docs\\1\\D10.txt\n",
      "name C:\\Users\\basel\\OneDrive\\Desktop\\GP_Project\\text_summarization\\duc\\reference\\1\\Task1_reference1.txt\n",
      "name C:\\Users\\basel\\OneDrive\\Desktop\\GP_Project\\text_summarization\\duc\\reference\\1\\Task1_reference2.txt\n",
      "name C:\\Users\\basel\\OneDrive\\Desktop\\GP_Project\\text_summarization\\duc\\reference\\1\\Task1_reference3.txt\n",
      "name C:\\Users\\basel\\OneDrive\\Desktop\\GP_Project\\text_summarization\\duc\\reference\\1\\Task1_reference4.txt\n"
     ]
    }
   ],
   "source": [
    "list_of_articles = read_files_in_directory(articles_path)\n",
    "list_of_summaries = read_files_in_directory(summaries_path)"
   ]
  },
  {
   "cell_type": "code",
   "execution_count": 53,
   "metadata": {},
   "outputs": [
    {
     "data": {
      "text/plain": [
       "'123abc'"
      ]
     },
     "execution_count": 53,
     "metadata": {},
     "output_type": "execute_result"
    }
   ],
   "source": [
    "lis = [\"123\",\"abc\"]\n",
    "\"\".join(lis)"
   ]
  },
  {
   "cell_type": "code",
   "execution_count": 55,
   "metadata": {},
   "outputs": [
    {
     "data": {
      "text/plain": [
       "\"\\nCambodian leader Hun Sen on Friday rejected opposition parties' demands \\nfor talks outside the country, accusing them of trying to ``internationalize'' \\nthe political crisis. Government and opposition parties have asked \\nKing Norodom Sihanouk to host a summit meeting after a series of post-election \\nnegotiations between the two opposition groups and Hun Sen's party \\nto form a new government failed. Opposition leaders Prince Norodom \\nRanariddh and Sam Rainsy, citing Hun Sen's threats to arrest opposition \\nfigures after two alleged attempts on his life, said they could not \\nnegotiate freely in Cambodia and called for talks at Sihanouk's residence \\nin Beijing. Hun Sen, however, rejected that. ``I would like to make \\nit clear that all meetings related to Cambodian affairs must be conducted \\nin the Kingdom of Cambodia,'' Hun Sen told reporters after a Cabinet \\nmeeting on Friday. ``No-one should internationalize Cambodian affairs. \\nIt is detrimental to the sovereignty of Cambodia,'' he said. Hun Sen's \\nCambodian People's Party won 64 of the 122 parliamentary seats in \\nJuly's elections, short of the two-thirds majority needed to form \\na government on its own. Ranariddh and Sam Rainsy have charged that \\nHun Sen's victory in the elections was achieved through widespread \\nfraud. They have demanded a thorough investigation into their election \\ncomplaints as a precondition for their cooperation in getting the \\nnational assembly moving and a new government formed. Hun Sen said \\non Friday that the opposition concerns over their safety in the country \\nwas ``just an excuse for them to stay abroad.'' Both Ranariddh and \\nSam Rainsy have been outside the country since parliament was ceremonially \\nopened on Sep. 24. Sam Rainsy and a number of opposition figures have \\nbeen under court investigation for a grenade attack on Hun Sen's Phnom \\nPenh residence on Sep. 7. Hun Sen was not home at the time of the \\nattack, which was followed by a police crackdown on demonstrators \\ncontesting Hun Sen's election victory. The Sam Rainsy Party, in a \\nstatement released Friday, accused Hun Sen of being ``unwilling to \\nmake any compromise'' on negotiations to break the deadlock. ``A meeting \\noutside Cambodia, as suggested by the opposition, could place all \\nparties on more equal footing,'' said the statement. ``But the ruling \\nparty refuses to negotiate unless it is able to threaten its negotiating \\npartners with arrest or worse.'' \\n\\nKing Norodom Sihanouk has declined requests to chair a summit of Cambodia's \\ntop political leaders, saying the meeting would not bring any progress \\nin deadlocked negotiations to form a government. Cambodian leader \\nHun Sen's ruling party and the two-party opposition had called on \\nthe monarch to lead top-level talks, but disagreed on its location. \\n``Papa will not preside over any summit meeting between the three \\nparties, whether it is held in Phnom Penh or Beijing, because such \\na meeting will certainly achieve no result,'' Sihanouk wrote in an \\nOct. 17 letter to his son, Prince Norodom Ranariddh, leader of the \\nsenior opposition FUNCINPEC party. A copy of the letter was obtained \\nThursday. In it, the king called on the three parties to make compromises \\nto end the stalemate: ``Papa would like to ask all three parties to \\ntake responsibility before the nation and the people.'' Hun Sen used \\nThursday's anniversary of a peace agreement ending the country's civil \\nwar to pressure the opposition to form a coalition government with \\nhis party. ``Only those who want to prolong the anarchy and instability \\nprevent efforts to set up a new government,'' Hun Sen said in a televised \\nspeech marking the anniversary of the 1991 Paris Peace Accords. Hun \\nSen's party won 64 of the 122 seats in parliament in July's national \\nelection, but not the two-thirds majority necessary to form a government \\non its own. Opposition parties led by Ranariddh and former finance \\nminister Sam Ram Rainsy have refused to enter into a coalition with \\nHun Sen until their allegations of election fraud have been thoroughly \\ninvestigated. International monitors said the election was relatively \\nfree and fair. Hun Sen said his current government would remain in \\npower as long as the opposition refused to form a new one. Ranariddh \\nand Sam Rainsy have remained outside the country since the Sept. 24 \\nceremonial convening of parliament. Citing Hun Sen's threats to arrest \\nopposition politicians following two alleged attempts on his life, \\nRanariddh and Sam Rainsy have said they do not feel safe negotiating \\ninside the country and asked the king to chair the summit at his residence \\nin Beijing. Hun Sen has rejected the opposition's reservations, saying \\nit would be inappropriate to hold a summit outside the country. Negotiations \\nso far have proved fruitless except for the opening of parliament \\nafter a Sept. 22 summit led by the king. Hun Sen implied Thursday \\nthat the opposition failed to follow through on promises made at the \\nsummit. ``If those results are strictly respected, there seems no \\nreason to hold another summit,'' Hun Sen said in a speech on the anniversary \\nof the 1991 Paris Peace Accords. Sihanouk is reportedly set to fly \\nto Beijing next month to receive medical treatment from his Chinese \\ndoctors. The 75-year-old monarch suffers from a variety ailments and \\nperiodically makes extended trips to Beijing. He was diagnosed with \\ncolon cancer in 1993, but it has since gone into remission. In September, \\nthousands of people filled the streets of Phnom Penh to protest against \\nthe alleged election fraud. Hun Sen ordered police to break up the \\ndemonstrations. At least four demonstrators were killed by police, \\nbut the discovery of more than 20 bodies in the aftermath has prompted \\nspeculation that the death tally could be much higher. In his speech, \\nHun Sen blamed the violence on opposition leaders, saying the demonstrations \\ninstigated social and economic chaos. \\n\\nCambodia's two-party opposition asked the Asian Development Bank Monday \\nto stop providing loans to the incumbent government, which it calls \\nillegal. Negotiations to form the next government have become deadlocked, \\nand opposition party leaders Prince Norodom Ranariddh and Sam Rainsy \\nare out of the country following threats of arrest from strongman \\nHun Sen. Hun Sen complained Monday that the opposition was trying \\nto make its members' return an international issue. Hun Sen's ruling \\nparty narrowly won a majority in elections in July, but the opposition \\n_ claiming widespread intimidation and fraud _ has denied Hun Sen \\nthe two-thirds vote in parliament required to approve the next government. \\nMeanwhile, it says, the old government is holding power illegally. \\nRanariddh and Sam Rainsy renewed their international lobbying campaign \\nagainst the old government Monday in a letter to ADB President Mitsuo \\nSato calling for the bank to stop lending money to it. ``We respectfully \\nadvise the Asian Development Bank not to provide any new loans to \\nthe current regime in Cambodia,'' the two party leaders wrote. ``At \\nbest the current regime could be considered a caretaker government \\nas it has not been approved by the National Assembly.'' After a meeting \\nbetween Hun Sen and the new French ambassador to Cambodia, Hun Sen \\naide Prak Sokhonn said the Cambodian leader had repeated calls for \\nthe opposition to return, but expressed concern that the international \\ncommunity may be asked for security guarantees. ``There have been \\nreports that there is an attempt to internationalize the return of \\nthose members of parliament on the excuse of security problems,'' \\nPrak Sokhonn said. ``Some (opposition politicians) have wanted the \\nUnited Nations to help guarantee a safe return for them.'' The U.N. \\nsecretary-general's representative office in Phnom Penh provided monitors \\nto opposition politicians after they returned to Cambodia to participate \\nin the July election. The monitoring ended Sept. 30. ``Our office \\nhas not received any official request for that operation to be started \\nup again,'' U.N. diplomat Jonathan Prentice said Monday in reaction \\nto Prak Sokhonn's statement. The opposition has insisted that any \\nfurther talks on the next government must take place outside the country, \\nbut the ruling party has rejected allegations of intimidation and \\nrecently guaranteed opposition members' safety inside the country. \\nDiplomatic efforts to revive the stalled talks appeared to bear fruit \\nMonday as Japanese Foreign Affairs Secretary of State Nobutaka Machimura \\nsaid King Norodom Sihanouk has called on Ranariddh and Sam Rainsy \\nto return to Cambodia. Less than two weeks after abandoning hope that \\nhe could influence the parties to reach a compromise, Sihanouk is \\nnow ``strongly interested'' in presiding over a summit meeting of \\nthe three party leaders in Cambodia, Machimura said. \\n\\nCambodia's ruling party responded Tuesday to criticisms of its leader \\nin the U.S. Congress with a lengthy defense of strongman Hun Sen's \\nhuman rights record. The Cambodian People's Party criticized a non-binding \\nresolution passed earlier this month by the U.S. House of Representatives \\ncalling for an investigation into violations of international humanitarian \\nlaw allegedly committed by Hun Sen. Events mentioned in the resolution \\ninclude Hun Sen's coup last year against his co-prime minister, Prince \\nNorodom Ranariddh, and his violent crackdown in September against \\nanti-government demonstrations. A copy of the resolution has since \\nbeen submitted to the U.S. Senate Committee on Foreign Relations. \\n``The CPP would like to launch an appeal to U.S. senators to wisely \\nand realistically consider this draft resolution and give justice \\nto the CPP, Hun Sen and the Cambodian people by not approving it,'' \\nthe party said in a statement. It defended Hun Sen's ouster of Ranariddh \\nas a proper response to the prince's attempts at the time to negotiate \\nthe defections of senior Khmer Rouge rebels. It also repeated claims \\nthat the prince's party had moved rebel soldiers into Phnom Penh, \\na contention that remains unproved. The killings of nearly 100 of \\nRanariddh's supporters documented by U.N. human rights workers in \\nthe aftermath of the coup were dismissed by the CPP as mostly fabrications \\nmeant to distort the political situation. Ranariddh and his core supporters \\ndid not return to Cambodia until a few months before an election in \\nJuly this year that the ruling party narrowly won. Ranariddh and his \\nopposition ally, Sam Rainsy, refused to accept the election results, \\nalleging widespread intimidation and fraud by the CPP. When their \\nclaims were dismissed by a Hun Sen-friendly court, they rallied their \\nsupporters into the streets of Phnom Penh. After two weeks of tolerating \\nthe demonstrations, Hun Sen ordered a violent crackdown that resulted \\nin the deaths of at least four protesters. U.N. human rights workers \\nlater discovered more than 20 bodies _ many bearing signs of torture \\n_ in and around the capital, prompting speculation that the death \\ntoll could be much higher. The ruling party supported the police action \\nin its statement, noting that public property was damaged by protesters \\nand that grenades were thrown at Hun Sen's home after Sam Rainsy suggested \\nin a speech that the U.S. government should fire cruise missiles at \\nHun Sen. The opposition claims the grenade attack was staged as an \\nexcuse to begin the crackdown. ``The leaders of illegal demonstrations \\nare the ones who must bear responsibility for the consequences deriving \\nfrom the protest,'' the CPP said Tuesday, referring to the deadly \\nviolence as ``minor incidents.'' The ruling party also reminded the \\nUnited States that Washington supported a Cambodian exile government \\ndominated by the brutal Khmer Rouge in the 1980s. The Khmer Rouge \\nwas responsible for the deaths of as many as 2 million people during \\nthe guerrilla group's 1975-79 rule of Cambodia. After a series of \\nborder clashes, the Khmer Rouge was ousted from power by an invading \\nVietnamese army that set up a surrogate Cambodian communist government \\nlater led by Hun Sen. The ruling party accused U.S. policy-makers \\nof not taking timely action to save the Cambodian people from the \\nKhmer Rouge. ``They must not make unjust accusations against those \\nwho led the struggle to liberate the people from genocide,'' it added. \\n\\nCambodia's leading opposition party ruled out sharing the presidency \\nof Parliament with its arch foe Saturday, insisting it alone must \\noccupy the top position in the legislative body. Disputes over the \\npresidency have been a major stumbling block in talks between the \\ntwo-party opposition bloc and the Cambodian People's Party to form \\na new government. Cambodian leader Hun Sen, who heads the CPP, has \\noffered to share the legislature's top job with the royalist FUNCINPEC \\nparty of Prince Norodom Ranariddh in order to break the impasse. The \\nprince's party, in a statement dated Friday and seen Saturday, said \\nsuch a scenario was unconstitutional. ``Co-sharing anything with the \\nCPP means surrendering full power to them. Furthermore, such a proposal \\nis unconstitutional,'' the faxed statement said. The royalist party \\nalso rejected Hun Sen's calls to hold bilateral talks, insisting that \\nRanariddh's main ally Sam Rainsy also be included. ``No party with \\nseats at the National Assembly should be left out if transparency \\nand a check and balance system is to be used in government,'' the \\nstatement said, adding that the Sam Rainsy Party should also be given \\nchairmanship of one of the national assembly's nine commissions. Noting \\nthat FUNCINPEC allowed the CPP to hold the presidency despite its \\nwin in the 1993 general elections, the statement said it was now its \\nturn to take the post. In the most recent elections, held in July, \\nHun Sen's party collected 64 of the 122 parliamentary seats, but was \\nshort of the two-thirds majority needed to set up a new government. \\nFearing arrest, many opposition members of Parliament left Cambodia \\nafter the ceremonial opening of the National Assembly on Sep. 24. \\nA series of negotiations to forge a new government have failed. The \\ntalks have been complicated by the CPP-FUNCINPEC quarrel over the \\nParliament's top job. Hun Sen's party recently called on Ranariddh \\nto return to the negotiation table and said it was willing to make \\nan ``appropriate concession'' to break the deadlock over forming a \\ngovernment. FUNCINPEC has demanded from Hun Sen written guarantees \\nfor the safety of its members and activities as a precondition for \\nre-entering negotiations. \\n\\nCambodia's bickering political parties broke a three-month deadlock \\nFriday and agreed to a coalition government leaving strongman Hun \\nSen as sole prime minister, King Norodom Sihanouk announced. In a \\nlong-elusive compromise, opposition leader Prince Norodom Ranariddh \\nwill become president of the National Assembly resulting from disputed \\nelections in July, even though Hun Sen's party holds a majority of \\n64 seats in the 122-member chamber. Hun Sen's Cambodian People's Party \\ndropped insistence on a joint assembly chairmanship shared by Ranariddh \\nand party boss Chea Sim, the current speaker. It was one of the main \\nstumbling blocks in months of discord. Instead, Sihanouk announced, \\nthe constitution will be modified to create a new Senate, which Chea \\nSim will head. Chea Sim will still serve as acting head of state during \\nthe king's frequent absences from the country. ``The major political \\ncrisis in the country has been resolved and the political deadlock \\nfacing the nation has also come to an end,'' the king said in his \\nstatement. The Senate will initially be appointed by the king. The \\nagreement did not say how many seats there would be, nor how they \\nwould be divided. The parties will hammer out details later. Pok Than, \\none of Ranariddh's negotiators, said the Senate would serve a mostly \\nadvisory role to the assembly. The senior Senate leaders will join \\nthose of the assembly, the prime minister and the country's top two \\nBuddhist monks in a delicate balance of power on the council that \\nwill choose Cambodia's next king after Sihanouk dies. The two parties \\nsaid that the assembly would convene again Nov. 25. The agreement \\ncame surprisingly quickly following Ranariddh's return Thursday from \\nThailand, where he had been holed up with other opposition figures \\nfor weeks amid fears for their safety if they stayed in Cambodia. \\nThe deal should allow rapid formation of a government between the \\nCPP and Ranariddh's royalist FUNCINPEC to allow international donors \\nand businesses to again operate in the poverty-stricken country, which \\nis in desperate need of aid. It could also hasten Cambodia's entry \\ninto the Association of Southeast Asian Nations, put on hold last \\nyear after Hun Sen deposed Ranariddh as co-prime minister in a bloody \\ncoup. Earlier, as both sides arrived at the Royal Palace for a second \\nday of meetings, Sihanouk said they had agreed in principle to form \\na coalition and made ``important concessions.'' The king, the sole \\nforce in Cambodian politics able to broker a deal, pressured both \\nsides to reach agreement before he leaves Saturday for medical treatment \\nin Beijing. Sihanouk reported that Hun Sen responded positively to \\na request by Ranariddh for five of his key supporters to receive political \\npardons. All five were convicted of political crimes by courts that \\nare widely seen as loyal to Hun Sen. The king has powers to grant \\npardons, but has awaited agreement from Hun Sen in politically sensitive \\ncases. Former battlefield enemies, the CPP and FUNCINPEC have been \\nat loggerheads since the CPP narrowly won parliamentary elections \\nin July. The vote failed to put an end to instability that followed \\nlast year's coup. The CPP fell short of the two-thirds majority needed \\nto form a government alone. Ranariddh's party and opposition ally \\nSam Rainsy held back their support, claiming the CPP won due to fraud \\nand intimidation. The opposition organized protests in Phnom Penh \\nseeking Hun Sen's ouster that were violently dispersed. Sam Rainsy, \\nunder investigation by a Phnom Penh court for his role in the demonstrations, \\nhas remained abroad. His 15 seats in the 122-seat assembly are irrelevant \\nto forming a working government. \\n\\nCambodian politicians expressed hope Monday that a new partnership \\nbetween the parties of strongman Hun Sen and his rival, Prince Norodom \\nRanariddh, in a coalition government would not end in more violence. \\nHun Sen and Ranariddh, co-prime ministers in a coalition formed in \\n1993 after a landmark U.N.-sponsored election, often clashed over \\npower-sharing and the integration of guerrilla fighters from the crumbling \\nKhmer Rouge. Their arguments turned bloody last year when Hun Sen \\nousted Ranariddh in a coup. The prince fled Cambodia and did not return \\nuntil a few months before elections in July. Hun Sen's Cambodian People's \\nParty narrowly won the polls, but a strong second-place finish by \\nRanariddh's FUNCINPEC gave the royalist party leverage in post-election \\nnegotiations. After a three-month impasse, they agreed last week to \\na coalition deal that will make Hun Sen sole prime minister and Ranariddh \\npresident of the National Assembly. ``This will not be a repetition \\nof 1993 because there will not be two prime ministers,'' said Hun \\nSen aide Prak Sokhon, who attended last week's summit. ``When we had \\ntwo prime ministers, everything moved very slowly and decisions were \\nmade more politically than technically.'' Ranariddh said Saturday \\nthat the two parties agreed to keep the ministries of interior and \\ndefense under co-ministers. Senior FUNCINPEC official Ahmad Yahya \\nrevealed Monday that it was also agreed that the CPP would control \\nthe foreign affairs and finance portfolios. FUNCINPEC will take justice \\nand information. The parties are to form working groups this week \\nto divide remaining government posts and draft a constitutional amendment \\nto form a new Senate. Hun Sen and Ranariddh are scheduled to meet \\nNov. 23 _ two days before parliament reopens _ to review the results \\nof the working groups and give their final approval, Ahmad Yahya said. \\nTheir ability to repair their relationship and work together will \\nbe the key to a stable coalition. ``I consider this a remarriage,'' \\nAhmad Yahya said. ``They have to be careful with the way they work \\nand what they say. They will have to compromise to achieve results.'' \\nRanariddh's ally, Sam Rainsy, whose party placed a distant third in \\nthe election, was left out of last week's deal. Sam Rainsy, a virulent \\ncritic of Hun Sen, and his party's 14 other members of parliament \\nhave remained outside Cambodia since September amid fears for their \\nsecurity. In a letter to King Norodom Sihanouk released Monday, Sam \\nRainsy complained that Hun Sen had not responded to his queries on \\nsecurity, making it unsafe for his people to return for the reconvening \\nof parliament. Sam Rainsy said he had been told by Ranariddh that \\nhis party and former Khmer Rouge guerrillas had been implicated by \\nHun Sen in a rocket attack on the Sept. 24 opening of parliament. \\nAuthorities have called it an assassination attempt on Hun Sen. A \\npolice general investigating the attack said Monday that likely suspects \\nhave been identified, but he would not reveal names or their political \\naffiliation. \\n\\nCambodian leader Hun Sen has guaranteed the safety and political freedom \\nof all politicians, trying to ease the fears of his rivals that they \\nwill be arrested or killed if they return to the country. The assurances \\nwere aimed especially at Sam Rainsy, leader of a vocally anti-Hun \\nSen opposition party, who was forced to take refuge in the U.N. offices \\nin September to avoid arrest after Hun Sen accused him of being behind \\na plot against his life. Sam Rainsy and the 14 members of parliament \\nfrom his party have been holed up overseas for two months. But a deal \\nreached between Hun Sen and his chief rival, Prince Norodom Ranariddh, \\non forming a new government last week has opened the door for their \\nreturn. In a letter to King Norodom Sihanouk _ the prince's father \\nand Cambodia's head of state _ that was broadcast on television Tuesday, \\nHun Sen said that guarantees of safety extended to Ranariddh applied \\nto all politicians. His assurances come a week before the first session \\nof Cambodia's new parliament, the National Assembly. Sam Rainsy said \\nWednesday that he was unsatisfied with the guarantee. He said it contained \\nindirect language and loopholes that suggest he and his Sam Rainsy \\nParty members are still under threat of arrest from Hun Sen's ruling \\nparty. ``It should be easy for them to say, `Rainsy and the SRP members \\nof the assembly have no charges against them and will not be arrested,''' \\nthe opposition leader said in a statement. ``But instead they make \\nroundabout statements, full of loopholes that can easily be exploited \\nby a legal system that is completely in their control.'' Ranariddh \\ntold reporters Wednesday that he believed it was safe for Sam Rainsy \\nin Cambodia. Speaking upon his return from a brief stay in Bangkok, \\nthe prince said he would soon meet with Hun Sen to discuss the apportioning \\nof ministries in the new coalition government. Last week, Hun Sen's \\nCambodian People's Party and Ranariddh's FUNCINPEC party agreed to \\nform a coalition that would leave Hun Sen as sole prime minister and \\nmake the prince president of the National Assembly. The deal assures \\nthe two-thirds vote in parliament needed to approve a new government. \\nThe men served as co-prime ministers until Hun Sen overthrew Ranariddh \\nin a coup last year. ``I think Hun Sen has got everything. He's got \\nthe premiership and legitimacy through the election and recognition \\nfrom his majesty the king. I don't think there is any benefit for \\nHun Sen to cause instability for our country,'' Ranariddh said. The \\nprince also said that his top general, Nhek Bunchhay, would not be \\ngiven back his previous position as the second-ranking general in \\nthe Cambodian military's general staff. Nhek Bunchhay's outnumbered \\nforces in the capital put up tough but unsuccessful resistance to \\nlast year's coup. \\n\\nWorried that party colleagues still face arrest for their politics, \\nopposition leader Sam Rainsy sought further clarification Friday of \\nsecurity guarantees promised by strongman Hun Sen. Sam Rainsy wrote \\nin a letter to King Norodom Sihanouk that he was eager to attend the \\nfirst session of the new National Assembly on Nov. 25, but complained \\nthat Hun Sen's assurances were not strong enough to ease concerns \\nhis party members may be arrested upon their return to Cambodia. Hun \\nSen announced a government guarantee Wednesday of all politicians' \\nsafety and their right to conduct political activities ``in accordance \\nwith the laws in force.'' Sam Rainsy, who earlier called Hun Sen's \\nstatement ``full of loopholes,'' asked Sihanouk for his help in obtaining \\na promise from Hun Sen that all members of the Sam Rainsy Party were \\nfree from prosecution for their political activities during and after \\nlast July's election. Sam Rainsy, a staunch critic of Hun Sen, was \\nforced to take refuge in a U.N. office in September to avoid arrest \\nafter Hun Sen accused him of being behind a plot against his life. \\nThe alleged assassination attempt came during massive street demonstrations \\norganized by the opposition after Hun Sen's Cambodian People's Party \\nnarrowly won the election. The opposition, alleging widespread fraud \\nand intimidation, refused to accept the results of the polls. Fearing \\nfor their safety, Sam Rainsy and his then-ally Prince Norodom Ranariddh \\nled an exodus of opposition lawmakers out of Cambodia after parliament \\nwas ceremonially opened in late September. Ranariddh, whose FUNCINPEC \\nparty finished a close second in the election, returned last week \\nand struck a deal with Hun Sen to form a coalition government. The \\nagreement will make Hun Sen prime minister and Ranariddh president \\nof the National Assembly. The two parties have formed three working \\ngroups to hammer out details of the agreement, including the establishment \\nof a Senate to be the upper house of parliament. Sok An, representing \\nHun Sen's party, said Friday that one working group had completed \\nits work on a joint political platform to be implemented by the new \\ngovernment. The platform is said to emphasize administrative, economic \\nand judicial reforms, but Sok An would not reveal details, saying \\nHun Sen would announce it when he presents his Cabinet choices to \\nthe National Assembly. \\n\\nKing Norodom Sihanouk on Tuesday praised agreements by Cambodia's \\ntop two political parties _ previously bitter rivals _ to form a coalition \\ngovernment led by strongman Hun Sen. In a short letter sent to news \\nagencies, the king said he had received copies of cooperation agreements \\nsigned Monday that will place Hun Sen and his Cambodian People's Party \\nin firm control of fiscal and administrative functions in the government. \\n``The protocol on cooperation between the CPP and FUNCINPEC will certainly \\nbring peace and progress to our nation and people,'' Sihanouk wrote. \\nUncompromising enemies just a few months ago, Hun Sen and FUNCINPEC \\nPresident Prince Norodom Ranariddh agreed Nov. 13 to form a government \\nat a summit convened by Sihanouk. The deal, which will make Hun Sen \\nprime minister and Ranariddh president of the National Assembly, ended \\nmore than three months of political deadlock that followed a July \\nelection narrowly won by Hun Sen. Key to the agreement was the formation \\nof a Senate as the upper house of Parliament, to be led by CPP President \\nChea Sim, the outgoing head of the National Assembly. Sihanouk, recalling \\nprocedures used in a past government, suggested Tuesday that he should \\nappoint the first two members of the upper house. The remaining senators, \\nhe said, should be selected by a method agreed upon by the new government \\nand the National Assembly. Hun Sen said Monday that the CPP and FUNCINPEC \\nhad agreed that the Senate would be half as large as the 122-seat \\nNational Assembly. Other details of the Senate, including how much \\npower it will be given in the promulgation of legislation, have yet \\nto be ironed out by the two parties. \\n\""
      ]
     },
     "execution_count": 55,
     "metadata": {},
     "output_type": "execute_result"
    }
   ],
   "source": [
    "\"\".join(list_of_articles)"
   ]
  },
  {
   "cell_type": "code",
   "execution_count": 46,
   "metadata": {},
   "outputs": [
    {
     "data": {
      "text/html": [
       "<div>\n",
       "<style scoped>\n",
       "    .dataframe tbody tr th:only-of-type {\n",
       "        vertical-align: middle;\n",
       "    }\n",
       "\n",
       "    .dataframe tbody tr th {\n",
       "        vertical-align: top;\n",
       "    }\n",
       "\n",
       "    .dataframe thead th {\n",
       "        text-align: right;\n",
       "    }\n",
       "</style>\n",
       "<table border=\"1\" class=\"dataframe\">\n",
       "  <thead>\n",
       "    <tr style=\"text-align: right;\">\n",
       "      <th></th>\n",
       "      <th>0</th>\n",
       "    </tr>\n",
       "  </thead>\n",
       "  <tbody>\n",
       "    <tr>\n",
       "      <th>0</th>\n",
       "      <td>\\nCambodian leader Hun Sen on Friday rejected ...</td>\n",
       "    </tr>\n",
       "    <tr>\n",
       "      <th>1</th>\n",
       "      <td>\\nKing Norodom Sihanouk has declined requests ...</td>\n",
       "    </tr>\n",
       "    <tr>\n",
       "      <th>2</th>\n",
       "      <td>\\nCambodia's two-party opposition asked the As...</td>\n",
       "    </tr>\n",
       "    <tr>\n",
       "      <th>3</th>\n",
       "      <td>\\nCambodia's ruling party responded Tuesday to...</td>\n",
       "    </tr>\n",
       "    <tr>\n",
       "      <th>4</th>\n",
       "      <td>\\nCambodia's leading opposition party ruled ou...</td>\n",
       "    </tr>\n",
       "    <tr>\n",
       "      <th>5</th>\n",
       "      <td>\\nCambodia's bickering political parties broke...</td>\n",
       "    </tr>\n",
       "    <tr>\n",
       "      <th>6</th>\n",
       "      <td>\\nCambodian politicians expressed hope Monday ...</td>\n",
       "    </tr>\n",
       "    <tr>\n",
       "      <th>7</th>\n",
       "      <td>\\nCambodian leader Hun Sen has guaranteed the ...</td>\n",
       "    </tr>\n",
       "    <tr>\n",
       "      <th>8</th>\n",
       "      <td>\\nWorried that party colleagues still face arr...</td>\n",
       "    </tr>\n",
       "    <tr>\n",
       "      <th>9</th>\n",
       "      <td>\\nKing Norodom Sihanouk on Tuesday praised agr...</td>\n",
       "    </tr>\n",
       "  </tbody>\n",
       "</table>\n",
       "</div>"
      ],
      "text/plain": [
       "                                                   0\n",
       "0  \\nCambodian leader Hun Sen on Friday rejected ...\n",
       "1  \\nKing Norodom Sihanouk has declined requests ...\n",
       "2  \\nCambodia's two-party opposition asked the As...\n",
       "3  \\nCambodia's ruling party responded Tuesday to...\n",
       "4  \\nCambodia's leading opposition party ruled ou...\n",
       "5  \\nCambodia's bickering political parties broke...\n",
       "6  \\nCambodian politicians expressed hope Monday ...\n",
       "7  \\nCambodian leader Hun Sen has guaranteed the ...\n",
       "8  \\nWorried that party colleagues still face arr...\n",
       "9  \\nKing Norodom Sihanouk on Tuesday praised agr..."
      ]
     },
     "execution_count": 46,
     "metadata": {},
     "output_type": "execute_result"
    }
   ],
   "source": [
    "pd.DataFrame(list_of_articles)"
   ]
  },
  {
   "cell_type": "code",
   "execution_count": 18,
   "metadata": {},
   "outputs": [],
   "source": [
    "df = pd.DataFrame(list(zip(list_of_articles, list_of_summaries)),\n",
    "               columns =['Articles', 'Summaries'])\n",
    "#df.to_csv(\"BBC_Dataset.csv\")"
   ]
  },
  {
   "cell_type": "code",
   "execution_count": 19,
   "metadata": {},
   "outputs": [
    {
     "data": {
      "text/html": [
       "<div>\n",
       "<style scoped>\n",
       "    .dataframe tbody tr th:only-of-type {\n",
       "        vertical-align: middle;\n",
       "    }\n",
       "\n",
       "    .dataframe tbody tr th {\n",
       "        vertical-align: top;\n",
       "    }\n",
       "\n",
       "    .dataframe thead th {\n",
       "        text-align: right;\n",
       "    }\n",
       "</style>\n",
       "<table border=\"1\" class=\"dataframe\">\n",
       "  <thead>\n",
       "    <tr style=\"text-align: right;\">\n",
       "      <th></th>\n",
       "      <th>Articles</th>\n",
       "      <th>Summaries</th>\n",
       "    </tr>\n",
       "  </thead>\n",
       "  <tbody>\n",
       "    <tr>\n",
       "      <th>0</th>\n",
       "      <td>\\nCambodian leader Hun Sen on Friday rejected ...</td>\n",
       "      <td>Prospects were dim for resolution of the polit...</td>\n",
       "    </tr>\n",
       "    <tr>\n",
       "      <th>1</th>\n",
       "      <td>\\nKing Norodom Sihanouk on Tuesday praised agr...</td>\n",
       "      <td>Cambodian prime minister Hun Sen rejects deman...</td>\n",
       "    </tr>\n",
       "    <tr>\n",
       "      <th>2</th>\n",
       "      <td>\\nKing Norodom Sihanouk has declined requests ...</td>\n",
       "      <td>Cambodia King Norodom Sihanouk praised formati...</td>\n",
       "    </tr>\n",
       "    <tr>\n",
       "      <th>3</th>\n",
       "      <td>\\nCambodia's two-party opposition asked the As...</td>\n",
       "      <td>Cambodian elections, fraudulent according to o...</td>\n",
       "    </tr>\n",
       "  </tbody>\n",
       "</table>\n",
       "</div>"
      ],
      "text/plain": [
       "                                            Articles  \\\n",
       "0  \\nCambodian leader Hun Sen on Friday rejected ...   \n",
       "1  \\nKing Norodom Sihanouk on Tuesday praised agr...   \n",
       "2  \\nKing Norodom Sihanouk has declined requests ...   \n",
       "3  \\nCambodia's two-party opposition asked the As...   \n",
       "\n",
       "                                           Summaries  \n",
       "0  Prospects were dim for resolution of the polit...  \n",
       "1  Cambodian prime minister Hun Sen rejects deman...  \n",
       "2  Cambodia King Norodom Sihanouk praised formati...  \n",
       "3  Cambodian elections, fraudulent according to o...  "
      ]
     },
     "execution_count": 19,
     "metadata": {},
     "output_type": "execute_result"
    }
   ],
   "source": [
    "df.head()"
   ]
  },
  {
   "cell_type": "code",
   "execution_count": null,
   "metadata": {},
   "outputs": [],
   "source": []
  }
 ],
 "metadata": {
  "kernelspec": {
   "display_name": "Python 3",
   "language": "python",
   "name": "python3"
  },
  "language_info": {
   "codemirror_mode": {
    "name": "ipython",
    "version": 3
   },
   "file_extension": ".py",
   "mimetype": "text/x-python",
   "name": "python",
   "nbconvert_exporter": "python",
   "pygments_lexer": "ipython3",
   "version": "3.10.0"
  },
  "orig_nbformat": 4,
  "vscode": {
   "interpreter": {
    "hash": "480c14cd519d4cac626ed4e2ff26eb76a48d8461070c1f960eb23b2ab109b24d"
   }
  }
 },
 "nbformat": 4,
 "nbformat_minor": 2
}
