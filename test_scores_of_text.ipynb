{
 "cells": [
  {
   "cell_type": "code",
   "execution_count": 1,
   "metadata": {},
   "outputs": [],
   "source": [
    "from efficiency_scores import*\n",
    "from preprocessing_algorithms import*"
   ]
  },
  {
   "cell_type": "code",
   "execution_count": 2,
   "metadata": {},
   "outputs": [
    {
     "data": {
      "text/plain": [
       "\"Prospects were dim for resolution of the political crisis in Cambodia in October 1998.\\r\\nPrime Minister Hun Sen insisted that talks take place in Cambodia while opposition leaders Ranariddh and Sam Rainsy, fearing arrest at home, wanted them abroad.\\r\\nKing Sihanouk declined to chair talks in either place.\\r\\nA U.S. House resolution criticized Hun Sen's regime while the opposition tried to cut off his access to loans.\\r\\nBut in November the King announced a coalition government with Hun Sen heading the executive and Ranariddh leading the parliament.\\r\\nLeft out, Sam Rainsy sought the King's assurance of Hun Sen's promise of safety and freedom for all politicians.\\r\\n\""
      ]
     },
     "execution_count": 2,
     "metadata": {},
     "output_type": "execute_result"
    }
   ],
   "source": [
    "import pandas as pd\n",
    "data = pd.read_csv('DUC/Duc_first_reference/main_dataset/Duc_dataset_first_ref_summary.csv')\n",
    "text = data.iloc[0,1]\n",
    "text"
   ]
  },
  {
   "cell_type": "code",
   "execution_count": 3,
   "metadata": {},
   "outputs": [],
   "source": [
    "text = '''\n",
    "The Cambodian People's Party criticized a non-binding \n",
    "resolution passed earlier this month by the U.S. House of Representatives \n",
    "calling for an investigation into violations of international humanitarian \n",
    "law allegedly committed by Hun Sen. Events mentioned in the resolution \n",
    "include Hun Sen's coup last year against his co-prime minister, Prince \n",
    "Norodom Ranariddh, and his violent crackdown in September against \n",
    "anti-government demonstrations.Worried that party colleagues still face arrest for their politics, \n",
    "opposition leader Sam Rainsy sought further clarification Friday of \n",
    "security guarantees promised by strongman Hun Sen. Sam Rainsy wrote \n",
    "in a letter to King Norodom Sihanouk that he was eager to attend the \n",
    "first session of the new National Assembly on Nov. 25, but complained \n",
    "that Hun Sen's assurances were not strong enough to ease concerns \n",
    "his party members may be arrested upon their return to Cambodia.The deal, which will make Hun Sen \n",
    "prime minister and Ranariddh president of the National Assembly, ended \n",
    "more than three months of political deadlock that followed a July \n",
    "election narrowly won by Hun Sen. Key to the agreement was the formation \n",
    "of a Senate as the upper house of Parliament, to be led by CPP President \n",
    "Chea Sim, the outgoing head of the National Assembly.``Papa will not preside over any summit meeting between the three \n",
    "parties, whether it is held in Phnom Penh or Beijing, because such \n",
    "a meeting will certainly achieve no result,'' Sihanouk wrote in an \n",
    "Oct. 17 letter to his son, Prince Norodom Ranariddh, leader of the \n",
    "senior opposition FUNCINPEC party.Citing Hun Sen's threats to arrest \n",
    "opposition politicians following two alleged attempts on his life, \n",
    "Ranariddh and Sam Rainsy have said they do not feel safe negotiating \n",
    "inside the country and asked the king to chair the summit at his residence \n",
    "in Beijing.\n",
    "'''"
   ]
  },
  {
   "cell_type": "code",
   "execution_count": 4,
   "metadata": {},
   "outputs": [],
   "source": [
    "summary = '''\n",
    "\"Prospects were dim for resolution of the political crisis in Cambodia in October 1998.\n",
    "Prime Minister Hun Sen insisted that talks take place in Cambodia while opposition leaders Ranariddh and Sam Rainsy, fearing arrest at home, wanted them abroad.\n",
    "King Sihanouk declined to chair talks in either place.\n",
    "A U.S. House resolution criticized Hun Sen's regime while the opposition tried to cut off his access to loans.\n",
    "But in November the King announced a coalition government with Hun Sen heading the executive and Ranariddh leading the parliament.\n",
    "Left out, Sam Rainsy sought the King's assurance of Hun Sen's promise of safety and freedom for all politicians.\"\n",
    "'''"
   ]
  },
  {
   "cell_type": "code",
   "execution_count": 8,
   "metadata": {},
   "outputs": [],
   "source": [
    "sentences,filtered_sentences = preprocessing_text_with_spacy(text,remove_stopwords=True,lemmatization= True)"
   ]
  },
  {
   "cell_type": "code",
   "execution_count": 5,
   "metadata": {},
   "outputs": [
    {
     "data": {
      "text/plain": [
       "{'rouge1_fmeasure': tensor(0.3245),\n",
       " 'rouge1_precision': tensor(0.2211),\n",
       " 'rouge1_recall': tensor(0.6091),\n",
       " 'rouge2_fmeasure': tensor(0.0876),\n",
       " 'rouge2_precision': tensor(0.0596),\n",
       " 'rouge2_recall': tensor(0.1651),\n",
       " 'rougeL_fmeasure': tensor(0.1501),\n",
       " 'rougeL_precision': tensor(0.1023),\n",
       " 'rougeL_recall': tensor(0.2818),\n",
       " 'rougeLsum_fmeasure': tensor(0.2760),\n",
       " 'rougeLsum_precision': tensor(0.1881),\n",
       " 'rougeLsum_recall': tensor(0.5182)}"
      ]
     },
     "execution_count": 5,
     "metadata": {},
     "output_type": "execute_result"
    }
   ],
   "source": [
    "calculate_efficiency(text,summary)"
   ]
  }
 ],
 "metadata": {
  "kernelspec": {
   "display_name": "Python 3",
   "language": "python",
   "name": "python3"
  },
  "language_info": {
   "codemirror_mode": {
    "name": "ipython",
    "version": 3
   },
   "file_extension": ".py",
   "mimetype": "text/x-python",
   "name": "python",
   "nbconvert_exporter": "python",
   "pygments_lexer": "ipython3",
   "version": "3.10.0"
  },
  "orig_nbformat": 4
 },
 "nbformat": 4,
 "nbformat_minor": 2
}
