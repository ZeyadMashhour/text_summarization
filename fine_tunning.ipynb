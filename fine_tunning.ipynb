{
 "cells": [
  {
   "cell_type": "code",
   "execution_count": 3,
   "metadata": {},
   "outputs": [
    {
     "name": "stderr",
     "output_type": "stream",
     "text": [
      "c:\\Users\\Zeyad\\AppData\\Local\\Programs\\Python\\Python310\\lib\\site-packages\\tqdm\\auto.py:22: TqdmWarning: IProgress not found. Please update jupyter and ipywidgets. See https://ipywidgets.readthedocs.io/en/stable/user_install.html\n",
      "  from .autonotebook import tqdm as notebook_tqdm\n",
      "Downloading builder script: 100%|██████████| 8.33k/8.33k [00:00<00:00, 1.67MB/s]\n",
      "Downloading metadata: 100%|██████████| 9.88k/9.88k [00:00<00:00, 5.03MB/s]\n",
      "Downloading readme: 100%|██████████| 15.1k/15.1k [00:00<00:00, 3.02MB/s]\n"
     ]
    },
    {
     "name": "stdout",
     "output_type": "stream",
     "text": [
      "Downloading and preparing dataset cnn_dailymail/3.0.0 to C:/Users/Zeyad/.cache/huggingface/datasets/cnn_dailymail/3.0.0/3.0.0/1b3c71476f6d152c31c1730e83ccb08bcf23e348233f4fcc11e182248e6bf7de...\n"
     ]
    },
    {
     "name": "stderr",
     "output_type": "stream",
     "text": [
      "Downloading data: 100%|██████████| 159M/159M [00:45<00:00, 3.52MB/s]\n",
      "Downloading data: 100%|██████████| 376M/376M [01:48<00:00, 3.47MB/s]]\n",
      "Downloading data: 46.4MB [00:03, 13.7MB/s]/5 [02:35<04:10, 83.43s/it]\n",
      "Downloading data: 2.43MB [00:00, 6.45MB/s]/5 [02:43<01:37, 48.92s/it]\n",
      "Downloading data: 2.11MB [00:02, 968kB/s] /5 [02:45<00:30, 30.32s/it]\n",
      "Downloading data files: 100%|██████████| 5/5 [02:48<00:00, 33.72s/it]\n",
      "                                                                                           \r"
     ]
    },
    {
     "name": "stdout",
     "output_type": "stream",
     "text": [
      "Dataset cnn_dailymail downloaded and prepared to C:/Users/Zeyad/.cache/huggingface/datasets/cnn_dailymail/3.0.0/3.0.0/1b3c71476f6d152c31c1730e83ccb08bcf23e348233f4fcc11e182248e6bf7de. Subsequent calls will reuse this data.\n"
     ]
    },
    {
     "name": "stderr",
     "output_type": "stream",
     "text": [
      "100%|██████████| 3/3 [00:00<00:00,  9.65it/s]\n"
     ]
    }
   ],
   "source": [
    "from datasets import load_dataset\n",
    "\n",
    "dataset = load_dataset('cnn_dailymail', '3.0.0')"
   ]
  },
  {
   "cell_type": "code",
   "execution_count": 4,
   "metadata": {},
   "outputs": [
    {
     "data": {
      "text/plain": [
       "DatasetDict({\n",
       "    train: Dataset({\n",
       "        features: ['article', 'highlights', 'id'],\n",
       "        num_rows: 287113\n",
       "    })\n",
       "    validation: Dataset({\n",
       "        features: ['article', 'highlights', 'id'],\n",
       "        num_rows: 13368\n",
       "    })\n",
       "    test: Dataset({\n",
       "        features: ['article', 'highlights', 'id'],\n",
       "        num_rows: 11490\n",
       "    })\n",
       "})"
      ]
     },
     "execution_count": 4,
     "metadata": {},
     "output_type": "execute_result"
    }
   ],
   "source": [
    "dataset"
   ]
  },
  {
   "cell_type": "code",
   "execution_count": null,
   "metadata": {},
   "outputs": [],
   "source": [
    "import torch\n",
    "import torch.optim as optim\n",
    "from torch.utils.data import DataLoader\n",
    "from transformers import BertTokenizer, BertModel\n",
    "from model import BERTSUM\n",
    "from dataset import CNNDailyMailDataset\n",
    "from train import train_fn, eval_fn\n",
    "\n",
    "# Set the random seed for PyTorch\n",
    "torch.manual_seed(42)\n",
    "\n",
    "# Initialize the BERTSUM model\n",
    "model = BERTSUM()\n",
    "model.train()\n",
    "\n",
    "# Load pre-trained BERT weights\n",
    "model.bert = BertModel.from_pretrained('bert-base-uncased')\n",
    "\n",
    "# Set up tokenizer and data loaders\n",
    "tokenizer = BertTokenizer.from_pretrained('bert-base-uncased')\n",
    "train_dataset = CNNDailyMailDataset('train', tokenizer)\n",
    "train_loader = DataLoader(train_dataset, batch_size=10, shuffle=True)\n",
    "eval_dataset = CNNDailyMailDataset('val', tokenizer)\n",
    "eval_loader = DataLoader(eval_dataset, batch_size=10, shuffle=False)\n",
    "\n",
    "# Set up optimizer and learning rate scheduler\n",
    "optimizer = optim.Adam(model.parameters(), lr=1e-5)\n",
    "scheduler = optim.lr_scheduler.StepLR(optimizer, step_size=1, gamma=0.95)\n",
    "\n",
    "# Fine-tune BERTSUM model on CNN/Daily Mail dataset\n",
    "num_epochs = 5\n",
    "for epoch in range(num_epochs):\n",
    "    train_fn(train_loader, model, optimizer, scheduler)\n",
    "    eval_fn(eval_loader, model)\n"
   ]
  },
  {
   "cell_type": "code",
   "execution_count": null,
   "metadata": {},
   "outputs": [],
   "source": [
    "# Save fine-tuned BERTSUM model\n",
    "# model.save_pretrained('fine_tuned_bertsum_model')\n"
   ]
  },
  {
   "attachments": {},
   "cell_type": "markdown",
   "metadata": {},
   "source": [
    "import torch\n",
    "from torch.utils.data import Dataset\n",
    "\n",
    "class MyDataset(Dataset):\n",
    "    def __init__(self, data):\n",
    "        self.data = data\n",
    "        self.tokenizer = BertTokenizer.from_pretrained('bert-base-uncased')\n",
    "    \n",
    "    def __len__(self):\n",
    "        return len(self.data)\n",
    "    \n",
    "    def __getitem__(self, index):\n",
    "        text = self.data[index]['text']\n",
    "        summary = self.data[index]['summary']\n",
    "        \n",
    "        # Tokenize text and summary\n",
    "        text_encodings = self.tokenizer(text, padding='max_length', truncation=True, max_length=512, return_tensors='pt')\n",
    "        summary_encodings = self.tokenizer(summary, padding='max_length', truncation=True, max_length=128, return_tensors='pt')\n",
    "        \n",
    "        # Extract input_ids and attention_mask\n",
    "        input_ids = text_encodings['input_ids'].squeeze()\n",
    "        attention_mask = text_encodings['attention_mask'].squeeze()\n",
    "        summary_ids = summary_encodings['input_ids'].squeeze()\n",
    "        \n",
    "        return input_ids, attention_mask, summary_ids\n"
   ]
  }
 ],
 "metadata": {
  "kernelspec": {
   "display_name": "Python 3",
   "language": "python",
   "name": "python3"
  },
  "language_info": {
   "codemirror_mode": {
    "name": "ipython",
    "version": 3
   },
   "file_extension": ".py",
   "mimetype": "text/x-python",
   "name": "python",
   "nbconvert_exporter": "python",
   "pygments_lexer": "ipython3",
   "version": "3.10.5"
  },
  "orig_nbformat": 4
 },
 "nbformat": 4,
 "nbformat_minor": 2
}
