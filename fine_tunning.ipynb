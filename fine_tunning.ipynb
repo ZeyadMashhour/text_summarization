{
 "cells": [
  {
   "cell_type": "code",
   "execution_count": null,
   "metadata": {},
   "outputs": [],
   "source": [
    "import torch\n",
    "import torch.optim as optim\n",
    "from torch.utils.data import DataLoader\n",
    "from transformers import BertTokenizer, BertModel\n",
    "from model import BERTSUM\n",
    "from dataset import CNNDailyMailDataset\n",
    "from train import train_fn, eval_fn\n",
    "\n",
    "# Set the random seed for PyTorch\n",
    "torch.manual_seed(42)\n",
    "\n",
    "# Initialize the BERTSUM model\n",
    "model = BERTSUM()\n",
    "model.train()\n",
    "\n",
    "# Load pre-trained BERT weights\n",
    "model.bert = BertModel.from_pretrained('bert-base-uncased')\n",
    "\n",
    "# Set up tokenizer and data loaders\n",
    "tokenizer = BertTokenizer.from_pretrained('bert-base-uncased')\n",
    "train_dataset = CNNDailyMailDataset('train', tokenizer)\n",
    "train_loader = DataLoader(train_dataset, batch_size=10, shuffle=True)\n",
    "eval_dataset = CNNDailyMailDataset('val', tokenizer)\n",
    "eval_loader = DataLoader(eval_dataset, batch_size=10, shuffle=False)\n",
    "\n",
    "# Set up optimizer and learning rate scheduler\n",
    "optimizer = optim.Adam(model.parameters(), lr=1e-5)\n",
    "scheduler = optim.lr_scheduler.StepLR(optimizer, step_size=1, gamma=0.95)\n",
    "\n",
    "# Fine-tune BERTSUM model on CNN/Daily Mail dataset\n",
    "num_epochs = 5\n",
    "for epoch in range(num_epochs):\n",
    "    train_fn(train_loader, model, optimizer, scheduler)\n",
    "    eval_fn(eval_loader, model)\n"
   ]
  },
  {
   "cell_type": "code",
   "execution_count": null,
   "metadata": {},
   "outputs": [],
   "source": [
    "# Save fine-tuned BERTSUM model\n",
    "# model.save_pretrained('fine_tuned_bertsum_model')\n"
   ]
  },
  {
   "attachments": {},
   "cell_type": "markdown",
   "metadata": {},
   "source": [
    "import torch\n",
    "from torch.utils.data import Dataset\n",
    "\n",
    "class MyDataset(Dataset):\n",
    "    def __init__(self, data):\n",
    "        self.data = data\n",
    "        self.tokenizer = BertTokenizer.from_pretrained('bert-base-uncased')\n",
    "    \n",
    "    def __len__(self):\n",
    "        return len(self.data)\n",
    "    \n",
    "    def __getitem__(self, index):\n",
    "        text = self.data[index]['text']\n",
    "        summary = self.data[index]['summary']\n",
    "        \n",
    "        # Tokenize text and summary\n",
    "        text_encodings = self.tokenizer(text, padding='max_length', truncation=True, max_length=512, return_tensors='pt')\n",
    "        summary_encodings = self.tokenizer(summary, padding='max_length', truncation=True, max_length=128, return_tensors='pt')\n",
    "        \n",
    "        # Extract input_ids and attention_mask\n",
    "        input_ids = text_encodings['input_ids'].squeeze()\n",
    "        attention_mask = text_encodings['attention_mask'].squeeze()\n",
    "        summary_ids = summary_encodings['input_ids'].squeeze()\n",
    "        \n",
    "        return input_ids, attention_mask, summary_ids\n"
   ]
  }
 ],
 "metadata": {
  "language_info": {
   "name": "python"
  },
  "orig_nbformat": 4
 },
 "nbformat": 4,
 "nbformat_minor": 2
}
